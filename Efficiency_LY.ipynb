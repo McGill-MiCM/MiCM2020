{
 "cells": [
  {
   "cell_type": "markdown",
   "metadata": {},
   "source": [
    "# MiCM Workshop Series - R Programming Beyond the Basics\n",
    "## Efficient Coding and Computing\n",
    "### - Yi Lian\n",
    "### - August 13, 2019\n",
    "__Link to workshop material__  https://github.com/ly129/MiCM"
   ]
  },
  {
   "cell_type": "markdown",
   "metadata": {},
   "source": [
    "<a id='0'></a>\n",
    "## Outline\n",
    "**_Morning_**\n",
    "1. [__An overview of efficiency__](#1)\n",
    "    - General rules\n",
    "    - R-specific rules\n",
    "    - Time your program in R\n",
    "        - Illustrations of the rules\n",
    "2. [__Efficient coding__](#2)\n",
    "    - Powerful functions in R\n",
    "            - aggregate(), by(), apply() family\n",
    "            - ifelse(), cut() and split()\n",
    "    - Write our own functions in R\n",
    "            - function()\n",
    "    - Examples and exercises\n",
    "         - Categorization, conditional operations, etc..\n",
    "        \n",
    "**_Afternoon_**\n",
    "3. [__Efficient computing__](#3)\n",
    "    - Parallel computing\n",
    "            - Package 'parallel'\n",
    "    - Integration with C++\n",
    "            - Package 'Rcpp'\n",
    "    - Integration with Fortran\n",
    "         \n",
    "4. [__Exercises__](#4)\n",
    "    - Examples and exercises\n",
    "         - Implement our own functions written in R, Rcpp or Fortran!\n",
    "        \n",
    "##### Important note! There are MANY advanced and powerful packages that do different things. There are too many and they are too diverse to be covered in this workshop.\n",
    "___Here is a list of some awesome packages.___ https://awesome-r.com/"
   ]
  },
  {
   "cell_type": "markdown",
   "metadata": {},
   "source": [
    "<a id='1'></a>\n",
    "## 1. [An overview of efficiency](#0)\n",
    "__Why?__\n",
    "\n",
    "- Clean and tidy codes make everything easier - edit, debug, reproduce, etc..\n",
    "- Era of big data/machine learning/AI\n",
    "- Large sample size and/or high dimension\n",
    "\n",
    "### 1.1 General rules\n",
    "- All operations take time (CPU)\n",
    "- Reading/writing data takes time\n",
    "    - Memory allocation and re-allocation\n",
    "    - A not really appropriate illustration\n",
    "    <img src=\"sd.png\" alt=\"Drawing\" style=\"width: 120px;\"/>\n",
    "- Objects and operations take memory\n",
    "    - http://adv-r.had.co.nz/memory.html\n",
    "    - e.g. R will do \"garbage collection\" automatically when it needs more memory, which takes time\n",
    "- Setups take time (overhead)\n",
    "- Programming languages are different and are fast/slow at different things\n",
    "- __Efficient coding $\\neq$ efficient computing__\n",
    "    - Shorter codes do not necessarily lead to shorter run time.\n",
    "- __Avoid duplicated operations, especially expensive operations__\n",
    "    - Matrix mulplications, inversion, etc..\n",
    "    - Store the results that will be used later as objects.\n",
    "- __Test your program__\n",
    "\n",
    "### 1.2 R-specific rules\n",
    "- R emphasizes flexibility but not speed\n",
    "    - Very good for research\n",
    "- R is designed to be better with __vectorized__ operations than loops\n",
    "- Without specific setups, R only uses 1 __CPU__ core\n",
    "    - Setting up parallel (multicore) computing takes time (overhead)\n",
    "- Use well-developped R functions and packages\n",
    "    - Some of them have core computations written in other languages, e.g. C, C++, Fortran\n",
    "    - These functions usually make coding and computing more efficient at the same time.\n",
    "\n",
    "\n",
    "##### Detailed illustration in 1.3 Time your program in R."
   ]
  },
  {
   "cell_type": "markdown",
   "metadata": {},
   "source": [
    "#### 1.2.1 To understand vectorized operations and to facilitate integration with other programs, we need to know R data types and structures\n",
    "##### R data types\n",
    "    - numeric\n",
    "        - integer\n",
    "        - double (default)\n",
    "    - logical\n",
    "    - character\n",
    "    - factor\n",
    "    - ..."
   ]
  },
  {
   "cell_type": "code",
   "execution_count": 1,
   "metadata": {
    "scrolled": true
   },
   "outputs": [
    {
     "data": {
      "text/html": [
       "'numeric'"
      ],
      "text/latex": [
       "'numeric'"
      ],
      "text/markdown": [
       "'numeric'"
      ],
      "text/plain": [
       "[1] \"numeric\""
      ]
     },
     "metadata": {},
     "output_type": "display_data"
    },
    {
     "data": {
      "text/html": [
       "TRUE"
      ],
      "text/latex": [
       "TRUE"
      ],
      "text/markdown": [
       "TRUE"
      ],
      "text/plain": [
       "[1] TRUE"
      ]
     },
     "metadata": {},
     "output_type": "display_data"
    }
   ],
   "source": [
    "# double\n",
    "class(5); is.double(5)"
   ]
  },
  {
   "cell_type": "code",
   "execution_count": 2,
   "metadata": {
    "scrolled": true
   },
   "outputs": [
    {
     "data": {
      "text/html": [
       "'integer'"
      ],
      "text/latex": [
       "'integer'"
      ],
      "text/markdown": [
       "'integer'"
      ],
      "text/plain": [
       "[1] \"integer\""
      ]
     },
     "metadata": {},
     "output_type": "display_data"
    },
    {
     "data": {
      "text/html": [
       "FALSE"
      ],
      "text/latex": [
       "FALSE"
      ],
      "text/markdown": [
       "FALSE"
      ],
      "text/plain": [
       "[1] FALSE"
      ]
     },
     "metadata": {},
     "output_type": "display_data"
    }
   ],
   "source": [
    "# integer\n",
    "class(5L); is.double(5L)"
   ]
  },
  {
   "cell_type": "code",
   "execution_count": 3,
   "metadata": {},
   "outputs": [
    {
     "data": {
      "text/plain": [
       "8048 bytes"
      ]
     },
     "metadata": {},
     "output_type": "display_data"
    },
    {
     "data": {
      "text/plain": [
       "4048 bytes"
      ]
     },
     "metadata": {},
     "output_type": "display_data"
    }
   ],
   "source": [
    "object.size(rep(5, 1000))\n",
    "object.size(rep(5L, 1000))"
   ]
  },
  {
   "cell_type": "code",
   "execution_count": 4,
   "metadata": {},
   "outputs": [
    {
     "name": "stdout",
     "output_type": "stream",
     "text": [
      "[1] 0.3333333333333333148296\n"
     ]
    }
   ],
   "source": [
    "# How precise is double precision?\n",
    "options(digits = 22) # show more digits in output\n",
    "print(1/3)\n",
    "options(digits = 7) # default"
   ]
  },
  {
   "cell_type": "code",
   "execution_count": 5,
   "metadata": {},
   "outputs": [
    {
     "data": {
      "text/html": [
       "'logical'"
      ],
      "text/latex": [
       "'logical'"
      ],
      "text/markdown": [
       "'logical'"
      ],
      "text/plain": [
       "[1] \"logical\""
      ]
     },
     "metadata": {},
     "output_type": "display_data"
    },
    {
     "data": {
      "text/html": [
       "'logical'"
      ],
      "text/latex": [
       "'logical'"
      ],
      "text/markdown": [
       "'logical'"
      ],
      "text/plain": [
       "[1] \"logical\""
      ]
     },
     "metadata": {},
     "output_type": "display_data"
    }
   ],
   "source": [
    "# logical\n",
    "class(TRUE); class(F)"
   ]
  },
  {
   "cell_type": "code",
   "execution_count": 6,
   "metadata": {},
   "outputs": [
    {
     "data": {
      "text/html": [
       "'character'"
      ],
      "text/latex": [
       "'character'"
      ],
      "text/markdown": [
       "'character'"
      ],
      "text/plain": [
       "[1] \"character\""
      ]
     },
     "metadata": {},
     "output_type": "display_data"
    }
   ],
   "source": [
    "# character\n",
    "class(\"TRUE\")"
   ]
  },
  {
   "cell_type": "code",
   "execution_count": 7,
   "metadata": {},
   "outputs": [
    {
     "data": {
      "text/html": [
       "<ol class=list-inline>\n",
       "\t<li>1</li>\n",
       "\t<li>5</li>\n",
       "\t<li>11</li>\n",
       "\t<li>3</li>\n",
       "</ol>\n",
       "\n",
       "<details>\n",
       "\t<summary style=display:list-item;cursor:pointer>\n",
       "\t\t<strong>Levels</strong>:\n",
       "\t</summary>\n",
       "\t<ol class=list-inline>\n",
       "\t\t<li>'1'</li>\n",
       "\t\t<li>'3'</li>\n",
       "\t\t<li>'5'</li>\n",
       "\t\t<li>'11'</li>\n",
       "\t</ol>\n",
       "</details>"
      ],
      "text/latex": [
       "\\begin{enumerate*}\n",
       "\\item 1\n",
       "\\item 5\n",
       "\\item 11\n",
       "\\item 3\n",
       "\\end{enumerate*}\n",
       "\n",
       "\\emph{Levels}: \\begin{enumerate*}\n",
       "\\item '1'\n",
       "\\item '3'\n",
       "\\item '5'\n",
       "\\item '11'\n",
       "\\end{enumerate*}\n"
      ],
      "text/markdown": [
       "1. 1\n",
       "2. 5\n",
       "3. 11\n",
       "4. 3\n",
       "\n",
       "\n",
       "\n",
       "**Levels**: 1. '1'\n",
       "2. '3'\n",
       "3. '5'\n",
       "4. '11'\n",
       "\n",
       "\n"
      ],
      "text/plain": [
       "[1] 1  5  11 3 \n",
       "Levels: 1 3 5 11"
      ]
     },
     "metadata": {},
     "output_type": "display_data"
    }
   ],
   "source": [
    "# Not important for this workshop\n",
    "fac <- as.factor(c(1, 5, 11, 3))\n",
    "fac"
   ]
  },
  {
   "cell_type": "code",
   "execution_count": 8,
   "metadata": {},
   "outputs": [
    {
     "data": {
      "text/html": [
       "'factor'"
      ],
      "text/latex": [
       "'factor'"
      ],
      "text/markdown": [
       "'factor'"
      ],
      "text/plain": [
       "[1] \"factor\""
      ]
     },
     "metadata": {},
     "output_type": "display_data"
    }
   ],
   "source": [
    "class(fac)"
   ]
  },
  {
   "cell_type": "code",
   "execution_count": 9,
   "metadata": {},
   "outputs": [
    {
     "data": {
      "text/html": [
       "<ol class=list-inline>\n",
       "\t<li>B</li>\n",
       "\t<li>a</li>\n",
       "\t<li>1</li>\n",
       "\t<li>ab</li>\n",
       "\t<li>b</li>\n",
       "\t<li>A</li>\n",
       "</ol>\n",
       "\n",
       "<details>\n",
       "\t<summary style=display:list-item;cursor:pointer>\n",
       "\t\t<strong>Levels</strong>:\n",
       "\t</summary>\n",
       "\t<ol class=list-inline>\n",
       "\t\t<li>'1'</li>\n",
       "\t\t<li>'a'</li>\n",
       "\t\t<li>'A'</li>\n",
       "\t\t<li>'ab'</li>\n",
       "\t\t<li>'b'</li>\n",
       "\t\t<li>'B'</li>\n",
       "\t</ol>\n",
       "</details>"
      ],
      "text/latex": [
       "\\begin{enumerate*}\n",
       "\\item B\n",
       "\\item a\n",
       "\\item 1\n",
       "\\item ab\n",
       "\\item b\n",
       "\\item A\n",
       "\\end{enumerate*}\n",
       "\n",
       "\\emph{Levels}: \\begin{enumerate*}\n",
       "\\item '1'\n",
       "\\item 'a'\n",
       "\\item 'A'\n",
       "\\item 'ab'\n",
       "\\item 'b'\n",
       "\\item 'B'\n",
       "\\end{enumerate*}\n"
      ],
      "text/markdown": [
       "1. B\n",
       "2. a\n",
       "3. 1\n",
       "4. ab\n",
       "5. b\n",
       "6. A\n",
       "\n",
       "\n",
       "\n",
       "**Levels**: 1. '1'\n",
       "2. 'a'\n",
       "3. 'A'\n",
       "4. 'ab'\n",
       "5. 'b'\n",
       "6. 'B'\n",
       "\n",
       "\n"
      ],
      "text/plain": [
       "[1] B  a  1  ab b  A \n",
       "Levels: 1 a A ab b B"
      ]
     },
     "metadata": {},
     "output_type": "display_data"
    }
   ],
   "source": [
    "fac.ch <- as.factor(c(\"B\", \"a\", \"1\", \"ab\", \"b\", \"A\"))\n",
    "fac.ch"
   ]
  },
  {
   "cell_type": "markdown",
   "metadata": {},
   "source": [
    "##### R data structures\n",
    "    - Scalar *\n",
    "    - Vector\n",
    "    - Matrix\n",
    "    - Array\n",
    "    - List\n",
    "    - Data frame\n",
    "    - ..."
   ]
  },
  {
   "cell_type": "code",
   "execution_count": 10,
   "metadata": {
    "scrolled": true
   },
   "outputs": [
    {
     "data": {
      "text/html": [
       "5"
      ],
      "text/latex": [
       "5"
      ],
      "text/markdown": [
       "5"
      ],
      "text/plain": [
       "[1] 5"
      ]
     },
     "metadata": {},
     "output_type": "display_data"
    }
   ],
   "source": [
    "# Scalar - a vector of length 1\n",
    "myscalar <- 5\n",
    "myscalar"
   ]
  },
  {
   "cell_type": "code",
   "execution_count": 11,
   "metadata": {},
   "outputs": [
    {
     "data": {
      "text/html": [
       "'numeric'"
      ],
      "text/latex": [
       "'numeric'"
      ],
      "text/markdown": [
       "'numeric'"
      ],
      "text/plain": [
       "[1] \"numeric\""
      ]
     },
     "metadata": {},
     "output_type": "display_data"
    }
   ],
   "source": [
    "class(myscalar)"
   ]
  },
  {
   "cell_type": "code",
   "execution_count": 12,
   "metadata": {},
   "outputs": [
    {
     "data": {
      "text/html": [
       "<ol class=list-inline>\n",
       "\t<li>1</li>\n",
       "\t<li>1</li>\n",
       "\t<li>2</li>\n",
       "\t<li>3</li>\n",
       "\t<li>5</li>\n",
       "\t<li>8</li>\n",
       "</ol>\n"
      ],
      "text/latex": [
       "\\begin{enumerate*}\n",
       "\\item 1\n",
       "\\item 1\n",
       "\\item 2\n",
       "\\item 3\n",
       "\\item 5\n",
       "\\item 8\n",
       "\\end{enumerate*}\n"
      ],
      "text/markdown": [
       "1. 1\n",
       "2. 1\n",
       "3. 2\n",
       "4. 3\n",
       "5. 5\n",
       "6. 8\n",
       "\n",
       "\n"
      ],
      "text/plain": [
       "[1] 1 1 2 3 5 8"
      ]
     },
     "metadata": {},
     "output_type": "display_data"
    }
   ],
   "source": [
    "# Vector\n",
    "myvector <- c(1, 1, 2, 3, 5, 8)\n",
    "myvector"
   ]
  },
  {
   "cell_type": "code",
   "execution_count": 13,
   "metadata": {},
   "outputs": [
    {
     "data": {
      "text/html": [
       "'numeric'"
      ],
      "text/latex": [
       "'numeric'"
      ],
      "text/markdown": [
       "'numeric'"
      ],
      "text/plain": [
       "[1] \"numeric\""
      ]
     },
     "metadata": {},
     "output_type": "display_data"
    }
   ],
   "source": [
    "class(myvector)"
   ]
  },
  {
   "cell_type": "code",
   "execution_count": 14,
   "metadata": {},
   "outputs": [
    {
     "data": {
      "text/html": [
       "<table>\n",
       "<caption>A matrix: 2 × 3 of type dbl</caption>\n",
       "<tbody>\n",
       "\t<tr><td>1</td><td>2</td><td>5</td></tr>\n",
       "\t<tr><td>1</td><td>3</td><td>8</td></tr>\n",
       "</tbody>\n",
       "</table>\n"
      ],
      "text/latex": [
       "A matrix: 2 × 3 of type dbl\n",
       "\\begin{tabular}{lll}\n",
       "\t 1 & 2 & 5\\\\\n",
       "\t 1 & 3 & 8\\\\\n",
       "\\end{tabular}\n"
      ],
      "text/markdown": [
       "\n",
       "A matrix: 2 × 3 of type dbl\n",
       "\n",
       "| 1 | 2 | 5 |\n",
       "| 1 | 3 | 8 |\n",
       "\n"
      ],
      "text/plain": [
       "     [,1] [,2] [,3]\n",
       "[1,] 1    2    5   \n",
       "[2,] 1    3    8   "
      ]
     },
     "metadata": {},
     "output_type": "display_data"
    }
   ],
   "source": [
    "# Matrix - a 2d array\n",
    "mymatrix <- matrix(c(1, 1, 2, 3, 5, 8), nrow = 2, byrow = FALSE)\n",
    "mymatrix"
   ]
  },
  {
   "cell_type": "code",
   "execution_count": 15,
   "metadata": {},
   "outputs": [
    {
     "data": {
      "text/html": [
       "'matrix'"
      ],
      "text/latex": [
       "'matrix'"
      ],
      "text/markdown": [
       "'matrix'"
      ],
      "text/plain": [
       "[1] \"matrix\""
      ]
     },
     "metadata": {},
     "output_type": "display_data"
    }
   ],
   "source": [
    "class(mymatrix)"
   ]
  },
  {
   "cell_type": "code",
   "execution_count": 16,
   "metadata": {},
   "outputs": [
    {
     "name": "stdout",
     "output_type": "stream",
     "text": [
      ", , 1\n",
      "\n",
      "     [,1] [,2]\n",
      "[1,]    1    2\n",
      "[2,]    1    3\n",
      "\n",
      ", , 2\n",
      "\n",
      "     [,1] [,2]\n",
      "[1,]    5   13\n",
      "[2,]    8   21\n",
      "\n",
      ", , 3\n",
      "\n",
      "     [,1] [,2]\n",
      "[1,]   34   89\n",
      "[2,]   55  144\n",
      "\n"
     ]
    }
   ],
   "source": [
    "# Array - not important for this workshop\n",
    "myarray <- array(c(1, 1, 2, 3, 5, 8, 13, 21, 34, 55, 89, 144), dim = c(2, 2, 3))\n",
    "print(myarray) # print() is not needed if run in R or Rstudio."
   ]
  },
  {
   "cell_type": "code",
   "execution_count": 17,
   "metadata": {},
   "outputs": [
    {
     "data": {
      "text/html": [
       "'array'"
      ],
      "text/latex": [
       "'array'"
      ],
      "text/markdown": [
       "'array'"
      ],
      "text/plain": [
       "[1] \"array\""
      ]
     },
     "metadata": {},
     "output_type": "display_data"
    }
   ],
   "source": [
    "class(myarray)"
   ]
  },
  {
   "cell_type": "code",
   "execution_count": 1,
   "metadata": {},
   "outputs": [
    {
     "name": "stdout",
     "output_type": "stream",
     "text": [
      "$Title\n",
      "[1] \"Efficient Coding and Computing\"\n",
      "\n",
      "$Duration\n",
      "[1] 3 3\n",
      "\n",
      "$sections\n",
      "[1] 1 2 3 4\n",
      "Levels: 1 2 3 4\n",
      "\n",
      "$Date\n",
      "[1] \"2019-08-13\"\n",
      "\n",
      "$Lunch_provided\n",
      "[1] TRUE\n",
      "\n",
      "$Feedbacks\n",
      "[1] \"Amazing!\"        \"Great workshop!\" \"Yi is the best!\" \"Wow!\"           \n",
      "\n"
     ]
    }
   ],
   "source": [
    "# List - very important for the workshop\n",
    "mylist <- list(Title = \"Efficient Coding and Computing\",\n",
    "               Duration = c(3, 3),\n",
    "               sections = as.factor(c(1, 2, 3, 4)),\n",
    "               Date = as.Date(\"2019-08-13\"),\n",
    "               Lunch_provided = TRUE,\n",
    "               Feedbacks = c(\"Amazing!\", \"Great workshop!\", \"Yi is the best!\", \"Wow!\")\n",
    ")\n",
    "print(mylist) # No need for print if running in R or Rstudio"
   ]
  },
  {
   "cell_type": "code",
   "execution_count": 19,
   "metadata": {},
   "outputs": [
    {
     "data": {
      "text/html": [
       "'list'"
      ],
      "text/latex": [
       "'list'"
      ],
      "text/markdown": [
       "'list'"
      ],
      "text/plain": [
       "[1] \"list\""
      ]
     },
     "metadata": {},
     "output_type": "display_data"
    }
   ],
   "source": [
    "class(mylist)"
   ]
  },
  {
   "cell_type": "code",
   "execution_count": 20,
   "metadata": {},
   "outputs": [
    {
     "data": {
      "text/html": [
       "'Efficient Coding and Computing'"
      ],
      "text/latex": [
       "'Efficient Coding and Computing'"
      ],
      "text/markdown": [
       "'Efficient Coding and Computing'"
      ],
      "text/plain": [
       "[1] \"Efficient Coding and Computing\""
      ]
     },
     "metadata": {},
     "output_type": "display_data"
    }
   ],
   "source": [
    "# Access data stored in lists\n",
    "mylist$Title"
   ]
  },
  {
   "cell_type": "code",
   "execution_count": 21,
   "metadata": {},
   "outputs": [
    {
     "data": {
      "text/html": [
       "<ol class=list-inline>\n",
       "\t<li>'Amazing!'</li>\n",
       "\t<li>'Great workshop!'</li>\n",
       "\t<li>'Yi is the best!'</li>\n",
       "\t<li>'Wow!'</li>\n",
       "</ol>\n"
      ],
      "text/latex": [
       "\\begin{enumerate*}\n",
       "\\item 'Amazing!'\n",
       "\\item 'Great workshop!'\n",
       "\\item 'Yi is the best!'\n",
       "\\item 'Wow!'\n",
       "\\end{enumerate*}\n"
      ],
      "text/markdown": [
       "1. 'Amazing!'\n",
       "2. 'Great workshop!'\n",
       "3. 'Yi is the best!'\n",
       "4. 'Wow!'\n",
       "\n",
       "\n"
      ],
      "text/plain": [
       "[1] \"Amazing!\"        \"Great workshop!\" \"Yi is the best!\" \"Wow!\"           "
      ]
     },
     "metadata": {},
     "output_type": "display_data"
    }
   ],
   "source": [
    "# or\n",
    "mylist[[6]]"
   ]
  },
  {
   "cell_type": "code",
   "execution_count": 22,
   "metadata": {},
   "outputs": [
    {
     "data": {
      "text/html": [
       "3"
      ],
      "text/latex": [
       "3"
      ],
      "text/markdown": [
       "3"
      ],
      "text/plain": [
       "[1] 3"
      ]
     },
     "metadata": {},
     "output_type": "display_data"
    },
    {
     "data": {
      "text/html": [
       "'Great workshop!'"
      ],
      "text/latex": [
       "'Great workshop!'"
      ],
      "text/markdown": [
       "'Great workshop!'"
      ],
      "text/plain": [
       "[1] \"Great workshop!\""
      ]
     },
     "metadata": {},
     "output_type": "display_data"
    }
   ],
   "source": [
    "# Further\n",
    "mylist$Duration[1]\n",
    "mylist[[6]][2]"
   ]
  },
  {
   "cell_type": "code",
   "execution_count": 23,
   "metadata": {},
   "outputs": [
    {
     "data": {
      "text/html": [
       "<dl>\n",
       "\t<dt>$Title</dt>\n",
       "\t\t<dd>'character'</dd>\n",
       "\t<dt>$Duration</dt>\n",
       "\t\t<dd>'numeric'</dd>\n",
       "\t<dt>$sections</dt>\n",
       "\t\t<dd>'factor'</dd>\n",
       "\t<dt>$Date</dt>\n",
       "\t\t<dd>'Date'</dd>\n",
       "\t<dt>$Lunch_provided</dt>\n",
       "\t\t<dd>'logical'</dd>\n",
       "\t<dt>$Feedbacks</dt>\n",
       "\t\t<dd>'character'</dd>\n",
       "</dl>\n"
      ],
      "text/latex": [
       "\\begin{description}\n",
       "\\item[\\$Title] 'character'\n",
       "\\item[\\$Duration] 'numeric'\n",
       "\\item[\\$sections] 'factor'\n",
       "\\item[\\$Date] 'Date'\n",
       "\\item[\\$Lunch\\_provided] 'logical'\n",
       "\\item[\\$Feedbacks] 'character'\n",
       "\\end{description}\n"
      ],
      "text/markdown": [
       "$Title\n",
       ":   'character'\n",
       "$Duration\n",
       ":   'numeric'\n",
       "$sections\n",
       ":   'factor'\n",
       "$Date\n",
       ":   'Date'\n",
       "$Lunch_provided\n",
       ":   'logical'\n",
       "$Feedbacks\n",
       ":   'character'\n",
       "\n",
       "\n"
      ],
      "text/plain": [
       "$Title\n",
       "[1] \"character\"\n",
       "\n",
       "$Duration\n",
       "[1] \"numeric\"\n",
       "\n",
       "$sections\n",
       "[1] \"factor\"\n",
       "\n",
       "$Date\n",
       "[1] \"Date\"\n",
       "\n",
       "$Lunch_provided\n",
       "[1] \"logical\"\n",
       "\n",
       "$Feedbacks\n",
       "[1] \"character\"\n"
      ]
     },
     "metadata": {},
     "output_type": "display_data"
    }
   ],
   "source": [
    "# Elements in lists can have different data types\n",
    "lapply(mylist, class) # We will talk about lapply() later"
   ]
  },
  {
   "cell_type": "code",
   "execution_count": 24,
   "metadata": {},
   "outputs": [
    {
     "data": {
      "text/html": [
       "<dl>\n",
       "\t<dt>$Title</dt>\n",
       "\t\t<dd>1</dd>\n",
       "\t<dt>$Duration</dt>\n",
       "\t\t<dd>2</dd>\n",
       "\t<dt>$sections</dt>\n",
       "\t\t<dd>4</dd>\n",
       "\t<dt>$Date</dt>\n",
       "\t\t<dd>1</dd>\n",
       "\t<dt>$Lunch_provided</dt>\n",
       "\t\t<dd>1</dd>\n",
       "\t<dt>$Feedbacks</dt>\n",
       "\t\t<dd>4</dd>\n",
       "</dl>\n"
      ],
      "text/latex": [
       "\\begin{description}\n",
       "\\item[\\$Title] 1\n",
       "\\item[\\$Duration] 2\n",
       "\\item[\\$sections] 4\n",
       "\\item[\\$Date] 1\n",
       "\\item[\\$Lunch\\_provided] 1\n",
       "\\item[\\$Feedbacks] 4\n",
       "\\end{description}\n"
      ],
      "text/markdown": [
       "$Title\n",
       ":   1\n",
       "$Duration\n",
       ":   2\n",
       "$sections\n",
       ":   4\n",
       "$Date\n",
       ":   1\n",
       "$Lunch_provided\n",
       ":   1\n",
       "$Feedbacks\n",
       ":   4\n",
       "\n",
       "\n"
      ],
      "text/plain": [
       "$Title\n",
       "[1] 1\n",
       "\n",
       "$Duration\n",
       "[1] 2\n",
       "\n",
       "$sections\n",
       "[1] 4\n",
       "\n",
       "$Date\n",
       "[1] 1\n",
       "\n",
       "$Lunch_provided\n",
       "[1] 1\n",
       "\n",
       "$Feedbacks\n",
       "[1] 4\n"
      ]
     },
     "metadata": {},
     "output_type": "display_data"
    }
   ],
   "source": [
    "# Elements in list can have different lengths\n",
    "lapply(mylist, length)"
   ]
  },
  {
   "cell_type": "code",
   "execution_count": 25,
   "metadata": {
    "scrolled": true
   },
   "outputs": [
    {
     "data": {
      "text/html": [
       "<table>\n",
       "<caption>A data.frame: 6 × 11</caption>\n",
       "<thead>\n",
       "\t<tr><th></th><th scope=col>mpg</th><th scope=col>cyl</th><th scope=col>disp</th><th scope=col>hp</th><th scope=col>drat</th><th scope=col>wt</th><th scope=col>qsec</th><th scope=col>vs</th><th scope=col>am</th><th scope=col>gear</th><th scope=col>carb</th></tr>\n",
       "\t<tr><th></th><th scope=col>&lt;dbl&gt;</th><th scope=col>&lt;dbl&gt;</th><th scope=col>&lt;dbl&gt;</th><th scope=col>&lt;dbl&gt;</th><th scope=col>&lt;dbl&gt;</th><th scope=col>&lt;dbl&gt;</th><th scope=col>&lt;dbl&gt;</th><th scope=col>&lt;dbl&gt;</th><th scope=col>&lt;dbl&gt;</th><th scope=col>&lt;dbl&gt;</th><th scope=col>&lt;dbl&gt;</th></tr>\n",
       "</thead>\n",
       "<tbody>\n",
       "\t<tr><th scope=row>Mazda RX4</th><td>21.0</td><td>6</td><td>160</td><td>110</td><td>3.90</td><td>2.620</td><td>16.46</td><td>0</td><td>1</td><td>4</td><td>4</td></tr>\n",
       "\t<tr><th scope=row>Mazda RX4 Wag</th><td>21.0</td><td>6</td><td>160</td><td>110</td><td>3.90</td><td>2.875</td><td>17.02</td><td>0</td><td>1</td><td>4</td><td>4</td></tr>\n",
       "\t<tr><th scope=row>Datsun 710</th><td>22.8</td><td>4</td><td>108</td><td> 93</td><td>3.85</td><td>2.320</td><td>18.61</td><td>1</td><td>1</td><td>4</td><td>1</td></tr>\n",
       "\t<tr><th scope=row>Hornet 4 Drive</th><td>21.4</td><td>6</td><td>258</td><td>110</td><td>3.08</td><td>3.215</td><td>19.44</td><td>1</td><td>0</td><td>3</td><td>1</td></tr>\n",
       "\t<tr><th scope=row>Hornet Sportabout</th><td>18.7</td><td>8</td><td>360</td><td>175</td><td>3.15</td><td>3.440</td><td>17.02</td><td>0</td><td>0</td><td>3</td><td>2</td></tr>\n",
       "\t<tr><th scope=row>Valiant</th><td>18.1</td><td>6</td><td>225</td><td>105</td><td>2.76</td><td>3.460</td><td>20.22</td><td>1</td><td>0</td><td>3</td><td>1</td></tr>\n",
       "</tbody>\n",
       "</table>\n"
      ],
      "text/latex": [
       "A data.frame: 6 × 11\n",
       "\\begin{tabular}{r|lllllllllll}\n",
       "  & mpg & cyl & disp & hp & drat & wt & qsec & vs & am & gear & carb\\\\\n",
       "  & <dbl> & <dbl> & <dbl> & <dbl> & <dbl> & <dbl> & <dbl> & <dbl> & <dbl> & <dbl> & <dbl>\\\\\n",
       "\\hline\n",
       "\tMazda RX4 & 21.0 & 6 & 160 & 110 & 3.90 & 2.620 & 16.46 & 0 & 1 & 4 & 4\\\\\n",
       "\tMazda RX4 Wag & 21.0 & 6 & 160 & 110 & 3.90 & 2.875 & 17.02 & 0 & 1 & 4 & 4\\\\\n",
       "\tDatsun 710 & 22.8 & 4 & 108 &  93 & 3.85 & 2.320 & 18.61 & 1 & 1 & 4 & 1\\\\\n",
       "\tHornet 4 Drive & 21.4 & 6 & 258 & 110 & 3.08 & 3.215 & 19.44 & 1 & 0 & 3 & 1\\\\\n",
       "\tHornet Sportabout & 18.7 & 8 & 360 & 175 & 3.15 & 3.440 & 17.02 & 0 & 0 & 3 & 2\\\\\n",
       "\tValiant & 18.1 & 6 & 225 & 105 & 2.76 & 3.460 & 20.22 & 1 & 0 & 3 & 1\\\\\n",
       "\\end{tabular}\n"
      ],
      "text/markdown": [
       "\n",
       "A data.frame: 6 × 11\n",
       "\n",
       "| <!--/--> | mpg &lt;dbl&gt; | cyl &lt;dbl&gt; | disp &lt;dbl&gt; | hp &lt;dbl&gt; | drat &lt;dbl&gt; | wt &lt;dbl&gt; | qsec &lt;dbl&gt; | vs &lt;dbl&gt; | am &lt;dbl&gt; | gear &lt;dbl&gt; | carb &lt;dbl&gt; |\n",
       "|---|---|---|---|---|---|---|---|---|---|---|---|\n",
       "| Mazda RX4 | 21.0 | 6 | 160 | 110 | 3.90 | 2.620 | 16.46 | 0 | 1 | 4 | 4 |\n",
       "| Mazda RX4 Wag | 21.0 | 6 | 160 | 110 | 3.90 | 2.875 | 17.02 | 0 | 1 | 4 | 4 |\n",
       "| Datsun 710 | 22.8 | 4 | 108 |  93 | 3.85 | 2.320 | 18.61 | 1 | 1 | 4 | 1 |\n",
       "| Hornet 4 Drive | 21.4 | 6 | 258 | 110 | 3.08 | 3.215 | 19.44 | 1 | 0 | 3 | 1 |\n",
       "| Hornet Sportabout | 18.7 | 8 | 360 | 175 | 3.15 | 3.440 | 17.02 | 0 | 0 | 3 | 2 |\n",
       "| Valiant | 18.1 | 6 | 225 | 105 | 2.76 | 3.460 | 20.22 | 1 | 0 | 3 | 1 |\n",
       "\n"
      ],
      "text/plain": [
       "                  mpg  cyl disp hp  drat wt    qsec  vs am gear carb\n",
       "Mazda RX4         21.0 6   160  110 3.90 2.620 16.46 0  1  4    4   \n",
       "Mazda RX4 Wag     21.0 6   160  110 3.90 2.875 17.02 0  1  4    4   \n",
       "Datsun 710        22.8 4   108   93 3.85 2.320 18.61 1  1  4    1   \n",
       "Hornet 4 Drive    21.4 6   258  110 3.08 3.215 19.44 1  0  3    1   \n",
       "Hornet Sportabout 18.7 8   360  175 3.15 3.440 17.02 0  0  3    2   \n",
       "Valiant           18.1 6   225  105 2.76 3.460 20.22 1  0  3    1   "
      ]
     },
     "metadata": {},
     "output_type": "display_data"
    }
   ],
   "source": [
    "# Data frames - most commonly used for analyses\n",
    "head(mtcars)"
   ]
  },
  {
   "cell_type": "code",
   "execution_count": 26,
   "metadata": {},
   "outputs": [
    {
     "data": {
      "text/html": [
       "<ol class=list-inline>\n",
       "\t<li>21</li>\n",
       "\t<li>21</li>\n",
       "\t<li>22.8</li>\n",
       "\t<li>21.4</li>\n",
       "\t<li>18.7</li>\n",
       "\t<li>18.1</li>\n",
       "\t<li>14.3</li>\n",
       "\t<li>24.4</li>\n",
       "\t<li>22.8</li>\n",
       "\t<li>19.2</li>\n",
       "\t<li>17.8</li>\n",
       "\t<li>16.4</li>\n",
       "\t<li>17.3</li>\n",
       "\t<li>15.2</li>\n",
       "\t<li>10.4</li>\n",
       "\t<li>10.4</li>\n",
       "\t<li>14.7</li>\n",
       "\t<li>32.4</li>\n",
       "\t<li>30.4</li>\n",
       "\t<li>33.9</li>\n",
       "\t<li>21.5</li>\n",
       "\t<li>15.5</li>\n",
       "\t<li>15.2</li>\n",
       "\t<li>13.3</li>\n",
       "\t<li>19.2</li>\n",
       "\t<li>27.3</li>\n",
       "\t<li>26</li>\n",
       "\t<li>30.4</li>\n",
       "\t<li>15.8</li>\n",
       "\t<li>19.7</li>\n",
       "\t<li>15</li>\n",
       "\t<li>21.4</li>\n",
       "</ol>\n"
      ],
      "text/latex": [
       "\\begin{enumerate*}\n",
       "\\item 21\n",
       "\\item 21\n",
       "\\item 22.8\n",
       "\\item 21.4\n",
       "\\item 18.7\n",
       "\\item 18.1\n",
       "\\item 14.3\n",
       "\\item 24.4\n",
       "\\item 22.8\n",
       "\\item 19.2\n",
       "\\item 17.8\n",
       "\\item 16.4\n",
       "\\item 17.3\n",
       "\\item 15.2\n",
       "\\item 10.4\n",
       "\\item 10.4\n",
       "\\item 14.7\n",
       "\\item 32.4\n",
       "\\item 30.4\n",
       "\\item 33.9\n",
       "\\item 21.5\n",
       "\\item 15.5\n",
       "\\item 15.2\n",
       "\\item 13.3\n",
       "\\item 19.2\n",
       "\\item 27.3\n",
       "\\item 26\n",
       "\\item 30.4\n",
       "\\item 15.8\n",
       "\\item 19.7\n",
       "\\item 15\n",
       "\\item 21.4\n",
       "\\end{enumerate*}\n"
      ],
      "text/markdown": [
       "1. 21\n",
       "2. 21\n",
       "3. 22.8\n",
       "4. 21.4\n",
       "5. 18.7\n",
       "6. 18.1\n",
       "7. 14.3\n",
       "8. 24.4\n",
       "9. 22.8\n",
       "10. 19.2\n",
       "11. 17.8\n",
       "12. 16.4\n",
       "13. 17.3\n",
       "14. 15.2\n",
       "15. 10.4\n",
       "16. 10.4\n",
       "17. 14.7\n",
       "18. 32.4\n",
       "19. 30.4\n",
       "20. 33.9\n",
       "21. 21.5\n",
       "22. 15.5\n",
       "23. 15.2\n",
       "24. 13.3\n",
       "25. 19.2\n",
       "26. 27.3\n",
       "27. 26\n",
       "28. 30.4\n",
       "29. 15.8\n",
       "30. 19.7\n",
       "31. 15\n",
       "32. 21.4\n",
       "\n",
       "\n"
      ],
      "text/plain": [
       " [1] 21.0 21.0 22.8 21.4 18.7 18.1 14.3 24.4 22.8 19.2 17.8 16.4 17.3 15.2 10.4\n",
       "[16] 10.4 14.7 32.4 30.4 33.9 21.5 15.5 15.2 13.3 19.2 27.3 26.0 30.4 15.8 19.7\n",
       "[31] 15.0 21.4"
      ]
     },
     "metadata": {},
     "output_type": "display_data"
    }
   ],
   "source": [
    "# Access a column (variable) in data frames\n",
    "mtcars$mpg"
   ]
  },
  {
   "cell_type": "markdown",
   "metadata": {},
   "source": [
    "#### 1.2.2 To show CPU usage"
   ]
  },
  {
   "cell_type": "code",
   "execution_count": 27,
   "metadata": {},
   "outputs": [],
   "source": [
    "# Let's try to invert a large matrix.\n",
    "A <- diag(4000)\n",
    "# A.inv <- solve(A)"
   ]
  },
  {
   "cell_type": "markdown",
   "metadata": {},
   "source": [
    "#### 1.2.3 To show integration with other languages"
   ]
  },
  {
   "cell_type": "code",
   "execution_count": 3,
   "metadata": {},
   "outputs": [],
   "source": [
    "# optim() in R calls C programs, run optim to see source code.\n",
    "# optim"
   ]
  },
  {
   "cell_type": "markdown",
   "metadata": {},
   "source": [
    "### 1.3 Time your program in R\n",
    "        - proc.time(), system.time()\n",
    "        - microbenchmark()\n",
    "        \n",
    "___Illustrations of R rules for efficiency.___\n",
    "\n",
    "__Example__\n",
    "Calculate the square root of 1 to 1,000,000 using three different operations:\n",
    "#### 1. Vectorized"
   ]
  },
  {
   "cell_type": "code",
   "execution_count": 29,
   "metadata": {},
   "outputs": [
    {
     "data": {
      "text/html": [
       "<ol class=list-inline>\n",
       "\t<li>1</li>\n",
       "\t<li>1.4142135623731</li>\n",
       "\t<li>1.73205080756888</li>\n",
       "\t<li>2</li>\n",
       "\t<li>2.23606797749979</li>\n",
       "\t<li>2.44948974278318</li>\n",
       "</ol>\n"
      ],
      "text/latex": [
       "\\begin{enumerate*}\n",
       "\\item 1\n",
       "\\item 1.4142135623731\n",
       "\\item 1.73205080756888\n",
       "\\item 2\n",
       "\\item 2.23606797749979\n",
       "\\item 2.44948974278318\n",
       "\\end{enumerate*}\n"
      ],
      "text/markdown": [
       "1. 1\n",
       "2. 1.4142135623731\n",
       "3. 1.73205080756888\n",
       "4. 2\n",
       "5. 2.23606797749979\n",
       "6. 2.44948974278318\n",
       "\n",
       "\n"
      ],
      "text/plain": [
       "[1] 1.000000 1.414214 1.732051 2.000000 2.236068 2.449490"
      ]
     },
     "metadata": {},
     "output_type": "display_data"
    }
   ],
   "source": [
    "# Vectorized operation\n",
    "t <- system.time( x1 <- sqrt(1:1000000) )\n",
    "head(x1)"
   ]
  },
  {
   "cell_type": "markdown",
   "metadata": {},
   "source": [
    "#### 2. For loop with memory pre-allocation"
   ]
  },
  {
   "cell_type": "code",
   "execution_count": 30,
   "metadata": {},
   "outputs": [
    {
     "data": {
      "text/html": [
       "TRUE"
      ],
      "text/latex": [
       "TRUE"
      ],
      "text/markdown": [
       "TRUE"
      ],
      "text/plain": [
       "[1] TRUE"
      ]
     },
     "metadata": {},
     "output_type": "display_data"
    }
   ],
   "source": [
    "# We can do worse\n",
    "# For loop with memory pre-allocation\n",
    "x2 <- rep(NA, 1000000)\n",
    "t0 <- proc.time()\n",
    "for (i in 1:1000000) {\n",
    "    x2[i] <- sqrt(i)\n",
    "}\n",
    "t1 <- proc.time()\n",
    "\n",
    "identical(x1, x2) # Check whether results are the same"
   ]
  },
  {
   "cell_type": "markdown",
   "metadata": {},
   "source": [
    "#### 3. For loop without memory pre-allocation"
   ]
  },
  {
   "cell_type": "code",
   "execution_count": 31,
   "metadata": {},
   "outputs": [
    {
     "data": {
      "text/html": [
       "TRUE"
      ],
      "text/latex": [
       "TRUE"
      ],
      "text/markdown": [
       "TRUE"
      ],
      "text/plain": [
       "[1] TRUE"
      ]
     },
     "metadata": {},
     "output_type": "display_data"
    }
   ],
   "source": [
    "# Even worse\n",
    "# For loop without memory pre-allocation\n",
    "x3 <- NULL\n",
    "t2 <- proc.time()\n",
    "for (i in 1:1000000) {\n",
    "    x3[i] <- sqrt(i)\n",
    "}\n",
    "t3 <- proc.time()\n",
    "\n",
    "identical(x2, x3) # Check whether results are the same"
   ]
  },
  {
   "cell_type": "code",
   "execution_count": 32,
   "metadata": {},
   "outputs": [
    {
     "data": {
      "text/plain": [
       "   user  system elapsed \n",
       "  0.006   0.005   0.011 "
      ]
     },
     "metadata": {},
     "output_type": "display_data"
    },
    {
     "data": {
      "text/plain": [
       "   user  system elapsed \n",
       "  0.071   0.004   0.076 "
      ]
     },
     "metadata": {},
     "output_type": "display_data"
    },
    {
     "data": {
      "text/plain": [
       "   user  system elapsed \n",
       "  0.294   0.072   0.369 "
      ]
     },
     "metadata": {},
     "output_type": "display_data"
    }
   ],
   "source": [
    "# As we can see, R is not very good with loops.\n",
    "t; t1 - t0; t3 - t2\n",
    "# ?proc.time"
   ]
  },
  {
   "cell_type": "markdown",
   "metadata": {},
   "source": [
    "##### How did R execute these three sets of codes?\n",
    "The better we know how programming languages work, how computers work in general, the better codes we can write.\n",
    "1. Vectorized\n",
    "        x1 <- sqrt(1:1000000)\n",
    "        \n",
    "        - sqrt 1, sqrt 2, ..., sqrt 1e6\n",
    "        - Save everything in x1 and put it in memory.\n",
    "2. For loop with memory pre-allocation\n",
    "        x2 <- rep(NA, 1000000)\n",
    "        for (i in 1:1000000) { x2[i] <- sqrt(i) }\n",
    "\n",
    "        - Make a vector x2 of length 1e6 and set all elements to NA.\n",
    "        - Put it in memory.\n",
    "        - Setup for loop.\n",
    "        - 1st step\n",
    "            - Find x2 in memory\n",
    "            - Change the 1st element to sqrt 1\n",
    "            - Put new x2 back in memory, delete old x2\n",
    "        - 2nd step\n",
    "            - Find x2 in memory\n",
    "            - Change the 2nd element to sqrt 2\n",
    "            - Put new x2 back in memory, delete old x2\n",
    "        - ...\n",
    "        - - 1e6th step\n",
    "            - Find x2 in memory\n",
    "            - Change the 1e6th element to sqrt 1e6\n",
    "            - Put new x2 back in memory, delete old x2\n",
    "3. For loop without memory pre-allocation\n",
    "        x3 <- NULL\n",
    "        for (i in 1:1000000) { x3[i] <- sqrt(i) }\n",
    " \n",
    "        - Make an empty object x3 (NULL has length 0)\n",
    "        - Put it in memory\n",
    "        - Setup for loop.\n",
    "        - 1st step\n",
    "            - Find x3 in memory\n",
    "            - Change the 1st element to .., wait x3 has length 0\n",
    "            - Make a new x3 that has length 1\n",
    "            - Change the 1st element to sqrt 1\n",
    "            - Put new x3 back in memory.., wait\n",
    "                The memory allocated for old x3 is not enough for new x3\n",
    "            - Find some new space in memory for new x3\n",
    "            - Put new x3 back in memory, delete old x3\n",
    "        - 2nd step\n",
    "            - Find x3 in memory\n",
    "            - Change the 2nd element to .., wait x3 has length 1\n",
    "            - Make a new x3 that has length 2\n",
    "            - Copy the old x3 and paste as the first 1 element of new x3\n",
    "            - Change the 2nd element to sqrt 2\n",
    "            - Put new x3 back in memory.., wait\n",
    "                The memory allocated for old x3 is not enough for new x3\n",
    "            - Find some new space in memory for new x3\n",
    "            - Put new x3 back in memory, delete old x3\n",
    "        - ...\n",
    "        - 1e6th step\n",
    "            - Find x3 in memory\n",
    "            - Change the 1e6th element to .., wait x3 has length 999999\n",
    "            - Make a new x3 that has length 1e6\n",
    "            - Copy the old x3 and paste as the first 999999 elements of new x3\n",
    "            - Change the 1e6th element to sqrt 1e6\n",
    "            - Put new x3 back in memory.., wait\n",
    "                The memory allocated for old x3 is not enough for new x3\n",
    "            - Find some new space in memory for new x3..\n",
    "            - Put new x3 back in memory, delete old x3\n",
    "            \n",
    "___As a result, there will not be a lot of loops in this workshop.___"
   ]
  },
  {
   "cell_type": "markdown",
   "metadata": {},
   "source": [
    "##### However, I still use the third one sometimes.\n",
    "- Speed is not always my major concern. Especially if I am only executing the code once. Or I am working on reasonably sized data and/or fairly inexpensive computations.\n",
    "- Typing takes time too. Compare NULL vs. rep(NA, 1000000)\n",
    "        - capslock, n, u, l, l\n",
    "        - r, e, p, shift + 9, shift + n, shift + a, , , 1000000, shift + 0\n",
    "- Thinking takes time as well. Loop is more intuitive. Sometimes I have to think to get the size of the result object because it can be matrices, arrays, etc.\n",
    "        - matrix(rep(NA, n * p), nrow = n)\n",
    "\n",
    "##### Take-home message\n",
    "- Use vectorized operations rather than loops for speed.\n",
    "- Balance between speed, your need for speed, your own laziness, etc.., based on what you are doing."
   ]
  },
  {
   "cell_type": "code",
   "execution_count": 33,
   "metadata": {},
   "outputs": [
    {
     "data": {
      "text/html": [
       "<table>\n",
       "<caption>A data.frame: 2 × 8</caption>\n",
       "<thead>\n",
       "\t<tr><th scope=col>expr</th><th scope=col>min</th><th scope=col>lq</th><th scope=col>mean</th><th scope=col>median</th><th scope=col>uq</th><th scope=col>max</th><th scope=col>neval</th></tr>\n",
       "\t<tr><th scope=col>&lt;fct&gt;</th><th scope=col>&lt;dbl&gt;</th><th scope=col>&lt;dbl&gt;</th><th scope=col>&lt;dbl&gt;</th><th scope=col>&lt;dbl&gt;</th><th scope=col>&lt;dbl&gt;</th><th scope=col>&lt;dbl&gt;</th><th scope=col>&lt;dbl&gt;</th></tr>\n",
       "</thead>\n",
       "<tbody>\n",
       "\t<tr><td>sqrt(1:1e+06)                              </td><td>0.003910112</td><td>0.004903612</td><td>0.007846455</td><td>0.005464531</td><td>0.01071618</td><td>0.01427238</td><td>20</td></tr>\n",
       "\t<tr><td><span style=white-space:pre-wrap>for (i in 1:1e+06) {     x2[i] &lt;- sqrt(i) }</span></td><td>0.059107341</td><td>0.059319024</td><td>0.069171916</td><td>0.059795169</td><td>0.07439276</td><td>0.11318731</td><td>20</td></tr>\n",
       "</tbody>\n",
       "</table>\n"
      ],
      "text/latex": [
       "A data.frame: 2 × 8\n",
       "\\begin{tabular}{r|llllllll}\n",
       " expr & min & lq & mean & median & uq & max & neval\\\\\n",
       " <fct> & <dbl> & <dbl> & <dbl> & <dbl> & <dbl> & <dbl> & <dbl>\\\\\n",
       "\\hline\n",
       "\t sqrt(1:1e+06)                               & 0.003910112 & 0.004903612 & 0.007846455 & 0.005464531 & 0.01071618 & 0.01427238 & 20\\\\\n",
       "\t for (i in 1:1e+06) \\{     x2{[}i{]} <- sqrt(i) \\} & 0.059107341 & 0.059319024 & 0.069171916 & 0.059795169 & 0.07439276 & 0.11318731 & 20\\\\\n",
       "\\end{tabular}\n"
      ],
      "text/markdown": [
       "\n",
       "A data.frame: 2 × 8\n",
       "\n",
       "| expr &lt;fct&gt; | min &lt;dbl&gt; | lq &lt;dbl&gt; | mean &lt;dbl&gt; | median &lt;dbl&gt; | uq &lt;dbl&gt; | max &lt;dbl&gt; | neval &lt;dbl&gt; |\n",
       "|---|---|---|---|---|---|---|---|\n",
       "| sqrt(1:1e+06)                               | 0.003910112 | 0.004903612 | 0.007846455 | 0.005464531 | 0.01071618 | 0.01427238 | 20 |\n",
       "| for (i in 1:1e+06) {     x2[i] &lt;- sqrt(i) } | 0.059107341 | 0.059319024 | 0.069171916 | 0.059795169 | 0.07439276 | 0.11318731 | 20 |\n",
       "\n"
      ],
      "text/plain": [
       "  expr                                        min         lq         \n",
       "1 sqrt(1:1e+06)                               0.003910112 0.004903612\n",
       "2 for (i in 1:1e+06) {     x2[i] <- sqrt(i) } 0.059107341 0.059319024\n",
       "  mean        median      uq         max        neval\n",
       "1 0.007846455 0.005464531 0.01071618 0.01427238 20   \n",
       "2 0.069171916 0.059795169 0.07439276 0.11318731 20   "
      ]
     },
     "metadata": {},
     "output_type": "display_data"
    }
   ],
   "source": [
    "# microbenchmark runs the code multiple times and take a summary\n",
    "library(microbenchmark)\n",
    "result <- microbenchmark(sqrt(1:1000000),\n",
    "                         for (i in 1:1000000) {x2[i] <- sqrt(i)},\n",
    "                         unit = \"s\", times = 20\n",
    "                        )\n",
    "summary(result)\n",
    "# Result in seconds"
   ]
  },
  {
   "cell_type": "markdown",
   "metadata": {},
   "source": [
    "__Example__\n",
    "Calculate the square root using sqrt( ) vs. our own implementation."
   ]
  },
  {
   "cell_type": "code",
   "execution_count": 34,
   "metadata": {},
   "outputs": [
    {
     "data": {
      "text/html": [
       "<table>\n",
       "<caption>A data.frame: 2 × 8</caption>\n",
       "<thead>\n",
       "\t<tr><th scope=col>expr</th><th scope=col>min</th><th scope=col>lq</th><th scope=col>mean</th><th scope=col>median</th><th scope=col>uq</th><th scope=col>max</th><th scope=col>neval</th></tr>\n",
       "\t<tr><th scope=col>&lt;fct&gt;</th><th scope=col>&lt;dbl&gt;</th><th scope=col>&lt;dbl&gt;</th><th scope=col>&lt;dbl&gt;</th><th scope=col>&lt;dbl&gt;</th><th scope=col>&lt;dbl&gt;</th><th scope=col>&lt;dbl&gt;</th><th scope=col>&lt;dbl&gt;</th></tr>\n",
       "</thead>\n",
       "<tbody>\n",
       "\t<tr><td>sqrt(500)</td><td>118</td><td>152</td><td>176.687</td><td>168</td><td>185</td><td> 1583</td><td>1000</td></tr>\n",
       "\t<tr><td>500^0.5  </td><td>209</td><td>263</td><td>309.043</td><td>291</td><td>319</td><td>11331</td><td>1000</td></tr>\n",
       "</tbody>\n",
       "</table>\n"
      ],
      "text/latex": [
       "A data.frame: 2 × 8\n",
       "\\begin{tabular}{r|llllllll}\n",
       " expr & min & lq & mean & median & uq & max & neval\\\\\n",
       " <fct> & <dbl> & <dbl> & <dbl> & <dbl> & <dbl> & <dbl> & <dbl>\\\\\n",
       "\\hline\n",
       "\t sqrt(500) & 118 & 152 & 176.687 & 168 & 185 &  1583 & 1000\\\\\n",
       "\t 500\\textasciicircum{}0.5   & 209 & 263 & 309.043 & 291 & 319 & 11331 & 1000\\\\\n",
       "\\end{tabular}\n"
      ],
      "text/markdown": [
       "\n",
       "A data.frame: 2 × 8\n",
       "\n",
       "| expr &lt;fct&gt; | min &lt;dbl&gt; | lq &lt;dbl&gt; | mean &lt;dbl&gt; | median &lt;dbl&gt; | uq &lt;dbl&gt; | max &lt;dbl&gt; | neval &lt;dbl&gt; |\n",
       "|---|---|---|---|---|---|---|---|\n",
       "| sqrt(500) | 118 | 152 | 176.687 | 168 | 185 |  1583 | 1000 |\n",
       "| 500^0.5   | 209 | 263 | 309.043 | 291 | 319 | 11331 | 1000 |\n",
       "\n"
      ],
      "text/plain": [
       "  expr      min lq  mean    median uq  max   neval\n",
       "1 sqrt(500) 118 152 176.687 168    185  1583 1000 \n",
       "2 500^0.5   209 263 309.043 291    319 11331 1000 "
      ]
     },
     "metadata": {},
     "output_type": "display_data"
    }
   ],
   "source": [
    "# Use well-developped R functions\n",
    "result <- microbenchmark(sqrt(500),\n",
    "                         500^0.5,\n",
    "                         unit = \"ns\", times = 1000\n",
    "                        )\n",
    "summary(result)\n",
    "# Result in nanoseconds"
   ]
  },
  {
   "cell_type": "markdown",
   "metadata": {},
   "source": [
    "##### In summary, keep the rules in mind, know what you want to do, test your program, time your program."
   ]
  },
  {
   "cell_type": "markdown",
   "metadata": {},
   "source": [
    "<a id='2'></a>\n",
    "## 2. [Efficient coding](#0)\n",
    "R has many powerful and useful functions that we can use to achieve efficient coding and computing.\n",
    "### 2.1 Powerful functions in R\n",
    "##### Let's play with some data."
   ]
  },
  {
   "cell_type": "code",
   "execution_count": 151,
   "metadata": {},
   "outputs": [
    {
     "data": {
      "text/html": [
       "<table>\n",
       "<caption>A data.frame: 10 × 8</caption>\n",
       "<thead>\n",
       "\t<tr><th scope=col>X</th><th scope=col>Sex</th><th scope=col>Wr.Hnd</th><th scope=col>NW.Hnd</th><th scope=col>Pulse</th><th scope=col>Smoke</th><th scope=col>Height</th><th scope=col>Age</th></tr>\n",
       "\t<tr><th scope=col>&lt;int&gt;</th><th scope=col>&lt;fct&gt;</th><th scope=col>&lt;dbl&gt;</th><th scope=col>&lt;dbl&gt;</th><th scope=col>&lt;int&gt;</th><th scope=col>&lt;fct&gt;</th><th scope=col>&lt;dbl&gt;</th><th scope=col>&lt;dbl&gt;</th></tr>\n",
       "</thead>\n",
       "<tbody>\n",
       "\t<tr><td> 1</td><td>Male  </td><td>21.4</td><td>21.0</td><td>63</td><td>Never</td><td>180.00</td><td>19.000</td></tr>\n",
       "\t<tr><td> 2</td><td>Male  </td><td>19.5</td><td>19.4</td><td>79</td><td>Never</td><td>165.00</td><td>18.083</td></tr>\n",
       "\t<tr><td> 3</td><td>Female</td><td>16.3</td><td>16.2</td><td>44</td><td>Regul</td><td>152.40</td><td>23.500</td></tr>\n",
       "\t<tr><td> 4</td><td>Female</td><td>15.9</td><td>16.5</td><td>99</td><td>Never</td><td>167.64</td><td>17.333</td></tr>\n",
       "\t<tr><td> 5</td><td>Male  </td><td>19.3</td><td>19.4</td><td>55</td><td>Never</td><td>180.34</td><td>19.833</td></tr>\n",
       "\t<tr><td> 6</td><td>Male  </td><td>18.5</td><td>18.5</td><td>48</td><td>Never</td><td>167.00</td><td>22.333</td></tr>\n",
       "\t<tr><td> 7</td><td>Female</td><td>17.5</td><td>17.0</td><td>85</td><td>Heavy</td><td>163.00</td><td>17.667</td></tr>\n",
       "\t<tr><td> 8</td><td>Male  </td><td>19.8</td><td>20.0</td><td>NA</td><td>Never</td><td>180.00</td><td>17.417</td></tr>\n",
       "\t<tr><td> 9</td><td>Female</td><td>13.0</td><td>12.5</td><td>77</td><td>Never</td><td>165.00</td><td>18.167</td></tr>\n",
       "\t<tr><td>10</td><td>Female</td><td>18.5</td><td>18.0</td><td>75</td><td>Never</td><td>173.00</td><td>18.250</td></tr>\n",
       "</tbody>\n",
       "</table>\n"
      ],
      "text/latex": [
       "A data.frame: 10 × 8\n",
       "\\begin{tabular}{r|llllllll}\n",
       " X & Sex & Wr.Hnd & NW.Hnd & Pulse & Smoke & Height & Age\\\\\n",
       " <int> & <fct> & <dbl> & <dbl> & <int> & <fct> & <dbl> & <dbl>\\\\\n",
       "\\hline\n",
       "\t  1 & Male   & 21.4 & 21.0 & 63 & Never & 180.00 & 19.000\\\\\n",
       "\t  2 & Male   & 19.5 & 19.4 & 79 & Never & 165.00 & 18.083\\\\\n",
       "\t  3 & Female & 16.3 & 16.2 & 44 & Regul & 152.40 & 23.500\\\\\n",
       "\t  4 & Female & 15.9 & 16.5 & 99 & Never & 167.64 & 17.333\\\\\n",
       "\t  5 & Male   & 19.3 & 19.4 & 55 & Never & 180.34 & 19.833\\\\\n",
       "\t  6 & Male   & 18.5 & 18.5 & 48 & Never & 167.00 & 22.333\\\\\n",
       "\t  7 & Female & 17.5 & 17.0 & 85 & Heavy & 163.00 & 17.667\\\\\n",
       "\t  8 & Male   & 19.8 & 20.0 & NA & Never & 180.00 & 17.417\\\\\n",
       "\t  9 & Female & 13.0 & 12.5 & 77 & Never & 165.00 & 18.167\\\\\n",
       "\t 10 & Female & 18.5 & 18.0 & 75 & Never & 173.00 & 18.250\\\\\n",
       "\\end{tabular}\n"
      ],
      "text/markdown": [
       "\n",
       "A data.frame: 10 × 8\n",
       "\n",
       "| X &lt;int&gt; | Sex &lt;fct&gt; | Wr.Hnd &lt;dbl&gt; | NW.Hnd &lt;dbl&gt; | Pulse &lt;int&gt; | Smoke &lt;fct&gt; | Height &lt;dbl&gt; | Age &lt;dbl&gt; |\n",
       "|---|---|---|---|---|---|---|---|\n",
       "|  1 | Male   | 21.4 | 21.0 | 63 | Never | 180.00 | 19.000 |\n",
       "|  2 | Male   | 19.5 | 19.4 | 79 | Never | 165.00 | 18.083 |\n",
       "|  3 | Female | 16.3 | 16.2 | 44 | Regul | 152.40 | 23.500 |\n",
       "|  4 | Female | 15.9 | 16.5 | 99 | Never | 167.64 | 17.333 |\n",
       "|  5 | Male   | 19.3 | 19.4 | 55 | Never | 180.34 | 19.833 |\n",
       "|  6 | Male   | 18.5 | 18.5 | 48 | Never | 167.00 | 22.333 |\n",
       "|  7 | Female | 17.5 | 17.0 | 85 | Heavy | 163.00 | 17.667 |\n",
       "|  8 | Male   | 19.8 | 20.0 | NA | Never | 180.00 | 17.417 |\n",
       "|  9 | Female | 13.0 | 12.5 | 77 | Never | 165.00 | 18.167 |\n",
       "| 10 | Female | 18.5 | 18.0 | 75 | Never | 173.00 | 18.250 |\n",
       "\n"
      ],
      "text/plain": [
       "   X  Sex    Wr.Hnd NW.Hnd Pulse Smoke Height Age   \n",
       "1   1 Male   21.4   21.0   63    Never 180.00 19.000\n",
       "2   2 Male   19.5   19.4   79    Never 165.00 18.083\n",
       "3   3 Female 16.3   16.2   44    Regul 152.40 23.500\n",
       "4   4 Female 15.9   16.5   99    Never 167.64 17.333\n",
       "5   5 Male   19.3   19.4   55    Never 180.34 19.833\n",
       "6   6 Male   18.5   18.5   48    Never 167.00 22.333\n",
       "7   7 Female 17.5   17.0   85    Heavy 163.00 17.667\n",
       "8   8 Male   19.8   20.0   NA    Never 180.00 17.417\n",
       "9   9 Female 13.0   12.5   77    Never 165.00 18.167\n",
       "10 10 Female 18.5   18.0   75    Never 173.00 18.250"
      ]
     },
     "metadata": {},
     "output_type": "display_data"
    }
   ],
   "source": [
    "data <- read.csv(\"https://raw.githubusercontent.com/ly129/MiCM/master/sample.csv\", header = TRUE)\n",
    "head(data, 10)"
   ]
  },
  {
   "cell_type": "code",
   "execution_count": 36,
   "metadata": {},
   "outputs": [
    {
     "data": {
      "text/plain": [
       "       X              Sex         Wr.Hnd          NW.Hnd          Pulse       \n",
       " Min.   :  1.00   Female:47   Min.   :13.00   Min.   :12.50   Min.   : 40.00  \n",
       " 1st Qu.: 25.75   Male  :53   1st Qu.:17.50   1st Qu.:17.45   1st Qu.: 50.25  \n",
       " Median : 50.50               Median :18.50   Median :18.50   Median : 71.50  \n",
       " Mean   : 50.50               Mean   :18.43   Mean   :18.39   Mean   : 69.90  \n",
       " 3rd Qu.: 75.25               3rd Qu.:19.50   3rd Qu.:19.52   3rd Qu.: 84.75  \n",
       " Max.   :100.00               Max.   :23.20   Max.   :23.30   Max.   :104.00  \n",
       "                                                              NA's   :6       \n",
       "   Smoke        Height           Age       \n",
       " Heavy: 6   Min.   :152.0   Min.   :16.92  \n",
       " Never:79   1st Qu.:166.4   1st Qu.:17.58  \n",
       " Occas: 5   Median :170.2   Median :18.46  \n",
       " Regul:10   Mean   :171.8   Mean   :20.97  \n",
       "            3rd Qu.:179.1   3rd Qu.:20.21  \n",
       "            Max.   :200.0   Max.   :73.00  \n",
       "            NA's   :13                     "
      ]
     },
     "metadata": {},
     "output_type": "display_data"
    }
   ],
   "source": [
    "summary(data)"
   ]
  },
  {
   "cell_type": "markdown",
   "metadata": {},
   "source": [
    "#### a1. Calculate the mean writing hand span of all individuals\n",
    "    mean(x, trim = 0, na.rm = FALSE, ...)"
   ]
  },
  {
   "cell_type": "code",
   "execution_count": 5,
   "metadata": {},
   "outputs": [
    {
     "data": {
      "text/html": [
       "18.43"
      ],
      "text/latex": [
       "18.43"
      ],
      "text/markdown": [
       "18.43"
      ],
      "text/plain": [
       "[1] 18.43"
      ]
     },
     "metadata": {},
     "output_type": "display_data"
    }
   ],
   "source": [
    "mean(data$Wr.Hnd)"
   ]
  },
  {
   "cell_type": "markdown",
   "metadata": {},
   "source": [
    "#### a2. Calculate the mean height of all individuals, exclude the missing values"
   ]
  },
  {
   "cell_type": "code",
   "execution_count": 7,
   "metadata": {},
   "outputs": [
    {
     "data": {
      "text/html": [
       "&lt;NA&gt;"
      ],
      "text/latex": [
       "<NA>"
      ],
      "text/markdown": [
       "&lt;NA&gt;"
      ],
      "text/plain": [
       "[1] NA"
      ]
     },
     "metadata": {},
     "output_type": "display_data"
    }
   ],
   "source": [
    "mean(data$Height)\n",
    "?mean"
   ]
  },
  {
   "cell_type": "code",
   "execution_count": 8,
   "metadata": {},
   "outputs": [
    {
     "data": {
      "text/html": [
       "171.784597701149"
      ],
      "text/latex": [
       "171.784597701149"
      ],
      "text/markdown": [
       "171.784597701149"
      ],
      "text/plain": [
       "[1] 171.7846"
      ]
     },
     "metadata": {},
     "output_type": "display_data"
    }
   ],
   "source": [
    "mean(data$Height, na.rm = TRUE)"
   ]
  },
  {
   "cell_type": "markdown",
   "metadata": {},
   "source": [
    "#### a3. Calculate the mean of all continuous variables\n",
    "    apply(X, MARGIN, FUN, ...)"
   ]
  },
  {
   "cell_type": "code",
   "execution_count": 9,
   "metadata": {},
   "outputs": [
    {
     "data": {
      "text/html": [
       "<table>\n",
       "<caption>A data.frame: 6 × 4</caption>\n",
       "<thead>\n",
       "\t<tr><th scope=col>Wr.Hnd</th><th scope=col>NW.Hnd</th><th scope=col>Height</th><th scope=col>Age</th></tr>\n",
       "\t<tr><th scope=col>&lt;dbl&gt;</th><th scope=col>&lt;dbl&gt;</th><th scope=col>&lt;dbl&gt;</th><th scope=col>&lt;dbl&gt;</th></tr>\n",
       "</thead>\n",
       "<tbody>\n",
       "\t<tr><td>21.4</td><td>21.0</td><td>180.00</td><td>19.000</td></tr>\n",
       "\t<tr><td>19.5</td><td>19.4</td><td>165.00</td><td>18.083</td></tr>\n",
       "\t<tr><td>16.3</td><td>16.2</td><td>152.40</td><td>23.500</td></tr>\n",
       "\t<tr><td>15.9</td><td>16.5</td><td>167.64</td><td>17.333</td></tr>\n",
       "\t<tr><td>19.3</td><td>19.4</td><td>180.34</td><td>19.833</td></tr>\n",
       "\t<tr><td>18.5</td><td>18.5</td><td>167.00</td><td>22.333</td></tr>\n",
       "</tbody>\n",
       "</table>\n"
      ],
      "text/latex": [
       "A data.frame: 6 × 4\n",
       "\\begin{tabular}{r|llll}\n",
       " Wr.Hnd & NW.Hnd & Height & Age\\\\\n",
       " <dbl> & <dbl> & <dbl> & <dbl>\\\\\n",
       "\\hline\n",
       "\t 21.4 & 21.0 & 180.00 & 19.000\\\\\n",
       "\t 19.5 & 19.4 & 165.00 & 18.083\\\\\n",
       "\t 16.3 & 16.2 & 152.40 & 23.500\\\\\n",
       "\t 15.9 & 16.5 & 167.64 & 17.333\\\\\n",
       "\t 19.3 & 19.4 & 180.34 & 19.833\\\\\n",
       "\t 18.5 & 18.5 & 167.00 & 22.333\\\\\n",
       "\\end{tabular}\n"
      ],
      "text/markdown": [
       "\n",
       "A data.frame: 6 × 4\n",
       "\n",
       "| Wr.Hnd &lt;dbl&gt; | NW.Hnd &lt;dbl&gt; | Height &lt;dbl&gt; | Age &lt;dbl&gt; |\n",
       "|---|---|---|---|\n",
       "| 21.4 | 21.0 | 180.00 | 19.000 |\n",
       "| 19.5 | 19.4 | 165.00 | 18.083 |\n",
       "| 16.3 | 16.2 | 152.40 | 23.500 |\n",
       "| 15.9 | 16.5 | 167.64 | 17.333 |\n",
       "| 19.3 | 19.4 | 180.34 | 19.833 |\n",
       "| 18.5 | 18.5 | 167.00 | 22.333 |\n",
       "\n"
      ],
      "text/plain": [
       "  Wr.Hnd NW.Hnd Height Age   \n",
       "1 21.4   21.0   180.00 19.000\n",
       "2 19.5   19.4   165.00 18.083\n",
       "3 16.3   16.2   152.40 23.500\n",
       "4 15.9   16.5   167.64 17.333\n",
       "5 19.3   19.4   180.34 19.833\n",
       "6 18.5   18.5   167.00 22.333"
      ]
     },
     "metadata": {},
     "output_type": "display_data"
    }
   ],
   "source": [
    "cts.var <- sapply(X = data, FUN = is.double) # We'll talk about sapply later.\n",
    "cts <- data[ , cts.var]\n",
    "head(cts)\n",
    "?apply"
   ]
  },
  {
   "cell_type": "code",
   "execution_count": 10,
   "metadata": {},
   "outputs": [
    {
     "data": {
      "text/html": [
       "<dl class=dl-horizontal>\n",
       "\t<dt>Wr.Hnd</dt>\n",
       "\t\t<dd>18.43</dd>\n",
       "\t<dt>NW.Hnd</dt>\n",
       "\t\t<dd>18.391</dd>\n",
       "\t<dt>Height</dt>\n",
       "\t\t<dd>&lt;NA&gt;</dd>\n",
       "\t<dt>Age</dt>\n",
       "\t\t<dd>20.96503</dd>\n",
       "</dl>\n"
      ],
      "text/latex": [
       "\\begin{description*}\n",
       "\\item[Wr.Hnd] 18.43\n",
       "\\item[NW.Hnd] 18.391\n",
       "\\item[Height] <NA>\n",
       "\\item[Age] 20.96503\n",
       "\\end{description*}\n"
      ],
      "text/markdown": [
       "Wr.Hnd\n",
       ":   18.43NW.Hnd\n",
       ":   18.391Height\n",
       ":   &lt;NA&gt;Age\n",
       ":   20.96503\n",
       "\n"
      ],
      "text/plain": [
       "  Wr.Hnd   NW.Hnd   Height      Age \n",
       "18.43000 18.39100       NA 20.96503 "
      ]
     },
     "metadata": {},
     "output_type": "display_data"
    }
   ],
   "source": [
    "apply(X = cts, MARGIN = 2, FUN = mean)"
   ]
  },
  {
   "cell_type": "code",
   "execution_count": 11,
   "metadata": {},
   "outputs": [
    {
     "data": {
      "text/html": [
       "<dl class=dl-horizontal>\n",
       "\t<dt>Wr.Hnd</dt>\n",
       "\t\t<dd>18.43</dd>\n",
       "\t<dt>NW.Hnd</dt>\n",
       "\t\t<dd>18.391</dd>\n",
       "\t<dt>Height</dt>\n",
       "\t\t<dd>171.784597701149</dd>\n",
       "\t<dt>Age</dt>\n",
       "\t\t<dd>20.96503</dd>\n",
       "</dl>\n"
      ],
      "text/latex": [
       "\\begin{description*}\n",
       "\\item[Wr.Hnd] 18.43\n",
       "\\item[NW.Hnd] 18.391\n",
       "\\item[Height] 171.784597701149\n",
       "\\item[Age] 20.96503\n",
       "\\end{description*}\n"
      ],
      "text/markdown": [
       "Wr.Hnd\n",
       ":   18.43NW.Hnd\n",
       ":   18.391Height\n",
       ":   171.784597701149Age\n",
       ":   20.96503\n",
       "\n"
      ],
      "text/plain": [
       "   Wr.Hnd    NW.Hnd    Height       Age \n",
       " 18.43000  18.39100 171.78460  20.96503 "
      ]
     },
     "metadata": {},
     "output_type": "display_data"
    }
   ],
   "source": [
    "apply(X = cts, MARGIN = 2, FUN = mean, na.rm = T)"
   ]
  },
  {
   "cell_type": "markdown",
   "metadata": {},
   "source": [
    "#### b1. Calculate the count/proportion of females and males\n",
    "    table(...,\n",
    "      exclude = if (useNA == \"no\") c(NA, NaN),\n",
    "      useNA = c(\"no\", \"ifany\", \"always\"),\n",
    "      dnn = list.names(...), deparse.level = 1)\n",
    "\n",
    "    prop.table()"
   ]
  },
  {
   "cell_type": "code",
   "execution_count": 14,
   "metadata": {},
   "outputs": [
    {
     "data": {
      "text/plain": [
       "\n",
       "Female   Male \n",
       "    47     53 "
      ]
     },
     "metadata": {},
     "output_type": "display_data"
    }
   ],
   "source": [
    "fm <- table(data$Sex)\n",
    "fm"
   ]
  },
  {
   "cell_type": "code",
   "execution_count": 15,
   "metadata": {},
   "outputs": [
    {
     "data": {
      "text/html": [
       "'table'"
      ],
      "text/latex": [
       "'table'"
      ],
      "text/markdown": [
       "'table'"
      ],
      "text/plain": [
       "[1] \"table\""
      ]
     },
     "metadata": {},
     "output_type": "display_data"
    }
   ],
   "source": [
    "class(fm)"
   ]
  },
  {
   "cell_type": "code",
   "execution_count": 18,
   "metadata": {},
   "outputs": [
    {
     "data": {
      "text/plain": [
       "\n",
       "Female   Male \n",
       "  0.47   0.53 "
      ]
     },
     "metadata": {},
     "output_type": "display_data"
    }
   ],
   "source": [
    "fm/length(data$Sex)"
   ]
  },
  {
   "cell_type": "code",
   "execution_count": 19,
   "metadata": {},
   "outputs": [
    {
     "data": {
      "text/plain": [
       "\n",
       "Female   Male \n",
       "  0.47   0.53 "
      ]
     },
     "metadata": {},
     "output_type": "display_data"
    }
   ],
   "source": [
    "prop.table(fm)"
   ]
  },
  {
   "cell_type": "markdown",
   "metadata": {},
   "source": [
    "#### b2. Calculate the count in each Smoke group"
   ]
  },
  {
   "cell_type": "code",
   "execution_count": 20,
   "metadata": {},
   "outputs": [
    {
     "data": {
      "text/plain": [
       "\n",
       "Heavy Never Occas Regul \n",
       "    6    79     5    10 "
      ]
     },
     "metadata": {},
     "output_type": "display_data"
    }
   ],
   "source": [
    "table(data$Smoke)"
   ]
  },
  {
   "cell_type": "markdown",
   "metadata": {},
   "source": [
    "#### b3. Calculate the count of males and females in each Smoke group"
   ]
  },
  {
   "cell_type": "code",
   "execution_count": 21,
   "metadata": {},
   "outputs": [
    {
     "data": {
      "text/plain": [
       "       \n",
       "        Female Male\n",
       "  Heavy      3    3\n",
       "  Never     40   39\n",
       "  Occas      3    2\n",
       "  Regul      1    9"
      ]
     },
     "metadata": {},
     "output_type": "display_data"
    }
   ],
   "source": [
    "table(data$Smoke, data$Sex)"
   ]
  },
  {
   "cell_type": "code",
   "execution_count": 30,
   "metadata": {},
   "outputs": [
    {
     "data": {
      "text/plain": [
       "       Sex\n",
       "Smoke   Female Male\n",
       "  Heavy      3    3\n",
       "  Never     40   39\n",
       "  Occas      3    2\n",
       "  Regul      1    9"
      ]
     },
     "metadata": {},
     "output_type": "display_data"
    }
   ],
   "source": [
    "table(data[, c(\"Smoke\", \"Sex\")])"
   ]
  },
  {
   "cell_type": "markdown",
   "metadata": {},
   "source": [
    "#### c1. Calculate the standard deviation of writing hand span of females\n",
    "        aggregate()\n",
    "        tapply()\n",
    "        by()"
   ]
  },
  {
   "cell_type": "code",
   "execution_count": 47,
   "metadata": {},
   "outputs": [
    {
     "data": {
      "text/html": [
       "<table>\n",
       "<caption>A data.frame: 2 × 2</caption>\n",
       "<thead>\n",
       "\t<tr><th scope=col>Sex</th><th scope=col>x</th></tr>\n",
       "\t<tr><th scope=col>&lt;fct&gt;</th><th scope=col>&lt;dbl&gt;</th></tr>\n",
       "</thead>\n",
       "<tbody>\n",
       "\t<tr><td>Female</td><td>1.519908</td></tr>\n",
       "\t<tr><td>Male  </td><td>1.712066</td></tr>\n",
       "</tbody>\n",
       "</table>\n"
      ],
      "text/latex": [
       "A data.frame: 2 × 2\n",
       "\\begin{tabular}{r|ll}\n",
       " Sex & x\\\\\n",
       " <fct> & <dbl>\\\\\n",
       "\\hline\n",
       "\t Female & 1.519908\\\\\n",
       "\t Male   & 1.712066\\\\\n",
       "\\end{tabular}\n"
      ],
      "text/markdown": [
       "\n",
       "A data.frame: 2 × 2\n",
       "\n",
       "| Sex &lt;fct&gt; | x &lt;dbl&gt; |\n",
       "|---|---|\n",
       "| Female | 1.519908 |\n",
       "| Male   | 1.712066 |\n",
       "\n"
      ],
      "text/plain": [
       "  Sex    x       \n",
       "1 Female 1.519908\n",
       "2 Male   1.712066"
      ]
     },
     "metadata": {},
     "output_type": "display_data"
    }
   ],
   "source": [
    "table <- aggregate(x = data$Wr.Hnd, by = list(Sex = data$Sex), FUN = sd)\n",
    "table\n",
    "# table[table$Sex == \"Female\",]"
   ]
  },
  {
   "cell_type": "code",
   "execution_count": 48,
   "metadata": {},
   "outputs": [
    {
     "data": {
      "text/html": [
       "<table>\n",
       "<caption>A data.frame: 2 × 2</caption>\n",
       "<thead>\n",
       "\t<tr><th scope=col>Sex</th><th scope=col>Wr.Hnd</th></tr>\n",
       "\t<tr><th scope=col>&lt;fct&gt;</th><th scope=col>&lt;dbl&gt;</th></tr>\n",
       "</thead>\n",
       "<tbody>\n",
       "\t<tr><td>Female</td><td>1.519908</td></tr>\n",
       "\t<tr><td>Male  </td><td>1.712066</td></tr>\n",
       "</tbody>\n",
       "</table>\n"
      ],
      "text/latex": [
       "A data.frame: 2 × 2\n",
       "\\begin{tabular}{r|ll}\n",
       " Sex & Wr.Hnd\\\\\n",
       " <fct> & <dbl>\\\\\n",
       "\\hline\n",
       "\t Female & 1.519908\\\\\n",
       "\t Male   & 1.712066\\\\\n",
       "\\end{tabular}\n"
      ],
      "text/markdown": [
       "\n",
       "A data.frame: 2 × 2\n",
       "\n",
       "| Sex &lt;fct&gt; | Wr.Hnd &lt;dbl&gt; |\n",
       "|---|---|\n",
       "| Female | 1.519908 |\n",
       "| Male   | 1.712066 |\n",
       "\n"
      ],
      "text/plain": [
       "  Sex    Wr.Hnd  \n",
       "1 Female 1.519908\n",
       "2 Male   1.712066"
      ]
     },
     "metadata": {},
     "output_type": "display_data"
    }
   ],
   "source": [
    "aggregate(Wr.Hnd~Sex, FUN = sd, data = data)"
   ]
  },
  {
   "cell_type": "code",
   "execution_count": 59,
   "metadata": {},
   "outputs": [
    {
     "data": {
      "text/plain": [
       "Sex: Female\n",
       "[1] 1.519908\n",
       "------------------------------------------------------------ \n",
       "Sex: Male\n",
       "[1] 1.712066"
      ]
     },
     "metadata": {},
     "output_type": "display_data"
    }
   ],
   "source": [
    "by(data = data$Wr.Hnd, INDICES = list(Sex = data$Sex), FUN = sd)"
   ]
  },
  {
   "cell_type": "code",
   "execution_count": 67,
   "metadata": {},
   "outputs": [
    {
     "data": {
      "text/html": [
       "<dl class=dl-horizontal>\n",
       "\t<dt>Female</dt>\n",
       "\t\t<dd>1.51990797715501</dd>\n",
       "\t<dt>Male</dt>\n",
       "\t\t<dd>1.71206552443005</dd>\n",
       "</dl>\n"
      ],
      "text/latex": [
       "\\begin{description*}\n",
       "\\item[Female] 1.51990797715501\n",
       "\\item[Male] 1.71206552443005\n",
       "\\end{description*}\n"
      ],
      "text/markdown": [
       "Female\n",
       ":   1.51990797715501Male\n",
       ":   1.71206552443005\n",
       "\n"
      ],
      "text/plain": [
       "Sex\n",
       "  Female     Male \n",
       "1.519908 1.712066 "
      ]
     },
     "metadata": {},
     "output_type": "display_data"
    },
    {
     "name": "stdout",
     "output_type": "stream",
     "text": [
      " num [1:2(1d)] 1.52 1.71\n",
      " - attr(*, \"dimnames\")=List of 1\n",
      "  ..$ Sex: chr [1:2] \"Female\" \"Male\"\n"
     ]
    }
   ],
   "source": [
    "table1 <- tapply(X = data$Wr.Hnd,\n",
    "                 INDEX = list(Sex = data$Sex),\n",
    "                 FUN = sd,\n",
    "                 simplify = T)\n",
    "# tapply(X = data$Wr.Hnd, INDEX = list(Sex = data$Sex), FUN = sd)[\"Female\"]\n",
    "table1\n",
    "str(table1)"
   ]
  },
  {
   "cell_type": "code",
   "execution_count": 68,
   "metadata": {},
   "outputs": [
    {
     "data": {
      "text/html": [
       "<dl>\n",
       "\t<dt>$Female</dt>\n",
       "\t\t<dd>1.51990797715501</dd>\n",
       "\t<dt>$Male</dt>\n",
       "\t\t<dd>1.71206552443005</dd>\n",
       "</dl>\n"
      ],
      "text/latex": [
       "\\begin{description}\n",
       "\\item[\\$Female] 1.51990797715501\n",
       "\\item[\\$Male] 1.71206552443005\n",
       "\\end{description}\n"
      ],
      "text/markdown": [
       "$Female\n",
       ":   1.51990797715501\n",
       "$Male\n",
       ":   1.71206552443005\n",
       "\n",
       "\n"
      ],
      "text/plain": [
       "$Female\n",
       "[1] 1.519908\n",
       "\n",
       "$Male\n",
       "[1] 1.712066\n"
      ]
     },
     "metadata": {},
     "output_type": "display_data"
    },
    {
     "name": "stdout",
     "output_type": "stream",
     "text": [
      "List of 2\n",
      " $ Female: num 1.52\n",
      " $ Male  : num 1.71\n",
      " - attr(*, \"dim\")= int 2\n",
      " - attr(*, \"dimnames\")=List of 1\n",
      "  ..$ Sex: chr [1:2] \"Female\" \"Male\"\n"
     ]
    }
   ],
   "source": [
    "# Return a list using tapply()\n",
    "table2 <- tapply(X = data$Wr.Hnd,\n",
    "                 INDEX = list(Sex = data$Sex),\n",
    "                 FUN = sd,\n",
    "                 simplify = F)\n",
    "table2\n",
    "str(table2)"
   ]
  },
  {
   "cell_type": "markdown",
   "metadata": {},
   "source": [
    "##### aggregate( ), by( ) and tapply( ) are all connected. They give different types of output."
   ]
  },
  {
   "cell_type": "markdown",
   "metadata": {},
   "source": [
    "#### c2. Calculate the standard deviation of writing hand span of all different Sex-Smoke groups"
   ]
  },
  {
   "cell_type": "code",
   "execution_count": 71,
   "metadata": {},
   "outputs": [
    {
     "data": {
      "text/html": [
       "<table>\n",
       "<caption>A data.frame: 8 × 3</caption>\n",
       "<thead>\n",
       "\t<tr><th scope=col>Sex</th><th scope=col>Smoke</th><th scope=col>x</th></tr>\n",
       "\t<tr><th scope=col>&lt;fct&gt;</th><th scope=col>&lt;fct&gt;</th><th scope=col>&lt;dbl&gt;</th></tr>\n",
       "</thead>\n",
       "<tbody>\n",
       "\t<tr><td>Female</td><td>Heavy</td><td>0.2309401</td></tr>\n",
       "\t<tr><td>Male  </td><td>Heavy</td><td>4.8569538</td></tr>\n",
       "\t<tr><td>Female</td><td>Never</td><td>1.5762663</td></tr>\n",
       "\t<tr><td>Male  </td><td>Never</td><td>1.3857770</td></tr>\n",
       "\t<tr><td>Female</td><td>Occas</td><td>1.9000000</td></tr>\n",
       "\t<tr><td>Male  </td><td>Occas</td><td>2.2627417</td></tr>\n",
       "\t<tr><td>Female</td><td>Regul</td><td>       NA</td></tr>\n",
       "\t<tr><td>Male  </td><td>Regul</td><td>1.6537835</td></tr>\n",
       "</tbody>\n",
       "</table>\n"
      ],
      "text/latex": [
       "A data.frame: 8 × 3\n",
       "\\begin{tabular}{r|lll}\n",
       " Sex & Smoke & x\\\\\n",
       " <fct> & <fct> & <dbl>\\\\\n",
       "\\hline\n",
       "\t Female & Heavy & 0.2309401\\\\\n",
       "\t Male   & Heavy & 4.8569538\\\\\n",
       "\t Female & Never & 1.5762663\\\\\n",
       "\t Male   & Never & 1.3857770\\\\\n",
       "\t Female & Occas & 1.9000000\\\\\n",
       "\t Male   & Occas & 2.2627417\\\\\n",
       "\t Female & Regul &        NA\\\\\n",
       "\t Male   & Regul & 1.6537835\\\\\n",
       "\\end{tabular}\n"
      ],
      "text/markdown": [
       "\n",
       "A data.frame: 8 × 3\n",
       "\n",
       "| Sex &lt;fct&gt; | Smoke &lt;fct&gt; | x &lt;dbl&gt; |\n",
       "|---|---|---|\n",
       "| Female | Heavy | 0.2309401 |\n",
       "| Male   | Heavy | 4.8569538 |\n",
       "| Female | Never | 1.5762663 |\n",
       "| Male   | Never | 1.3857770 |\n",
       "| Female | Occas | 1.9000000 |\n",
       "| Male   | Occas | 2.2627417 |\n",
       "| Female | Regul |        NA |\n",
       "| Male   | Regul | 1.6537835 |\n",
       "\n"
      ],
      "text/plain": [
       "  Sex    Smoke x        \n",
       "1 Female Heavy 0.2309401\n",
       "2 Male   Heavy 4.8569538\n",
       "3 Female Never 1.5762663\n",
       "4 Male   Never 1.3857770\n",
       "5 Female Occas 1.9000000\n",
       "6 Male   Occas 2.2627417\n",
       "7 Female Regul        NA\n",
       "8 Male   Regul 1.6537835"
      ]
     },
     "metadata": {},
     "output_type": "display_data"
    }
   ],
   "source": [
    "aggregate(x = data$Wr.Hnd,\n",
    "          by = list(Sex = data$Sex, Smoke = data$Smoke),\n",
    "          FUN = sd)"
   ]
  },
  {
   "cell_type": "code",
   "execution_count": 72,
   "metadata": {},
   "outputs": [
    {
     "data": {
      "text/html": [
       "<table>\n",
       "<caption>A data.frame: 8 × 3</caption>\n",
       "<thead>\n",
       "\t<tr><th scope=col>Sex</th><th scope=col>Smoke</th><th scope=col>Wr.Hnd</th></tr>\n",
       "\t<tr><th scope=col>&lt;fct&gt;</th><th scope=col>&lt;fct&gt;</th><th scope=col>&lt;dbl&gt;</th></tr>\n",
       "</thead>\n",
       "<tbody>\n",
       "\t<tr><td>Female</td><td>Heavy</td><td>0.2309401</td></tr>\n",
       "\t<tr><td>Male  </td><td>Heavy</td><td>4.8569538</td></tr>\n",
       "\t<tr><td>Female</td><td>Never</td><td>1.5762663</td></tr>\n",
       "\t<tr><td>Male  </td><td>Never</td><td>1.3857770</td></tr>\n",
       "\t<tr><td>Female</td><td>Occas</td><td>1.9000000</td></tr>\n",
       "\t<tr><td>Male  </td><td>Occas</td><td>2.2627417</td></tr>\n",
       "\t<tr><td>Female</td><td>Regul</td><td>       NA</td></tr>\n",
       "\t<tr><td>Male  </td><td>Regul</td><td>1.6537835</td></tr>\n",
       "</tbody>\n",
       "</table>\n"
      ],
      "text/latex": [
       "A data.frame: 8 × 3\n",
       "\\begin{tabular}{r|lll}\n",
       " Sex & Smoke & Wr.Hnd\\\\\n",
       " <fct> & <fct> & <dbl>\\\\\n",
       "\\hline\n",
       "\t Female & Heavy & 0.2309401\\\\\n",
       "\t Male   & Heavy & 4.8569538\\\\\n",
       "\t Female & Never & 1.5762663\\\\\n",
       "\t Male   & Never & 1.3857770\\\\\n",
       "\t Female & Occas & 1.9000000\\\\\n",
       "\t Male   & Occas & 2.2627417\\\\\n",
       "\t Female & Regul &        NA\\\\\n",
       "\t Male   & Regul & 1.6537835\\\\\n",
       "\\end{tabular}\n"
      ],
      "text/markdown": [
       "\n",
       "A data.frame: 8 × 3\n",
       "\n",
       "| Sex &lt;fct&gt; | Smoke &lt;fct&gt; | Wr.Hnd &lt;dbl&gt; |\n",
       "|---|---|---|\n",
       "| Female | Heavy | 0.2309401 |\n",
       "| Male   | Heavy | 4.8569538 |\n",
       "| Female | Never | 1.5762663 |\n",
       "| Male   | Never | 1.3857770 |\n",
       "| Female | Occas | 1.9000000 |\n",
       "| Male   | Occas | 2.2627417 |\n",
       "| Female | Regul |        NA |\n",
       "| Male   | Regul | 1.6537835 |\n",
       "\n"
      ],
      "text/plain": [
       "  Sex    Smoke Wr.Hnd   \n",
       "1 Female Heavy 0.2309401\n",
       "2 Male   Heavy 4.8569538\n",
       "3 Female Never 1.5762663\n",
       "4 Male   Never 1.3857770\n",
       "5 Female Occas 1.9000000\n",
       "6 Male   Occas 2.2627417\n",
       "7 Female Regul        NA\n",
       "8 Male   Regul 1.6537835"
      ]
     },
     "metadata": {},
     "output_type": "display_data"
    }
   ],
   "source": [
    "aggregate(Wr.Hnd~Sex + Smoke, data = data, FUN = sd)"
   ]
  },
  {
   "cell_type": "markdown",
   "metadata": {},
   "source": [
    "#### c3. Calculate the standard deviation of writing hand and non-writing hand span of all Sex-Smoke groups"
   ]
  },
  {
   "cell_type": "code",
   "execution_count": 75,
   "metadata": {},
   "outputs": [
    {
     "data": {
      "text/html": [
       "<table>\n",
       "<caption>A data.frame: 8 × 4</caption>\n",
       "<thead>\n",
       "\t<tr><th scope=col>Sex</th><th scope=col>Smoke</th><th scope=col>Wr.Hnd</th><th scope=col>NW.Hnd</th></tr>\n",
       "\t<tr><th scope=col>&lt;fct&gt;</th><th scope=col>&lt;fct&gt;</th><th scope=col>&lt;dbl&gt;</th><th scope=col>&lt;dbl&gt;</th></tr>\n",
       "</thead>\n",
       "<tbody>\n",
       "\t<tr><td>Female</td><td>Heavy</td><td>0.2309401</td><td>0.2886751</td></tr>\n",
       "\t<tr><td>Male  </td><td>Heavy</td><td>4.8569538</td><td>3.9828800</td></tr>\n",
       "\t<tr><td>Female</td><td>Never</td><td>1.5762663</td><td>1.6625899</td></tr>\n",
       "\t<tr><td>Male  </td><td>Never</td><td>1.3857770</td><td>1.3760875</td></tr>\n",
       "\t<tr><td>Female</td><td>Occas</td><td>1.9000000</td><td>1.3796135</td></tr>\n",
       "\t<tr><td>Male  </td><td>Occas</td><td>2.2627417</td><td>1.0606602</td></tr>\n",
       "\t<tr><td>Female</td><td>Regul</td><td>       NA</td><td>       NA</td></tr>\n",
       "\t<tr><td>Male  </td><td>Regul</td><td>1.6537835</td><td>1.3991069</td></tr>\n",
       "</tbody>\n",
       "</table>\n"
      ],
      "text/latex": [
       "A data.frame: 8 × 4\n",
       "\\begin{tabular}{r|llll}\n",
       " Sex & Smoke & Wr.Hnd & NW.Hnd\\\\\n",
       " <fct> & <fct> & <dbl> & <dbl>\\\\\n",
       "\\hline\n",
       "\t Female & Heavy & 0.2309401 & 0.2886751\\\\\n",
       "\t Male   & Heavy & 4.8569538 & 3.9828800\\\\\n",
       "\t Female & Never & 1.5762663 & 1.6625899\\\\\n",
       "\t Male   & Never & 1.3857770 & 1.3760875\\\\\n",
       "\t Female & Occas & 1.9000000 & 1.3796135\\\\\n",
       "\t Male   & Occas & 2.2627417 & 1.0606602\\\\\n",
       "\t Female & Regul &        NA &        NA\\\\\n",
       "\t Male   & Regul & 1.6537835 & 1.3991069\\\\\n",
       "\\end{tabular}\n"
      ],
      "text/markdown": [
       "\n",
       "A data.frame: 8 × 4\n",
       "\n",
       "| Sex &lt;fct&gt; | Smoke &lt;fct&gt; | Wr.Hnd &lt;dbl&gt; | NW.Hnd &lt;dbl&gt; |\n",
       "|---|---|---|---|\n",
       "| Female | Heavy | 0.2309401 | 0.2886751 |\n",
       "| Male   | Heavy | 4.8569538 | 3.9828800 |\n",
       "| Female | Never | 1.5762663 | 1.6625899 |\n",
       "| Male   | Never | 1.3857770 | 1.3760875 |\n",
       "| Female | Occas | 1.9000000 | 1.3796135 |\n",
       "| Male   | Occas | 2.2627417 | 1.0606602 |\n",
       "| Female | Regul |        NA |        NA |\n",
       "| Male   | Regul | 1.6537835 | 1.3991069 |\n",
       "\n"
      ],
      "text/plain": [
       "  Sex    Smoke Wr.Hnd    NW.Hnd   \n",
       "1 Female Heavy 0.2309401 0.2886751\n",
       "2 Male   Heavy 4.8569538 3.9828800\n",
       "3 Female Never 1.5762663 1.6625899\n",
       "4 Male   Never 1.3857770 1.3760875\n",
       "5 Female Occas 1.9000000 1.3796135\n",
       "6 Male   Occas 2.2627417 1.0606602\n",
       "7 Female Regul        NA        NA\n",
       "8 Male   Regul 1.6537835 1.3991069"
      ]
     },
     "metadata": {},
     "output_type": "display_data"
    }
   ],
   "source": [
    "aggregate(cbind(Wr.Hnd, NW.Hnd) ~ Sex + Smoke, data = data, FUN = sd)"
   ]
  },
  {
   "cell_type": "code",
   "execution_count": 81,
   "metadata": {},
   "outputs": [
    {
     "data": {
      "text/html": [
       "<table>\n",
       "<caption>A data.frame: 8 × 4</caption>\n",
       "<thead>\n",
       "\t<tr><th scope=col>Sex</th><th scope=col>Smoke</th><th scope=col>V1</th><th scope=col>V2</th></tr>\n",
       "\t<tr><th scope=col>&lt;fct&gt;</th><th scope=col>&lt;fct&gt;</th><th scope=col>&lt;dbl&gt;</th><th scope=col>&lt;dbl&gt;</th></tr>\n",
       "</thead>\n",
       "<tbody>\n",
       "\t<tr><td>Female</td><td>Heavy</td><td>0.2309401</td><td>0.2886751</td></tr>\n",
       "\t<tr><td>Male  </td><td>Heavy</td><td>4.8569538</td><td>3.9828800</td></tr>\n",
       "\t<tr><td>Female</td><td>Never</td><td>1.5762663</td><td>1.6625899</td></tr>\n",
       "\t<tr><td>Male  </td><td>Never</td><td>1.3857770</td><td>1.3760875</td></tr>\n",
       "\t<tr><td>Female</td><td>Occas</td><td>1.9000000</td><td>1.3796135</td></tr>\n",
       "\t<tr><td>Male  </td><td>Occas</td><td>2.2627417</td><td>1.0606602</td></tr>\n",
       "\t<tr><td>Female</td><td>Regul</td><td>       NA</td><td>       NA</td></tr>\n",
       "\t<tr><td>Male  </td><td>Regul</td><td>1.6537835</td><td>1.3991069</td></tr>\n",
       "</tbody>\n",
       "</table>\n"
      ],
      "text/latex": [
       "A data.frame: 8 × 4\n",
       "\\begin{tabular}{r|llll}\n",
       " Sex & Smoke & V1 & V2\\\\\n",
       " <fct> & <fct> & <dbl> & <dbl>\\\\\n",
       "\\hline\n",
       "\t Female & Heavy & 0.2309401 & 0.2886751\\\\\n",
       "\t Male   & Heavy & 4.8569538 & 3.9828800\\\\\n",
       "\t Female & Never & 1.5762663 & 1.6625899\\\\\n",
       "\t Male   & Never & 1.3857770 & 1.3760875\\\\\n",
       "\t Female & Occas & 1.9000000 & 1.3796135\\\\\n",
       "\t Male   & Occas & 2.2627417 & 1.0606602\\\\\n",
       "\t Female & Regul &        NA &        NA\\\\\n",
       "\t Male   & Regul & 1.6537835 & 1.3991069\\\\\n",
       "\\end{tabular}\n"
      ],
      "text/markdown": [
       "\n",
       "A data.frame: 8 × 4\n",
       "\n",
       "| Sex &lt;fct&gt; | Smoke &lt;fct&gt; | V1 &lt;dbl&gt; | V2 &lt;dbl&gt; |\n",
       "|---|---|---|---|\n",
       "| Female | Heavy | 0.2309401 | 0.2886751 |\n",
       "| Male   | Heavy | 4.8569538 | 3.9828800 |\n",
       "| Female | Never | 1.5762663 | 1.6625899 |\n",
       "| Male   | Never | 1.3857770 | 1.3760875 |\n",
       "| Female | Occas | 1.9000000 | 1.3796135 |\n",
       "| Male   | Occas | 2.2627417 | 1.0606602 |\n",
       "| Female | Regul |        NA |        NA |\n",
       "| Male   | Regul | 1.6537835 | 1.3991069 |\n",
       "\n"
      ],
      "text/plain": [
       "  Sex    Smoke V1        V2       \n",
       "1 Female Heavy 0.2309401 0.2886751\n",
       "2 Male   Heavy 4.8569538 3.9828800\n",
       "3 Female Never 1.5762663 1.6625899\n",
       "4 Male   Never 1.3857770 1.3760875\n",
       "5 Female Occas 1.9000000 1.3796135\n",
       "6 Male   Occas 2.2627417 1.0606602\n",
       "7 Female Regul        NA        NA\n",
       "8 Male   Regul 1.6537835 1.3991069"
      ]
     },
     "metadata": {},
     "output_type": "display_data"
    }
   ],
   "source": [
    "name <- aggregate(x = cbind(data$Wr.Hnd, data$NW.Hnd),\n",
    "          by = list(Sex = data$Sex, Smoke = data$Smoke),\n",
    "          FUN = sd)\n",
    "name"
   ]
  },
  {
   "cell_type": "markdown",
   "metadata": {},
   "source": [
    "##### Let's try to figure out what aggregate( ) is doing\n",
    "        print()"
   ]
  },
  {
   "cell_type": "code",
   "execution_count": 78,
   "metadata": {},
   "outputs": [
    {
     "name": "stdout",
     "output_type": "stream",
     "text": [
      "[1] 17.5 17.5 17.1\n",
      "[1] 14.0 23.2 21.3\n",
      " [1] 15.9 13.0 18.5 17.5 18.6 16.0 13.0 19.6 17.5 19.5 19.5 16.4 17.2 19.4 17.0\n",
      "[16] 18.0 16.9 16.5 17.0 17.6 16.5 18.8 17.7 15.5 18.0 17.6 19.5 19.0 17.5 19.0\n",
      "[31] 18.5 15.0 16.0 18.5 17.5 18.0 19.0 17.5 17.6 18.7\n",
      " [1] 21.4 19.5 19.3 18.5 19.8 22.0 20.0 18.0 21.0 18.9 18.1 16.0 18.8 18.5 17.8\n",
      "[16] 21.0 18.5 19.1 21.0 19.0 21.5 20.8 18.9 18.5 19.2 17.7 17.5 18.0 18.5 19.2\n",
      "[31] 21.5 17.5 19.5 17.0 18.2 18.0 19.5 19.5 20.5\n",
      "[1] 19.1 15.4 16.5\n",
      "[1] 22.2 19.0\n",
      "[1] 16.3\n",
      "[1] 18.5 19.5 19.7 18.0 17.0 22.5 20.5 20.0 21.0\n"
     ]
    },
    {
     "data": {
      "text/html": [
       "<table>\n",
       "<caption>A data.frame: 8 × 3</caption>\n",
       "<thead>\n",
       "\t<tr><th scope=col>Sex</th><th scope=col>Smoke</th><th scope=col>Wr.Hnd</th></tr>\n",
       "\t<tr><th scope=col>&lt;fct&gt;</th><th scope=col>&lt;fct&gt;</th><th scope=col>&lt;list&gt;</th></tr>\n",
       "</thead>\n",
       "<tbody>\n",
       "\t<tr><td>Female</td><td>Heavy</td><td>17.5, 17.5, 17.1</td></tr>\n",
       "\t<tr><td>Male  </td><td>Heavy</td><td>14.0, 23.2, 21.3</td></tr>\n",
       "\t<tr><td>Female</td><td>Never</td><td>15.9, 13.0, 18.5, 17.5, 18.6, 16.0, 13.0, 19.6, 17.5, 19.5, 19.5, 16.4, 17.2, 19.4, 17.0, 18.0, 16.9, 16.5, 17.0, 17.6, 16.5, 18.8, 17.7, 15.5, 18.0, 17.6, 19.5, 19.0, 17.5, 19.0, 18.5, 15.0, 16.0, 18.5, 17.5, 18.0, 19.0, 17.5, 17.6, 18.7</td></tr>\n",
       "\t<tr><td>Male  </td><td>Never</td><td>21.4, 19.5, 19.3, 18.5, 19.8, 22.0, 20.0, 18.0, 21.0, 18.9, 18.1, 16.0, 18.8, 18.5, 17.8, 21.0, 18.5, 19.1, 21.0, 19.0, 21.5, 20.8, 18.9, 18.5, 19.2, 17.7, 17.5, 18.0, 18.5, 19.2, 21.5, 17.5, 19.5, 17.0, 18.2, 18.0, 19.5, 19.5, 20.5</td></tr>\n",
       "\t<tr><td>Female</td><td>Occas</td><td>19.1, 15.4, 16.5</td></tr>\n",
       "\t<tr><td>Male  </td><td>Occas</td><td>22.2, 19.0</td></tr>\n",
       "\t<tr><td>Female</td><td>Regul</td><td>16.3</td></tr>\n",
       "\t<tr><td>Male  </td><td>Regul</td><td>18.5, 19.5, 19.7, 18.0, 17.0, 22.5, 20.5, 20.0, 21.0</td></tr>\n",
       "</tbody>\n",
       "</table>\n"
      ],
      "text/latex": [
       "A data.frame: 8 × 3\n",
       "\\begin{tabular}{r|lll}\n",
       " Sex & Smoke & Wr.Hnd\\\\\n",
       " <fct> & <fct> & <list>\\\\\n",
       "\\hline\n",
       "\t Female & Heavy & 17.5, 17.5, 17.1\\\\\n",
       "\t Male   & Heavy & 14.0, 23.2, 21.3\\\\\n",
       "\t Female & Never & 15.9, 13.0, 18.5, 17.5, 18.6, 16.0, 13.0, 19.6, 17.5, 19.5, 19.5, 16.4, 17.2, 19.4, 17.0, 18.0, 16.9, 16.5, 17.0, 17.6, 16.5, 18.8, 17.7, 15.5, 18.0, 17.6, 19.5, 19.0, 17.5, 19.0, 18.5, 15.0, 16.0, 18.5, 17.5, 18.0, 19.0, 17.5, 17.6, 18.7\\\\\n",
       "\t Male   & Never & 21.4, 19.5, 19.3, 18.5, 19.8, 22.0, 20.0, 18.0, 21.0, 18.9, 18.1, 16.0, 18.8, 18.5, 17.8, 21.0, 18.5, 19.1, 21.0, 19.0, 21.5, 20.8, 18.9, 18.5, 19.2, 17.7, 17.5, 18.0, 18.5, 19.2, 21.5, 17.5, 19.5, 17.0, 18.2, 18.0, 19.5, 19.5, 20.5\\\\\n",
       "\t Female & Occas & 19.1, 15.4, 16.5\\\\\n",
       "\t Male   & Occas & 22.2, 19.0\\\\\n",
       "\t Female & Regul & 16.3\\\\\n",
       "\t Male   & Regul & 18.5, 19.5, 19.7, 18.0, 17.0, 22.5, 20.5, 20.0, 21.0\\\\\n",
       "\\end{tabular}\n"
      ],
      "text/markdown": [
       "\n",
       "A data.frame: 8 × 3\n",
       "\n",
       "| Sex &lt;fct&gt; | Smoke &lt;fct&gt; | Wr.Hnd &lt;list&gt; |\n",
       "|---|---|---|\n",
       "| Female | Heavy | 17.5, 17.5, 17.1 |\n",
       "| Male   | Heavy | 14.0, 23.2, 21.3 |\n",
       "| Female | Never | 15.9, 13.0, 18.5, 17.5, 18.6, 16.0, 13.0, 19.6, 17.5, 19.5, 19.5, 16.4, 17.2, 19.4, 17.0, 18.0, 16.9, 16.5, 17.0, 17.6, 16.5, 18.8, 17.7, 15.5, 18.0, 17.6, 19.5, 19.0, 17.5, 19.0, 18.5, 15.0, 16.0, 18.5, 17.5, 18.0, 19.0, 17.5, 17.6, 18.7 |\n",
       "| Male   | Never | 21.4, 19.5, 19.3, 18.5, 19.8, 22.0, 20.0, 18.0, 21.0, 18.9, 18.1, 16.0, 18.8, 18.5, 17.8, 21.0, 18.5, 19.1, 21.0, 19.0, 21.5, 20.8, 18.9, 18.5, 19.2, 17.7, 17.5, 18.0, 18.5, 19.2, 21.5, 17.5, 19.5, 17.0, 18.2, 18.0, 19.5, 19.5, 20.5 |\n",
       "| Female | Occas | 19.1, 15.4, 16.5 |\n",
       "| Male   | Occas | 22.2, 19.0 |\n",
       "| Female | Regul | 16.3 |\n",
       "| Male   | Regul | 18.5, 19.5, 19.7, 18.0, 17.0, 22.5, 20.5, 20.0, 21.0 |\n",
       "\n"
      ],
      "text/plain": [
       "  Sex    Smoke\n",
       "1 Female Heavy\n",
       "2 Male   Heavy\n",
       "3 Female Never\n",
       "4 Male   Never\n",
       "5 Female Occas\n",
       "6 Male   Occas\n",
       "7 Female Regul\n",
       "8 Male   Regul\n",
       "  Wr.Hnd                                                                                                                                                                                                                                        \n",
       "1 17.5, 17.5, 17.1                                                                                                                                                                                                                              \n",
       "2 14.0, 23.2, 21.3                                                                                                                                                                                                                              \n",
       "3 15.9, 13.0, 18.5, 17.5, 18.6, 16.0, 13.0, 19.6, 17.5, 19.5, 19.5, 16.4, 17.2, 19.4, 17.0, 18.0, 16.9, 16.5, 17.0, 17.6, 16.5, 18.8, 17.7, 15.5, 18.0, 17.6, 19.5, 19.0, 17.5, 19.0, 18.5, 15.0, 16.0, 18.5, 17.5, 18.0, 19.0, 17.5, 17.6, 18.7\n",
       "4 21.4, 19.5, 19.3, 18.5, 19.8, 22.0, 20.0, 18.0, 21.0, 18.9, 18.1, 16.0, 18.8, 18.5, 17.8, 21.0, 18.5, 19.1, 21.0, 19.0, 21.5, 20.8, 18.9, 18.5, 19.2, 17.7, 17.5, 18.0, 18.5, 19.2, 21.5, 17.5, 19.5, 17.0, 18.2, 18.0, 19.5, 19.5, 20.5      \n",
       "5 19.1, 15.4, 16.5                                                                                                                                                                                                                              \n",
       "6 22.2, 19.0                                                                                                                                                                                                                                    \n",
       "7 16.3                                                                                                                                                                                                                                          \n",
       "8 18.5, 19.5, 19.7, 18.0, 17.0, 22.5, 20.5, 20.0, 21.0                                                                                                                                                                                          "
      ]
     },
     "metadata": {},
     "output_type": "display_data"
    }
   ],
   "source": [
    "aggregate(Wr.Hnd~Sex+Smoke, data = data, FUN = print)"
   ]
  },
  {
   "cell_type": "markdown",
   "metadata": {},
   "source": [
    "##### Exercise.\n",
    "1. Repeat b1-b3 using aggregate( )"
   ]
  },
  {
   "cell_type": "code",
   "execution_count": 79,
   "metadata": {},
   "outputs": [
    {
     "data": {
      "text/html": [
       "<table>\n",
       "<caption>A data.frame: 8 × 3</caption>\n",
       "<thead>\n",
       "\t<tr><th scope=col>Sex</th><th scope=col>Smoke</th><th scope=col>Wr.Hnd</th></tr>\n",
       "\t<tr><th scope=col>&lt;fct&gt;</th><th scope=col>&lt;fct&gt;</th><th scope=col>&lt;int&gt;</th></tr>\n",
       "</thead>\n",
       "<tbody>\n",
       "\t<tr><td>Female</td><td>Heavy</td><td> 3</td></tr>\n",
       "\t<tr><td>Male  </td><td>Heavy</td><td> 3</td></tr>\n",
       "\t<tr><td>Female</td><td>Never</td><td>40</td></tr>\n",
       "\t<tr><td>Male  </td><td>Never</td><td>39</td></tr>\n",
       "\t<tr><td>Female</td><td>Occas</td><td> 3</td></tr>\n",
       "\t<tr><td>Male  </td><td>Occas</td><td> 2</td></tr>\n",
       "\t<tr><td>Female</td><td>Regul</td><td> 1</td></tr>\n",
       "\t<tr><td>Male  </td><td>Regul</td><td> 9</td></tr>\n",
       "</tbody>\n",
       "</table>\n"
      ],
      "text/latex": [
       "A data.frame: 8 × 3\n",
       "\\begin{tabular}{r|lll}\n",
       " Sex & Smoke & Wr.Hnd\\\\\n",
       " <fct> & <fct> & <int>\\\\\n",
       "\\hline\n",
       "\t Female & Heavy &  3\\\\\n",
       "\t Male   & Heavy &  3\\\\\n",
       "\t Female & Never & 40\\\\\n",
       "\t Male   & Never & 39\\\\\n",
       "\t Female & Occas &  3\\\\\n",
       "\t Male   & Occas &  2\\\\\n",
       "\t Female & Regul &  1\\\\\n",
       "\t Male   & Regul &  9\\\\\n",
       "\\end{tabular}\n"
      ],
      "text/markdown": [
       "\n",
       "A data.frame: 8 × 3\n",
       "\n",
       "| Sex &lt;fct&gt; | Smoke &lt;fct&gt; | Wr.Hnd &lt;int&gt; |\n",
       "|---|---|---|\n",
       "| Female | Heavy |  3 |\n",
       "| Male   | Heavy |  3 |\n",
       "| Female | Never | 40 |\n",
       "| Male   | Never | 39 |\n",
       "| Female | Occas |  3 |\n",
       "| Male   | Occas |  2 |\n",
       "| Female | Regul |  1 |\n",
       "| Male   | Regul |  9 |\n",
       "\n"
      ],
      "text/plain": [
       "  Sex    Smoke Wr.Hnd\n",
       "1 Female Heavy  3    \n",
       "2 Male   Heavy  3    \n",
       "3 Female Never 40    \n",
       "4 Male   Never 39    \n",
       "5 Female Occas  3    \n",
       "6 Male   Occas  2    \n",
       "7 Female Regul  1    \n",
       "8 Male   Regul  9    "
      ]
     },
     "metadata": {},
     "output_type": "display_data"
    }
   ],
   "source": [
    "aggregate(Wr.Hnd~Sex+Smoke, data = data, FUN = length)"
   ]
  },
  {
   "cell_type": "markdown",
   "metadata": {},
   "source": [
    "2. Make histograms of writing hand span for all eight Sex-Smoke groups using aggregate( )"
   ]
  },
  {
   "cell_type": "code",
   "execution_count": 83,
   "metadata": {
    "scrolled": true
   },
   "outputs": [
    {
     "data": {
      "image/png": "[encoded data removed]",
      "text/plain": [
       "Plot with title “Histogram of X[[i]]”"
      ]
     },
     "metadata": {},
     "output_type": "display_data"
    },
    {
     "data": {
      "image/png": "[encoded data removed]",
      "text/plain": [
       "Plot with title “Histogram of X[[i]]”"
      ]
     },
     "metadata": {},
     "output_type": "display_data"
    },
    {
     "data": {
      "image/png": "[encoded data removed]",
      "text/plain": [
       "Plot with title “Histogram of X[[i]]”"
      ]
     },
     "metadata": {},
     "output_type": "display_data"
    },
    {
     "data": {
      "image/png": "[encoded data removed]",
      "text/plain": [
       "Plot with title “Histogram of X[[i]]”"
      ]
     },
     "metadata": {},
     "output_type": "display_data"
    },
    {
     "data": {
      "image/png": "[encoded data removed]",
      "text/plain": [
       "Plot with title “Histogram of X[[i]]”"
      ]
     },
     "metadata": {},
     "output_type": "display_data"
    },
    {
     "data": {
      "image/png": "[encoded data removed]",
      "text/plain": [
       "Plot with title “Histogram of X[[i]]”"
      ]
     },
     "metadata": {},
     "output_type": "display_data"
    },
    {
     "data": {
      "image/png": "[encoded data removed]",
      "text/plain": [
       "Plot with title “Histogram of X[[i]]”"
      ]
     },
     "metadata": {},
     "output_type": "display_data"
    },
    {
     "data": {
      "text/html": [
       "<table>\n",
       "<caption>A data.frame: 8 × 3</caption>\n",
       "<thead>\n",
       "\t<tr><th scope=col>Sex</th><th scope=col>Smoke</th><th scope=col>Wr.Hnd</th></tr>\n",
       "\t<tr><th scope=col>&lt;fct&gt;</th><th scope=col>&lt;fct&gt;</th><th scope=col>&lt;list[,6]&gt;</th></tr>\n",
       "</thead>\n",
       "<tbody>\n",
       "\t<tr><td>Female</td><td>Heavy</td><td>17.1, 17.2, 17.3, 17.4, 17.5, 1, 0, 0, 2, 3.333333, 0.000000, 0.000000, 6.666667, 17.15, 17.25, 17.35, 17.45, X[[i]], TRUE</td></tr>\n",
       "\t<tr><td>Male  </td><td>Heavy</td><td>10, 15, 20, 25, 1, 0, 2, 0.06666667, 0.00000000, 0.13333333, 12.5, 17.5, 22.5, X[[i]], TRUE</td></tr>\n",
       "\t<tr><td>Female</td><td>Never</td><td>13, 14, 15, 16, 17, 18, 19, 20, 2, 1, 4, 6, 13, 9, 5, 0.050, 0.025, 0.100, 0.150, 0.325, 0.225, 0.125, 13.5, 14.5, 15.5, 16.5, 17.5, 18.5, 19.5, X[[i]], TRUE</td></tr>\n",
       "\t<tr><td>Male  </td><td>Never</td><td>16, 17, 18, 19, 20, 21, 22, 2, 7, 11, 10, 5, 4, 0.05128205, 0.17948718, 0.28205128, 0.25641026, 0.12820513, 0.10256410, 16.5, 17.5, 18.5, 19.5, 20.5, 21.5, X[[i]], TRUE</td></tr>\n",
       "\t<tr><td>Female</td><td>Occas</td><td>15, 16, 17, 18, 19, 20, 1, 1, 0, 0, 1, 0.3333333, 0.3333333, 0.0000000, 0.0000000, 0.3333333, 15.5, 16.5, 17.5, 18.5, 19.5, X[[i]], TRUE</td></tr>\n",
       "\t<tr><td>Male  </td><td>Occas</td><td>18, 20, 22, 24, 1, 0, 1, 0.25, 0.00, 0.25, 19, 21, 23, X[[i]], TRUE</td></tr>\n",
       "\t<tr><td>Female</td><td>Regul</td><td>10, 20, 1, 0.1, 15, X[[i]], TRUE</td></tr>\n",
       "\t<tr><td>Male  </td><td>Regul</td><td>17, 18, 19, 20, 21, 22, 23, 2, 1, 3, 2, 0, 1, 0.2222222, 0.1111111, 0.3333333, 0.2222222, 0.0000000, 0.1111111, 17.5, 18.5, 19.5, 20.5, 21.5, 22.5, X[[i]], TRUE</td></tr>\n",
       "</tbody>\n",
       "</table>\n"
      ],
      "text/latex": [
       "A data.frame: 8 × 3\n",
       "\\begin{tabular}{r|lll}\n",
       " Sex & Smoke & Wr.Hnd\\\\\n",
       " <fct> & <fct> & <list{[},6{]}>\\\\\n",
       "\\hline\n",
       "\t Female & Heavy & 17.1, 17.2, 17.3, 17.4, 17.5, 1, 0, 0, 2, 3.333333, 0.000000, 0.000000, 6.666667, 17.15, 17.25, 17.35, 17.45, X{[}{[}i{]}{]}, TRUE\\\\\n",
       "\t Male   & Heavy & 10, 15, 20, 25, 1, 0, 2, 0.06666667, 0.00000000, 0.13333333, 12.5, 17.5, 22.5, X{[}{[}i{]}{]}, TRUE\\\\\n",
       "\t Female & Never & 13, 14, 15, 16, 17, 18, 19, 20, 2, 1, 4, 6, 13, 9, 5, 0.050, 0.025, 0.100, 0.150, 0.325, 0.225, 0.125, 13.5, 14.5, 15.5, 16.5, 17.5, 18.5, 19.5, X{[}{[}i{]}{]}, TRUE\\\\\n",
       "\t Male   & Never & 16, 17, 18, 19, 20, 21, 22, 2, 7, 11, 10, 5, 4, 0.05128205, 0.17948718, 0.28205128, 0.25641026, 0.12820513, 0.10256410, 16.5, 17.5, 18.5, 19.5, 20.5, 21.5, X{[}{[}i{]}{]}, TRUE\\\\\n",
       "\t Female & Occas & 15, 16, 17, 18, 19, 20, 1, 1, 0, 0, 1, 0.3333333, 0.3333333, 0.0000000, 0.0000000, 0.3333333, 15.5, 16.5, 17.5, 18.5, 19.5, X{[}{[}i{]}{]}, TRUE\\\\\n",
       "\t Male   & Occas & 18, 20, 22, 24, 1, 0, 1, 0.25, 0.00, 0.25, 19, 21, 23, X{[}{[}i{]}{]}, TRUE\\\\\n",
       "\t Female & Regul & 10, 20, 1, 0.1, 15, X{[}{[}i{]}{]}, TRUE\\\\\n",
       "\t Male   & Regul & 17, 18, 19, 20, 21, 22, 23, 2, 1, 3, 2, 0, 1, 0.2222222, 0.1111111, 0.3333333, 0.2222222, 0.0000000, 0.1111111, 17.5, 18.5, 19.5, 20.5, 21.5, 22.5, X{[}{[}i{]}{]}, TRUE\\\\\n",
       "\\end{tabular}\n"
      ],
      "text/markdown": [
       "\n",
       "A data.frame: 8 × 3\n",
       "\n",
       "| Sex &lt;fct&gt; | Smoke &lt;fct&gt; | Wr.Hnd &lt;list[,6]&gt; |\n",
       "|---|---|---|\n",
       "| Female | Heavy | 17.1, 17.2, 17.3, 17.4, 17.5, 1, 0, 0, 2, 3.333333, 0.000000, 0.000000, 6.666667, 17.15, 17.25, 17.35, 17.45, X[[i]], TRUE |\n",
       "| Male   | Heavy | 10, 15, 20, 25, 1, 0, 2, 0.06666667, 0.00000000, 0.13333333, 12.5, 17.5, 22.5, X[[i]], TRUE |\n",
       "| Female | Never | 13, 14, 15, 16, 17, 18, 19, 20, 2, 1, 4, 6, 13, 9, 5, 0.050, 0.025, 0.100, 0.150, 0.325, 0.225, 0.125, 13.5, 14.5, 15.5, 16.5, 17.5, 18.5, 19.5, X[[i]], TRUE |\n",
       "| Male   | Never | 16, 17, 18, 19, 20, 21, 22, 2, 7, 11, 10, 5, 4, 0.05128205, 0.17948718, 0.28205128, 0.25641026, 0.12820513, 0.10256410, 16.5, 17.5, 18.5, 19.5, 20.5, 21.5, X[[i]], TRUE |\n",
       "| Female | Occas | 15, 16, 17, 18, 19, 20, 1, 1, 0, 0, 1, 0.3333333, 0.3333333, 0.0000000, 0.0000000, 0.3333333, 15.5, 16.5, 17.5, 18.5, 19.5, X[[i]], TRUE |\n",
       "| Male   | Occas | 18, 20, 22, 24, 1, 0, 1, 0.25, 0.00, 0.25, 19, 21, 23, X[[i]], TRUE |\n",
       "| Female | Regul | 10, 20, 1, 0.1, 15, X[[i]], TRUE |\n",
       "| Male   | Regul | 17, 18, 19, 20, 21, 22, 23, 2, 1, 3, 2, 0, 1, 0.2222222, 0.1111111, 0.3333333, 0.2222222, 0.0000000, 0.1111111, 17.5, 18.5, 19.5, 20.5, 21.5, 22.5, X[[i]], TRUE |\n",
       "\n"
      ],
      "text/plain": [
       "  Sex    Smoke\n",
       "1 Female Heavy\n",
       "2 Male   Heavy\n",
       "3 Female Never\n",
       "4 Male   Never\n",
       "5 Female Occas\n",
       "6 Male   Occas\n",
       "7 Female Regul\n",
       "8 Male   Regul\n",
       "  Wr.Hnd                                                                                                                                                                  \n",
       "1 17.1, 17.2, 17.3, 17.4, 17.5, 1, 0, 0, 2, 3.333333, 0.000000, 0.000000, 6.666667, 17.15, 17.25, 17.35, 17.45, X[[i]], TRUE                                              \n",
       "2 10, 15, 20, 25, 1, 0, 2, 0.06666667, 0.00000000, 0.13333333, 12.5, 17.5, 22.5, X[[i]], TRUE                                                                             \n",
       "3 13, 14, 15, 16, 17, 18, 19, 20, 2, 1, 4, 6, 13, 9, 5, 0.050, 0.025, 0.100, 0.150, 0.325, 0.225, 0.125, 13.5, 14.5, 15.5, 16.5, 17.5, 18.5, 19.5, X[[i]], TRUE           \n",
       "4 16, 17, 18, 19, 20, 21, 22, 2, 7, 11, 10, 5, 4, 0.05128205, 0.17948718, 0.28205128, 0.25641026, 0.12820513, 0.10256410, 16.5, 17.5, 18.5, 19.5, 20.5, 21.5, X[[i]], TRUE\n",
       "5 15, 16, 17, 18, 19, 20, 1, 1, 0, 0, 1, 0.3333333, 0.3333333, 0.0000000, 0.0000000, 0.3333333, 15.5, 16.5, 17.5, 18.5, 19.5, X[[i]], TRUE                                \n",
       "6 18, 20, 22, 24, 1, 0, 1, 0.25, 0.00, 0.25, 19, 21, 23, X[[i]], TRUE                                                                                                     \n",
       "7 10, 20, 1, 0.1, 15, X[[i]], TRUE                                                                                                                                        \n",
       "8 17, 18, 19, 20, 21, 22, 23, 2, 1, 3, 2, 0, 1, 0.2222222, 0.1111111, 0.3333333, 0.2222222, 0.0000000, 0.1111111, 17.5, 18.5, 19.5, 20.5, 21.5, 22.5, X[[i]], TRUE        "
      ]
     },
     "metadata": {},
     "output_type": "display_data"
    },
    {
     "data": {
      "image/png": "[encoded data removed]",
      "text/plain": [
       "Plot with title “Histogram of X[[i]]”"
      ]
     },
     "metadata": {},
     "output_type": "display_data"
    }
   ],
   "source": [
    "aggregate(Wr.Hnd~Sex+Smoke, data = data, FUN = hist)"
   ]
  },
  {
   "cell_type": "markdown",
   "metadata": {},
   "source": [
    "#### d1. Categorize 'Age' - make a new binary variable 'Adult'\n",
    "    ifelse(test, yes, no)"
   ]
  },
  {
   "cell_type": "code",
   "execution_count": 86,
   "metadata": {},
   "outputs": [
    {
     "data": {
      "text/html": [
       "<ol class=list-inline>\n",
       "\t<li>1</li>\n",
       "\t<li>2</li>\n",
       "\t<li>3</li>\n",
       "\t<li>4</li>\n",
       "\t<li>5</li>\n",
       "</ol>\n"
      ],
      "text/latex": [
       "\\begin{enumerate*}\n",
       "\\item 1\n",
       "\\item 2\n",
       "\\item 3\n",
       "\\item 4\n",
       "\\item 5\n",
       "\\end{enumerate*}\n"
      ],
      "text/markdown": [
       "1. 1\n",
       "2. 2\n",
       "3. 3\n",
       "4. 4\n",
       "5. 5\n",
       "\n",
       "\n"
      ],
      "text/plain": [
       "[1] 1 2 3 4 5"
      ]
     },
     "metadata": {},
     "output_type": "display_data"
    },
    {
     "data": {
      "text/html": [
       "<ol class=list-inline>\n",
       "\t<li>'small'</li>\n",
       "\t<li>'small'</li>\n",
       "\t<li>'small'</li>\n",
       "\t<li>'big'</li>\n",
       "\t<li>'big'</li>\n",
       "</ol>\n"
      ],
      "text/latex": [
       "\\begin{enumerate*}\n",
       "\\item 'small'\n",
       "\\item 'small'\n",
       "\\item 'small'\n",
       "\\item 'big'\n",
       "\\item 'big'\n",
       "\\end{enumerate*}\n"
      ],
      "text/markdown": [
       "1. 'small'\n",
       "2. 'small'\n",
       "3. 'small'\n",
       "4. 'big'\n",
       "5. 'big'\n",
       "\n",
       "\n"
      ],
      "text/plain": [
       "[1] \"small\" \"small\" \"small\" \"big\"   \"big\"  "
      ]
     },
     "metadata": {},
     "output_type": "display_data"
    }
   ],
   "source": [
    "vec <- 1:5\n",
    "vec\n",
    "\n",
    "ifelse(vec>3, yes = \"big\", no = \"small\")"
   ]
  },
  {
   "cell_type": "code",
   "execution_count": 87,
   "metadata": {},
   "outputs": [
    {
     "data": {
      "text/html": [
       "<table>\n",
       "<caption>A data.frame: 6 × 9</caption>\n",
       "<thead>\n",
       "\t<tr><th scope=col>X</th><th scope=col>Sex</th><th scope=col>Wr.Hnd</th><th scope=col>NW.Hnd</th><th scope=col>Pulse</th><th scope=col>Smoke</th><th scope=col>Height</th><th scope=col>Age</th><th scope=col>Adult</th></tr>\n",
       "\t<tr><th scope=col>&lt;int&gt;</th><th scope=col>&lt;fct&gt;</th><th scope=col>&lt;dbl&gt;</th><th scope=col>&lt;dbl&gt;</th><th scope=col>&lt;int&gt;</th><th scope=col>&lt;fct&gt;</th><th scope=col>&lt;dbl&gt;</th><th scope=col>&lt;dbl&gt;</th><th scope=col>&lt;chr&gt;</th></tr>\n",
       "</thead>\n",
       "<tbody>\n",
       "\t<tr><td>1</td><td>Male  </td><td>21.4</td><td>21.0</td><td>63</td><td>Never</td><td>180.00</td><td>19.000</td><td>Yes</td></tr>\n",
       "\t<tr><td>2</td><td>Male  </td><td>19.5</td><td>19.4</td><td>79</td><td>Never</td><td>165.00</td><td>18.083</td><td>Yes</td></tr>\n",
       "\t<tr><td>3</td><td>Female</td><td>16.3</td><td>16.2</td><td>44</td><td>Regul</td><td>152.40</td><td>23.500</td><td>Yes</td></tr>\n",
       "\t<tr><td>4</td><td>Female</td><td>15.9</td><td>16.5</td><td>99</td><td>Never</td><td>167.64</td><td>17.333</td><td>No </td></tr>\n",
       "\t<tr><td>5</td><td>Male  </td><td>19.3</td><td>19.4</td><td>55</td><td>Never</td><td>180.34</td><td>19.833</td><td>Yes</td></tr>\n",
       "\t<tr><td>6</td><td>Male  </td><td>18.5</td><td>18.5</td><td>48</td><td>Never</td><td>167.00</td><td>22.333</td><td>Yes</td></tr>\n",
       "</tbody>\n",
       "</table>\n"
      ],
      "text/latex": [
       "A data.frame: 6 × 9\n",
       "\\begin{tabular}{r|lllllllll}\n",
       " X & Sex & Wr.Hnd & NW.Hnd & Pulse & Smoke & Height & Age & Adult\\\\\n",
       " <int> & <fct> & <dbl> & <dbl> & <int> & <fct> & <dbl> & <dbl> & <chr>\\\\\n",
       "\\hline\n",
       "\t 1 & Male   & 21.4 & 21.0 & 63 & Never & 180.00 & 19.000 & Yes\\\\\n",
       "\t 2 & Male   & 19.5 & 19.4 & 79 & Never & 165.00 & 18.083 & Yes\\\\\n",
       "\t 3 & Female & 16.3 & 16.2 & 44 & Regul & 152.40 & 23.500 & Yes\\\\\n",
       "\t 4 & Female & 15.9 & 16.5 & 99 & Never & 167.64 & 17.333 & No \\\\\n",
       "\t 5 & Male   & 19.3 & 19.4 & 55 & Never & 180.34 & 19.833 & Yes\\\\\n",
       "\t 6 & Male   & 18.5 & 18.5 & 48 & Never & 167.00 & 22.333 & Yes\\\\\n",
       "\\end{tabular}\n"
      ],
      "text/markdown": [
       "\n",
       "A data.frame: 6 × 9\n",
       "\n",
       "| X &lt;int&gt; | Sex &lt;fct&gt; | Wr.Hnd &lt;dbl&gt; | NW.Hnd &lt;dbl&gt; | Pulse &lt;int&gt; | Smoke &lt;fct&gt; | Height &lt;dbl&gt; | Age &lt;dbl&gt; | Adult &lt;chr&gt; |\n",
       "|---|---|---|---|---|---|---|---|---|\n",
       "| 1 | Male   | 21.4 | 21.0 | 63 | Never | 180.00 | 19.000 | Yes |\n",
       "| 2 | Male   | 19.5 | 19.4 | 79 | Never | 165.00 | 18.083 | Yes |\n",
       "| 3 | Female | 16.3 | 16.2 | 44 | Regul | 152.40 | 23.500 | Yes |\n",
       "| 4 | Female | 15.9 | 16.5 | 99 | Never | 167.64 | 17.333 | No  |\n",
       "| 5 | Male   | 19.3 | 19.4 | 55 | Never | 180.34 | 19.833 | Yes |\n",
       "| 6 | Male   | 18.5 | 18.5 | 48 | Never | 167.00 | 22.333 | Yes |\n",
       "\n"
      ],
      "text/plain": [
       "  X Sex    Wr.Hnd NW.Hnd Pulse Smoke Height Age    Adult\n",
       "1 1 Male   21.4   21.0   63    Never 180.00 19.000 Yes  \n",
       "2 2 Male   19.5   19.4   79    Never 165.00 18.083 Yes  \n",
       "3 3 Female 16.3   16.2   44    Regul 152.40 23.500 Yes  \n",
       "4 4 Female 15.9   16.5   99    Never 167.64 17.333 No   \n",
       "5 5 Male   19.3   19.4   55    Never 180.34 19.833 Yes  \n",
       "6 6 Male   18.5   18.5   48    Never 167.00 22.333 Yes  "
      ]
     },
     "metadata": {},
     "output_type": "display_data"
    }
   ],
   "source": [
    "adult <- 18\n",
    "data$Adult <- ifelse(data$Age>=18, \"Yes\", \"No\")\n",
    "head(data)"
   ]
  },
  {
   "cell_type": "markdown",
   "metadata": {},
   "source": [
    "##### R has if (test) {opt1} else {opt2}, what is the advantage of ifelse( )?"
   ]
  },
  {
   "cell_type": "code",
   "execution_count": 88,
   "metadata": {},
   "outputs": [
    {
     "name": "stderr",
     "output_type": "stream",
     "text": [
      "Warning message in if (data$Age >= 18) {:\n",
      "“the condition has length > 1 and only the first element will be used”"
     ]
    },
    {
     "data": {
      "text/html": [
       "<table>\n",
       "<caption>A data.frame: 6 × 10</caption>\n",
       "<thead>\n",
       "\t<tr><th scope=col>X</th><th scope=col>Sex</th><th scope=col>Wr.Hnd</th><th scope=col>NW.Hnd</th><th scope=col>Pulse</th><th scope=col>Smoke</th><th scope=col>Height</th><th scope=col>Age</th><th scope=col>Adult</th><th scope=col>Adult2</th></tr>\n",
       "\t<tr><th scope=col>&lt;int&gt;</th><th scope=col>&lt;fct&gt;</th><th scope=col>&lt;dbl&gt;</th><th scope=col>&lt;dbl&gt;</th><th scope=col>&lt;int&gt;</th><th scope=col>&lt;fct&gt;</th><th scope=col>&lt;dbl&gt;</th><th scope=col>&lt;dbl&gt;</th><th scope=col>&lt;chr&gt;</th><th scope=col>&lt;chr&gt;</th></tr>\n",
       "</thead>\n",
       "<tbody>\n",
       "\t<tr><td>1</td><td>Male  </td><td>21.4</td><td>21.0</td><td>63</td><td>Never</td><td>180.00</td><td>19.000</td><td>Yes</td><td>Yes</td></tr>\n",
       "\t<tr><td>2</td><td>Male  </td><td>19.5</td><td>19.4</td><td>79</td><td>Never</td><td>165.00</td><td>18.083</td><td>Yes</td><td>Yes</td></tr>\n",
       "\t<tr><td>3</td><td>Female</td><td>16.3</td><td>16.2</td><td>44</td><td>Regul</td><td>152.40</td><td>23.500</td><td>Yes</td><td>Yes</td></tr>\n",
       "\t<tr><td>4</td><td>Female</td><td>15.9</td><td>16.5</td><td>99</td><td>Never</td><td>167.64</td><td>17.333</td><td>No </td><td>Yes</td></tr>\n",
       "\t<tr><td>5</td><td>Male  </td><td>19.3</td><td>19.4</td><td>55</td><td>Never</td><td>180.34</td><td>19.833</td><td>Yes</td><td>Yes</td></tr>\n",
       "\t<tr><td>6</td><td>Male  </td><td>18.5</td><td>18.5</td><td>48</td><td>Never</td><td>167.00</td><td>22.333</td><td>Yes</td><td>Yes</td></tr>\n",
       "</tbody>\n",
       "</table>\n"
      ],
      "text/latex": [
       "A data.frame: 6 × 10\n",
       "\\begin{tabular}{r|llllllllll}\n",
       " X & Sex & Wr.Hnd & NW.Hnd & Pulse & Smoke & Height & Age & Adult & Adult2\\\\\n",
       " <int> & <fct> & <dbl> & <dbl> & <int> & <fct> & <dbl> & <dbl> & <chr> & <chr>\\\\\n",
       "\\hline\n",
       "\t 1 & Male   & 21.4 & 21.0 & 63 & Never & 180.00 & 19.000 & Yes & Yes\\\\\n",
       "\t 2 & Male   & 19.5 & 19.4 & 79 & Never & 165.00 & 18.083 & Yes & Yes\\\\\n",
       "\t 3 & Female & 16.3 & 16.2 & 44 & Regul & 152.40 & 23.500 & Yes & Yes\\\\\n",
       "\t 4 & Female & 15.9 & 16.5 & 99 & Never & 167.64 & 17.333 & No  & Yes\\\\\n",
       "\t 5 & Male   & 19.3 & 19.4 & 55 & Never & 180.34 & 19.833 & Yes & Yes\\\\\n",
       "\t 6 & Male   & 18.5 & 18.5 & 48 & Never & 167.00 & 22.333 & Yes & Yes\\\\\n",
       "\\end{tabular}\n"
      ],
      "text/markdown": [
       "\n",
       "A data.frame: 6 × 10\n",
       "\n",
       "| X &lt;int&gt; | Sex &lt;fct&gt; | Wr.Hnd &lt;dbl&gt; | NW.Hnd &lt;dbl&gt; | Pulse &lt;int&gt; | Smoke &lt;fct&gt; | Height &lt;dbl&gt; | Age &lt;dbl&gt; | Adult &lt;chr&gt; | Adult2 &lt;chr&gt; |\n",
       "|---|---|---|---|---|---|---|---|---|---|\n",
       "| 1 | Male   | 21.4 | 21.0 | 63 | Never | 180.00 | 19.000 | Yes | Yes |\n",
       "| 2 | Male   | 19.5 | 19.4 | 79 | Never | 165.00 | 18.083 | Yes | Yes |\n",
       "| 3 | Female | 16.3 | 16.2 | 44 | Regul | 152.40 | 23.500 | Yes | Yes |\n",
       "| 4 | Female | 15.9 | 16.5 | 99 | Never | 167.64 | 17.333 | No  | Yes |\n",
       "| 5 | Male   | 19.3 | 19.4 | 55 | Never | 180.34 | 19.833 | Yes | Yes |\n",
       "| 6 | Male   | 18.5 | 18.5 | 48 | Never | 167.00 | 22.333 | Yes | Yes |\n",
       "\n"
      ],
      "text/plain": [
       "  X Sex    Wr.Hnd NW.Hnd Pulse Smoke Height Age    Adult Adult2\n",
       "1 1 Male   21.4   21.0   63    Never 180.00 19.000 Yes   Yes   \n",
       "2 2 Male   19.5   19.4   79    Never 165.00 18.083 Yes   Yes   \n",
       "3 3 Female 16.3   16.2   44    Regul 152.40 23.500 Yes   Yes   \n",
       "4 4 Female 15.9   16.5   99    Never 167.64 17.333 No    Yes   \n",
       "5 5 Male   19.3   19.4   55    Never 180.34 19.833 Yes   Yes   \n",
       "6 6 Male   18.5   18.5   48    Never 167.00 22.333 Yes   Yes   "
      ]
     },
     "metadata": {},
     "output_type": "display_data"
    }
   ],
   "source": [
    "if (data$Age >= 18) {\n",
    "    data$Adult2 = \"Yes\"\n",
    "} else {\n",
    "    data$Adult2 = \"No\"\n",
    "}\n",
    "head(data)"
   ]
  },
  {
   "cell_type": "code",
   "execution_count": 89,
   "metadata": {},
   "outputs": [],
   "source": [
    "# Delete Adult2\n",
    "data <- subset(data, select=-c(Adult2))"
   ]
  },
  {
   "cell_type": "markdown",
   "metadata": {},
   "source": [
    "##### ifelse( ) is vectorized!!!\n",
    "#### d2. Categorize 'Wr.Hnd' into 5 groups - make a new categorical variable with 5 levels\n",
    "    1. =< 16: Stephen Curry\n",
    "    2. 16~18: Drake\n",
    "    3. 18~20: Fred VanVleet\n",
    "    4. 20~22: Jeremy Lin\n",
    "    5. >  22: Kawhi Leonard\n",
    "Can we still use ifelse( )?\n",
    "    \n",
    "    cut(x, breaks, labels = NULL, right = TRUE, ...)"
   ]
  },
  {
   "cell_type": "code",
   "execution_count": 91,
   "metadata": {},
   "outputs": [
    {
     "data": {
      "text/html": [
       "<table>\n",
       "<caption>A data.frame: 6 × 10</caption>\n",
       "<thead>\n",
       "\t<tr><th scope=col>X</th><th scope=col>Sex</th><th scope=col>Wr.Hnd</th><th scope=col>NW.Hnd</th><th scope=col>Pulse</th><th scope=col>Smoke</th><th scope=col>Height</th><th scope=col>Age</th><th scope=col>Adult</th><th scope=col>Hnd.group</th></tr>\n",
       "\t<tr><th scope=col>&lt;int&gt;</th><th scope=col>&lt;fct&gt;</th><th scope=col>&lt;dbl&gt;</th><th scope=col>&lt;dbl&gt;</th><th scope=col>&lt;int&gt;</th><th scope=col>&lt;fct&gt;</th><th scope=col>&lt;dbl&gt;</th><th scope=col>&lt;dbl&gt;</th><th scope=col>&lt;chr&gt;</th><th scope=col>&lt;fct&gt;</th></tr>\n",
       "</thead>\n",
       "<tbody>\n",
       "\t<tr><td>1</td><td>Male  </td><td>21.4</td><td>21.0</td><td>63</td><td>Never</td><td>180.00</td><td>19.000</td><td>Yes</td><td>(20,22]</td></tr>\n",
       "\t<tr><td>2</td><td>Male  </td><td>19.5</td><td>19.4</td><td>79</td><td>Never</td><td>165.00</td><td>18.083</td><td>Yes</td><td>(18,20]</td></tr>\n",
       "\t<tr><td>3</td><td>Female</td><td>16.3</td><td>16.2</td><td>44</td><td>Regul</td><td>152.40</td><td>23.500</td><td>Yes</td><td>(16,18]</td></tr>\n",
       "\t<tr><td>4</td><td>Female</td><td>15.9</td><td>16.5</td><td>99</td><td>Never</td><td>167.64</td><td>17.333</td><td>No </td><td>(0,16] </td></tr>\n",
       "\t<tr><td>5</td><td>Male  </td><td>19.3</td><td>19.4</td><td>55</td><td>Never</td><td>180.34</td><td>19.833</td><td>Yes</td><td>(18,20]</td></tr>\n",
       "\t<tr><td>6</td><td>Male  </td><td>18.5</td><td>18.5</td><td>48</td><td>Never</td><td>167.00</td><td>22.333</td><td>Yes</td><td>(18,20]</td></tr>\n",
       "</tbody>\n",
       "</table>\n"
      ],
      "text/latex": [
       "A data.frame: 6 × 10\n",
       "\\begin{tabular}{r|llllllllll}\n",
       " X & Sex & Wr.Hnd & NW.Hnd & Pulse & Smoke & Height & Age & Adult & Hnd.group\\\\\n",
       " <int> & <fct> & <dbl> & <dbl> & <int> & <fct> & <dbl> & <dbl> & <chr> & <fct>\\\\\n",
       "\\hline\n",
       "\t 1 & Male   & 21.4 & 21.0 & 63 & Never & 180.00 & 19.000 & Yes & (20,22{]}\\\\\n",
       "\t 2 & Male   & 19.5 & 19.4 & 79 & Never & 165.00 & 18.083 & Yes & (18,20{]}\\\\\n",
       "\t 3 & Female & 16.3 & 16.2 & 44 & Regul & 152.40 & 23.500 & Yes & (16,18{]}\\\\\n",
       "\t 4 & Female & 15.9 & 16.5 & 99 & Never & 167.64 & 17.333 & No  & (0,16{]} \\\\\n",
       "\t 5 & Male   & 19.3 & 19.4 & 55 & Never & 180.34 & 19.833 & Yes & (18,20{]}\\\\\n",
       "\t 6 & Male   & 18.5 & 18.5 & 48 & Never & 167.00 & 22.333 & Yes & (18,20{]}\\\\\n",
       "\\end{tabular}\n"
      ],
      "text/markdown": [
       "\n",
       "A data.frame: 6 × 10\n",
       "\n",
       "| X &lt;int&gt; | Sex &lt;fct&gt; | Wr.Hnd &lt;dbl&gt; | NW.Hnd &lt;dbl&gt; | Pulse &lt;int&gt; | Smoke &lt;fct&gt; | Height &lt;dbl&gt; | Age &lt;dbl&gt; | Adult &lt;chr&gt; | Hnd.group &lt;fct&gt; |\n",
       "|---|---|---|---|---|---|---|---|---|---|\n",
       "| 1 | Male   | 21.4 | 21.0 | 63 | Never | 180.00 | 19.000 | Yes | (20,22] |\n",
       "| 2 | Male   | 19.5 | 19.4 | 79 | Never | 165.00 | 18.083 | Yes | (18,20] |\n",
       "| 3 | Female | 16.3 | 16.2 | 44 | Regul | 152.40 | 23.500 | Yes | (16,18] |\n",
       "| 4 | Female | 15.9 | 16.5 | 99 | Never | 167.64 | 17.333 | No  | (0,16]  |\n",
       "| 5 | Male   | 19.3 | 19.4 | 55 | Never | 180.34 | 19.833 | Yes | (18,20] |\n",
       "| 6 | Male   | 18.5 | 18.5 | 48 | Never | 167.00 | 22.333 | Yes | (18,20] |\n",
       "\n"
      ],
      "text/plain": [
       "  X Sex    Wr.Hnd NW.Hnd Pulse Smoke Height Age    Adult Hnd.group\n",
       "1 1 Male   21.4   21.0   63    Never 180.00 19.000 Yes   (20,22]  \n",
       "2 2 Male   19.5   19.4   79    Never 165.00 18.083 Yes   (18,20]  \n",
       "3 3 Female 16.3   16.2   44    Regul 152.40 23.500 Yes   (16,18]  \n",
       "4 4 Female 15.9   16.5   99    Never 167.64 17.333 No    (0,16]   \n",
       "5 5 Male   19.3   19.4   55    Never 180.34 19.833 Yes   (18,20]  \n",
       "6 6 Male   18.5   18.5   48    Never 167.00 22.333 Yes   (18,20]  "
      ]
     },
     "metadata": {},
     "output_type": "display_data"
    }
   ],
   "source": [
    "cut.points <- c(0, 16, 18, 20, 22, Inf)\n",
    "data$Hnd.group <- cut(data$Wr.Hnd, breaks = cut.points, right = TRUE)\n",
    "head(data)\n",
    "# labels as default"
   ]
  },
  {
   "cell_type": "code",
   "execution_count": 92,
   "metadata": {},
   "outputs": [
    {
     "data": {
      "text/html": [
       "<table>\n",
       "<caption>A data.frame: 6 × 10</caption>\n",
       "<thead>\n",
       "\t<tr><th scope=col>X</th><th scope=col>Sex</th><th scope=col>Wr.Hnd</th><th scope=col>NW.Hnd</th><th scope=col>Pulse</th><th scope=col>Smoke</th><th scope=col>Height</th><th scope=col>Age</th><th scope=col>Adult</th><th scope=col>Hnd.group</th></tr>\n",
       "\t<tr><th scope=col>&lt;int&gt;</th><th scope=col>&lt;fct&gt;</th><th scope=col>&lt;dbl&gt;</th><th scope=col>&lt;dbl&gt;</th><th scope=col>&lt;int&gt;</th><th scope=col>&lt;fct&gt;</th><th scope=col>&lt;dbl&gt;</th><th scope=col>&lt;dbl&gt;</th><th scope=col>&lt;chr&gt;</th><th scope=col>&lt;int&gt;</th></tr>\n",
       "</thead>\n",
       "<tbody>\n",
       "\t<tr><td>1</td><td>Male  </td><td>21.4</td><td>21.0</td><td>63</td><td>Never</td><td>180.00</td><td>19.000</td><td>Yes</td><td>4</td></tr>\n",
       "\t<tr><td>2</td><td>Male  </td><td>19.5</td><td>19.4</td><td>79</td><td>Never</td><td>165.00</td><td>18.083</td><td>Yes</td><td>3</td></tr>\n",
       "\t<tr><td>3</td><td>Female</td><td>16.3</td><td>16.2</td><td>44</td><td>Regul</td><td>152.40</td><td>23.500</td><td>Yes</td><td>2</td></tr>\n",
       "\t<tr><td>4</td><td>Female</td><td>15.9</td><td>16.5</td><td>99</td><td>Never</td><td>167.64</td><td>17.333</td><td>No </td><td>1</td></tr>\n",
       "\t<tr><td>5</td><td>Male  </td><td>19.3</td><td>19.4</td><td>55</td><td>Never</td><td>180.34</td><td>19.833</td><td>Yes</td><td>3</td></tr>\n",
       "\t<tr><td>6</td><td>Male  </td><td>18.5</td><td>18.5</td><td>48</td><td>Never</td><td>167.00</td><td>22.333</td><td>Yes</td><td>3</td></tr>\n",
       "</tbody>\n",
       "</table>\n"
      ],
      "text/latex": [
       "A data.frame: 6 × 10\n",
       "\\begin{tabular}{r|llllllllll}\n",
       " X & Sex & Wr.Hnd & NW.Hnd & Pulse & Smoke & Height & Age & Adult & Hnd.group\\\\\n",
       " <int> & <fct> & <dbl> & <dbl> & <int> & <fct> & <dbl> & <dbl> & <chr> & <int>\\\\\n",
       "\\hline\n",
       "\t 1 & Male   & 21.4 & 21.0 & 63 & Never & 180.00 & 19.000 & Yes & 4\\\\\n",
       "\t 2 & Male   & 19.5 & 19.4 & 79 & Never & 165.00 & 18.083 & Yes & 3\\\\\n",
       "\t 3 & Female & 16.3 & 16.2 & 44 & Regul & 152.40 & 23.500 & Yes & 2\\\\\n",
       "\t 4 & Female & 15.9 & 16.5 & 99 & Never & 167.64 & 17.333 & No  & 1\\\\\n",
       "\t 5 & Male   & 19.3 & 19.4 & 55 & Never & 180.34 & 19.833 & Yes & 3\\\\\n",
       "\t 6 & Male   & 18.5 & 18.5 & 48 & Never & 167.00 & 22.333 & Yes & 3\\\\\n",
       "\\end{tabular}\n"
      ],
      "text/markdown": [
       "\n",
       "A data.frame: 6 × 10\n",
       "\n",
       "| X &lt;int&gt; | Sex &lt;fct&gt; | Wr.Hnd &lt;dbl&gt; | NW.Hnd &lt;dbl&gt; | Pulse &lt;int&gt; | Smoke &lt;fct&gt; | Height &lt;dbl&gt; | Age &lt;dbl&gt; | Adult &lt;chr&gt; | Hnd.group &lt;int&gt; |\n",
       "|---|---|---|---|---|---|---|---|---|---|\n",
       "| 1 | Male   | 21.4 | 21.0 | 63 | Never | 180.00 | 19.000 | Yes | 4 |\n",
       "| 2 | Male   | 19.5 | 19.4 | 79 | Never | 165.00 | 18.083 | Yes | 3 |\n",
       "| 3 | Female | 16.3 | 16.2 | 44 | Regul | 152.40 | 23.500 | Yes | 2 |\n",
       "| 4 | Female | 15.9 | 16.5 | 99 | Never | 167.64 | 17.333 | No  | 1 |\n",
       "| 5 | Male   | 19.3 | 19.4 | 55 | Never | 180.34 | 19.833 | Yes | 3 |\n",
       "| 6 | Male   | 18.5 | 18.5 | 48 | Never | 167.00 | 22.333 | Yes | 3 |\n",
       "\n"
      ],
      "text/plain": [
       "  X Sex    Wr.Hnd NW.Hnd Pulse Smoke Height Age    Adult Hnd.group\n",
       "1 1 Male   21.4   21.0   63    Never 180.00 19.000 Yes   4        \n",
       "2 2 Male   19.5   19.4   79    Never 165.00 18.083 Yes   3        \n",
       "3 3 Female 16.3   16.2   44    Regul 152.40 23.500 Yes   2        \n",
       "4 4 Female 15.9   16.5   99    Never 167.64 17.333 No    1        \n",
       "5 5 Male   19.3   19.4   55    Never 180.34 19.833 Yes   3        \n",
       "6 6 Male   18.5   18.5   48    Never 167.00 22.333 Yes   3        "
      ]
     },
     "metadata": {},
     "output_type": "display_data"
    }
   ],
   "source": [
    "# Set labels to false\n",
    "data$Hnd.group <- cut(data$Wr.Hnd,\n",
    "                      breaks = cut.points,\n",
    "                      labels = F, right = TRUE)\n",
    "head(data)"
   ]
  },
  {
   "cell_type": "code",
   "execution_count": 94,
   "metadata": {},
   "outputs": [
    {
     "data": {
      "text/html": [
       "<table>\n",
       "<caption>A data.frame: 6 × 10</caption>\n",
       "<thead>\n",
       "\t<tr><th scope=col>X</th><th scope=col>Sex</th><th scope=col>Wr.Hnd</th><th scope=col>NW.Hnd</th><th scope=col>Pulse</th><th scope=col>Smoke</th><th scope=col>Height</th><th scope=col>Age</th><th scope=col>Adult</th><th scope=col>Hnd.group</th></tr>\n",
       "\t<tr><th scope=col>&lt;int&gt;</th><th scope=col>&lt;fct&gt;</th><th scope=col>&lt;dbl&gt;</th><th scope=col>&lt;dbl&gt;</th><th scope=col>&lt;int&gt;</th><th scope=col>&lt;fct&gt;</th><th scope=col>&lt;dbl&gt;</th><th scope=col>&lt;dbl&gt;</th><th scope=col>&lt;chr&gt;</th><th scope=col>&lt;fct&gt;</th></tr>\n",
       "</thead>\n",
       "<tbody>\n",
       "\t<tr><td>1</td><td>Male  </td><td>21.4</td><td>21.0</td><td>63</td><td>Never</td><td>180.00</td><td>19.000</td><td>Yes</td><td>Lin     </td></tr>\n",
       "\t<tr><td>2</td><td>Male  </td><td>19.5</td><td>19.4</td><td>79</td><td>Never</td><td>165.00</td><td>18.083</td><td>Yes</td><td>VanVleet</td></tr>\n",
       "\t<tr><td>3</td><td>Female</td><td>16.3</td><td>16.2</td><td>44</td><td>Regul</td><td>152.40</td><td>23.500</td><td>Yes</td><td>Drake   </td></tr>\n",
       "\t<tr><td>4</td><td>Female</td><td>15.9</td><td>16.5</td><td>99</td><td>Never</td><td>167.64</td><td>17.333</td><td>No </td><td>Curry   </td></tr>\n",
       "\t<tr><td>5</td><td>Male  </td><td>19.3</td><td>19.4</td><td>55</td><td>Never</td><td>180.34</td><td>19.833</td><td>Yes</td><td>VanVleet</td></tr>\n",
       "\t<tr><td>6</td><td>Male  </td><td>18.5</td><td>18.5</td><td>48</td><td>Never</td><td>167.00</td><td>22.333</td><td>Yes</td><td>VanVleet</td></tr>\n",
       "</tbody>\n",
       "</table>\n"
      ],
      "text/latex": [
       "A data.frame: 6 × 10\n",
       "\\begin{tabular}{r|llllllllll}\n",
       " X & Sex & Wr.Hnd & NW.Hnd & Pulse & Smoke & Height & Age & Adult & Hnd.group\\\\\n",
       " <int> & <fct> & <dbl> & <dbl> & <int> & <fct> & <dbl> & <dbl> & <chr> & <fct>\\\\\n",
       "\\hline\n",
       "\t 1 & Male   & 21.4 & 21.0 & 63 & Never & 180.00 & 19.000 & Yes & Lin     \\\\\n",
       "\t 2 & Male   & 19.5 & 19.4 & 79 & Never & 165.00 & 18.083 & Yes & VanVleet\\\\\n",
       "\t 3 & Female & 16.3 & 16.2 & 44 & Regul & 152.40 & 23.500 & Yes & Drake   \\\\\n",
       "\t 4 & Female & 15.9 & 16.5 & 99 & Never & 167.64 & 17.333 & No  & Curry   \\\\\n",
       "\t 5 & Male   & 19.3 & 19.4 & 55 & Never & 180.34 & 19.833 & Yes & VanVleet\\\\\n",
       "\t 6 & Male   & 18.5 & 18.5 & 48 & Never & 167.00 & 22.333 & Yes & VanVleet\\\\\n",
       "\\end{tabular}\n"
      ],
      "text/markdown": [
       "\n",
       "A data.frame: 6 × 10\n",
       "\n",
       "| X &lt;int&gt; | Sex &lt;fct&gt; | Wr.Hnd &lt;dbl&gt; | NW.Hnd &lt;dbl&gt; | Pulse &lt;int&gt; | Smoke &lt;fct&gt; | Height &lt;dbl&gt; | Age &lt;dbl&gt; | Adult &lt;chr&gt; | Hnd.group &lt;fct&gt; |\n",
       "|---|---|---|---|---|---|---|---|---|---|\n",
       "| 1 | Male   | 21.4 | 21.0 | 63 | Never | 180.00 | 19.000 | Yes | Lin      |\n",
       "| 2 | Male   | 19.5 | 19.4 | 79 | Never | 165.00 | 18.083 | Yes | VanVleet |\n",
       "| 3 | Female | 16.3 | 16.2 | 44 | Regul | 152.40 | 23.500 | Yes | Drake    |\n",
       "| 4 | Female | 15.9 | 16.5 | 99 | Never | 167.64 | 17.333 | No  | Curry    |\n",
       "| 5 | Male   | 19.3 | 19.4 | 55 | Never | 180.34 | 19.833 | Yes | VanVleet |\n",
       "| 6 | Male   | 18.5 | 18.5 | 48 | Never | 167.00 | 22.333 | Yes | VanVleet |\n",
       "\n"
      ],
      "text/plain": [
       "  X Sex    Wr.Hnd NW.Hnd Pulse Smoke Height Age    Adult Hnd.group\n",
       "1 1 Male   21.4   21.0   63    Never 180.00 19.000 Yes   Lin      \n",
       "2 2 Male   19.5   19.4   79    Never 165.00 18.083 Yes   VanVleet \n",
       "3 3 Female 16.3   16.2   44    Regul 152.40 23.500 Yes   Drake    \n",
       "4 4 Female 15.9   16.5   99    Never 167.64 17.333 No    Curry    \n",
       "5 5 Male   19.3   19.4   55    Never 180.34 19.833 Yes   VanVleet \n",
       "6 6 Male   18.5   18.5   48    Never 167.00 22.333 Yes   VanVleet "
      ]
     },
     "metadata": {},
     "output_type": "display_data"
    }
   ],
   "source": [
    "# Customized labels\n",
    "label <- c(\"Curry\", \"Drake\", \"VanVleet\", \"Lin\", \"Leonard\")\n",
    "data$Hnd.group <- cut(data$Wr.Hnd,\n",
    "                      breaks = cut.points,\n",
    "                      labels = label, right = TRUE)\n",
    "head(data)"
   ]
  },
  {
   "cell_type": "markdown",
   "metadata": {},
   "source": [
    "#### e1. Calculate the mean Wr.Hnd span of each Hnd.group"
   ]
  },
  {
   "cell_type": "code",
   "execution_count": 95,
   "metadata": {},
   "outputs": [
    {
     "data": {
      "text/html": [
       "<table>\n",
       "<caption>A data.frame: 5 × 2</caption>\n",
       "<thead>\n",
       "\t<tr><th scope=col>Hnd.group</th><th scope=col>Wr.Hnd</th></tr>\n",
       "\t<tr><th scope=col>&lt;fct&gt;</th><th scope=col>&lt;dbl&gt;</th></tr>\n",
       "</thead>\n",
       "<tbody>\n",
       "\t<tr><td>Curry   </td><td>14.98000</td></tr>\n",
       "\t<tr><td>Drake   </td><td>17.37941</td></tr>\n",
       "\t<tr><td>VanVleet</td><td>19.04634</td></tr>\n",
       "\t<tr><td>Lin     </td><td>21.12500</td></tr>\n",
       "\t<tr><td>Leonard </td><td>22.63333</td></tr>\n",
       "</tbody>\n",
       "</table>\n"
      ],
      "text/latex": [
       "A data.frame: 5 × 2\n",
       "\\begin{tabular}{r|ll}\n",
       " Hnd.group & Wr.Hnd\\\\\n",
       " <fct> & <dbl>\\\\\n",
       "\\hline\n",
       "\t Curry    & 14.98000\\\\\n",
       "\t Drake    & 17.37941\\\\\n",
       "\t VanVleet & 19.04634\\\\\n",
       "\t Lin      & 21.12500\\\\\n",
       "\t Leonard  & 22.63333\\\\\n",
       "\\end{tabular}\n"
      ],
      "text/markdown": [
       "\n",
       "A data.frame: 5 × 2\n",
       "\n",
       "| Hnd.group &lt;fct&gt; | Wr.Hnd &lt;dbl&gt; |\n",
       "|---|---|\n",
       "| Curry    | 14.98000 |\n",
       "| Drake    | 17.37941 |\n",
       "| VanVleet | 19.04634 |\n",
       "| Lin      | 21.12500 |\n",
       "| Leonard  | 22.63333 |\n",
       "\n"
      ],
      "text/plain": [
       "  Hnd.group Wr.Hnd  \n",
       "1 Curry     14.98000\n",
       "2 Drake     17.37941\n",
       "3 VanVleet  19.04634\n",
       "4 Lin       21.12500\n",
       "5 Leonard   22.63333"
      ]
     },
     "metadata": {},
     "output_type": "display_data"
    }
   ],
   "source": [
    "aggregate(Wr.Hnd~Hnd.group, data = data, FUN = mean)"
   ]
  },
  {
   "cell_type": "markdown",
   "metadata": {},
   "source": [
    "#### e2. Calcuate the mean Wr.Hnd span of each Hnd.group without using aggregate, by, tapply\n",
    "        split(x, f, ...)\n",
    "        lapply(X, FUN, ...)\n",
    "        sapply(X, FUN, ..., simplify = TRUE)"
   ]
  },
  {
   "cell_type": "code",
   "execution_count": 97,
   "metadata": {},
   "outputs": [
    {
     "data": {
      "text/html": [
       "<dl>\n",
       "\t<dt>$Curry</dt>\n",
       "\t\t<dd><ol class=list-inline>\n",
       "\t<li>15.9</li>\n",
       "\t<li>13</li>\n",
       "\t<li>16</li>\n",
       "\t<li>13</li>\n",
       "\t<li>14</li>\n",
       "\t<li>16</li>\n",
       "\t<li>15.5</li>\n",
       "\t<li>15.4</li>\n",
       "\t<li>15</li>\n",
       "\t<li>16</li>\n",
       "</ol>\n",
       "</dd>\n",
       "\t<dt>$Drake</dt>\n",
       "\t\t<dd><ol class=list-inline>\n",
       "\t<li>16.3</li>\n",
       "\t<li>17.5</li>\n",
       "\t<li>17.5</li>\n",
       "\t<li>18</li>\n",
       "\t<li>17.5</li>\n",
       "\t<li>16.4</li>\n",
       "\t<li>17.2</li>\n",
       "\t<li>17</li>\n",
       "\t<li>17.8</li>\n",
       "\t<li>18</li>\n",
       "\t<li>18</li>\n",
       "\t<li>17</li>\n",
       "\t<li>16.9</li>\n",
       "\t<li>16.5</li>\n",
       "\t<li>17</li>\n",
       "\t<li>17.6</li>\n",
       "\t<li>16.5</li>\n",
       "\t<li>17.5</li>\n",
       "\t<li>17.7</li>\n",
       "\t<li>17.1</li>\n",
       "\t<li>18</li>\n",
       "\t<li>17.6</li>\n",
       "\t<li>17.5</li>\n",
       "\t<li>17.7</li>\n",
       "\t<li>17.5</li>\n",
       "\t<li>17.5</li>\n",
       "\t<li>18</li>\n",
       "\t<li>18</li>\n",
       "\t<li>16.5</li>\n",
       "\t<li>17.5</li>\n",
       "\t<li>17.5</li>\n",
       "\t<li>17.6</li>\n",
       "\t<li>17</li>\n",
       "\t<li>18</li>\n",
       "</ol>\n",
       "</dd>\n",
       "\t<dt>$VanVleet</dt>\n",
       "\t\t<dd><ol class=list-inline>\n",
       "\t<li>19.5</li>\n",
       "\t<li>19.3</li>\n",
       "\t<li>18.5</li>\n",
       "\t<li>19.8</li>\n",
       "\t<li>18.5</li>\n",
       "\t<li>20</li>\n",
       "\t<li>18.6</li>\n",
       "\t<li>18.5</li>\n",
       "\t<li>19.1</li>\n",
       "\t<li>19.6</li>\n",
       "\t<li>19.5</li>\n",
       "\t<li>19.5</li>\n",
       "\t<li>18.9</li>\n",
       "\t<li>18.1</li>\n",
       "\t<li>19.7</li>\n",
       "\t<li>18.8</li>\n",
       "\t<li>19.5</li>\n",
       "\t<li>18.5</li>\n",
       "\t<li>19.4</li>\n",
       "\t<li>18.5</li>\n",
       "\t<li>19.1</li>\n",
       "\t<li>18.8</li>\n",
       "\t<li>20</li>\n",
       "\t<li>19</li>\n",
       "\t<li>19.5</li>\n",
       "\t<li>19</li>\n",
       "\t<li>18.9</li>\n",
       "\t<li>19</li>\n",
       "\t<li>18.5</li>\n",
       "\t<li>18.5</li>\n",
       "\t<li>19.2</li>\n",
       "\t<li>18.5</li>\n",
       "\t<li>19</li>\n",
       "\t<li>18.5</li>\n",
       "\t<li>19.2</li>\n",
       "\t<li>19.5</li>\n",
       "\t<li>18.7</li>\n",
       "\t<li>18.2</li>\n",
       "\t<li>19.5</li>\n",
       "\t<li>19</li>\n",
       "\t<li>19.5</li>\n",
       "</ol>\n",
       "</dd>\n",
       "\t<dt>$Lin</dt>\n",
       "\t\t<dd><ol class=list-inline>\n",
       "\t<li>21.4</li>\n",
       "\t<li>22</li>\n",
       "\t<li>21</li>\n",
       "\t<li>21</li>\n",
       "\t<li>20.5</li>\n",
       "\t<li>21</li>\n",
       "\t<li>21.5</li>\n",
       "\t<li>20.8</li>\n",
       "\t<li>21.3</li>\n",
       "\t<li>21.5</li>\n",
       "\t<li>21</li>\n",
       "\t<li>20.5</li>\n",
       "</ol>\n",
       "</dd>\n",
       "\t<dt>$Leonard</dt>\n",
       "\t\t<dd><ol class=list-inline>\n",
       "\t<li>22.2</li>\n",
       "\t<li>23.2</li>\n",
       "\t<li>22.5</li>\n",
       "</ol>\n",
       "</dd>\n",
       "</dl>\n"
      ],
      "text/latex": [
       "\\begin{description}\n",
       "\\item[\\$Curry] \\begin{enumerate*}\n",
       "\\item 15.9\n",
       "\\item 13\n",
       "\\item 16\n",
       "\\item 13\n",
       "\\item 14\n",
       "\\item 16\n",
       "\\item 15.5\n",
       "\\item 15.4\n",
       "\\item 15\n",
       "\\item 16\n",
       "\\end{enumerate*}\n",
       "\n",
       "\\item[\\$Drake] \\begin{enumerate*}\n",
       "\\item 16.3\n",
       "\\item 17.5\n",
       "\\item 17.5\n",
       "\\item 18\n",
       "\\item 17.5\n",
       "\\item 16.4\n",
       "\\item 17.2\n",
       "\\item 17\n",
       "\\item 17.8\n",
       "\\item 18\n",
       "\\item 18\n",
       "\\item 17\n",
       "\\item 16.9\n",
       "\\item 16.5\n",
       "\\item 17\n",
       "\\item 17.6\n",
       "\\item 16.5\n",
       "\\item 17.5\n",
       "\\item 17.7\n",
       "\\item 17.1\n",
       "\\item 18\n",
       "\\item 17.6\n",
       "\\item 17.5\n",
       "\\item 17.7\n",
       "\\item 17.5\n",
       "\\item 17.5\n",
       "\\item 18\n",
       "\\item 18\n",
       "\\item 16.5\n",
       "\\item 17.5\n",
       "\\item 17.5\n",
       "\\item 17.6\n",
       "\\item 17\n",
       "\\item 18\n",
       "\\end{enumerate*}\n",
       "\n",
       "\\item[\\$VanVleet] \\begin{enumerate*}\n",
       "\\item 19.5\n",
       "\\item 19.3\n",
       "\\item 18.5\n",
       "\\item 19.8\n",
       "\\item 18.5\n",
       "\\item 20\n",
       "\\item 18.6\n",
       "\\item 18.5\n",
       "\\item 19.1\n",
       "\\item 19.6\n",
       "\\item 19.5\n",
       "\\item 19.5\n",
       "\\item 18.9\n",
       "\\item 18.1\n",
       "\\item 19.7\n",
       "\\item 18.8\n",
       "\\item 19.5\n",
       "\\item 18.5\n",
       "\\item 19.4\n",
       "\\item 18.5\n",
       "\\item 19.1\n",
       "\\item 18.8\n",
       "\\item 20\n",
       "\\item 19\n",
       "\\item 19.5\n",
       "\\item 19\n",
       "\\item 18.9\n",
       "\\item 19\n",
       "\\item 18.5\n",
       "\\item 18.5\n",
       "\\item 19.2\n",
       "\\item 18.5\n",
       "\\item 19\n",
       "\\item 18.5\n",
       "\\item 19.2\n",
       "\\item 19.5\n",
       "\\item 18.7\n",
       "\\item 18.2\n",
       "\\item 19.5\n",
       "\\item 19\n",
       "\\item 19.5\n",
       "\\end{enumerate*}\n",
       "\n",
       "\\item[\\$Lin] \\begin{enumerate*}\n",
       "\\item 21.4\n",
       "\\item 22\n",
       "\\item 21\n",
       "\\item 21\n",
       "\\item 20.5\n",
       "\\item 21\n",
       "\\item 21.5\n",
       "\\item 20.8\n",
       "\\item 21.3\n",
       "\\item 21.5\n",
       "\\item 21\n",
       "\\item 20.5\n",
       "\\end{enumerate*}\n",
       "\n",
       "\\item[\\$Leonard] \\begin{enumerate*}\n",
       "\\item 22.2\n",
       "\\item 23.2\n",
       "\\item 22.5\n",
       "\\end{enumerate*}\n",
       "\n",
       "\\end{description}\n"
      ],
      "text/markdown": [
       "$Curry\n",
       ":   1. 15.9\n",
       "2. 13\n",
       "3. 16\n",
       "4. 13\n",
       "5. 14\n",
       "6. 16\n",
       "7. 15.5\n",
       "8. 15.4\n",
       "9. 15\n",
       "10. 16\n",
       "\n",
       "\n",
       "\n",
       "$Drake\n",
       ":   1. 16.3\n",
       "2. 17.5\n",
       "3. 17.5\n",
       "4. 18\n",
       "5. 17.5\n",
       "6. 16.4\n",
       "7. 17.2\n",
       "8. 17\n",
       "9. 17.8\n",
       "10. 18\n",
       "11. 18\n",
       "12. 17\n",
       "13. 16.9\n",
       "14. 16.5\n",
       "15. 17\n",
       "16. 17.6\n",
       "17. 16.5\n",
       "18. 17.5\n",
       "19. 17.7\n",
       "20. 17.1\n",
       "21. 18\n",
       "22. 17.6\n",
       "23. 17.5\n",
       "24. 17.7\n",
       "25. 17.5\n",
       "26. 17.5\n",
       "27. 18\n",
       "28. 18\n",
       "29. 16.5\n",
       "30. 17.5\n",
       "31. 17.5\n",
       "32. 17.6\n",
       "33. 17\n",
       "34. 18\n",
       "\n",
       "\n",
       "\n",
       "$VanVleet\n",
       ":   1. 19.5\n",
       "2. 19.3\n",
       "3. 18.5\n",
       "4. 19.8\n",
       "5. 18.5\n",
       "6. 20\n",
       "7. 18.6\n",
       "8. 18.5\n",
       "9. 19.1\n",
       "10. 19.6\n",
       "11. 19.5\n",
       "12. 19.5\n",
       "13. 18.9\n",
       "14. 18.1\n",
       "15. 19.7\n",
       "16. 18.8\n",
       "17. 19.5\n",
       "18. 18.5\n",
       "19. 19.4\n",
       "20. 18.5\n",
       "21. 19.1\n",
       "22. 18.8\n",
       "23. 20\n",
       "24. 19\n",
       "25. 19.5\n",
       "26. 19\n",
       "27. 18.9\n",
       "28. 19\n",
       "29. 18.5\n",
       "30. 18.5\n",
       "31. 19.2\n",
       "32. 18.5\n",
       "33. 19\n",
       "34. 18.5\n",
       "35. 19.2\n",
       "36. 19.5\n",
       "37. 18.7\n",
       "38. 18.2\n",
       "39. 19.5\n",
       "40. 19\n",
       "41. 19.5\n",
       "\n",
       "\n",
       "\n",
       "$Lin\n",
       ":   1. 21.4\n",
       "2. 22\n",
       "3. 21\n",
       "4. 21\n",
       "5. 20.5\n",
       "6. 21\n",
       "7. 21.5\n",
       "8. 20.8\n",
       "9. 21.3\n",
       "10. 21.5\n",
       "11. 21\n",
       "12. 20.5\n",
       "\n",
       "\n",
       "\n",
       "$Leonard\n",
       ":   1. 22.2\n",
       "2. 23.2\n",
       "3. 22.5\n",
       "\n",
       "\n",
       "\n",
       "\n",
       "\n"
      ],
      "text/plain": [
       "$Curry\n",
       " [1] 15.9 13.0 16.0 13.0 14.0 16.0 15.5 15.4 15.0 16.0\n",
       "\n",
       "$Drake\n",
       " [1] 16.3 17.5 17.5 18.0 17.5 16.4 17.2 17.0 17.8 18.0 18.0 17.0 16.9 16.5 17.0\n",
       "[16] 17.6 16.5 17.5 17.7 17.1 18.0 17.6 17.5 17.7 17.5 17.5 18.0 18.0 16.5 17.5\n",
       "[31] 17.5 17.6 17.0 18.0\n",
       "\n",
       "$VanVleet\n",
       " [1] 19.5 19.3 18.5 19.8 18.5 20.0 18.6 18.5 19.1 19.6 19.5 19.5 18.9 18.1 19.7\n",
       "[16] 18.8 19.5 18.5 19.4 18.5 19.1 18.8 20.0 19.0 19.5 19.0 18.9 19.0 18.5 18.5\n",
       "[31] 19.2 18.5 19.0 18.5 19.2 19.5 18.7 18.2 19.5 19.0 19.5\n",
       "\n",
       "$Lin\n",
       " [1] 21.4 22.0 21.0 21.0 20.5 21.0 21.5 20.8 21.3 21.5 21.0 20.5\n",
       "\n",
       "$Leonard\n",
       "[1] 22.2 23.2 22.5\n"
      ]
     },
     "metadata": {},
     "output_type": "display_data"
    }
   ],
   "source": [
    "# cut.points <- c(0, 16, 18, 20, 22, Inf)\n",
    "Wr.Hnd.Grp <- split(data$Wr.Hnd, f = data$Hnd.group)\n",
    "Wr.Hnd.Grp"
   ]
  },
  {
   "cell_type": "code",
   "execution_count": 106,
   "metadata": {
    "scrolled": false
   },
   "outputs": [
    {
     "data": {
      "text/plain": [
       "$Curry\n",
       "   Min. 1st Qu.  Median    Mean 3rd Qu.    Max. \n",
       "  13.00   14.25   15.45   14.98   15.97   16.00 \n",
       "\n",
       "$Drake\n",
       "   Min. 1st Qu.  Median    Mean 3rd Qu.    Max. \n",
       "  16.30   17.00   17.50   17.38   17.70   18.00 \n",
       "\n",
       "$VanVleet\n",
       "   Min. 1st Qu.  Median    Mean 3rd Qu.    Max. \n",
       "  18.10   18.50   19.00   19.05   19.50   20.00 \n",
       "\n",
       "$Lin\n",
       "   Min. 1st Qu.  Median    Mean 3rd Qu.    Max. \n",
       "  20.50   20.95   21.00   21.12   21.43   22.00 \n",
       "\n",
       "$Leonard\n",
       "   Min. 1st Qu.  Median    Mean 3rd Qu.    Max. \n",
       "  22.20   22.35   22.50   22.63   22.85   23.20 \n"
      ]
     },
     "metadata": {},
     "output_type": "display_data"
    },
    {
     "data": {
      "text/html": [
       "'list'"
      ],
      "text/latex": [
       "'list'"
      ],
      "text/markdown": [
       "'list'"
      ],
      "text/plain": [
       "[1] \"list\""
      ]
     },
     "metadata": {},
     "output_type": "display_data"
    }
   ],
   "source": [
    "# lapply\n",
    "la <- lapply(Wr.Hnd.Grp, FUN = summary)\n",
    "la\n",
    "class(la)"
   ]
  },
  {
   "cell_type": "code",
   "execution_count": 107,
   "metadata": {},
   "outputs": [
    {
     "data": {
      "text/html": [
       "<table>\n",
       "<caption>A matrix: 6 × 5 of type dbl</caption>\n",
       "<thead>\n",
       "\t<tr><th></th><th scope=col>Curry</th><th scope=col>Drake</th><th scope=col>VanVleet</th><th scope=col>Lin</th><th scope=col>Leonard</th></tr>\n",
       "</thead>\n",
       "<tbody>\n",
       "\t<tr><th scope=row>Min.</th><td>13.000</td><td>16.30000</td><td>18.10000</td><td>20.500</td><td>22.20000</td></tr>\n",
       "\t<tr><th scope=row>1st Qu.</th><td>14.250</td><td>17.00000</td><td>18.50000</td><td>20.950</td><td>22.35000</td></tr>\n",
       "\t<tr><th scope=row>Median</th><td>15.450</td><td>17.50000</td><td>19.00000</td><td>21.000</td><td>22.50000</td></tr>\n",
       "\t<tr><th scope=row>Mean</th><td>14.980</td><td>17.37941</td><td>19.04634</td><td>21.125</td><td>22.63333</td></tr>\n",
       "\t<tr><th scope=row>3rd Qu.</th><td>15.975</td><td>17.70000</td><td>19.50000</td><td>21.425</td><td>22.85000</td></tr>\n",
       "\t<tr><th scope=row>Max.</th><td>16.000</td><td>18.00000</td><td>20.00000</td><td>22.000</td><td>23.20000</td></tr>\n",
       "</tbody>\n",
       "</table>\n"
      ],
      "text/latex": [
       "A matrix: 6 × 5 of type dbl\n",
       "\\begin{tabular}{r|lllll}\n",
       "  & Curry & Drake & VanVleet & Lin & Leonard\\\\\n",
       "\\hline\n",
       "\tMin. & 13.000 & 16.30000 & 18.10000 & 20.500 & 22.20000\\\\\n",
       "\t1st Qu. & 14.250 & 17.00000 & 18.50000 & 20.950 & 22.35000\\\\\n",
       "\tMedian & 15.450 & 17.50000 & 19.00000 & 21.000 & 22.50000\\\\\n",
       "\tMean & 14.980 & 17.37941 & 19.04634 & 21.125 & 22.63333\\\\\n",
       "\t3rd Qu. & 15.975 & 17.70000 & 19.50000 & 21.425 & 22.85000\\\\\n",
       "\tMax. & 16.000 & 18.00000 & 20.00000 & 22.000 & 23.20000\\\\\n",
       "\\end{tabular}\n"
      ],
      "text/markdown": [
       "\n",
       "A matrix: 6 × 5 of type dbl\n",
       "\n",
       "| <!--/--> | Curry | Drake | VanVleet | Lin | Leonard |\n",
       "|---|---|---|---|---|---|\n",
       "| Min. | 13.000 | 16.30000 | 18.10000 | 20.500 | 22.20000 |\n",
       "| 1st Qu. | 14.250 | 17.00000 | 18.50000 | 20.950 | 22.35000 |\n",
       "| Median | 15.450 | 17.50000 | 19.00000 | 21.000 | 22.50000 |\n",
       "| Mean | 14.980 | 17.37941 | 19.04634 | 21.125 | 22.63333 |\n",
       "| 3rd Qu. | 15.975 | 17.70000 | 19.50000 | 21.425 | 22.85000 |\n",
       "| Max. | 16.000 | 18.00000 | 20.00000 | 22.000 | 23.20000 |\n",
       "\n"
      ],
      "text/plain": [
       "        Curry  Drake    VanVleet Lin    Leonard \n",
       "Min.    13.000 16.30000 18.10000 20.500 22.20000\n",
       "1st Qu. 14.250 17.00000 18.50000 20.950 22.35000\n",
       "Median  15.450 17.50000 19.00000 21.000 22.50000\n",
       "Mean    14.980 17.37941 19.04634 21.125 22.63333\n",
       "3rd Qu. 15.975 17.70000 19.50000 21.425 22.85000\n",
       "Max.    16.000 18.00000 20.00000 22.000 23.20000"
      ]
     },
     "metadata": {},
     "output_type": "display_data"
    },
    {
     "data": {
      "text/html": [
       "'matrix'"
      ],
      "text/latex": [
       "'matrix'"
      ],
      "text/markdown": [
       "'matrix'"
      ],
      "text/plain": [
       "[1] \"matrix\""
      ]
     },
     "metadata": {},
     "output_type": "display_data"
    }
   ],
   "source": [
    "# sapply\n",
    "sa <- sapply(X = Wr.Hnd.Grp, FUN = summary, simplify = T)\n",
    "sa\n",
    "class(sa)\n",
    "# See what simplify does"
   ]
  },
  {
   "cell_type": "code",
   "execution_count": 108,
   "metadata": {},
   "outputs": [
    {
     "data": {
      "text/plain": [
       "$Curry\n",
       "   Min. 1st Qu.  Median    Mean 3rd Qu.    Max. \n",
       "  13.00   14.25   15.45   14.98   15.97   16.00 \n",
       "\n",
       "$Drake\n",
       "   Min. 1st Qu.  Median    Mean 3rd Qu.    Max. \n",
       "  16.30   17.00   17.50   17.38   17.70   18.00 \n",
       "\n",
       "$VanVleet\n",
       "   Min. 1st Qu.  Median    Mean 3rd Qu.    Max. \n",
       "  18.10   18.50   19.00   19.05   19.50   20.00 \n",
       "\n",
       "$Lin\n",
       "   Min. 1st Qu.  Median    Mean 3rd Qu.    Max. \n",
       "  20.50   20.95   21.00   21.12   21.43   22.00 \n",
       "\n",
       "$Leonard\n",
       "   Min. 1st Qu.  Median    Mean 3rd Qu.    Max. \n",
       "  22.20   22.35   22.50   22.63   22.85   23.20 \n"
      ]
     },
     "metadata": {},
     "output_type": "display_data"
    },
    {
     "data": {
      "text/html": [
       "'list'"
      ],
      "text/latex": [
       "'list'"
      ],
      "text/markdown": [
       "'list'"
      ],
      "text/plain": [
       "[1] \"list\""
      ]
     },
     "metadata": {},
     "output_type": "display_data"
    }
   ],
   "source": [
    "sa <- sapply(X = Wr.Hnd.Grp, FUN = summary, simplify = F)\n",
    "sa\n",
    "class(sa)"
   ]
  },
  {
   "cell_type": "code",
   "execution_count": 110,
   "metadata": {},
   "outputs": [
    {
     "data": {
      "text/html": [
       "<table>\n",
       "<caption>A matrix: 6 × 5 of type dbl</caption>\n",
       "<thead>\n",
       "\t<tr><th></th><th scope=col>Curry</th><th scope=col>Drake</th><th scope=col>VanVleet</th><th scope=col>Lin</th><th scope=col>Leonard</th></tr>\n",
       "</thead>\n",
       "<tbody>\n",
       "\t<tr><th scope=row>Min.</th><td>13.000</td><td>16.30000</td><td>18.10000</td><td>20.500</td><td>22.20000</td></tr>\n",
       "\t<tr><th scope=row>1st Qu.</th><td>14.250</td><td>17.00000</td><td>18.50000</td><td>20.950</td><td>22.35000</td></tr>\n",
       "\t<tr><th scope=row>Median</th><td>15.450</td><td>17.50000</td><td>19.00000</td><td>21.000</td><td>22.50000</td></tr>\n",
       "\t<tr><th scope=row>Mean</th><td>14.980</td><td>17.37941</td><td>19.04634</td><td>21.125</td><td>22.63333</td></tr>\n",
       "\t<tr><th scope=row>3rd Qu.</th><td>15.975</td><td>17.70000</td><td>19.50000</td><td>21.425</td><td>22.85000</td></tr>\n",
       "\t<tr><th scope=row>Max.</th><td>16.000</td><td>18.00000</td><td>20.00000</td><td>22.000</td><td>23.20000</td></tr>\n",
       "</tbody>\n",
       "</table>\n"
      ],
      "text/latex": [
       "A matrix: 6 × 5 of type dbl\n",
       "\\begin{tabular}{r|lllll}\n",
       "  & Curry & Drake & VanVleet & Lin & Leonard\\\\\n",
       "\\hline\n",
       "\tMin. & 13.000 & 16.30000 & 18.10000 & 20.500 & 22.20000\\\\\n",
       "\t1st Qu. & 14.250 & 17.00000 & 18.50000 & 20.950 & 22.35000\\\\\n",
       "\tMedian & 15.450 & 17.50000 & 19.00000 & 21.000 & 22.50000\\\\\n",
       "\tMean & 14.980 & 17.37941 & 19.04634 & 21.125 & 22.63333\\\\\n",
       "\t3rd Qu. & 15.975 & 17.70000 & 19.50000 & 21.425 & 22.85000\\\\\n",
       "\tMax. & 16.000 & 18.00000 & 20.00000 & 22.000 & 23.20000\\\\\n",
       "\\end{tabular}\n"
      ],
      "text/markdown": [
       "\n",
       "A matrix: 6 × 5 of type dbl\n",
       "\n",
       "| <!--/--> | Curry | Drake | VanVleet | Lin | Leonard |\n",
       "|---|---|---|---|---|---|\n",
       "| Min. | 13.000 | 16.30000 | 18.10000 | 20.500 | 22.20000 |\n",
       "| 1st Qu. | 14.250 | 17.00000 | 18.50000 | 20.950 | 22.35000 |\n",
       "| Median | 15.450 | 17.50000 | 19.00000 | 21.000 | 22.50000 |\n",
       "| Mean | 14.980 | 17.37941 | 19.04634 | 21.125 | 22.63333 |\n",
       "| 3rd Qu. | 15.975 | 17.70000 | 19.50000 | 21.425 | 22.85000 |\n",
       "| Max. | 16.000 | 18.00000 | 20.00000 | 22.000 | 23.20000 |\n",
       "\n"
      ],
      "text/plain": [
       "        Curry  Drake    VanVleet Lin    Leonard \n",
       "Min.    13.000 16.30000 18.10000 20.500 22.20000\n",
       "1st Qu. 14.250 17.00000 18.50000 20.950 22.35000\n",
       "Median  15.450 17.50000 19.00000 21.000 22.50000\n",
       "Mean    14.980 17.37941 19.04634 21.125 22.63333\n",
       "3rd Qu. 15.975 17.70000 19.50000 21.425 22.85000\n",
       "Max.    16.000 18.00000 20.00000 22.000 23.20000"
      ]
     },
     "metadata": {},
     "output_type": "display_data"
    }
   ],
   "source": [
    "# vapply *\n",
    "# Safer than sapply(), and a little bit faster\n",
    "# because FUN.VALUE has to be specified that length and type should match\n",
    "# Any idea why it can be a little bit faster? Recall...\n",
    "va <- vapply(Wr.Hnd.Grp, summary, FUN.VALUE = c(\"Min.\" = numeric(1),\n",
    "                                                \"1st Qu.\" = numeric(1),\n",
    "                                                \"Median\" = numeric(1),\n",
    "                                                \"Mean\" = numeric(1),\n",
    "                                                \"3rd Qu.\" = numeric(1),\n",
    "                                                \"Max.\" = numeric(1)))\n",
    "va"
   ]
  },
  {
   "cell_type": "markdown",
   "metadata": {},
   "source": [
    "#### f. Calculate the 95% sample confidence intervals of Wr.Hnd in each Smoke group.\n",
    "One variable for lower bound and one variable for upper bound.\n",
    "\n",
    "$$ CI = \\bar{x} \\pm t_{n-1, 0.025} \\times \\sqrt{\\frac{s^2}{n}} $$\n",
    "\n",
    "where $\\bar{x}$ is the sample mean and $s^2$ is the sample variance."
   ]
  },
  {
   "cell_type": "code",
   "execution_count": 49,
   "metadata": {},
   "outputs": [],
   "source": [
    "# aggregate(Wr.Hnd~Smoke, data = data, FUN = ...)\n",
    "# tapply(X = data$Wr.Hnd, INDEX = list(data$Smoke), FUN = ...)"
   ]
  },
  {
   "cell_type": "markdown",
   "metadata": {},
   "source": [
    "##### Unfortunately, I do not know any function in R that does this calculation.\n",
    "But I know how to do it step by step."
   ]
  },
  {
   "cell_type": "code",
   "execution_count": 118,
   "metadata": {},
   "outputs": [
    {
     "data": {
      "text/html": [
       "<ol class=list-inline>\n",
       "\t<li>18.4333333333333</li>\n",
       "\t<li>18.3189873417722</li>\n",
       "\t<li>18.44</li>\n",
       "\t<li>19.3</li>\n",
       "</ol>\n"
      ],
      "text/latex": [
       "\\begin{enumerate*}\n",
       "\\item 18.4333333333333\n",
       "\\item 18.3189873417722\n",
       "\\item 18.44\n",
       "\\item 19.3\n",
       "\\end{enumerate*}\n"
      ],
      "text/markdown": [
       "1. 18.4333333333333\n",
       "2. 18.3189873417722\n",
       "3. 18.44\n",
       "4. 19.3\n",
       "\n",
       "\n"
      ],
      "text/plain": [
       "[1] 18.43333 18.31899 18.44000 19.30000"
      ]
     },
     "metadata": {},
     "output_type": "display_data"
    },
    {
     "data": {
      "text/html": [
       "<ol class=list-inline>\n",
       "\t<li>3.28978216097459</li>\n",
       "\t<li>1.69547481810025</li>\n",
       "\t<li>2.64064386087939</li>\n",
       "\t<li>1.88207922846575</li>\n",
       "</ol>\n"
      ],
      "text/latex": [
       "\\begin{enumerate*}\n",
       "\\item 3.28978216097459\n",
       "\\item 1.69547481810025\n",
       "\\item 2.64064386087939\n",
       "\\item 1.88207922846575\n",
       "\\end{enumerate*}\n"
      ],
      "text/markdown": [
       "1. 3.28978216097459\n",
       "2. 1.69547481810025\n",
       "3. 2.64064386087939\n",
       "4. 1.88207922846575\n",
       "\n",
       "\n"
      ],
      "text/plain": [
       "[1] 3.289782 1.695475 2.640644 1.882079"
      ]
     },
     "metadata": {},
     "output_type": "display_data"
    },
    {
     "data": {
      "text/html": [
       "<ol class=list-inline>\n",
       "\t<li>6</li>\n",
       "\t<li>79</li>\n",
       "\t<li>5</li>\n",
       "\t<li>10</li>\n",
       "</ol>\n"
      ],
      "text/latex": [
       "\\begin{enumerate*}\n",
       "\\item 6\n",
       "\\item 79\n",
       "\\item 5\n",
       "\\item 10\n",
       "\\end{enumerate*}\n"
      ],
      "text/markdown": [
       "1. 6\n",
       "2. 79\n",
       "3. 5\n",
       "4. 10\n",
       "\n",
       "\n"
      ],
      "text/plain": [
       "[1]  6 79  5 10"
      ]
     },
     "metadata": {},
     "output_type": "display_data"
    },
    {
     "data": {
      "text/html": [
       "<ol class=list-inline>\n",
       "\t<li>2.57058183563632</li>\n",
       "\t<li>1.99084706881169</li>\n",
       "\t<li>2.77644510519779</li>\n",
       "\t<li>2.2621571627982</li>\n",
       "</ol>\n"
      ],
      "text/latex": [
       "\\begin{enumerate*}\n",
       "\\item 2.57058183563632\n",
       "\\item 1.99084706881169\n",
       "\\item 2.77644510519779\n",
       "\\item 2.2621571627982\n",
       "\\end{enumerate*}\n"
      ],
      "text/markdown": [
       "1. 2.57058183563632\n",
       "2. 1.99084706881169\n",
       "3. 2.77644510519779\n",
       "4. 2.2621571627982\n",
       "\n",
       "\n"
      ],
      "text/plain": [
       "[1] 2.570582 1.990847 2.776445 2.262157"
      ]
     },
     "metadata": {},
     "output_type": "display_data"
    },
    {
     "data": {
      "text/html": [
       "<ol class=list-inline>\n",
       "\t<li>14.9809186861126</li>\n",
       "\t<li>17.9392216758363</li>\n",
       "\t<li>15.1612075858683</li>\n",
       "\t<li>17.9536416263331</li>\n",
       "</ol>\n"
      ],
      "text/latex": [
       "\\begin{enumerate*}\n",
       "\\item 14.9809186861126\n",
       "\\item 17.9392216758363\n",
       "\\item 15.1612075858683\n",
       "\\item 17.9536416263331\n",
       "\\end{enumerate*}\n"
      ],
      "text/markdown": [
       "1. 14.9809186861126\n",
       "2. 17.9392216758363\n",
       "3. 15.1612075858683\n",
       "4. 17.9536416263331\n",
       "\n",
       "\n"
      ],
      "text/plain": [
       "[1] 14.98092 17.93922 15.16121 17.95364"
      ]
     },
     "metadata": {},
     "output_type": "display_data"
    },
    {
     "data": {
      "text/html": [
       "<ol class=list-inline>\n",
       "\t<li>21.8857479805541</li>\n",
       "\t<li>18.698753007708</li>\n",
       "\t<li>21.7187924141317</li>\n",
       "\t<li>20.6463583736669</li>\n",
       "</ol>\n"
      ],
      "text/latex": [
       "\\begin{enumerate*}\n",
       "\\item 21.8857479805541\n",
       "\\item 18.698753007708\n",
       "\\item 21.7187924141317\n",
       "\\item 20.6463583736669\n",
       "\\end{enumerate*}\n"
      ],
      "text/markdown": [
       "1. 21.8857479805541\n",
       "2. 18.698753007708\n",
       "3. 21.7187924141317\n",
       "4. 20.6463583736669\n",
       "\n",
       "\n"
      ],
      "text/plain": [
       "[1] 21.88575 18.69875 21.71879 20.64636"
      ]
     },
     "metadata": {},
     "output_type": "display_data"
    }
   ],
   "source": [
    "sample.mean <- aggregate(Wr.Hnd~Smoke, data = data, FUN = mean)$Wr.Hnd\n",
    "sample.sd <- aggregate(Wr.Hnd~Smoke, data = data, FUN = sd)$Wr.Hnd\n",
    "n <- aggregate(Wr.Hnd~Smoke, data = data, FUN = length)$Wr.Hnd\n",
    "t <- qt(p = 0.025, df = n - 1, lower.tail = FALSE)\n",
    "sample.mean; sample.sd; n; t\n",
    "lb <- sample.mean - t * sample.sd / sqrt(n)\n",
    "ub <- sample.mean + t * sample.sd / sqrt(n)\n",
    "lb; ub\n",
    "# How many times did we aggregate according to the group? Can on aggregate only once?"
   ]
  },
  {
   "cell_type": "markdown",
   "metadata": {},
   "source": [
    "##### Or, we can make our own function and integrate it into aggregate( ), by( ), or tapply( ) !!!\n",
    "### 2.2 Write our own functions in R\n",
    "A function takes in some inputs and gives outputs"
   ]
  },
  {
   "cell_type": "code",
   "execution_count": 51,
   "metadata": {},
   "outputs": [],
   "source": [
    "# The structure\n",
    "func_name <- function(argument){\n",
    "    statement\n",
    "}"
   ]
  },
  {
   "cell_type": "markdown",
   "metadata": {},
   "source": [
    "#### Example 1. Make a function for $f(x) = 2x$"
   ]
  },
  {
   "cell_type": "code",
   "execution_count": 52,
   "metadata": {},
   "outputs": [
    {
     "data": {
      "text/html": [
       "10"
      ],
      "text/latex": [
       "10"
      ],
      "text/markdown": [
       "10"
      ],
      "text/plain": [
       "[1] 10"
      ]
     },
     "metadata": {},
     "output_type": "display_data"
    },
    {
     "data": {
      "text/html": [
       "10"
      ],
      "text/latex": [
       "10"
      ],
      "text/markdown": [
       "10"
      ],
      "text/plain": [
       "[1] 10"
      ]
     },
     "metadata": {},
     "output_type": "display_data"
    }
   ],
   "source": [
    "# Build the function\n",
    "times2 <- function(x) {\n",
    "    fx = 2 * x\n",
    "    return(fx)\n",
    "}\n",
    "# Use the function\n",
    "times2(x = 5)\n",
    "# or\n",
    "times2(5)"
   ]
  },
  {
   "cell_type": "markdown",
   "metadata": {},
   "source": [
    "#### Example 2. Make a function to calculate the integer division of $a$ by $b$, return the integer part and the modulus."
   ]
  },
  {
   "cell_type": "code",
   "execution_count": 53,
   "metadata": {},
   "outputs": [
    {
     "data": {
      "text/html": [
       "4"
      ],
      "text/latex": [
       "4"
      ],
      "text/markdown": [
       "4"
      ],
      "text/plain": [
       "[1] 4"
      ]
     },
     "metadata": {},
     "output_type": "display_data"
    },
    {
     "data": {
      "text/html": [
       "1"
      ],
      "text/latex": [
       "1"
      ],
      "text/markdown": [
       "1"
      ],
      "text/plain": [
       "[1] 1"
      ]
     },
     "metadata": {},
     "output_type": "display_data"
    }
   ],
   "source": [
    "# R has operators that do this\n",
    "9 %/% 2\n",
    "9 %% 2"
   ]
  },
  {
   "cell_type": "markdown",
   "metadata": {},
   "source": [
    "     floor( ) takes a single numeric argument x and returns a numeric vector containing the largest integers not greater than the corresponding elements of x.\n",
    "\n"
   ]
  },
  {
   "cell_type": "code",
   "execution_count": 132,
   "metadata": {},
   "outputs": [],
   "source": [
    "int.div <- function(a, b){\n",
    "    int <- a%/%b\n",
    "    mod <- a%%b\n",
    "    return(list(integer = int, modulus = mod))\n",
    "}"
   ]
  },
  {
   "cell_type": "code",
   "execution_count": 133,
   "metadata": {},
   "outputs": [
    {
     "data": {
      "text/html": [
       "5"
      ],
      "text/latex": [
       "5"
      ],
      "text/markdown": [
       "5"
      ],
      "text/plain": [
       "[1] 5"
      ]
     },
     "metadata": {},
     "output_type": "display_data"
    }
   ],
   "source": [
    "# class(result)\n",
    "# Recall: how do we access the modulus?\n",
    "result <- int.div(21, 4)\n",
    "result$integer"
   ]
  },
  {
   "cell_type": "code",
   "execution_count": 134,
   "metadata": {},
   "outputs": [
    {
     "name": "stdout",
     "output_type": "stream",
     "text": [
      "21 %% 4 : \n",
      " integer = 5 \n",
      " ------------------  \n",
      " modulus = 1 \n"
     ]
    }
   ],
   "source": [
    "int.div <- function(a, b){\n",
    "    int <- a%/%b\n",
    "    mod <- a%%b\n",
    "    return(cat(a, \"%%\", b, \": \\n integer =\", int,\"\\n ------------------\", \" \\n modulus =\", mod, \"\\n\"))\n",
    "}\n",
    "int.div(21,4)"
   ]
  },
  {
   "cell_type": "code",
   "execution_count": 137,
   "metadata": {},
   "outputs": [
    {
     "data": {
      "text/html": [
       "<ol class=list-inline>\n",
       "\t<li>21</li>\n",
       "\t<li>4</li>\n",
       "</ol>\n"
      ],
      "text/latex": [
       "\\begin{enumerate*}\n",
       "\\item 21\n",
       "\\item 4\n",
       "\\end{enumerate*}\n"
      ],
      "text/markdown": [
       "1. 21\n",
       "2. 4\n",
       "\n",
       "\n"
      ],
      "text/plain": [
       "[1] 21  4"
      ]
     },
     "metadata": {},
     "output_type": "display_data"
    }
   ],
   "source": [
    "int.div <- function(a, b){\n",
    "    int <- a%/%b\n",
    "    mod <- a%%b\n",
    "    return(c(a, b))\n",
    "}\n",
    "int.div(21, 4)"
   ]
  },
  {
   "cell_type": "markdown",
   "metadata": {},
   "source": [
    "#### Example 3. Make the simplest canadian AI chatbot"
   ]
  },
  {
   "cell_type": "code",
   "execution_count": 158,
   "metadata": {},
   "outputs": [],
   "source": [
    "# No need to worry about the details here.\n",
    "# Just want to show that functions do not always have to return() something.\n",
    "AIcanadian <- function(who, reply_to) {\n",
    "    system(paste(\"say -v\", who, \"Sorry!\"))\n",
    "}\n",
    "AIcanadian(\"Alex\", \"Sorry I stepped on your foot.\")"
   ]
  },
  {
   "cell_type": "code",
   "execution_count": 160,
   "metadata": {},
   "outputs": [],
   "source": [
    "# Train my chatbot - AlphaGo style.\n",
    "# I'll let Alex and Victoria talk to each other.\n",
    "# MacOS has their voices recorded.\n",
    "chat_log <- rep(NA, 8)\n",
    "# for (i in 1:8) {\n",
    "#     if (i == 1) {\n",
    "#         chat_log[1] <- \"Sorry I stepped on your foot.\"\n",
    "#         system(\"say -v Victoria Sorry, I stepped on your foot.\")\n",
    "#     } else {\n",
    "#         if (i %% 2 == 0)\n",
    "#             chat_log[i] <- AIcanadian(\"Alex\", chat_log[i - 1])\n",
    "#         else\n",
    "#             chat_log[i] <- AIcanadian(\"Victoria\", chat_log[i - 1])\n",
    "#     }\n",
    "# }\n",
    "# chat_log"
   ]
  },
  {
   "cell_type": "markdown",
   "metadata": {},
   "source": [
    "#### Example 4. Check one summary statistic by Smoke group of our 'data' data.\n",
    "Function arguments can be basically anything, say another function."
   ]
  },
  {
   "cell_type": "code",
   "execution_count": 146,
   "metadata": {},
   "outputs": [
    {
     "data": {
      "text/plain": [
       ": Heavy\n",
       "[1] 18.43333\n",
       "------------------------------------------------------------ \n",
       ": Never\n",
       "[1] 18.31899\n",
       "------------------------------------------------------------ \n",
       ": Occas\n",
       "[1] 18.44\n",
       "------------------------------------------------------------ \n",
       ": Regul\n",
       "[1] 19.3"
      ]
     },
     "metadata": {},
     "output_type": "display_data"
    }
   ],
   "source": [
    "data_summary <- function(func) {\n",
    "    data <- read.csv(\"https://raw.githubusercontent.com/ly129/MiCM/master/sample.csv\", header = TRUE)\n",
    "    by(data = data$Wr.Hnd, INDICES = list(data$Smoke), FUN = func)\n",
    "}\n",
    "data_summary(mean)"
   ]
  },
  {
   "cell_type": "markdown",
   "metadata": {},
   "source": [
    "##### Exercise: make a function to calculate sample confidence intervals (2.1 f)"
   ]
  },
  {
   "cell_type": "code",
   "execution_count": 157,
   "metadata": {},
   "outputs": [
    {
     "data": {
      "text/html": [
       "<table>\n",
       "<caption>A data.frame: 4 × 2</caption>\n",
       "<thead>\n",
       "\t<tr><th scope=col>Smoke</th><th scope=col>Wr.Hnd</th></tr>\n",
       "\t<tr><th scope=col>&lt;fct&gt;</th><th scope=col>&lt;dbl[,2]&gt;</th></tr>\n",
       "</thead>\n",
       "<tbody>\n",
       "\t<tr><td>Heavy</td><td>14.98092, 21.88575</td></tr>\n",
       "\t<tr><td>Never</td><td>17.93922, 18.69875</td></tr>\n",
       "\t<tr><td>Occas</td><td>15.16121, 21.71879</td></tr>\n",
       "\t<tr><td>Regul</td><td>17.95364, 20.64636</td></tr>\n",
       "</tbody>\n",
       "</table>\n"
      ],
      "text/latex": [
       "A data.frame: 4 × 2\n",
       "\\begin{tabular}{r|ll}\n",
       " Smoke & Wr.Hnd\\\\\n",
       " <fct> & <dbl{[},2{]}>\\\\\n",
       "\\hline\n",
       "\t Heavy & 14.98092, 21.88575\\\\\n",
       "\t Never & 17.93922, 18.69875\\\\\n",
       "\t Occas & 15.16121, 21.71879\\\\\n",
       "\t Regul & 17.95364, 20.64636\\\\\n",
       "\\end{tabular}\n"
      ],
      "text/markdown": [
       "\n",
       "A data.frame: 4 × 2\n",
       "\n",
       "| Smoke &lt;fct&gt; | Wr.Hnd &lt;dbl[,2]&gt; |\n",
       "|---|---|\n",
       "| Heavy | 14.98092, 21.88575 |\n",
       "| Never | 17.93922, 18.69875 |\n",
       "| Occas | 15.16121, 21.71879 |\n",
       "| Regul | 17.95364, 20.64636 |\n",
       "\n"
      ],
      "text/plain": [
       "  Smoke Wr.Hnd            \n",
       "1 Heavy 14.98092, 21.88575\n",
       "2 Never 17.93922, 18.69875\n",
       "3 Occas 15.16121, 21.71879\n",
       "4 Regul 17.95364, 20.64636"
      ]
     },
     "metadata": {},
     "output_type": "display_data"
    }
   ],
   "source": [
    "# sample.mean <- NULL\n",
    "# sample.sd <- NULL\n",
    "# n <- NULL\n",
    "# t <- qt(p = 0.025, df = n - 1, lower.tail = FALSE)\n",
    "# lb <- sample.mean - t * sample.sd / sqrt(n)\n",
    "# ub <- sample.mean + t * sample.sd / sqrt(n)\n",
    "\n",
    "sample_CI <- function(x) {\n",
    "    m <- mean(x)\n",
    "    l <- length(x)\n",
    "    s <- sd(x)\n",
    "    t <- qt(p = .025, df = l - 1, lower.tail = FALSE)\n",
    "    lb <- m - t* s / sqrt(l)\n",
    "    ub <- m + t * s / sqrt(l)\n",
    "    return(c(LowerBound = lb, UpperBound = ub))\n",
    "}\n",
    "\n",
    "aggregate(Wr.Hnd~Smoke, data = data, FUN = sample_CI)"
   ]
  },
  {
   "cell_type": "markdown",
   "metadata": {},
   "source": [
    "<a id='3'></a>\n",
    "## 3. [Efficient computing](#0)\n",
    "We often want to minimize the resources used to do certain computation.\n",
    "##### Time is usually the most important resource.\n",
    "Other resources are relatively less important.\n",
    "### 3.1 Parallel computing\n",
    "When multiple tasks are independent of each other. We can use (up to) all the CPU cores at the same time to do the tasks simultaneously. Check CPU usage if interested."
   ]
  },
  {
   "cell_type": "code",
   "execution_count": 60,
   "metadata": {
    "scrolled": true
   },
   "outputs": [
    {
     "data": {
      "text/html": [
       "4"
      ],
      "text/latex": [
       "4"
      ],
      "text/markdown": [
       "4"
      ],
      "text/plain": [
       "[1] 4"
      ]
     },
     "metadata": {},
     "output_type": "display_data"
    }
   ],
   "source": [
    "library(parallel)\n",
    "detectCores()"
   ]
  },
  {
   "cell_type": "code",
   "execution_count": 61,
   "metadata": {},
   "outputs": [
    {
     "name": "stdout",
     "output_type": "stream",
     "text": [
      "[[1]]\n",
      "     [,1]\n",
      "[1,]    1\n",
      "\n",
      "[[2]]\n",
      "     [,1] [,2] [,3] [,4] [,5]\n",
      "[1,]    1    0    0    0    0\n",
      "[2,]    0    1    0    0    0\n",
      "[3,]    0    0    1    0    0\n",
      "[4,]    0    0    0    1    0\n",
      "[5,]    0    0    0    0    1\n",
      "\n"
     ]
    }
   ],
   "source": [
    "mat.list <- sapply(c(1, 5, 200, 250, 1800, 2000), diag)\n",
    "print(head(mat.list, 2)) # print() makes the output here look the same as in R/Rstudio"
   ]
  },
  {
   "cell_type": "markdown",
   "metadata": {},
   "source": [
    "#### Here we compare lapply( ) and its multi-core version mclapply( ) and parLapply( ) in the 'parallel' package.\n",
    "    - lapply()\n",
    "    - mclapply(..., mc.preschedule = TRUE)   # without load balancing\n",
    "    - mclapply(..., mc.preschedule = FALSE)  # with load balancing\n",
    "    \n",
    "_mcapply( ) sets up a pool of mc.cores workers just for this computation_\n",
    "\n",
    "_mclapply( ) is not available on Windows. For those of you using Windows computers_\n",
    "\n",
    "https://www.apple.com/ca/mac/ or https://ubuntu.com or\n",
    "\n",
    "    - parLapply                              # without load balancing\n",
    "    - parLapplyLB                            # with load balancing\n",
    "\n",
    "To use parLapply( ), we need to set up a cluster, and we need to close the cluster after we are done. The good part is that we can put several parLapply( ) calls within the cluster."
   ]
  },
  {
   "cell_type": "code",
   "execution_count": 62,
   "metadata": {
    "scrolled": false
   },
   "outputs": [
    {
     "data": {
      "text/plain": [
       "   user  system elapsed \n",
       "  2.919   0.054   2.978 "
      ]
     },
     "metadata": {},
     "output_type": "display_data"
    }
   ],
   "source": [
    "system.time(\n",
    "    sc <- lapply(mat.list, solve)\n",
    ")"
   ]
  },
  {
   "cell_type": "code",
   "execution_count": 63,
   "metadata": {},
   "outputs": [
    {
     "data": {
      "text/plain": [
       "   user  system elapsed \n",
       "  1.292   0.167   1.861 "
      ]
     },
     "metadata": {},
     "output_type": "display_data"
    }
   ],
   "source": [
    "system.time(\n",
    "    mc <- mclapply(mat.list, solve, mc.preschedule = TRUE, mc.cores = 3)\n",
    ")"
   ]
  },
  {
   "cell_type": "code",
   "execution_count": 64,
   "metadata": {},
   "outputs": [
    {
     "data": {
      "text/plain": [
       "   user  system elapsed \n",
       "  1.291   0.195   1.878 "
      ]
     },
     "metadata": {},
     "output_type": "display_data"
    }
   ],
   "source": [
    "system.time(\n",
    "    mc <- mclapply(mat.list, solve, mc.preschedule = FALSE, mc.cores = 3)\n",
    ")"
   ]
  },
  {
   "cell_type": "code",
   "execution_count": 65,
   "metadata": {},
   "outputs": [
    {
     "data": {
      "text/plain": [
       "   user  system elapsed \n",
       "  0.386   0.090   4.197 "
      ]
     },
     "metadata": {},
     "output_type": "display_data"
    }
   ],
   "source": [
    "t <- proc.time()\n",
    "cl <- makeCluster(3) # Use 3 cores\n",
    "pl <- parLapply(cl = cl, X = mat.list, fun = solve)\n",
    "stopCluster(cl)\n",
    "proc.time() - t"
   ]
  },
  {
   "cell_type": "code",
   "execution_count": 66,
   "metadata": {},
   "outputs": [
    {
     "data": {
      "text/plain": [
       "   user  system elapsed \n",
       "  0.499   0.121   3.490 "
      ]
     },
     "metadata": {},
     "output_type": "display_data"
    }
   ],
   "source": [
    "t <- proc.time()\n",
    "cl <- makeCluster(3)\n",
    "pl <- parLapplyLB(cl = cl, X = mat.list, fun = solve)\n",
    "stopCluster(cl)\n",
    "proc.time() - t"
   ]
  },
  {
   "cell_type": "code",
   "execution_count": 67,
   "metadata": {},
   "outputs": [
    {
     "data": {
      "text/plain": [
       "   user  system elapsed \n",
       "  0.868   0.154   7.513 "
      ]
     },
     "metadata": {},
     "output_type": "display_data"
    }
   ],
   "source": [
    "# Two parallel calls within one cluster.\n",
    "t <- proc.time()\n",
    "cl <- makeCluster(3)\n",
    "pl_nb <- parLapply(cl = cl, X = mat.list, fun = solve)\n",
    "pl_lb <- parLapplyLB(cl = cl, X = mat.list, fun = solve)\n",
    "stopCluster(cl)\n",
    "proc.time() - t\n",
    "# This takes shorter than the sum of the previous two. Why?"
   ]
  },
  {
   "cell_type": "markdown",
   "metadata": {},
   "source": [
    "##### For both mclapply( ) and parLapply( ), setting up parallel computing takes time (overhead)."
   ]
  },
  {
   "cell_type": "code",
   "execution_count": 68,
   "metadata": {},
   "outputs": [
    {
     "data": {
      "text/plain": [
       "   user  system elapsed \n",
       "  0.010   0.006   0.720 "
      ]
     },
     "metadata": {},
     "output_type": "display_data"
    }
   ],
   "source": [
    "t <- proc.time()\n",
    "cl <- makeCluster(3)\n",
    "stopCluster(cl)\n",
    "proc.time() - t"
   ]
  },
  {
   "cell_type": "markdown",
   "metadata": {},
   "source": [
    "##### Load-balancing is tricky.\n",
    "\"Load balancing is potentially advantageous when the tasks take quite dissimilar amounts of computation time, or where the nodes are of disparate capabilities.\"\n",
    "\n",
    "If 1000 tasks need to be allocated to 10 nodes (CPUs, cores, etc.)\n",
    "- without load-balancing, 100 tasks are sent to each of the nodes.\n",
    "- with load-balancing, tasks are sent to a node one at a time. Overhead is high."
   ]
  },
  {
   "cell_type": "markdown",
   "metadata": {},
   "source": [
    "##### Take-home message\n",
    "- Parallel computing exists in R\n",
    "- They are not faster than non-parallel computing by a factor of number of cores used.\n",
    "- R is still slow.\n",
    "\n",
    "##### The solution is lower-level programming languages.\n",
    "- C\n",
    "- C++\n",
    "- Fortran\n",
    "\n",
    "### 3.2 Integration with C++\n",
    "__The 'Rcpp' package__\n",
    "    - \"Seamless R and C++ Integration\"\n",
    "    \n",
    "1. Install 'Rcpp' package in R\n",
    "2. Install compiler\n",
    "    - Windows: Rstudio should ask you to install Rtools when you source your cpp code.\n",
    "        - If not, you can download and install Rtools on the exact same webpage where you downloaded R.\n",
    "    - MacOS:\n",
    "        - Install XCode Command Line Tools. Open Terminal, paste and run\n",
    "                xcode-select --install\n",
    "        - Install gfortran-6.1 binary and clang compiler (also on the exact same webpage as the R download)\n",
    "        \n",
    "            https://cran.r-project.org/bin/macosx/tools/\n",
    "            \n",
    "    _“Setup is extra work on macOS, but it is above our pay grade to change that.” - Dirk Eddelbuettel_\n",
    "         https://github.com/RcppCore/RcppArmadillo/issues/249\n",
    "3. File -> New File -> C++ File\n",
    "4. Code C++\n",
    "    - Try not to forget ';' at the end of lines;\n",
    "    - Every object that has ever appeared has to be defined;\n",
    "    - Have to use loops to do a lot of things such as matrix calculations (not slow though);\n",
    "\n",
    "#### Example 1. Create an R function that calculates the square root of vectors in C++."
   ]
  },
  {
   "cell_type": "code",
   "execution_count": 69,
   "metadata": {},
   "outputs": [
    {
     "data": {
      "text/html": [
       "<ol class=list-inline>\n",
       "\t<li>1</li>\n",
       "\t<li>1.4142135623731</li>\n",
       "\t<li>1.73205080756888</li>\n",
       "\t<li>2</li>\n",
       "</ol>\n"
      ],
      "text/latex": [
       "\\begin{enumerate*}\n",
       "\\item 1\n",
       "\\item 1.4142135623731\n",
       "\\item 1.73205080756888\n",
       "\\item 2\n",
       "\\end{enumerate*}\n"
      ],
      "text/markdown": [
       "1. 1\n",
       "2. 1.4142135623731\n",
       "3. 1.73205080756888\n",
       "4. 2\n",
       "\n",
       "\n"
      ],
      "text/plain": [
       "[1] 1.000000 1.414214 1.732051 2.000000"
      ]
     },
     "metadata": {},
     "output_type": "display_data"
    }
   ],
   "source": [
    "library(Rcpp)\n",
    "sourceCpp(\"sqrt_cpp.cpp\")\n",
    "square_root(1:4)\n",
    "# We return a NumericVector in the .cpp file. So we get an R vector."
   ]
  },
  {
   "cell_type": "markdown",
   "metadata": {},
   "source": [
    "__The addition of the 'RcppArmadillo' package__\n",
    "      - \"Armadillo is a C++ linear algebra library aiming towards a good balance between speed and ease of use.\"\n",
    "http://arma.sourceforge.net\n",
    "\n",
    "___Linear algebra in Armadillo___\n",
    "http://arma.sourceforge.net/armadillo_joss_2016.pdf\n",
    "\n",
    "In base C++, operations like matrix multiplication requires loops.\n",
    "#### Example 2. Create an R function that calculates matrix multiplication in C++."
   ]
  },
  {
   "cell_type": "code",
   "execution_count": 70,
   "metadata": {},
   "outputs": [],
   "source": [
    "sourceCpp(\"mm_cpp.cpp\")"
   ]
  },
  {
   "cell_type": "code",
   "execution_count": 71,
   "metadata": {},
   "outputs": [
    {
     "data": {
      "text/html": [
       "<dl>\n",
       "\t<dt>$MatrixMultiplication</dt>\n",
       "\t\t<dd><table>\n",
       "<caption>A matrix: 2 × 4 of type dbl</caption>\n",
       "<tbody>\n",
       "\t<tr><td>-345.3068</td><td>359.6366</td><td> -54.33261</td><td>-182.1485</td></tr>\n",
       "\t<tr><td>-190.4709</td><td> 85.7216</td><td>-330.53902</td><td> 121.1807</td></tr>\n",
       "</tbody>\n",
       "</table>\n",
       "</dd>\n",
       "\t<dt>$rows</dt>\n",
       "\t\t<dd>2</dd>\n",
       "\t<dt>$cols</dt>\n",
       "\t\t<dd>4</dd>\n",
       "</dl>\n"
      ],
      "text/latex": [
       "\\begin{description}\n",
       "\\item[\\$MatrixMultiplication] A matrix: 2 × 4 of type dbl\n",
       "\\begin{tabular}{llll}\n",
       "\t -345.3068 & 359.6366 &  -54.33261 & -182.1485\\\\\n",
       "\t -190.4709 &  85.7216 & -330.53902 &  121.1807\\\\\n",
       "\\end{tabular}\n",
       "\n",
       "\\item[\\$rows] 2\n",
       "\\item[\\$cols] 4\n",
       "\\end{description}\n"
      ],
      "text/markdown": [
       "$MatrixMultiplication\n",
       ":   \n",
       "A matrix: 2 × 4 of type dbl\n",
       "\n",
       "| -345.3068 | 359.6366 |  -54.33261 | -182.1485 |\n",
       "| -190.4709 |  85.7216 | -330.53902 |  121.1807 |\n",
       "\n",
       "\n",
       "$rows\n",
       ":   2\n",
       "$cols\n",
       ":   4\n",
       "\n",
       "\n"
      ],
      "text/plain": [
       "$MatrixMultiplication\n",
       "          [,1]     [,2]       [,3]      [,4]\n",
       "[1,] -345.3068 359.6366  -54.33261 -182.1485\n",
       "[2,] -190.4709  85.7216 -330.53902  121.1807\n",
       "\n",
       "$rows\n",
       "[1] 2\n",
       "\n",
       "$cols\n",
       "[1] 4\n"
      ]
     },
     "metadata": {},
     "output_type": "display_data"
    }
   ],
   "source": [
    "# Now we can call the function using the name defined in the .cpp file\n",
    "set.seed(20190813)\n",
    "a <- matrix(rnorm(100000), ncol = 50000)  # 2 x 50000 matrix\n",
    "b <- matrix(rnorm(200000), nrow = 50000)  # 50000 x 4 matrix\n",
    "\n",
    "mat_mul(a, b)\n",
    "# We return an Rcpp::List in the .cpp file. So we get an R list here.\n",
    "# mat_mul(b, a)"
   ]
  },
  {
   "cell_type": "code",
   "execution_count": 72,
   "metadata": {},
   "outputs": [
    {
     "data": {
      "text/html": [
       "<table>\n",
       "<caption>A data.frame: 2 × 8</caption>\n",
       "<thead>\n",
       "\t<tr><th scope=col>expr</th><th scope=col>min</th><th scope=col>lq</th><th scope=col>mean</th><th scope=col>median</th><th scope=col>uq</th><th scope=col>max</th><th scope=col>neval</th></tr>\n",
       "\t<tr><th scope=col>&lt;fct&gt;</th><th scope=col>&lt;dbl&gt;</th><th scope=col>&lt;dbl&gt;</th><th scope=col>&lt;dbl&gt;</th><th scope=col>&lt;dbl&gt;</th><th scope=col>&lt;dbl&gt;</th><th scope=col>&lt;dbl&gt;</th><th scope=col>&lt;dbl&gt;</th></tr>\n",
       "</thead>\n",
       "<tbody>\n",
       "\t<tr><td>a %*% b      </td><td>738.83</td><td>743.7275</td><td>775.0459</td><td>754.637</td><td>786.785</td><td> 973.247</td><td>100</td></tr>\n",
       "\t<tr><td>mat_mul(a, b)</td><td>586.69</td><td>588.0115</td><td>614.3580</td><td>590.760</td><td>614.089</td><td>1637.623</td><td>100</td></tr>\n",
       "</tbody>\n",
       "</table>\n"
      ],
      "text/latex": [
       "A data.frame: 2 × 8\n",
       "\\begin{tabular}{r|llllllll}\n",
       " expr & min & lq & mean & median & uq & max & neval\\\\\n",
       " <fct> & <dbl> & <dbl> & <dbl> & <dbl> & <dbl> & <dbl> & <dbl>\\\\\n",
       "\\hline\n",
       "\t a \\%*\\% b       & 738.83 & 743.7275 & 775.0459 & 754.637 & 786.785 &  973.247 & 100\\\\\n",
       "\t mat\\_mul(a, b) & 586.69 & 588.0115 & 614.3580 & 590.760 & 614.089 & 1637.623 & 100\\\\\n",
       "\\end{tabular}\n"
      ],
      "text/markdown": [
       "\n",
       "A data.frame: 2 × 8\n",
       "\n",
       "| expr &lt;fct&gt; | min &lt;dbl&gt; | lq &lt;dbl&gt; | mean &lt;dbl&gt; | median &lt;dbl&gt; | uq &lt;dbl&gt; | max &lt;dbl&gt; | neval &lt;dbl&gt; |\n",
       "|---|---|---|---|---|---|---|---|\n",
       "| a %*% b       | 738.83 | 743.7275 | 775.0459 | 754.637 | 786.785 |  973.247 | 100 |\n",
       "| mat_mul(a, b) | 586.69 | 588.0115 | 614.3580 | 590.760 | 614.089 | 1637.623 | 100 |\n",
       "\n"
      ],
      "text/plain": [
       "  expr          min    lq       mean     median  uq      max      neval\n",
       "1 a %*% b       738.83 743.7275 775.0459 754.637 786.785  973.247 100  \n",
       "2 mat_mul(a, b) 586.69 588.0115 614.3580 590.760 614.089 1637.623 100  "
      ]
     },
     "metadata": {},
     "output_type": "display_data"
    }
   ],
   "source": [
    "bchmk <- microbenchmark(a %*% b,\n",
    "                        mat_mul(a, b),\n",
    "                        unit = \"us\", times = 100\n",
    "                       )\n",
    "summary(bchmk)"
   ]
  },
  {
   "cell_type": "code",
   "execution_count": 73,
   "metadata": {},
   "outputs": [
    {
     "data": {
      "text/html": [
       "<table>\n",
       "<caption>A matrix: 2 × 4 of type dbl</caption>\n",
       "<tbody>\n",
       "\t<tr><td>-345.3068</td><td>359.6366</td><td> -54.33261</td><td>-182.1485</td></tr>\n",
       "\t<tr><td>-190.4709</td><td> 85.7216</td><td>-330.53902</td><td> 121.1807</td></tr>\n",
       "</tbody>\n",
       "</table>\n"
      ],
      "text/latex": [
       "A matrix: 2 × 4 of type dbl\n",
       "\\begin{tabular}{llll}\n",
       "\t -345.3068 & 359.6366 &  -54.33261 & -182.1485\\\\\n",
       "\t -190.4709 &  85.7216 & -330.53902 &  121.1807\\\\\n",
       "\\end{tabular}\n"
      ],
      "text/markdown": [
       "\n",
       "A matrix: 2 × 4 of type dbl\n",
       "\n",
       "| -345.3068 | 359.6366 |  -54.33261 | -182.1485 |\n",
       "| -190.4709 |  85.7216 | -330.53902 |  121.1807 |\n",
       "\n"
      ],
      "text/plain": [
       "     [,1]      [,2]     [,3]       [,4]     \n",
       "[1,] -345.3068 359.6366  -54.33261 -182.1485\n",
       "[2,] -190.4709  85.7216 -330.53902  121.1807"
      ]
     },
     "metadata": {},
     "output_type": "display_data"
    }
   ],
   "source": [
    "# Here we make an R function that calls the C++ function\n",
    "mmc <- function(a, b) {\n",
    "    result <- mat_mul(a, b)$MatrixMultiplication\n",
    "    return(result)\n",
    "}\n",
    "mmc(a, b)"
   ]
  },
  {
   "cell_type": "code",
   "execution_count": 74,
   "metadata": {},
   "outputs": [],
   "source": [
    "# Another way to do this. Here you do not need to have a separate .cpp file.\n",
    "# A naive .cpp function is made here.\n",
    "library(RcppArmadillo)\n",
    "cppFunction(depends = \"RcppArmadillo\",\n",
    "            code = 'arma::mat mm(arma::mat& A, arma::mat& B){\n",
    "                        return A * B;\n",
    "                    }'\n",
    ")"
   ]
  },
  {
   "cell_type": "code",
   "execution_count": 75,
   "metadata": {},
   "outputs": [
    {
     "data": {
      "text/html": [
       "<table>\n",
       "<caption>A matrix: 2 × 4 of type dbl</caption>\n",
       "<tbody>\n",
       "\t<tr><td>-345.3068</td><td>359.6366</td><td> -54.33261</td><td>-182.1485</td></tr>\n",
       "\t<tr><td>-190.4709</td><td> 85.7216</td><td>-330.53902</td><td> 121.1807</td></tr>\n",
       "</tbody>\n",
       "</table>\n"
      ],
      "text/latex": [
       "A matrix: 2 × 4 of type dbl\n",
       "\\begin{tabular}{llll}\n",
       "\t -345.3068 & 359.6366 &  -54.33261 & -182.1485\\\\\n",
       "\t -190.4709 &  85.7216 & -330.53902 &  121.1807\\\\\n",
       "\\end{tabular}\n"
      ],
      "text/markdown": [
       "\n",
       "A matrix: 2 × 4 of type dbl\n",
       "\n",
       "| -345.3068 | 359.6366 |  -54.33261 | -182.1485 |\n",
       "| -190.4709 |  85.7216 | -330.53902 |  121.1807 |\n",
       "\n"
      ],
      "text/plain": [
       "     [,1]      [,2]     [,3]       [,4]     \n",
       "[1,] -345.3068 359.6366  -54.33261 -182.1485\n",
       "[2,] -190.4709  85.7216 -330.53902  121.1807"
      ]
     },
     "metadata": {},
     "output_type": "display_data"
    }
   ],
   "source": [
    "mm(a, b)\n",
    "# mm(b, a)"
   ]
  },
  {
   "cell_type": "code",
   "execution_count": 76,
   "metadata": {},
   "outputs": [
    {
     "data": {
      "text/html": [
       "<table>\n",
       "<caption>A matrix: 2 × 4 of type dbl</caption>\n",
       "<tbody>\n",
       "\t<tr><td>-345.3068</td><td>359.6366</td><td> -54.33261</td><td>-182.1485</td></tr>\n",
       "\t<tr><td>-190.4709</td><td> 85.7216</td><td>-330.53902</td><td> 121.1807</td></tr>\n",
       "</tbody>\n",
       "</table>\n"
      ],
      "text/latex": [
       "A matrix: 2 × 4 of type dbl\n",
       "\\begin{tabular}{llll}\n",
       "\t -345.3068 & 359.6366 &  -54.33261 & -182.1485\\\\\n",
       "\t -190.4709 &  85.7216 & -330.53902 &  121.1807\\\\\n",
       "\\end{tabular}\n"
      ],
      "text/markdown": [
       "\n",
       "A matrix: 2 × 4 of type dbl\n",
       "\n",
       "| -345.3068 | 359.6366 |  -54.33261 | -182.1485 |\n",
       "| -190.4709 |  85.7216 | -330.53902 |  121.1807 |\n",
       "\n"
      ],
      "text/plain": [
       "     [,1]      [,2]     [,3]       [,4]     \n",
       "[1,] -345.3068 359.6366  -54.33261 -182.1485\n",
       "[2,] -190.4709  85.7216 -330.53902  121.1807"
      ]
     },
     "metadata": {},
     "output_type": "display_data"
    }
   ],
   "source": [
    "# We can wrap this naive function in an R function to manipulate input and output in R\n",
    "mmc2 <- function(A, B) {\n",
    "    if (ncol(A) == nrow(B)) {\n",
    "        return(mm(A, B))\n",
    "    } else {\n",
    "        stop(\"non-conformable arguments\")\n",
    "    }\n",
    "}\n",
    "mmc2(a, b)\n",
    "# mmc2(b, a)"
   ]
  },
  {
   "cell_type": "markdown",
   "metadata": {},
   "source": [
    "### 3.3 Integration with Fortran\n",
    "- Old but even faster\n",
    "    - We will see that Fortran sacrifices a LOT for speed.\n",
    "- Require a compiler too\n",
    "    - MacOS\n",
    "        - You might have noticed that we have installed a compiler called gfortran\n",
    "    - Windows\n",
    "        - A lot of work. See \"Fortran_Setup_Win.txt\". https://github.com/ly129/MiCM/blob/master/Fortran_Setup_Win.txt\n",
    "- R can call fortran subroutines\n",
    "    - Basically a kind of function\n",
    "    - Through a .so file (Shared Object, MacOS) and a .dll file (Dynamic Link Library, Windows)\n",
    "        - MacOS Terminal\n",
    "                cd file_path\n",
    "                R CMD SHLIB -o file_name.so file_name.f90\n",
    "        - Windows Command Prompt\n",
    "                cd file_path\n",
    "                gfortran -shared -o file_name.dll file_name.f90\n",
    "- Requires pointers for communication between programs\n",
    "    - Pointers point to a locations on the computer's memory\n",
    "        - Two different programs cannot share data directly.\n",
    "    - The same applies to C++. 'Rcpp' package handles it for us.\n",
    "    - Test your program in Fortran. The communication between programs make it hard to debug.\n",
    "        - Make a Fortran program. Then in terminal/command prompt, type\n",
    "                cd file_path\n",
    "                gfortran file_name.f90\n",
    "                ./a.out (MacOS) | a.exe (Windows)"
   ]
  },
  {
   "cell_type": "code",
   "execution_count": 77,
   "metadata": {},
   "outputs": [
    {
     "data": {
      "text/html": [
       "<table>\n",
       "<caption>A matrix: 2 × 4 of type dbl</caption>\n",
       "<tbody>\n",
       "\t<tr><td>-0.7265744</td><td> 0.3488403409</td><td>-1.56818199</td><td>0.47863529</td></tr>\n",
       "\t<tr><td>-1.0882637</td><td>-0.0002502522</td><td> 0.03957236</td><td>0.01071728</td></tr>\n",
       "</tbody>\n",
       "</table>\n"
      ],
      "text/latex": [
       "A matrix: 2 × 4 of type dbl\n",
       "\\begin{tabular}{llll}\n",
       "\t -0.7265744 &  0.3488403409 & -1.56818199 & 0.47863529\\\\\n",
       "\t -1.0882637 & -0.0002502522 &  0.03957236 & 0.01071728\\\\\n",
       "\\end{tabular}\n"
      ],
      "text/markdown": [
       "\n",
       "A matrix: 2 × 4 of type dbl\n",
       "\n",
       "| -0.7265744 |  0.3488403409 | -1.56818199 | 0.47863529 |\n",
       "| -1.0882637 | -0.0002502522 |  0.03957236 | 0.01071728 |\n",
       "\n"
      ],
      "text/plain": [
       "     [,1]       [,2]          [,3]        [,4]      \n",
       "[1,] -0.7265744  0.3488403409 -1.56818199 0.47863529\n",
       "[2,] -1.0882637 -0.0002502522  0.03957236 0.01071728"
      ]
     },
     "metadata": {},
     "output_type": "display_data"
    },
    {
     "data": {
      "text/html": [
       "<table>\n",
       "<caption>A matrix: 4 × 3 of type dbl</caption>\n",
       "<tbody>\n",
       "\t<tr><td>-3.1124977</td><td> 1.1331331</td><td>-0.1618750</td></tr>\n",
       "\t<tr><td>-0.4561366</td><td>-0.6835550</td><td> 0.6946241</td></tr>\n",
       "\t<tr><td>-1.5031855</td><td> 0.1793388</td><td>-0.5950162</td></tr>\n",
       "\t<tr><td> 0.5016549</td><td> 0.3443689</td><td>-0.1799074</td></tr>\n",
       "</tbody>\n",
       "</table>\n"
      ],
      "text/latex": [
       "A matrix: 4 × 3 of type dbl\n",
       "\\begin{tabular}{lll}\n",
       "\t -3.1124977 &  1.1331331 & -0.1618750\\\\\n",
       "\t -0.4561366 & -0.6835550 &  0.6946241\\\\\n",
       "\t -1.5031855 &  0.1793388 & -0.5950162\\\\\n",
       "\t  0.5016549 &  0.3443689 & -0.1799074\\\\\n",
       "\\end{tabular}\n"
      ],
      "text/markdown": [
       "\n",
       "A matrix: 4 × 3 of type dbl\n",
       "\n",
       "| -3.1124977 |  1.1331331 | -0.1618750 |\n",
       "| -0.4561366 | -0.6835550 |  0.6946241 |\n",
       "| -1.5031855 |  0.1793388 | -0.5950162 |\n",
       "|  0.5016549 |  0.3443689 | -0.1799074 |\n",
       "\n"
      ],
      "text/plain": [
       "     [,1]       [,2]       [,3]      \n",
       "[1,] -3.1124977  1.1331331 -0.1618750\n",
       "[2,] -0.4561366 -0.6835550  0.6946241\n",
       "[3,] -1.5031855  0.1793388 -0.5950162\n",
       "[4,]  0.5016549  0.3443689 -0.1799074"
      ]
     },
     "metadata": {},
     "output_type": "display_data"
    }
   ],
   "source": [
    "set.seed(20190813)\n",
    "\n",
    "ra <- 2\n",
    "ca <- 4\n",
    "rb <- 4\n",
    "cb <- 3\n",
    "\n",
    "A <- matrix(rnorm(ra*ca), nrow = ra)\n",
    "B <- matrix(rnorm(rb*cb), nrow = rb)\n",
    "\n",
    "A; B"
   ]
  },
  {
   "cell_type": "code",
   "execution_count": 78,
   "metadata": {},
   "outputs": [],
   "source": [
    "# Load the executable .so file (MacOS) or .dll file (Windows)\n",
    "dyn.load(\"mm_for.so\")"
   ]
  },
  {
   "cell_type": "code",
   "execution_count": 79,
   "metadata": {},
   "outputs": [
    {
     "data": {
      "text/html": [
       "TRUE"
      ],
      "text/latex": [
       "TRUE"
      ],
      "text/markdown": [
       "TRUE"
      ],
      "text/plain": [
       "[1] TRUE"
      ]
     },
     "metadata": {},
     "output_type": "display_data"
    }
   ],
   "source": [
    "# Check whether the \"mat_mul_for\" function is loaded into R\n",
    "is.loaded(\"mat_mul_for\")"
   ]
  },
  {
   "cell_type": "code",
   "execution_count": 80,
   "metadata": {},
   "outputs": [
    {
     "data": {
      "text/html": [
       "<dl>\n",
       "\t<dt>$A</dt>\n",
       "\t\t<dd><ol class=list-inline>\n",
       "\t<li>-0.72657435955062</li>\n",
       "\t<li>-1.08826373174186</li>\n",
       "\t<li>0.348840340876</li>\n",
       "\t<li>-0.000250252212517976</li>\n",
       "\t<li>-1.56818199047583</li>\n",
       "\t<li>0.0395723591446798</li>\n",
       "\t<li>0.478635292694497</li>\n",
       "\t<li>0.0107172814771946</li>\n",
       "</ol>\n",
       "</dd>\n",
       "\t<dt>$B</dt>\n",
       "\t\t<dd><ol class=list-inline>\n",
       "\t<li>-3.11249770245218</li>\n",
       "\t<li>-0.456136568911746</li>\n",
       "\t<li>-1.5031855452531</li>\n",
       "\t<li>0.501654927877872</li>\n",
       "\t<li>1.13313311393103</li>\n",
       "\t<li>-0.68355497968992</li>\n",
       "\t<li>0.179338752934091</li>\n",
       "\t<li>0.344368887483415</li>\n",
       "\t<li>-0.161874950719064</li>\n",
       "\t<li>0.694624084455543</li>\n",
       "\t<li>-0.595016170289594</li>\n",
       "\t<li>-0.179907360239921</li>\n",
       "</ol>\n",
       "</dd>\n",
       "\t<dt>$AB</dt>\n",
       "\t\t<dd><ol class=list-inline>\n",
       "\t<li>4.69972044222275</li>\n",
       "\t<li>3.33322429270281</li>\n",
       "\t<li>-1.17816571795269</li>\n",
       "\t<li>-1.222189054142</li>\n",
       "\t<li>1.20691072131186</li>\n",
       "\t<li>0.150514495323954</li>\n",
       "</ol>\n",
       "</dd>\n",
       "\t<dt>$RowA</dt>\n",
       "\t\t<dd>2</dd>\n",
       "\t<dt>$ColA</dt>\n",
       "\t\t<dd>4</dd>\n",
       "\t<dt>$RowB</dt>\n",
       "\t\t<dd>4</dd>\n",
       "\t<dt>$ColB</dt>\n",
       "\t\t<dd>3</dd>\n",
       "\t<dt>$RowAB</dt>\n",
       "\t\t<dd>2</dd>\n",
       "\t<dt>$ColAB</dt>\n",
       "\t\t<dd>3</dd>\n",
       "</dl>\n"
      ],
      "text/latex": [
       "\\begin{description}\n",
       "\\item[\\$A] \\begin{enumerate*}\n",
       "\\item -0.72657435955062\n",
       "\\item -1.08826373174186\n",
       "\\item 0.348840340876\n",
       "\\item -0.000250252212517976\n",
       "\\item -1.56818199047583\n",
       "\\item 0.0395723591446798\n",
       "\\item 0.478635292694497\n",
       "\\item 0.0107172814771946\n",
       "\\end{enumerate*}\n",
       "\n",
       "\\item[\\$B] \\begin{enumerate*}\n",
       "\\item -3.11249770245218\n",
       "\\item -0.456136568911746\n",
       "\\item -1.5031855452531\n",
       "\\item 0.501654927877872\n",
       "\\item 1.13313311393103\n",
       "\\item -0.68355497968992\n",
       "\\item 0.179338752934091\n",
       "\\item 0.344368887483415\n",
       "\\item -0.161874950719064\n",
       "\\item 0.694624084455543\n",
       "\\item -0.595016170289594\n",
       "\\item -0.179907360239921\n",
       "\\end{enumerate*}\n",
       "\n",
       "\\item[\\$AB] \\begin{enumerate*}\n",
       "\\item 4.69972044222275\n",
       "\\item 3.33322429270281\n",
       "\\item -1.17816571795269\n",
       "\\item -1.222189054142\n",
       "\\item 1.20691072131186\n",
       "\\item 0.150514495323954\n",
       "\\end{enumerate*}\n",
       "\n",
       "\\item[\\$RowA] 2\n",
       "\\item[\\$ColA] 4\n",
       "\\item[\\$RowB] 4\n",
       "\\item[\\$ColB] 3\n",
       "\\item[\\$RowAB] 2\n",
       "\\item[\\$ColAB] 3\n",
       "\\end{description}\n"
      ],
      "text/markdown": [
       "$A\n",
       ":   1. -0.72657435955062\n",
       "2. -1.08826373174186\n",
       "3. 0.348840340876\n",
       "4. -0.000250252212517976\n",
       "5. -1.56818199047583\n",
       "6. 0.0395723591446798\n",
       "7. 0.478635292694497\n",
       "8. 0.0107172814771946\n",
       "\n",
       "\n",
       "\n",
       "$B\n",
       ":   1. -3.11249770245218\n",
       "2. -0.456136568911746\n",
       "3. -1.5031855452531\n",
       "4. 0.501654927877872\n",
       "5. 1.13313311393103\n",
       "6. -0.68355497968992\n",
       "7. 0.179338752934091\n",
       "8. 0.344368887483415\n",
       "9. -0.161874950719064\n",
       "10. 0.694624084455543\n",
       "11. -0.595016170289594\n",
       "12. -0.179907360239921\n",
       "\n",
       "\n",
       "\n",
       "$AB\n",
       ":   1. 4.69972044222275\n",
       "2. 3.33322429270281\n",
       "3. -1.17816571795269\n",
       "4. -1.222189054142\n",
       "5. 1.20691072131186\n",
       "6. 0.150514495323954\n",
       "\n",
       "\n",
       "\n",
       "$RowA\n",
       ":   2\n",
       "$ColA\n",
       ":   4\n",
       "$RowB\n",
       ":   4\n",
       "$ColB\n",
       ":   3\n",
       "$RowAB\n",
       ":   2\n",
       "$ColAB\n",
       ":   3\n",
       "\n",
       "\n"
      ],
      "text/plain": [
       "$A\n",
       "[1] -0.7265743596 -1.0882637317  0.3488403409 -0.0002502522 -1.5681819905\n",
       "[6]  0.0395723591  0.4786352927  0.0107172815\n",
       "\n",
       "$B\n",
       " [1] -3.1124977 -0.4561366 -1.5031855  0.5016549  1.1331331 -0.6835550\n",
       " [7]  0.1793388  0.3443689 -0.1618750  0.6946241 -0.5950162 -0.1799074\n",
       "\n",
       "$AB\n",
       "[1]  4.6997204  3.3332243 -1.1781657 -1.2221891  1.2069107  0.1505145\n",
       "\n",
       "$RowA\n",
       "[1] 2\n",
       "\n",
       "$ColA\n",
       "[1] 4\n",
       "\n",
       "$RowB\n",
       "[1] 4\n",
       "\n",
       "$ColB\n",
       "[1] 3\n",
       "\n",
       "$RowAB\n",
       "[1] 2\n",
       "\n",
       "$ColAB\n",
       "[1] 3\n"
      ]
     },
     "metadata": {},
     "output_type": "display_data"
    },
    {
     "data": {
      "text/html": [
       "'list'"
      ],
      "text/latex": [
       "'list'"
      ],
      "text/markdown": [
       "'list'"
      ],
      "text/plain": [
       "[1] \"list\""
      ]
     },
     "metadata": {},
     "output_type": "display_data"
    }
   ],
   "source": [
    "result <- .Fortran(\"mat_mul_for\",\n",
    "                   A = as.double(A),\n",
    "                   B = as.double(B),\n",
    "                   AB = double(ra * cb),  # note the difference here\n",
    "                   RowA = as.integer(ra),\n",
    "                   ColA = as.integer(ca),\n",
    "                   RowB = as.integer(rb),\n",
    "                   ColB = as.integer(cb),\n",
    "                   RowAB = as.integer(ra),\n",
    "                   ColAB = as.integer(cb)\n",
    ")\n",
    "result\n",
    "class(result)"
   ]
  },
  {
   "cell_type": "markdown",
   "metadata": {},
   "source": [
    "#### We can wrap it in an R function as well."
   ]
  },
  {
   "cell_type": "code",
   "execution_count": 81,
   "metadata": {},
   "outputs": [],
   "source": [
    "mmf <- function(A, B) {\n",
    "    ra <- nrow(A)\n",
    "    ca <- ncol(A)\n",
    "    rb <- nrow(B)\n",
    "    cb <- ncol(B)\n",
    "    \n",
    "    if (ca == rb) {\n",
    "        result <- .Fortran(\"mat_mul_for\",\n",
    "                            A = as.double(A),\n",
    "                            B = as.double(B),\n",
    "                            AB = double(ra * cb),\n",
    "                            RowA = as.integer(ra),\n",
    "                            ColA = as.integer(ca),\n",
    "                            RowB = as.integer(rb),\n",
    "                            ColB = as.integer(cb),\n",
    "                            RowAB = as.integer(ra),\n",
    "                            ColAB = as.integer(cb)\n",
    "                            )\n",
    "        mm <- matrix(result$AB, nrow = result$RowAB, byrow = F)\n",
    "    } else {\n",
    "        stop('non-conformable arguments')\n",
    "    }\n",
    "    return(list(Result = mm,\n",
    "                Dimension = c(result$RowAB, result$ColAB)\n",
    "               )\n",
    "          )\n",
    "}"
   ]
  },
  {
   "cell_type": "code",
   "execution_count": 82,
   "metadata": {},
   "outputs": [
    {
     "data": {
      "text/html": [
       "<dl>\n",
       "\t<dt>$Result</dt>\n",
       "\t\t<dd><table>\n",
       "<caption>A matrix: 2 × 3 of type dbl</caption>\n",
       "<tbody>\n",
       "\t<tr><td>-345.3068</td><td>359.6366</td><td> -54.33261</td></tr>\n",
       "\t<tr><td>-190.4709</td><td> 85.7216</td><td>-330.53902</td></tr>\n",
       "</tbody>\n",
       "</table>\n",
       "</dd>\n",
       "\t<dt>$Dimension</dt>\n",
       "\t\t<dd><ol class=list-inline>\n",
       "\t<li>2</li>\n",
       "\t<li>3</li>\n",
       "</ol>\n",
       "</dd>\n",
       "</dl>\n"
      ],
      "text/latex": [
       "\\begin{description}\n",
       "\\item[\\$Result] A matrix: 2 × 3 of type dbl\n",
       "\\begin{tabular}{lll}\n",
       "\t -345.3068 & 359.6366 &  -54.33261\\\\\n",
       "\t -190.4709 &  85.7216 & -330.53902\\\\\n",
       "\\end{tabular}\n",
       "\n",
       "\\item[\\$Dimension] \\begin{enumerate*}\n",
       "\\item 2\n",
       "\\item 3\n",
       "\\end{enumerate*}\n",
       "\n",
       "\\end{description}\n"
      ],
      "text/markdown": [
       "$Result\n",
       ":   \n",
       "A matrix: 2 × 3 of type dbl\n",
       "\n",
       "| -345.3068 | 359.6366 |  -54.33261 |\n",
       "| -190.4709 |  85.7216 | -330.53902 |\n",
       "\n",
       "\n",
       "$Dimension\n",
       ":   1. 2\n",
       "2. 3\n",
       "\n",
       "\n",
       "\n",
       "\n",
       "\n"
      ],
      "text/plain": [
       "$Result\n",
       "          [,1]     [,2]       [,3]\n",
       "[1,] -345.3068 359.6366  -54.33261\n",
       "[2,] -190.4709  85.7216 -330.53902\n",
       "\n",
       "$Dimension\n",
       "[1] 2 3\n"
      ]
     },
     "metadata": {},
     "output_type": "display_data"
    }
   ],
   "source": [
    "set.seed(20190813)\n",
    "\n",
    "ra <- 2\n",
    "ca <- 50000\n",
    "rb <- 50000\n",
    "cb <- 3\n",
    "\n",
    "A <- matrix(rnorm(ra*ca), nrow = ra)\n",
    "B <- matrix(rnorm(rb*cb), nrow = rb)\n",
    "\n",
    "mmf(A, B)"
   ]
  },
  {
   "cell_type": "code",
   "execution_count": 83,
   "metadata": {},
   "outputs": [
    {
     "data": {
      "text/html": [
       "<table>\n",
       "<caption>A matrix: 2 × 3 of type dbl</caption>\n",
       "<tbody>\n",
       "\t<tr><td>-345.3068</td><td>359.6366</td><td> -54.33261</td></tr>\n",
       "\t<tr><td>-190.4709</td><td> 85.7216</td><td>-330.53902</td></tr>\n",
       "</tbody>\n",
       "</table>\n"
      ],
      "text/latex": [
       "A matrix: 2 × 3 of type dbl\n",
       "\\begin{tabular}{lll}\n",
       "\t -345.3068 & 359.6366 &  -54.33261\\\\\n",
       "\t -190.4709 &  85.7216 & -330.53902\\\\\n",
       "\\end{tabular}\n"
      ],
      "text/markdown": [
       "\n",
       "A matrix: 2 × 3 of type dbl\n",
       "\n",
       "| -345.3068 | 359.6366 |  -54.33261 |\n",
       "| -190.4709 |  85.7216 | -330.53902 |\n",
       "\n"
      ],
      "text/plain": [
       "     [,1]      [,2]     [,3]      \n",
       "[1,] -345.3068 359.6366  -54.33261\n",
       "[2,] -190.4709  85.7216 -330.53902"
      ]
     },
     "metadata": {},
     "output_type": "display_data"
    }
   ],
   "source": [
    "A %*% B"
   ]
  },
  {
   "cell_type": "markdown",
   "metadata": {},
   "source": [
    "<a id='4'></a>\n",
    "## 4. [Exercises](#0)\n",
    "Make a function in R using R and/or Rcpp and/or R call Fortran that does\n",
    "\n",
    "__Level 1__ Integer division of two integers using a loop\n",
    "\n",
    "        I have 9 dollars to buy donuts for my colleagues. The donuts are 2 dollars each.\n",
    "$$ 9>2 \\rightarrow 9-2 = 7\\quad \\mathrm{1\\, donut} $$\n",
    "$$ 7>2 \\rightarrow 7-2 = 5\\quad \\mathrm{2\\, donuts}  $$\n",
    "$$ 5>2 \\rightarrow 5-2 = 3\\quad \\mathrm{3\\, donuts}  $$\n",
    "$$ 3>2 \\rightarrow 3-2 = 1\\quad \\mathrm{4\\, donuts}  $$\n",
    "$$ 1<2 \\rightarrow \\mathrm{stop} $$"
   ]
  },
  {
   "cell_type": "code",
   "execution_count": 84,
   "metadata": {},
   "outputs": [
    {
     "data": {
      "text/html": [
       "4"
      ],
      "text/latex": [
       "4"
      ],
      "text/markdown": [
       "4"
      ],
      "text/plain": [
       "[1] 4"
      ]
     },
     "metadata": {},
     "output_type": "display_data"
    },
    {
     "data": {
      "text/html": [
       "1"
      ],
      "text/latex": [
       "1"
      ],
      "text/markdown": [
       "1"
      ],
      "text/plain": [
       "[1] 1"
      ]
     },
     "metadata": {},
     "output_type": "display_data"
    }
   ],
   "source": [
    "# Something like this.\n",
    "9 %/% 2; 9%%2"
   ]
  },
  {
   "cell_type": "markdown",
   "metadata": {},
   "source": [
    "__Level 2__ Element-wise integer division for two integer vectors"
   ]
  },
  {
   "cell_type": "code",
   "execution_count": 85,
   "metadata": {
    "scrolled": true
   },
   "outputs": [
    {
     "data": {
      "text/html": [
       "<ol class=list-inline>\n",
       "\t<li>2</li>\n",
       "\t<li>2</li>\n",
       "\t<li>3</li>\n",
       "\t<li>4</li>\n",
       "</ol>\n"
      ],
      "text/latex": [
       "\\begin{enumerate*}\n",
       "\\item 2\n",
       "\\item 2\n",
       "\\item 3\n",
       "\\item 4\n",
       "\\end{enumerate*}\n"
      ],
      "text/markdown": [
       "1. 2\n",
       "2. 2\n",
       "3. 3\n",
       "4. 4\n",
       "\n",
       "\n"
      ],
      "text/plain": [
       "[1] 2 2 3 4"
      ]
     },
     "metadata": {},
     "output_type": "display_data"
    },
    {
     "data": {
      "text/html": [
       "<ol class=list-inline>\n",
       "\t<li>3</li>\n",
       "\t<li>4</li>\n",
       "\t<li>1</li>\n",
       "\t<li>0</li>\n",
       "</ol>\n"
      ],
      "text/latex": [
       "\\begin{enumerate*}\n",
       "\\item 3\n",
       "\\item 4\n",
       "\\item 1\n",
       "\\item 0\n",
       "\\end{enumerate*}\n"
      ],
      "text/markdown": [
       "1. 3\n",
       "2. 4\n",
       "3. 1\n",
       "4. 0\n",
       "\n",
       "\n"
      ],
      "text/plain": [
       "[1] 3 4 1 0"
      ]
     },
     "metadata": {},
     "output_type": "display_data"
    }
   ],
   "source": [
    "# Something like this.\n",
    "c(15, 14, 13, 12) %/% c(6, 5, 4, 3)\n",
    "c(15, 14, 13, 12) %% c(6, 5, 4, 3)"
   ]
  },
  {
   "cell_type": "markdown",
   "metadata": {},
   "source": [
    "_If you like loops, loops in C++ and Fortran are fast._"
   ]
  },
  {
   "cell_type": "markdown",
   "metadata": {},
   "source": [
    "__Level 3__ Linear regression\n",
    "\n",
    "The formula for the point estimates is\n",
    "$$ \\boldsymbol{\\beta} = (\\boldsymbol{X}^\\top \\boldsymbol{X})^{-1} \\boldsymbol{X}^\\top \\boldsymbol{Y} $$\n",
    "\n",
    "- matrix transpose in R: t(X)\n",
    "- matrix inverse in R: solve(X)\n",
    "- matrix-matrix and matrix-vector mulplication in R: X %*% Y"
   ]
  },
  {
   "cell_type": "code",
   "execution_count": 86,
   "metadata": {},
   "outputs": [
    {
     "data": {
      "text/plain": [
       "\n",
       "Call:\n",
       "lm(formula = Wr.Hnd ~ NW.Hnd + Age, data = data)\n",
       "\n",
       "Coefficients:\n",
       "(Intercept)       NW.Hnd          Age  \n",
       "     1.1109       0.9535      -0.0103  \n"
      ]
     },
     "metadata": {},
     "output_type": "display_data"
    }
   ],
   "source": [
    "# If you enter the right X and Y in your function, you should get the following result\n",
    "lm(Wr.Hnd~NW.Hnd+Age, data = data)"
   ]
  },
  {
   "cell_type": "markdown",
   "metadata": {},
   "source": [
    "__Level 4__ Gradient descent to calculate the minimum value of a given function, with user-supplied gradient function.\n",
    "- Gradient descent is an iterative algorithm therefore we have to use loops. Here we can really see the speed advantage of C++ and Fortran over R."
   ]
  },
  {
   "cell_type": "code",
   "execution_count": 87,
   "metadata": {},
   "outputs": [],
   "source": [
    "# Something like this, both inputs are R functions.\n",
    "GD <- function(objective_function, gradient_function, initial_value) {\n",
    "    statements\n",
    "}"
   ]
  },
  {
   "cell_type": "markdown",
   "metadata": {},
   "source": [
    "__Level 5__ Specific task in your own research."
   ]
  },
  {
   "cell_type": "code",
   "execution_count": null,
   "metadata": {},
   "outputs": [],
   "source": []
  }
 ],
 "metadata": {
  "kernelspec": {
   "display_name": "R",
   "language": "R",
   "name": "ir"
  },
  "language_info": {
   "codemirror_mode": "r",
   "file_extension": ".r",
   "mimetype": "text/x-r-source",
   "name": "R",
   "pygments_lexer": "r",
   "version": "3.6.1"
  }
 },
 "nbformat": 4,
 "nbformat_minor": 2
}
