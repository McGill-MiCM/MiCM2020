{
 "cells": [
  {
   "cell_type": "markdown",
   "metadata": {},
   "source": [
    "# MiCM Workshop Series\n",
    "# R - Beyond the Basics\n",
    "## Efficient Coding\n",
    "### - Yi Lian\n",
    "### - March 7, 2020\n",
    "__Link to workshop material__  https://github.com/ly129/MiCM2020"
   ]
  },
  {
   "cell_type": "markdown",
   "metadata": {},
   "source": [
    "<a id='0'></a>\n",
    "## Outline\n",
    "1. [__An overview of efficiency__](#1)\n",
    "    - General rules\n",
    "    - R-specific rules\n",
    "    - R object types (if necessary)\n",
    "    - Record runtime of your code\n",
    "2. [__Efficient coding__](#2)\n",
    "    - Powerful functions in R\n",
    "            - aggregate(), by(), apply() family\n",
    "            - ifelse(), cut() and split()\n",
    "    - Write our own functions in R\n",
    "            - function()\n",
    "    - Examples\n",
    "         - Categorization, conditional operations, etc..\n",
    "3. [__Exercises__](#3)\n",
    "\n",
    "##### Important note! There are MANY advanced and powerful packages that do different things. There are too many and they are too diverse to be covered in this workshop.\n",
    "___Here is a list of some awesome packages.___ https://awesome-r.com/"
   ]
  },
  {
   "cell_type": "markdown",
   "metadata": {},
   "source": [
    "### 1.1 General rules\n",
    "### 1.2 R-specific rules"
   ]
  },
  {
   "cell_type": "markdown",
   "metadata": {},
   "source": [
    "### 1.3 R data types and structures\n",
    "#### 1.3.1 R data types\n",
    "    - numeric\n",
    "        - integer\n",
    "        - double precision (default)\n",
    "    - logical\n",
    "    - character\n",
    "    - factor\n",
    "    - ..."
   ]
  },
  {
   "cell_type": "code",
   "execution_count": 1,
   "metadata": {
    "scrolled": true
   },
   "outputs": [
    {
     "data": {
      "text/html": [
       "'numeric'"
      ],
      "text/latex": [
       "'numeric'"
      ],
      "text/markdown": [
       "'numeric'"
      ],
      "text/plain": [
       "[1] \"numeric\""
      ]
     },
     "metadata": {},
     "output_type": "display_data"
    },
    {
     "data": {
      "text/html": [
       "TRUE"
      ],
      "text/latex": [
       "TRUE"
      ],
      "text/markdown": [
       "TRUE"
      ],
      "text/plain": [
       "[1] TRUE"
      ]
     },
     "metadata": {},
     "output_type": "display_data"
    }
   ],
   "source": [
    "# double\n",
    "class(5); is.double(5)"
   ]
  },
  {
   "cell_type": "code",
   "execution_count": 2,
   "metadata": {},
   "outputs": [
    {
     "data": {
      "text/html": [
       "'numeric'"
      ],
      "text/latex": [
       "'numeric'"
      ],
      "text/markdown": [
       "'numeric'"
      ],
      "text/plain": [
       "[1] \"numeric\""
      ]
     },
     "metadata": {},
     "output_type": "display_data"
    },
    {
     "data": {
      "text/html": [
       "TRUE"
      ],
      "text/latex": [
       "TRUE"
      ],
      "text/markdown": [
       "TRUE"
      ],
      "text/plain": [
       "[1] TRUE"
      ]
     },
     "metadata": {},
     "output_type": "display_data"
    }
   ],
   "source": [
    "class(5.0);\n",
    "is.double(5.0)"
   ]
  },
  {
   "cell_type": "code",
   "execution_count": 3,
   "metadata": {},
   "outputs": [
    {
     "data": {
      "text/html": [
       "2.5"
      ],
      "text/latex": [
       "2.5"
      ],
      "text/markdown": [
       "2.5"
      ],
      "text/plain": [
       "[1] 2.5"
      ]
     },
     "metadata": {},
     "output_type": "display_data"
    }
   ],
   "source": [
    "5L/2L"
   ]
  },
  {
   "cell_type": "code",
   "execution_count": 4,
   "metadata": {
    "scrolled": true
   },
   "outputs": [
    {
     "data": {
      "text/html": [
       "'integer'"
      ],
      "text/latex": [
       "'integer'"
      ],
      "text/markdown": [
       "'integer'"
      ],
      "text/plain": [
       "[1] \"integer\""
      ]
     },
     "metadata": {},
     "output_type": "display_data"
    },
    {
     "data": {
      "text/html": [
       "FALSE"
      ],
      "text/latex": [
       "FALSE"
      ],
      "text/markdown": [
       "FALSE"
      ],
      "text/plain": [
       "[1] FALSE"
      ]
     },
     "metadata": {},
     "output_type": "display_data"
    }
   ],
   "source": [
    "# integer\n",
    "class(5L); is.double(5L)"
   ]
  },
  {
   "cell_type": "code",
   "execution_count": 5,
   "metadata": {},
   "outputs": [
    {
     "name": "stdout",
     "output_type": "stream",
     "text": [
      "[1] 0.3333333333333333148296\n"
     ]
    }
   ],
   "source": [
    "# How precise is double precision?\n",
    "options(digits = 22) # show more digits in output\n",
    "print(1/3)\n",
    "options(digits = 7) # back to the default"
   ]
  },
  {
   "cell_type": "code",
   "execution_count": 6,
   "metadata": {},
   "outputs": [
    {
     "data": {
      "text/plain": [
       "40000048 bytes"
      ]
     },
     "metadata": {},
     "output_type": "display_data"
    },
    {
     "data": {
      "text/plain": [
       "20000048 bytes"
      ]
     },
     "metadata": {},
     "output_type": "display_data"
    }
   ],
   "source": [
    "object.size(rep(5, 5e6))\n",
    "object.size(rep(5L, 5e6))"
   ]
  },
  {
   "cell_type": "code",
   "execution_count": 7,
   "metadata": {},
   "outputs": [
    {
     "data": {
      "text/html": [
       "'logical'"
      ],
      "text/latex": [
       "'logical'"
      ],
      "text/markdown": [
       "'logical'"
      ],
      "text/plain": [
       "[1] \"logical\""
      ]
     },
     "metadata": {},
     "output_type": "display_data"
    },
    {
     "data": {
      "text/html": [
       "'logical'"
      ],
      "text/latex": [
       "'logical'"
      ],
      "text/markdown": [
       "'logical'"
      ],
      "text/plain": [
       "[1] \"logical\""
      ]
     },
     "metadata": {},
     "output_type": "display_data"
    }
   ],
   "source": [
    "# logical\n",
    "class(TRUE); class(F)"
   ]
  },
  {
   "cell_type": "code",
   "execution_count": 8,
   "metadata": {},
   "outputs": [
    {
     "data": {
      "text/html": [
       "'character'"
      ],
      "text/latex": [
       "'character'"
      ],
      "text/markdown": [
       "'character'"
      ],
      "text/plain": [
       "[1] \"character\""
      ]
     },
     "metadata": {},
     "output_type": "display_data"
    }
   ],
   "source": [
    "# character\n",
    "class(\"TRUE\")"
   ]
  },
  {
   "cell_type": "code",
   "execution_count": 9,
   "metadata": {},
   "outputs": [
    {
     "data": {
      "text/html": [
       "<ol class=list-inline>\n",
       "\t<li>1</li>\n",
       "\t<li>5</li>\n",
       "\t<li>11</li>\n",
       "\t<li>3</li>\n",
       "</ol>\n",
       "\n",
       "<details>\n",
       "\t<summary style=display:list-item;cursor:pointer>\n",
       "\t\t<strong>Levels</strong>:\n",
       "\t</summary>\n",
       "\t<ol class=list-inline>\n",
       "\t\t<li>'1'</li>\n",
       "\t\t<li>'3'</li>\n",
       "\t\t<li>'5'</li>\n",
       "\t\t<li>'11'</li>\n",
       "\t</ol>\n",
       "</details>"
      ],
      "text/latex": [
       "\\begin{enumerate*}\n",
       "\\item 1\n",
       "\\item 5\n",
       "\\item 11\n",
       "\\item 3\n",
       "\\end{enumerate*}\n",
       "\n",
       "\\emph{Levels}: \\begin{enumerate*}\n",
       "\\item '1'\n",
       "\\item '3'\n",
       "\\item '5'\n",
       "\\item '11'\n",
       "\\end{enumerate*}\n"
      ],
      "text/markdown": [
       "1. 1\n",
       "2. 5\n",
       "3. 11\n",
       "4. 3\n",
       "\n",
       "\n",
       "\n",
       "**Levels**: 1. '1'\n",
       "2. '3'\n",
       "3. '5'\n",
       "4. '11'\n",
       "\n",
       "\n"
      ],
      "text/plain": [
       "[1] 1  5  11 3 \n",
       "Levels: 1 3 5 11"
      ]
     },
     "metadata": {},
     "output_type": "display_data"
    }
   ],
   "source": [
    "# Not important for this workshop\n",
    "fac <- as.factor(c(1, 5, 11, 3))\n",
    "fac"
   ]
  },
  {
   "cell_type": "code",
   "execution_count": 10,
   "metadata": {},
   "outputs": [
    {
     "data": {
      "text/html": [
       "'factor'"
      ],
      "text/latex": [
       "'factor'"
      ],
      "text/markdown": [
       "'factor'"
      ],
      "text/plain": [
       "[1] \"factor\""
      ]
     },
     "metadata": {},
     "output_type": "display_data"
    }
   ],
   "source": [
    "class(fac)"
   ]
  },
  {
   "cell_type": "code",
   "execution_count": 11,
   "metadata": {},
   "outputs": [
    {
     "data": {
      "text/html": [
       "<ol class=list-inline>\n",
       "\t<li>B</li>\n",
       "\t<li>a</li>\n",
       "\t<li>1</li>\n",
       "\t<li>ab</li>\n",
       "\t<li>b</li>\n",
       "\t<li>A</li>\n",
       "</ol>\n",
       "\n",
       "<details>\n",
       "\t<summary style=display:list-item;cursor:pointer>\n",
       "\t\t<strong>Levels</strong>:\n",
       "\t</summary>\n",
       "\t<ol class=list-inline>\n",
       "\t\t<li>'1'</li>\n",
       "\t\t<li>'a'</li>\n",
       "\t\t<li>'A'</li>\n",
       "\t\t<li>'ab'</li>\n",
       "\t\t<li>'b'</li>\n",
       "\t\t<li>'B'</li>\n",
       "\t</ol>\n",
       "</details>"
      ],
      "text/latex": [
       "\\begin{enumerate*}\n",
       "\\item B\n",
       "\\item a\n",
       "\\item 1\n",
       "\\item ab\n",
       "\\item b\n",
       "\\item A\n",
       "\\end{enumerate*}\n",
       "\n",
       "\\emph{Levels}: \\begin{enumerate*}\n",
       "\\item '1'\n",
       "\\item 'a'\n",
       "\\item 'A'\n",
       "\\item 'ab'\n",
       "\\item 'b'\n",
       "\\item 'B'\n",
       "\\end{enumerate*}\n"
      ],
      "text/markdown": [
       "1. B\n",
       "2. a\n",
       "3. 1\n",
       "4. ab\n",
       "5. b\n",
       "6. A\n",
       "\n",
       "\n",
       "\n",
       "**Levels**: 1. '1'\n",
       "2. 'a'\n",
       "3. 'A'\n",
       "4. 'ab'\n",
       "5. 'b'\n",
       "6. 'B'\n",
       "\n",
       "\n"
      ],
      "text/plain": [
       "[1] B  a  1  ab b  A \n",
       "Levels: 1 a A ab b B"
      ]
     },
     "metadata": {},
     "output_type": "display_data"
    }
   ],
   "source": [
    "# R has an algorithm to decide the order of the levels\n",
    "fac.ch <- as.factor(c(\"B\", \"a\", \"1\", \"ab\", \"b\", \"A\"))\n",
    "fac.ch"
   ]
  },
  {
   "cell_type": "markdown",
   "metadata": {},
   "source": [
    "#### 1.3.2 R data structures\n",
    "    - Scalar *\n",
    "    - Vector\n",
    "    - Matrix\n",
    "    - Array\n",
    "    - List\n",
    "    - Data frame\n",
    "    - ..."
   ]
  },
  {
   "cell_type": "code",
   "execution_count": 12,
   "metadata": {
    "scrolled": true
   },
   "outputs": [
    {
     "data": {
      "text/html": [
       "5"
      ],
      "text/latex": [
       "5"
      ],
      "text/markdown": [
       "5"
      ],
      "text/plain": [
       "[1] 5"
      ]
     },
     "metadata": {},
     "output_type": "display_data"
    }
   ],
   "source": [
    "# Scalar - a vector of length 1\n",
    "myscalar <- 5\n",
    "myscalar"
   ]
  },
  {
   "cell_type": "code",
   "execution_count": 13,
   "metadata": {},
   "outputs": [
    {
     "data": {
      "text/html": [
       "'numeric'"
      ],
      "text/latex": [
       "'numeric'"
      ],
      "text/markdown": [
       "'numeric'"
      ],
      "text/plain": [
       "[1] \"numeric\""
      ]
     },
     "metadata": {},
     "output_type": "display_data"
    }
   ],
   "source": [
    "class(myscalar)"
   ]
  },
  {
   "cell_type": "code",
   "execution_count": 14,
   "metadata": {},
   "outputs": [
    {
     "data": {
      "text/html": [
       "<ol class=list-inline>\n",
       "\t<li>1</li>\n",
       "\t<li>1</li>\n",
       "\t<li>2</li>\n",
       "\t<li>3</li>\n",
       "\t<li>5</li>\n",
       "\t<li>8</li>\n",
       "</ol>\n"
      ],
      "text/latex": [
       "\\begin{enumerate*}\n",
       "\\item 1\n",
       "\\item 1\n",
       "\\item 2\n",
       "\\item 3\n",
       "\\item 5\n",
       "\\item 8\n",
       "\\end{enumerate*}\n"
      ],
      "text/markdown": [
       "1. 1\n",
       "2. 1\n",
       "3. 2\n",
       "4. 3\n",
       "5. 5\n",
       "6. 8\n",
       "\n",
       "\n"
      ],
      "text/plain": [
       "[1] 1 1 2 3 5 8"
      ]
     },
     "metadata": {},
     "output_type": "display_data"
    }
   ],
   "source": [
    "# Vector\n",
    "myvector <- c(1, 1, 2, 3, 5, 8)\n",
    "myvector"
   ]
  },
  {
   "cell_type": "code",
   "execution_count": 15,
   "metadata": {},
   "outputs": [
    {
     "data": {
      "text/html": [
       "'numeric'"
      ],
      "text/latex": [
       "'numeric'"
      ],
      "text/markdown": [
       "'numeric'"
      ],
      "text/plain": [
       "[1] \"numeric\""
      ]
     },
     "metadata": {},
     "output_type": "display_data"
    }
   ],
   "source": [
    "class(myvector)"
   ]
  },
  {
   "cell_type": "code",
   "execution_count": 16,
   "metadata": {},
   "outputs": [
    {
     "data": {
      "text/html": [
       "<table>\n",
       "<caption>A matrix: 2 × 3 of type dbl</caption>\n",
       "<tbody>\n",
       "\t<tr><td>1</td><td>2</td><td>5</td></tr>\n",
       "\t<tr><td>1</td><td>3</td><td>8</td></tr>\n",
       "</tbody>\n",
       "</table>\n"
      ],
      "text/latex": [
       "A matrix: 2 × 3 of type dbl\n",
       "\\begin{tabular}{lll}\n",
       "\t 1 & 2 & 5\\\\\n",
       "\t 1 & 3 & 8\\\\\n",
       "\\end{tabular}\n"
      ],
      "text/markdown": [
       "\n",
       "A matrix: 2 × 3 of type dbl\n",
       "\n",
       "| 1 | 2 | 5 |\n",
       "| 1 | 3 | 8 |\n",
       "\n"
      ],
      "text/plain": [
       "     [,1] [,2] [,3]\n",
       "[1,] 1    2    5   \n",
       "[2,] 1    3    8   "
      ]
     },
     "metadata": {},
     "output_type": "display_data"
    }
   ],
   "source": [
    "# Matrix - a 2d array\n",
    "mymatrix <- matrix(c(1, 1, 2, 3, 5, 8), nrow = 2, byrow = FALSE)\n",
    "mymatrix"
   ]
  },
  {
   "cell_type": "code",
   "execution_count": 17,
   "metadata": {},
   "outputs": [
    {
     "data": {
      "text/html": [
       "'matrix'"
      ],
      "text/latex": [
       "'matrix'"
      ],
      "text/markdown": [
       "'matrix'"
      ],
      "text/plain": [
       "[1] \"matrix\""
      ]
     },
     "metadata": {},
     "output_type": "display_data"
    }
   ],
   "source": [
    "class(mymatrix)"
   ]
  },
  {
   "cell_type": "code",
   "execution_count": 18,
   "metadata": {},
   "outputs": [
    {
     "name": "stdout",
     "output_type": "stream",
     "text": [
      " num [1:2, 1:3] 1 1 2 3 5 8\n"
     ]
    }
   ],
   "source": [
    "str(mymatrix)"
   ]
  },
  {
   "cell_type": "code",
   "execution_count": 19,
   "metadata": {},
   "outputs": [
    {
     "name": "stdout",
     "output_type": "stream",
     "text": [
      ", , 1\n",
      "\n",
      "     [,1] [,2]\n",
      "[1,]    1    2\n",
      "[2,]    1    3\n",
      "\n",
      ", , 2\n",
      "\n",
      "     [,1] [,2]\n",
      "[1,]    5   13\n",
      "[2,]    8   21\n",
      "\n",
      ", , 3\n",
      "\n",
      "     [,1] [,2]\n",
      "[1,]   34   89\n",
      "[2,]   55  144\n",
      "\n"
     ]
    }
   ],
   "source": [
    "# Array - not important for this workshop\n",
    "myarray <- array(c(1, 1, 2, 3, 5, 8, 13, 21, 34, 55, 89, 144), dim = c(2, 2, 3))\n",
    "print(myarray) # print() is not needed if run in R or Rstudio."
   ]
  },
  {
   "cell_type": "code",
   "execution_count": 20,
   "metadata": {},
   "outputs": [
    {
     "data": {
      "text/html": [
       "'array'"
      ],
      "text/latex": [
       "'array'"
      ],
      "text/markdown": [
       "'array'"
      ],
      "text/plain": [
       "[1] \"array\""
      ]
     },
     "metadata": {},
     "output_type": "display_data"
    }
   ],
   "source": [
    "class(myarray)"
   ]
  },
  {
   "cell_type": "code",
   "execution_count": 21,
   "metadata": {},
   "outputs": [
    {
     "name": "stdout",
     "output_type": "stream",
     "text": [
      "$Title\n",
      "[1] \"R Beyond the Basics\"\n",
      "\n",
      "$Duration\n",
      "[1] 2 2\n",
      "\n",
      "$sections\n",
      "[1] 1 2 3 4\n",
      "Levels: 1 2 3 4\n",
      "\n",
      "$Date\n",
      "[1] \"2020-03-06\"\n",
      "\n",
      "$Lunch_provided\n",
      "[1] FALSE\n",
      "\n",
      "$Feedbacks\n",
      "[1] \"Amazing!\"        \"Great workshop!\" \"Yi is the best!\" \"Wow!\"           \n",
      "\n"
     ]
    }
   ],
   "source": [
    "# List - very important for the workshop\n",
    "mylist <- list(Title = \"R Beyond the Basics\",\n",
    "               Duration = c(2, 2),\n",
    "               sections = as.factor(c(1, 2, 3, 4)),\n",
    "               Date = as.Date(\"2020-03-06\"),\n",
    "               Lunch_provided = FALSE,\n",
    "               Feedbacks = c(\"Amazing!\", \"Great workshop!\", \"Yi is the best!\", \"Wow!\")\n",
    ")\n",
    "print(mylist) # No need for print if running in R or Rstudio"
   ]
  },
  {
   "cell_type": "code",
   "execution_count": 22,
   "metadata": {},
   "outputs": [
    {
     "data": {
      "text/html": [
       "'list'"
      ],
      "text/latex": [
       "'list'"
      ],
      "text/markdown": [
       "'list'"
      ],
      "text/plain": [
       "[1] \"list\""
      ]
     },
     "metadata": {},
     "output_type": "display_data"
    }
   ],
   "source": [
    "class(mylist)"
   ]
  },
  {
   "cell_type": "code",
   "execution_count": 23,
   "metadata": {},
   "outputs": [
    {
     "data": {
      "text/html": [
       "'R Beyond the Basics'"
      ],
      "text/latex": [
       "'R Beyond the Basics'"
      ],
      "text/markdown": [
       "'R Beyond the Basics'"
      ],
      "text/plain": [
       "[1] \"R Beyond the Basics\""
      ]
     },
     "metadata": {},
     "output_type": "display_data"
    }
   ],
   "source": [
    "# Access data stored in lists\n",
    "mylist$Title"
   ]
  },
  {
   "cell_type": "code",
   "execution_count": 24,
   "metadata": {},
   "outputs": [
    {
     "data": {
      "text/html": [
       "<ol class=list-inline>\n",
       "\t<li>'Amazing!'</li>\n",
       "\t<li>'Great workshop!'</li>\n",
       "\t<li>'Yi is the best!'</li>\n",
       "\t<li>'Wow!'</li>\n",
       "</ol>\n"
      ],
      "text/latex": [
       "\\begin{enumerate*}\n",
       "\\item 'Amazing!'\n",
       "\\item 'Great workshop!'\n",
       "\\item 'Yi is the best!'\n",
       "\\item 'Wow!'\n",
       "\\end{enumerate*}\n"
      ],
      "text/markdown": [
       "1. 'Amazing!'\n",
       "2. 'Great workshop!'\n",
       "3. 'Yi is the best!'\n",
       "4. 'Wow!'\n",
       "\n",
       "\n"
      ],
      "text/plain": [
       "[1] \"Amazing!\"        \"Great workshop!\" \"Yi is the best!\" \"Wow!\"           "
      ]
     },
     "metadata": {},
     "output_type": "display_data"
    }
   ],
   "source": [
    "# or\n",
    "mylist[[6]]"
   ]
  },
  {
   "cell_type": "code",
   "execution_count": 25,
   "metadata": {},
   "outputs": [
    {
     "data": {
      "text/html": [
       "2"
      ],
      "text/latex": [
       "2"
      ],
      "text/markdown": [
       "2"
      ],
      "text/plain": [
       "[1] 2"
      ]
     },
     "metadata": {},
     "output_type": "display_data"
    },
    {
     "data": {
      "text/html": [
       "'Great workshop!'"
      ],
      "text/latex": [
       "'Great workshop!'"
      ],
      "text/markdown": [
       "'Great workshop!'"
      ],
      "text/plain": [
       "[1] \"Great workshop!\""
      ]
     },
     "metadata": {},
     "output_type": "display_data"
    }
   ],
   "source": [
    "# Further\n",
    "mylist$Duration[1]\n",
    "mylist[[6]][2]"
   ]
  },
  {
   "cell_type": "code",
   "execution_count": 26,
   "metadata": {},
   "outputs": [
    {
     "data": {
      "text/html": [
       "<dl>\n",
       "\t<dt>$Title</dt>\n",
       "\t\t<dd>'character'</dd>\n",
       "\t<dt>$Duration</dt>\n",
       "\t\t<dd>'numeric'</dd>\n",
       "\t<dt>$sections</dt>\n",
       "\t\t<dd>'factor'</dd>\n",
       "\t<dt>$Date</dt>\n",
       "\t\t<dd>'Date'</dd>\n",
       "\t<dt>$Lunch_provided</dt>\n",
       "\t\t<dd>'logical'</dd>\n",
       "\t<dt>$Feedbacks</dt>\n",
       "\t\t<dd>'character'</dd>\n",
       "</dl>\n"
      ],
      "text/latex": [
       "\\begin{description}\n",
       "\\item[\\$Title] 'character'\n",
       "\\item[\\$Duration] 'numeric'\n",
       "\\item[\\$sections] 'factor'\n",
       "\\item[\\$Date] 'Date'\n",
       "\\item[\\$Lunch\\_provided] 'logical'\n",
       "\\item[\\$Feedbacks] 'character'\n",
       "\\end{description}\n"
      ],
      "text/markdown": [
       "$Title\n",
       ":   'character'\n",
       "$Duration\n",
       ":   'numeric'\n",
       "$sections\n",
       ":   'factor'\n",
       "$Date\n",
       ":   'Date'\n",
       "$Lunch_provided\n",
       ":   'logical'\n",
       "$Feedbacks\n",
       ":   'character'\n",
       "\n",
       "\n"
      ],
      "text/plain": [
       "$Title\n",
       "[1] \"character\"\n",
       "\n",
       "$Duration\n",
       "[1] \"numeric\"\n",
       "\n",
       "$sections\n",
       "[1] \"factor\"\n",
       "\n",
       "$Date\n",
       "[1] \"Date\"\n",
       "\n",
       "$Lunch_provided\n",
       "[1] \"logical\"\n",
       "\n",
       "$Feedbacks\n",
       "[1] \"character\"\n"
      ]
     },
     "metadata": {},
     "output_type": "display_data"
    }
   ],
   "source": [
    "# Elements in lists can have different data types\n",
    "lapply(mylist, class) # We will talk about lapply() later"
   ]
  },
  {
   "cell_type": "code",
   "execution_count": 27,
   "metadata": {},
   "outputs": [
    {
     "data": {
      "text/html": [
       "<dl>\n",
       "\t<dt>$Title</dt>\n",
       "\t\t<dd>1</dd>\n",
       "\t<dt>$Duration</dt>\n",
       "\t\t<dd>2</dd>\n",
       "\t<dt>$sections</dt>\n",
       "\t\t<dd>4</dd>\n",
       "\t<dt>$Date</dt>\n",
       "\t\t<dd>1</dd>\n",
       "\t<dt>$Lunch_provided</dt>\n",
       "\t\t<dd>1</dd>\n",
       "\t<dt>$Feedbacks</dt>\n",
       "\t\t<dd>4</dd>\n",
       "</dl>\n"
      ],
      "text/latex": [
       "\\begin{description}\n",
       "\\item[\\$Title] 1\n",
       "\\item[\\$Duration] 2\n",
       "\\item[\\$sections] 4\n",
       "\\item[\\$Date] 1\n",
       "\\item[\\$Lunch\\_provided] 1\n",
       "\\item[\\$Feedbacks] 4\n",
       "\\end{description}\n"
      ],
      "text/markdown": [
       "$Title\n",
       ":   1\n",
       "$Duration\n",
       ":   2\n",
       "$sections\n",
       ":   4\n",
       "$Date\n",
       ":   1\n",
       "$Lunch_provided\n",
       ":   1\n",
       "$Feedbacks\n",
       ":   4\n",
       "\n",
       "\n"
      ],
      "text/plain": [
       "$Title\n",
       "[1] 1\n",
       "\n",
       "$Duration\n",
       "[1] 2\n",
       "\n",
       "$sections\n",
       "[1] 4\n",
       "\n",
       "$Date\n",
       "[1] 1\n",
       "\n",
       "$Lunch_provided\n",
       "[1] 1\n",
       "\n",
       "$Feedbacks\n",
       "[1] 4\n"
      ]
     },
     "metadata": {},
     "output_type": "display_data"
    }
   ],
   "source": [
    "# Elements in list can have different lengths\n",
    "lapply(mylist, length)"
   ]
  },
  {
   "cell_type": "code",
   "execution_count": 28,
   "metadata": {
    "scrolled": true
   },
   "outputs": [
    {
     "data": {
      "text/html": [
       "<table>\n",
       "<caption>A data.frame: 6 × 11</caption>\n",
       "<thead>\n",
       "\t<tr><th></th><th scope=col>mpg</th><th scope=col>cyl</th><th scope=col>disp</th><th scope=col>hp</th><th scope=col>drat</th><th scope=col>wt</th><th scope=col>qsec</th><th scope=col>vs</th><th scope=col>am</th><th scope=col>gear</th><th scope=col>carb</th></tr>\n",
       "\t<tr><th></th><th scope=col>&lt;dbl&gt;</th><th scope=col>&lt;dbl&gt;</th><th scope=col>&lt;dbl&gt;</th><th scope=col>&lt;dbl&gt;</th><th scope=col>&lt;dbl&gt;</th><th scope=col>&lt;dbl&gt;</th><th scope=col>&lt;dbl&gt;</th><th scope=col>&lt;dbl&gt;</th><th scope=col>&lt;dbl&gt;</th><th scope=col>&lt;dbl&gt;</th><th scope=col>&lt;dbl&gt;</th></tr>\n",
       "</thead>\n",
       "<tbody>\n",
       "\t<tr><th scope=row>Mazda RX4</th><td>21.0</td><td>6</td><td>160</td><td>110</td><td>3.90</td><td>2.620</td><td>16.46</td><td>0</td><td>1</td><td>4</td><td>4</td></tr>\n",
       "\t<tr><th scope=row>Mazda RX4 Wag</th><td>21.0</td><td>6</td><td>160</td><td>110</td><td>3.90</td><td>2.875</td><td>17.02</td><td>0</td><td>1</td><td>4</td><td>4</td></tr>\n",
       "\t<tr><th scope=row>Datsun 710</th><td>22.8</td><td>4</td><td>108</td><td> 93</td><td>3.85</td><td>2.320</td><td>18.61</td><td>1</td><td>1</td><td>4</td><td>1</td></tr>\n",
       "\t<tr><th scope=row>Hornet 4 Drive</th><td>21.4</td><td>6</td><td>258</td><td>110</td><td>3.08</td><td>3.215</td><td>19.44</td><td>1</td><td>0</td><td>3</td><td>1</td></tr>\n",
       "\t<tr><th scope=row>Hornet Sportabout</th><td>18.7</td><td>8</td><td>360</td><td>175</td><td>3.15</td><td>3.440</td><td>17.02</td><td>0</td><td>0</td><td>3</td><td>2</td></tr>\n",
       "\t<tr><th scope=row>Valiant</th><td>18.1</td><td>6</td><td>225</td><td>105</td><td>2.76</td><td>3.460</td><td>20.22</td><td>1</td><td>0</td><td>3</td><td>1</td></tr>\n",
       "</tbody>\n",
       "</table>\n"
      ],
      "text/latex": [
       "A data.frame: 6 × 11\n",
       "\\begin{tabular}{r|lllllllllll}\n",
       "  & mpg & cyl & disp & hp & drat & wt & qsec & vs & am & gear & carb\\\\\n",
       "  & <dbl> & <dbl> & <dbl> & <dbl> & <dbl> & <dbl> & <dbl> & <dbl> & <dbl> & <dbl> & <dbl>\\\\\n",
       "\\hline\n",
       "\tMazda RX4 & 21.0 & 6 & 160 & 110 & 3.90 & 2.620 & 16.46 & 0 & 1 & 4 & 4\\\\\n",
       "\tMazda RX4 Wag & 21.0 & 6 & 160 & 110 & 3.90 & 2.875 & 17.02 & 0 & 1 & 4 & 4\\\\\n",
       "\tDatsun 710 & 22.8 & 4 & 108 &  93 & 3.85 & 2.320 & 18.61 & 1 & 1 & 4 & 1\\\\\n",
       "\tHornet 4 Drive & 21.4 & 6 & 258 & 110 & 3.08 & 3.215 & 19.44 & 1 & 0 & 3 & 1\\\\\n",
       "\tHornet Sportabout & 18.7 & 8 & 360 & 175 & 3.15 & 3.440 & 17.02 & 0 & 0 & 3 & 2\\\\\n",
       "\tValiant & 18.1 & 6 & 225 & 105 & 2.76 & 3.460 & 20.22 & 1 & 0 & 3 & 1\\\\\n",
       "\\end{tabular}\n"
      ],
      "text/markdown": [
       "\n",
       "A data.frame: 6 × 11\n",
       "\n",
       "| <!--/--> | mpg &lt;dbl&gt; | cyl &lt;dbl&gt; | disp &lt;dbl&gt; | hp &lt;dbl&gt; | drat &lt;dbl&gt; | wt &lt;dbl&gt; | qsec &lt;dbl&gt; | vs &lt;dbl&gt; | am &lt;dbl&gt; | gear &lt;dbl&gt; | carb &lt;dbl&gt; |\n",
       "|---|---|---|---|---|---|---|---|---|---|---|---|\n",
       "| Mazda RX4 | 21.0 | 6 | 160 | 110 | 3.90 | 2.620 | 16.46 | 0 | 1 | 4 | 4 |\n",
       "| Mazda RX4 Wag | 21.0 | 6 | 160 | 110 | 3.90 | 2.875 | 17.02 | 0 | 1 | 4 | 4 |\n",
       "| Datsun 710 | 22.8 | 4 | 108 |  93 | 3.85 | 2.320 | 18.61 | 1 | 1 | 4 | 1 |\n",
       "| Hornet 4 Drive | 21.4 | 6 | 258 | 110 | 3.08 | 3.215 | 19.44 | 1 | 0 | 3 | 1 |\n",
       "| Hornet Sportabout | 18.7 | 8 | 360 | 175 | 3.15 | 3.440 | 17.02 | 0 | 0 | 3 | 2 |\n",
       "| Valiant | 18.1 | 6 | 225 | 105 | 2.76 | 3.460 | 20.22 | 1 | 0 | 3 | 1 |\n",
       "\n"
      ],
      "text/plain": [
       "                  mpg  cyl disp hp  drat wt    qsec  vs am gear carb\n",
       "Mazda RX4         21.0 6   160  110 3.90 2.620 16.46 0  1  4    4   \n",
       "Mazda RX4 Wag     21.0 6   160  110 3.90 2.875 17.02 0  1  4    4   \n",
       "Datsun 710        22.8 4   108   93 3.85 2.320 18.61 1  1  4    1   \n",
       "Hornet 4 Drive    21.4 6   258  110 3.08 3.215 19.44 1  0  3    1   \n",
       "Hornet Sportabout 18.7 8   360  175 3.15 3.440 17.02 0  0  3    2   \n",
       "Valiant           18.1 6   225  105 2.76 3.460 20.22 1  0  3    1   "
      ]
     },
     "metadata": {},
     "output_type": "display_data"
    }
   ],
   "source": [
    "# Data frames - most commonly used for analyses\n",
    "head(mtcars)"
   ]
  },
  {
   "cell_type": "code",
   "execution_count": 29,
   "metadata": {},
   "outputs": [
    {
     "data": {
      "text/html": [
       "<ol class=list-inline>\n",
       "\t<li>21</li>\n",
       "\t<li>21</li>\n",
       "\t<li>22.8</li>\n",
       "\t<li>21.4</li>\n",
       "\t<li>18.7</li>\n",
       "\t<li>18.1</li>\n",
       "\t<li>14.3</li>\n",
       "\t<li>24.4</li>\n",
       "\t<li>22.8</li>\n",
       "\t<li>19.2</li>\n",
       "\t<li>17.8</li>\n",
       "\t<li>16.4</li>\n",
       "\t<li>17.3</li>\n",
       "\t<li>15.2</li>\n",
       "\t<li>10.4</li>\n",
       "\t<li>10.4</li>\n",
       "\t<li>14.7</li>\n",
       "\t<li>32.4</li>\n",
       "\t<li>30.4</li>\n",
       "\t<li>33.9</li>\n",
       "\t<li>21.5</li>\n",
       "\t<li>15.5</li>\n",
       "\t<li>15.2</li>\n",
       "\t<li>13.3</li>\n",
       "\t<li>19.2</li>\n",
       "\t<li>27.3</li>\n",
       "\t<li>26</li>\n",
       "\t<li>30.4</li>\n",
       "\t<li>15.8</li>\n",
       "\t<li>19.7</li>\n",
       "\t<li>15</li>\n",
       "\t<li>21.4</li>\n",
       "</ol>\n"
      ],
      "text/latex": [
       "\\begin{enumerate*}\n",
       "\\item 21\n",
       "\\item 21\n",
       "\\item 22.8\n",
       "\\item 21.4\n",
       "\\item 18.7\n",
       "\\item 18.1\n",
       "\\item 14.3\n",
       "\\item 24.4\n",
       "\\item 22.8\n",
       "\\item 19.2\n",
       "\\item 17.8\n",
       "\\item 16.4\n",
       "\\item 17.3\n",
       "\\item 15.2\n",
       "\\item 10.4\n",
       "\\item 10.4\n",
       "\\item 14.7\n",
       "\\item 32.4\n",
       "\\item 30.4\n",
       "\\item 33.9\n",
       "\\item 21.5\n",
       "\\item 15.5\n",
       "\\item 15.2\n",
       "\\item 13.3\n",
       "\\item 19.2\n",
       "\\item 27.3\n",
       "\\item 26\n",
       "\\item 30.4\n",
       "\\item 15.8\n",
       "\\item 19.7\n",
       "\\item 15\n",
       "\\item 21.4\n",
       "\\end{enumerate*}\n"
      ],
      "text/markdown": [
       "1. 21\n",
       "2. 21\n",
       "3. 22.8\n",
       "4. 21.4\n",
       "5. 18.7\n",
       "6. 18.1\n",
       "7. 14.3\n",
       "8. 24.4\n",
       "9. 22.8\n",
       "10. 19.2\n",
       "11. 17.8\n",
       "12. 16.4\n",
       "13. 17.3\n",
       "14. 15.2\n",
       "15. 10.4\n",
       "16. 10.4\n",
       "17. 14.7\n",
       "18. 32.4\n",
       "19. 30.4\n",
       "20. 33.9\n",
       "21. 21.5\n",
       "22. 15.5\n",
       "23. 15.2\n",
       "24. 13.3\n",
       "25. 19.2\n",
       "26. 27.3\n",
       "27. 26\n",
       "28. 30.4\n",
       "29. 15.8\n",
       "30. 19.7\n",
       "31. 15\n",
       "32. 21.4\n",
       "\n",
       "\n"
      ],
      "text/plain": [
       " [1] 21.0 21.0 22.8 21.4 18.7 18.1 14.3 24.4 22.8 19.2 17.8 16.4 17.3 15.2 10.4\n",
       "[16] 10.4 14.7 32.4 30.4 33.9 21.5 15.5 15.2 13.3 19.2 27.3 26.0 30.4 15.8 19.7\n",
       "[31] 15.0 21.4"
      ]
     },
     "metadata": {},
     "output_type": "display_data"
    }
   ],
   "source": [
    "# Access a column (variable) in data frames\n",
    "mtcars$mpg"
   ]
  },
  {
   "cell_type": "markdown",
   "metadata": {},
   "source": [
    "### 1.4 Time your program in R\n",
    "___Illustrations of R rules for efficiency.___\n",
    "        - proc.time(), system.time()\n",
    "        - microbenchmark\n",
    "\n",
    "#### 1.4.1 Vectorized operation vs. loop\n",
    "__Example__\n",
    "Calculate the square root of 1 to 1,000,000 using vectorized operation vs. using a for loop."
   ]
  },
  {
   "cell_type": "code",
   "execution_count": 30,
   "metadata": {},
   "outputs": [
    {
     "data": {
      "text/html": [
       "<ol class=list-inline>\n",
       "\t<li>1</li>\n",
       "\t<li>1.4142135623731</li>\n",
       "\t<li>1.73205080756888</li>\n",
       "\t<li>2</li>\n",
       "\t<li>2.23606797749979</li>\n",
       "\t<li>2.44948974278318</li>\n",
       "</ol>\n"
      ],
      "text/latex": [
       "\\begin{enumerate*}\n",
       "\\item 1\n",
       "\\item 1.4142135623731\n",
       "\\item 1.73205080756888\n",
       "\\item 2\n",
       "\\item 2.23606797749979\n",
       "\\item 2.44948974278318\n",
       "\\end{enumerate*}\n"
      ],
      "text/markdown": [
       "1. 1\n",
       "2. 1.4142135623731\n",
       "3. 1.73205080756888\n",
       "4. 2\n",
       "5. 2.23606797749979\n",
       "6. 2.44948974278318\n",
       "\n",
       "\n"
      ],
      "text/plain": [
       "[1] 1.000000 1.414214 1.732051 2.000000 2.236068 2.449490"
      ]
     },
     "metadata": {},
     "output_type": "display_data"
    }
   ],
   "source": [
    "# Vectorized operation\n",
    "# system.time(operation)  returns the time needed to run the 'operation'\n",
    "t <- system.time( x1 <- sqrt(1:1000000) )\n",
    "head(x1)"
   ]
  },
  {
   "cell_type": "code",
   "execution_count": 31,
   "metadata": {},
   "outputs": [
    {
     "data": {
      "text/html": [
       "TRUE"
      ],
      "text/latex": [
       "TRUE"
      ],
      "text/markdown": [
       "TRUE"
      ],
      "text/plain": [
       "[1] TRUE"
      ]
     },
     "metadata": {},
     "output_type": "display_data"
    }
   ],
   "source": [
    "# For loop with memory pre-allocation\n",
    "x2 <- rep(NA, 1000000)\n",
    "t0 <- proc.time()\n",
    "for (i in 1:1000000) {\n",
    "    x2[i] <- sqrt(i)\n",
    "}\n",
    "t1 <- proc.time()\n",
    "\n",
    "identical(x1, x2) # Check whether results are the same"
   ]
  },
  {
   "cell_type": "code",
   "execution_count": 32,
   "metadata": {},
   "outputs": [
    {
     "data": {
      "text/html": [
       "TRUE"
      ],
      "text/latex": [
       "TRUE"
      ],
      "text/markdown": [
       "TRUE"
      ],
      "text/plain": [
       "[1] TRUE"
      ]
     },
     "metadata": {},
     "output_type": "display_data"
    }
   ],
   "source": [
    "# For loop without memory pre-allocation\n",
    "x3 <- NULL\n",
    "t2 <- proc.time()\n",
    "for (i in 1:1000000) {\n",
    "    x3[i] <- sqrt(i)\n",
    "}\n",
    "t3 <- proc.time()\n",
    "\n",
    "identical(x1, x2) # Check whether results are the sa"
   ]
  },
  {
   "cell_type": "code",
   "execution_count": 33,
   "metadata": {
    "scrolled": true
   },
   "outputs": [
    {
     "data": {
      "text/plain": [
       "   user  system elapsed \n",
       "  0.006   0.004   0.010 "
      ]
     },
     "metadata": {},
     "output_type": "display_data"
    },
    {
     "data": {
      "text/plain": [
       "   user  system elapsed \n",
       "  0.066   0.003   0.070 "
      ]
     },
     "metadata": {},
     "output_type": "display_data"
    },
    {
     "data": {
      "text/plain": [
       "   user  system elapsed \n",
       "  0.288   0.062   0.351 "
      ]
     },
     "metadata": {},
     "output_type": "display_data"
    }
   ],
   "source": [
    "# As we can see, R is not very fast with loops.\n",
    "t; t1 - t0; t3 - t2\n",
    "# ?proc.time"
   ]
  },
  {
   "cell_type": "markdown",
   "metadata": {},
   "source": [
    "##### How did R execute these three sets of codes?\n",
    "The better we know how programming languages work, how computers work in general, the better codes we can write.\n",
    "1. Vectorized\n",
    "        x1 <- sqrt(1:1000000)\n",
    "        \n",
    "        - sqrt 1, sqrt 2, ..., sqrt 1e6\n",
    "        - Save everything in x1 and put it in memory.\n",
    "2. For loop with memory pre-allocation\n",
    "        x2 <- rep(NA, 1000000)\n",
    "        for (i in 1:1000000) { x2[i] <- sqrt(i) }\n",
    "\n",
    "        - Make a vector x2 of length 1e6 and set all elements to NA.\n",
    "        - Put it in memory.\n",
    "        - Setup for loop.\n",
    "        - 1st step\n",
    "            - Find x2 in memory\n",
    "            - Change the 1st element to sqrt 1\n",
    "            - Put new x2 back in memory, delete old x2\n",
    "        - 2nd step\n",
    "            - Find x2 in memory\n",
    "            - Change the 2nd element to sqrt 2\n",
    "            - Put new x2 back in memory, delete old x2\n",
    "        - ...\n",
    "        - - 1e6th step\n",
    "            - Find x2 in memory\n",
    "            - Change the 1e6th element to sqrt 1e6\n",
    "            - Put new x2 back in memory, delete old x2\n",
    "3. For loop without memory pre-allocation\n",
    "        x3 <- NULL\n",
    "        for (i in 1:1000000) { x3[i] <- sqrt(i) }\n",
    " \n",
    "        - Make an empty object x3 (NULL has length 0)\n",
    "        - Put it in memory\n",
    "        - Setup for loop.\n",
    "        - 1st step\n",
    "            - Find x3 in memory\n",
    "            - Change the 1st element to .., wait x3 has length 0\n",
    "            - Make a new x3 that has length 1\n",
    "            - Change the 1st element to sqrt 1\n",
    "            - Put new x3 back in memory.., wait\n",
    "                The memory allocated for old x3 is not enough for new x3\n",
    "            - Find some new space in memory for new x3\n",
    "            - Put new x3 back in memory, delete old x3\n",
    "        - 2nd step\n",
    "            - Find x3 in memory\n",
    "            - Change the 2nd element to .., wait x3 has length 1\n",
    "            - Make a new x3 that has length 2\n",
    "            - Copy the old x3 and paste as the first 1 element of new x3\n",
    "            - Change the 2nd element to sqrt 2\n",
    "            - Put new x3 back in memory.., wait\n",
    "                The memory allocated for old x3 is not enough for new x3\n",
    "            - Find some new space in memory for new x3\n",
    "            - Put new x3 back in memory, delete old x3\n",
    "        - ...\n",
    "        - 1e6th step\n",
    "            - Find x3 in memory\n",
    "            - Change the 1e6th element to .., wait x3 has length 999999\n",
    "            - Make a new x3 that has length 1e6\n",
    "            - Copy the old x3 and paste as the first 999999 elements of new x3\n",
    "            - Change the 1e6th element to sqrt 1e6\n",
    "            - Put new x3 back in memory.., wait\n",
    "                The memory allocated for old x3 is not enough for new x3\n",
    "            - Find some new space in memory for new x3..\n",
    "            - Put new x3 back in memory, delete old x3"
   ]
  },
  {
   "cell_type": "markdown",
   "metadata": {},
   "source": [
    "##### Take-home message\n",
    "- Use vectorized operations rather than loops for speed in R.\n",
    "- Loops are more intuitive though.\n",
    "- Balance between\n",
    "    - speed\n",
    "    - your need for speed\n",
    "    - your level of comfortableness with linear algebra\n",
    "    - your level of laziness\n",
    "    - your typing speed\n",
    "    - ...\n",
    "- Based on what you are doing\n",
    "    - dealing with big dataset and expensive calculations?\n",
    "    - running the code only once or potentially many many times?"
   ]
  },
  {
   "cell_type": "markdown",
   "metadata": {},
   "source": [
    "#### 1.4.2 Use established functions"
   ]
  },
  {
   "cell_type": "markdown",
   "metadata": {},
   "source": [
    "__Example__\n",
    "Calculate the square root using sqrt( ) vs. our own implementation."
   ]
  },
  {
   "cell_type": "code",
   "execution_count": 34,
   "metadata": {},
   "outputs": [
    {
     "data": {
      "text/html": [
       "<table>\n",
       "<caption>A data.frame: 2 × 8</caption>\n",
       "<thead>\n",
       "\t<tr><th scope=col>expr</th><th scope=col>min</th><th scope=col>lq</th><th scope=col>mean</th><th scope=col>median</th><th scope=col>uq</th><th scope=col>max</th><th scope=col>neval</th></tr>\n",
       "\t<tr><th scope=col>&lt;fct&gt;</th><th scope=col>&lt;dbl&gt;</th><th scope=col>&lt;dbl&gt;</th><th scope=col>&lt;dbl&gt;</th><th scope=col>&lt;dbl&gt;</th><th scope=col>&lt;dbl&gt;</th><th scope=col>&lt;dbl&gt;</th><th scope=col>&lt;dbl&gt;</th></tr>\n",
       "</thead>\n",
       "<tbody>\n",
       "\t<tr><td>sqrt(500)</td><td> 81</td><td> 91</td><td>104.837</td><td> 95</td><td>102</td><td>2968</td><td>1000</td></tr>\n",
       "\t<tr><td>500^0.5  </td><td>154</td><td>166</td><td>185.092</td><td>172</td><td>177</td><td>4313</td><td>1000</td></tr>\n",
       "</tbody>\n",
       "</table>\n"
      ],
      "text/latex": [
       "A data.frame: 2 × 8\n",
       "\\begin{tabular}{r|llllllll}\n",
       " expr & min & lq & mean & median & uq & max & neval\\\\\n",
       " <fct> & <dbl> & <dbl> & <dbl> & <dbl> & <dbl> & <dbl> & <dbl>\\\\\n",
       "\\hline\n",
       "\t sqrt(500) &  81 &  91 & 104.837 &  95 & 102 & 2968 & 1000\\\\\n",
       "\t 500\\textasciicircum{}0.5   & 154 & 166 & 185.092 & 172 & 177 & 4313 & 1000\\\\\n",
       "\\end{tabular}\n"
      ],
      "text/markdown": [
       "\n",
       "A data.frame: 2 × 8\n",
       "\n",
       "| expr &lt;fct&gt; | min &lt;dbl&gt; | lq &lt;dbl&gt; | mean &lt;dbl&gt; | median &lt;dbl&gt; | uq &lt;dbl&gt; | max &lt;dbl&gt; | neval &lt;dbl&gt; |\n",
       "|---|---|---|---|---|---|---|---|\n",
       "| sqrt(500) |  81 |  91 | 104.837 |  95 | 102 | 2968 | 1000 |\n",
       "| 500^0.5   | 154 | 166 | 185.092 | 172 | 177 | 4313 | 1000 |\n",
       "\n"
      ],
      "text/plain": [
       "  expr      min lq  mean    median uq  max  neval\n",
       "1 sqrt(500)  81  91 104.837  95    102 2968 1000 \n",
       "2 500^0.5   154 166 185.092 172    177 4313 1000 "
      ]
     },
     "metadata": {},
     "output_type": "display_data"
    }
   ],
   "source": [
    "# microbenchmark runs the code multiple times and take a summary\n",
    "# Use well-developped R function\n",
    "library(microbenchmark)\n",
    "result <- microbenchmark(sqrt(500),\n",
    "                         500^0.5,\n",
    "                         unit = \"ns\", times = 1000\n",
    "                        )\n",
    "summary(result)\n",
    "# Result in nanoseconds"
   ]
  },
  {
   "cell_type": "markdown",
   "metadata": {},
   "source": [
    "##### In summary, keep the rules in mind, know what you want to do, test your program, time your program."
   ]
  },
  {
   "cell_type": "markdown",
   "metadata": {},
   "source": [
    "<a id='2'></a>\n",
    "## 2. [Efficient coding](#0)\n",
    "R has many powerful and useful functions that we can use to achieve efficient coding and computing.\n",
    "### 2.1 Powerful functions in R\n",
    "##### Let's play with some data."
   ]
  },
  {
   "cell_type": "code",
   "execution_count": 35,
   "metadata": {},
   "outputs": [
    {
     "data": {
      "text/html": [
       "<table>\n",
       "<caption>A data.frame: 8 × 8</caption>\n",
       "<thead>\n",
       "\t<tr><th scope=col>X</th><th scope=col>Sex</th><th scope=col>Wr.Hnd</th><th scope=col>NW.Hnd</th><th scope=col>Pulse</th><th scope=col>Smoke</th><th scope=col>Height</th><th scope=col>Age</th></tr>\n",
       "\t<tr><th scope=col>&lt;int&gt;</th><th scope=col>&lt;fct&gt;</th><th scope=col>&lt;dbl&gt;</th><th scope=col>&lt;dbl&gt;</th><th scope=col>&lt;int&gt;</th><th scope=col>&lt;fct&gt;</th><th scope=col>&lt;dbl&gt;</th><th scope=col>&lt;dbl&gt;</th></tr>\n",
       "</thead>\n",
       "<tbody>\n",
       "\t<tr><td>1</td><td>Male  </td><td>21.4</td><td>21.0</td><td>63</td><td>Never</td><td>180.00</td><td>19.000</td></tr>\n",
       "\t<tr><td>2</td><td>Male  </td><td>19.5</td><td>19.4</td><td>79</td><td>Never</td><td>165.00</td><td>18.083</td></tr>\n",
       "\t<tr><td>3</td><td>Female</td><td>16.3</td><td>16.2</td><td>44</td><td>Regul</td><td>152.40</td><td>23.500</td></tr>\n",
       "\t<tr><td>4</td><td>Female</td><td>15.9</td><td>16.5</td><td>99</td><td>Never</td><td>167.64</td><td>17.333</td></tr>\n",
       "\t<tr><td>5</td><td>Male  </td><td>19.3</td><td>19.4</td><td>55</td><td>Never</td><td>180.34</td><td>19.833</td></tr>\n",
       "\t<tr><td>6</td><td>Male  </td><td>18.5</td><td>18.5</td><td>48</td><td>Never</td><td>167.00</td><td>22.333</td></tr>\n",
       "\t<tr><td>7</td><td>Female</td><td>17.5</td><td>17.0</td><td>85</td><td>Heavy</td><td>163.00</td><td>17.667</td></tr>\n",
       "\t<tr><td>8</td><td>Male  </td><td>19.8</td><td>20.0</td><td>NA</td><td>Never</td><td>180.00</td><td>17.417</td></tr>\n",
       "</tbody>\n",
       "</table>\n"
      ],
      "text/latex": [
       "A data.frame: 8 × 8\n",
       "\\begin{tabular}{r|llllllll}\n",
       " X & Sex & Wr.Hnd & NW.Hnd & Pulse & Smoke & Height & Age\\\\\n",
       " <int> & <fct> & <dbl> & <dbl> & <int> & <fct> & <dbl> & <dbl>\\\\\n",
       "\\hline\n",
       "\t 1 & Male   & 21.4 & 21.0 & 63 & Never & 180.00 & 19.000\\\\\n",
       "\t 2 & Male   & 19.5 & 19.4 & 79 & Never & 165.00 & 18.083\\\\\n",
       "\t 3 & Female & 16.3 & 16.2 & 44 & Regul & 152.40 & 23.500\\\\\n",
       "\t 4 & Female & 15.9 & 16.5 & 99 & Never & 167.64 & 17.333\\\\\n",
       "\t 5 & Male   & 19.3 & 19.4 & 55 & Never & 180.34 & 19.833\\\\\n",
       "\t 6 & Male   & 18.5 & 18.5 & 48 & Never & 167.00 & 22.333\\\\\n",
       "\t 7 & Female & 17.5 & 17.0 & 85 & Heavy & 163.00 & 17.667\\\\\n",
       "\t 8 & Male   & 19.8 & 20.0 & NA & Never & 180.00 & 17.417\\\\\n",
       "\\end{tabular}\n"
      ],
      "text/markdown": [
       "\n",
       "A data.frame: 8 × 8\n",
       "\n",
       "| X &lt;int&gt; | Sex &lt;fct&gt; | Wr.Hnd &lt;dbl&gt; | NW.Hnd &lt;dbl&gt; | Pulse &lt;int&gt; | Smoke &lt;fct&gt; | Height &lt;dbl&gt; | Age &lt;dbl&gt; |\n",
       "|---|---|---|---|---|---|---|---|\n",
       "| 1 | Male   | 21.4 | 21.0 | 63 | Never | 180.00 | 19.000 |\n",
       "| 2 | Male   | 19.5 | 19.4 | 79 | Never | 165.00 | 18.083 |\n",
       "| 3 | Female | 16.3 | 16.2 | 44 | Regul | 152.40 | 23.500 |\n",
       "| 4 | Female | 15.9 | 16.5 | 99 | Never | 167.64 | 17.333 |\n",
       "| 5 | Male   | 19.3 | 19.4 | 55 | Never | 180.34 | 19.833 |\n",
       "| 6 | Male   | 18.5 | 18.5 | 48 | Never | 167.00 | 22.333 |\n",
       "| 7 | Female | 17.5 | 17.0 | 85 | Heavy | 163.00 | 17.667 |\n",
       "| 8 | Male   | 19.8 | 20.0 | NA | Never | 180.00 | 17.417 |\n",
       "\n"
      ],
      "text/plain": [
       "  X Sex    Wr.Hnd NW.Hnd Pulse Smoke Height Age   \n",
       "1 1 Male   21.4   21.0   63    Never 180.00 19.000\n",
       "2 2 Male   19.5   19.4   79    Never 165.00 18.083\n",
       "3 3 Female 16.3   16.2   44    Regul 152.40 23.500\n",
       "4 4 Female 15.9   16.5   99    Never 167.64 17.333\n",
       "5 5 Male   19.3   19.4   55    Never 180.34 19.833\n",
       "6 6 Male   18.5   18.5   48    Never 167.00 22.333\n",
       "7 7 Female 17.5   17.0   85    Heavy 163.00 17.667\n",
       "8 8 Male   19.8   20.0   NA    Never 180.00 17.417"
      ]
     },
     "metadata": {},
     "output_type": "display_data"
    }
   ],
   "source": [
    "data <- read.csv(\"https://raw.githubusercontent.com/ly129/MiCM2020/master/sample.csv\", header = TRUE)\n",
    "head(data, 8)"
   ]
  },
  {
   "cell_type": "code",
   "execution_count": 36,
   "metadata": {},
   "outputs": [
    {
     "data": {
      "text/plain": [
       "       X              Sex         Wr.Hnd          NW.Hnd          Pulse       \n",
       " Min.   :  1.00   Female:47   Min.   :13.00   Min.   :12.50   Min.   : 40.00  \n",
       " 1st Qu.: 25.75   Male  :53   1st Qu.:17.50   1st Qu.:17.45   1st Qu.: 50.25  \n",
       " Median : 50.50               Median :18.50   Median :18.50   Median : 71.50  \n",
       " Mean   : 50.50               Mean   :18.43   Mean   :18.39   Mean   : 69.90  \n",
       " 3rd Qu.: 75.25               3rd Qu.:19.50   3rd Qu.:19.52   3rd Qu.: 84.75  \n",
       " Max.   :100.00               Max.   :23.20   Max.   :23.30   Max.   :104.00  \n",
       "                                                              NA's   :6       \n",
       "   Smoke        Height           Age       \n",
       " Heavy: 6   Min.   :152.0   Min.   :16.92  \n",
       " Never:79   1st Qu.:166.4   1st Qu.:17.58  \n",
       " Occas: 5   Median :170.2   Median :18.46  \n",
       " Regul:10   Mean   :171.8   Mean   :20.97  \n",
       "            3rd Qu.:179.1   3rd Qu.:20.21  \n",
       "            Max.   :200.0   Max.   :73.00  \n",
       "            NA's   :13                     "
      ]
     },
     "metadata": {},
     "output_type": "display_data"
    }
   ],
   "source": [
    "summary(data)"
   ]
  },
  {
   "cell_type": "markdown",
   "metadata": {},
   "source": [
    "#### a1. Calculate the mean writing hand span of all individuals\n",
    "    mean(x, trim = 0, na.rm = FALSE, ...)"
   ]
  },
  {
   "cell_type": "code",
   "execution_count": 37,
   "metadata": {},
   "outputs": [
    {
     "data": {
      "text/html": [
       "18.43"
      ],
      "text/latex": [
       "18.43"
      ],
      "text/markdown": [
       "18.43"
      ],
      "text/plain": [
       "[1] 18.43"
      ]
     },
     "metadata": {},
     "output_type": "display_data"
    }
   ],
   "source": [
    "mean(data$Wr.Hnd)"
   ]
  },
  {
   "cell_type": "markdown",
   "metadata": {},
   "source": [
    "#### a2. Calculate the mean height of all individuals, exclude the missing values"
   ]
  },
  {
   "cell_type": "code",
   "execution_count": 38,
   "metadata": {},
   "outputs": [
    {
     "data": {
      "text/html": [
       "&lt;NA&gt;"
      ],
      "text/latex": [
       "<NA>"
      ],
      "text/markdown": [
       "&lt;NA&gt;"
      ],
      "text/plain": [
       "[1] NA"
      ]
     },
     "metadata": {},
     "output_type": "display_data"
    }
   ],
   "source": [
    "mean(data$Height)"
   ]
  },
  {
   "cell_type": "code",
   "execution_count": 39,
   "metadata": {},
   "outputs": [
    {
     "data": {
      "text/html": [
       "171.784597701149"
      ],
      "text/latex": [
       "171.784597701149"
      ],
      "text/markdown": [
       "171.784597701149"
      ],
      "text/plain": [
       "[1] 171.7846"
      ]
     },
     "metadata": {},
     "output_type": "display_data"
    }
   ],
   "source": [
    "mean(data$Height, na.rm = TRUE)"
   ]
  },
  {
   "cell_type": "markdown",
   "metadata": {},
   "source": [
    "#### a3. Calculate the mean of all continuous variables\n",
    "    apply(X, MARGIN, FUN, ...)"
   ]
  },
  {
   "cell_type": "code",
   "execution_count": 40,
   "metadata": {},
   "outputs": [
    {
     "data": {
      "text/html": [
       "<table>\n",
       "<caption>A data.frame: 6 × 5</caption>\n",
       "<thead>\n",
       "\t<tr><th scope=col>Wr.Hnd</th><th scope=col>NW.Hnd</th><th scope=col>Pulse</th><th scope=col>Height</th><th scope=col>Age</th></tr>\n",
       "\t<tr><th scope=col>&lt;dbl&gt;</th><th scope=col>&lt;dbl&gt;</th><th scope=col>&lt;int&gt;</th><th scope=col>&lt;dbl&gt;</th><th scope=col>&lt;dbl&gt;</th></tr>\n",
       "</thead>\n",
       "<tbody>\n",
       "\t<tr><td>21.4</td><td>21.0</td><td>63</td><td>180.00</td><td>19.000</td></tr>\n",
       "\t<tr><td>19.5</td><td>19.4</td><td>79</td><td>165.00</td><td>18.083</td></tr>\n",
       "\t<tr><td>16.3</td><td>16.2</td><td>44</td><td>152.40</td><td>23.500</td></tr>\n",
       "\t<tr><td>15.9</td><td>16.5</td><td>99</td><td>167.64</td><td>17.333</td></tr>\n",
       "\t<tr><td>19.3</td><td>19.4</td><td>55</td><td>180.34</td><td>19.833</td></tr>\n",
       "\t<tr><td>18.5</td><td>18.5</td><td>48</td><td>167.00</td><td>22.333</td></tr>\n",
       "</tbody>\n",
       "</table>\n"
      ],
      "text/latex": [
       "A data.frame: 6 × 5\n",
       "\\begin{tabular}{r|lllll}\n",
       " Wr.Hnd & NW.Hnd & Pulse & Height & Age\\\\\n",
       " <dbl> & <dbl> & <int> & <dbl> & <dbl>\\\\\n",
       "\\hline\n",
       "\t 21.4 & 21.0 & 63 & 180.00 & 19.000\\\\\n",
       "\t 19.5 & 19.4 & 79 & 165.00 & 18.083\\\\\n",
       "\t 16.3 & 16.2 & 44 & 152.40 & 23.500\\\\\n",
       "\t 15.9 & 16.5 & 99 & 167.64 & 17.333\\\\\n",
       "\t 19.3 & 19.4 & 55 & 180.34 & 19.833\\\\\n",
       "\t 18.5 & 18.5 & 48 & 167.00 & 22.333\\\\\n",
       "\\end{tabular}\n"
      ],
      "text/markdown": [
       "\n",
       "A data.frame: 6 × 5\n",
       "\n",
       "| Wr.Hnd &lt;dbl&gt; | NW.Hnd &lt;dbl&gt; | Pulse &lt;int&gt; | Height &lt;dbl&gt; | Age &lt;dbl&gt; |\n",
       "|---|---|---|---|---|\n",
       "| 21.4 | 21.0 | 63 | 180.00 | 19.000 |\n",
       "| 19.5 | 19.4 | 79 | 165.00 | 18.083 |\n",
       "| 16.3 | 16.2 | 44 | 152.40 | 23.500 |\n",
       "| 15.9 | 16.5 | 99 | 167.64 | 17.333 |\n",
       "| 19.3 | 19.4 | 55 | 180.34 | 19.833 |\n",
       "| 18.5 | 18.5 | 48 | 167.00 | 22.333 |\n",
       "\n"
      ],
      "text/plain": [
       "  Wr.Hnd NW.Hnd Pulse Height Age   \n",
       "1 21.4   21.0   63    180.00 19.000\n",
       "2 19.5   19.4   79    165.00 18.083\n",
       "3 16.3   16.2   44    152.40 23.500\n",
       "4 15.9   16.5   99    167.64 17.333\n",
       "5 19.3   19.4   55    180.34 19.833\n",
       "6 18.5   18.5   48    167.00 22.333"
      ]
     },
     "metadata": {},
     "output_type": "display_data"
    }
   ],
   "source": [
    "# Choose the continuous variables\n",
    "var.cts <- sapply(data, FUN = is.numeric)\n",
    "var.cts <- c(\"Wr.Hnd\", \"NW.Hnd\", \"Pulse\", \"Height\", \"Age\")\n",
    "\n",
    "cts.data <- data[, var.cts]\n",
    "head(cts.data)"
   ]
  },
  {
   "cell_type": "code",
   "execution_count": 41,
   "metadata": {},
   "outputs": [
    {
     "data": {
      "text/html": [
       "<dl class=dl-horizontal>\n",
       "\t<dt>Wr.Hnd</dt>\n",
       "\t\t<dd>18.43</dd>\n",
       "\t<dt>NW.Hnd</dt>\n",
       "\t\t<dd>18.391</dd>\n",
       "\t<dt>Pulse</dt>\n",
       "\t\t<dd>&lt;NA&gt;</dd>\n",
       "\t<dt>Height</dt>\n",
       "\t\t<dd>&lt;NA&gt;</dd>\n",
       "\t<dt>Age</dt>\n",
       "\t\t<dd>20.96503</dd>\n",
       "</dl>\n"
      ],
      "text/latex": [
       "\\begin{description*}\n",
       "\\item[Wr.Hnd] 18.43\n",
       "\\item[NW.Hnd] 18.391\n",
       "\\item[Pulse] <NA>\n",
       "\\item[Height] <NA>\n",
       "\\item[Age] 20.96503\n",
       "\\end{description*}\n"
      ],
      "text/markdown": [
       "Wr.Hnd\n",
       ":   18.43NW.Hnd\n",
       ":   18.391Pulse\n",
       ":   &lt;NA&gt;Height\n",
       ":   &lt;NA&gt;Age\n",
       ":   20.96503\n",
       "\n"
      ],
      "text/plain": [
       "  Wr.Hnd   NW.Hnd    Pulse   Height      Age \n",
       "18.43000 18.39100       NA       NA 20.96503 "
      ]
     },
     "metadata": {},
     "output_type": "display_data"
    }
   ],
   "source": [
    "# Calculate the mean\n",
    "apply(cts.data, MARGIN = 2, FUN = mean)"
   ]
  },
  {
   "cell_type": "code",
   "execution_count": 42,
   "metadata": {},
   "outputs": [
    {
     "data": {
      "text/html": [
       "<dl class=dl-horizontal>\n",
       "\t<dt>Wr.Hnd</dt>\n",
       "\t\t<dd>18.43</dd>\n",
       "\t<dt>NW.Hnd</dt>\n",
       "\t\t<dd>18.391</dd>\n",
       "\t<dt>Pulse</dt>\n",
       "\t\t<dd>69.9042553191489</dd>\n",
       "\t<dt>Height</dt>\n",
       "\t\t<dd>171.784597701149</dd>\n",
       "\t<dt>Age</dt>\n",
       "\t\t<dd>20.96503</dd>\n",
       "</dl>\n"
      ],
      "text/latex": [
       "\\begin{description*}\n",
       "\\item[Wr.Hnd] 18.43\n",
       "\\item[NW.Hnd] 18.391\n",
       "\\item[Pulse] 69.9042553191489\n",
       "\\item[Height] 171.784597701149\n",
       "\\item[Age] 20.96503\n",
       "\\end{description*}\n"
      ],
      "text/markdown": [
       "Wr.Hnd\n",
       ":   18.43NW.Hnd\n",
       ":   18.391Pulse\n",
       ":   69.9042553191489Height\n",
       ":   171.784597701149Age\n",
       ":   20.96503\n",
       "\n"
      ],
      "text/plain": [
       "   Wr.Hnd    NW.Hnd     Pulse    Height       Age \n",
       " 18.43000  18.39100  69.90426 171.78460  20.96503 "
      ]
     },
     "metadata": {},
     "output_type": "display_data"
    }
   ],
   "source": [
    "apply(cts.data, MARGIN = 2, FUN = mean, na.rm = TRUE)"
   ]
  },
  {
   "cell_type": "markdown",
   "metadata": {},
   "source": [
    "#### b1. Calculate the count/proportion of females and males\n",
    "    table(...,\n",
    "      exclude = if (useNA == \"no\") c(NA, NaN),\n",
    "      useNA = c(\"no\", \"ifany\", \"always\"),\n",
    "      dnn = list.names(...), deparse.level = 1)\n",
    "\n",
    "    prop.table()"
   ]
  },
  {
   "cell_type": "code",
   "execution_count": 43,
   "metadata": {},
   "outputs": [
    {
     "data": {
      "text/plain": [
       "\n",
       "Female   Male \n",
       "    47     53 "
      ]
     },
     "metadata": {},
     "output_type": "display_data"
    }
   ],
   "source": [
    "sex.tab <- table(data$Sex)\n",
    "sex.tab"
   ]
  },
  {
   "cell_type": "code",
   "execution_count": 44,
   "metadata": {},
   "outputs": [
    {
     "data": {
      "text/plain": [
       "\n",
       "Female   Male \n",
       "  0.47   0.53 "
      ]
     },
     "metadata": {},
     "output_type": "display_data"
    }
   ],
   "source": [
    "prop.table(sex.tab)"
   ]
  },
  {
   "cell_type": "markdown",
   "metadata": {},
   "source": [
    "#### b2. Calculate the count in each Smoke group"
   ]
  },
  {
   "cell_type": "code",
   "execution_count": 45,
   "metadata": {},
   "outputs": [
    {
     "data": {
      "text/plain": [
       "\n",
       "Heavy Never Occas Regul \n",
       "    6    79     5    10 "
      ]
     },
     "metadata": {},
     "output_type": "display_data"
    }
   ],
   "source": [
    "table(data$Smoke)"
   ]
  },
  {
   "cell_type": "markdown",
   "metadata": {},
   "source": [
    "#### b3. Calculate the count and proportion of males and females in each Smoke group"
   ]
  },
  {
   "cell_type": "code",
   "execution_count": 46,
   "metadata": {},
   "outputs": [
    {
     "data": {
      "text/plain": [
       "        \n",
       "         Heavy Never Occas Regul\n",
       "  Female     3    40     3     1\n",
       "  Male       3    39     2     9"
      ]
     },
     "metadata": {},
     "output_type": "display_data"
    }
   ],
   "source": [
    "table(data$Sex, data$Smoke)"
   ]
  },
  {
   "cell_type": "code",
   "execution_count": 47,
   "metadata": {},
   "outputs": [
    {
     "data": {
      "text/plain": [
       "        Smoke\n",
       "Sex      Heavy Never Occas Regul\n",
       "  Female     3    40     3     1\n",
       "  Male       3    39     2     9"
      ]
     },
     "metadata": {},
     "output_type": "display_data"
    }
   ],
   "source": [
    "ss.tab <- table(data[, c(\"Sex\", \"Smoke\")])\n",
    "ss.tab"
   ]
  },
  {
   "cell_type": "code",
   "execution_count": 48,
   "metadata": {},
   "outputs": [
    {
     "data": {
      "text/plain": [
       "        Smoke\n",
       "Sex          Heavy     Never     Occas     Regul\n",
       "  Female 0.5000000 0.5063291 0.6000000 0.1000000\n",
       "  Male   0.5000000 0.4936709 0.4000000 0.9000000"
      ]
     },
     "metadata": {},
     "output_type": "display_data"
    }
   ],
   "source": [
    "prop.table(ss.tab, margin = 2)"
   ]
  },
  {
   "cell_type": "code",
   "execution_count": 49,
   "metadata": {},
   "outputs": [
    {
     "data": {
      "text/plain": [
       "        Smoke\n",
       "Sex           Heavy      Never      Occas      Regul\n",
       "  Female 0.06382979 0.85106383 0.06382979 0.02127660\n",
       "  Male   0.05660377 0.73584906 0.03773585 0.16981132"
      ]
     },
     "metadata": {},
     "output_type": "display_data"
    }
   ],
   "source": [
    "prop.table(ss.tab, margin = 1)"
   ]
  },
  {
   "cell_type": "code",
   "execution_count": 50,
   "metadata": {},
   "outputs": [
    {
     "data": {
      "text/html": [
       "<ol class=list-inline>\n",
       "\t<li>'c'</li>\n",
       "\t<li>'b'</li>\n",
       "\t<li>'c'</li>\n",
       "\t<li>'b'</li>\n",
       "\t<li>'c'</li>\n",
       "\t<li>'b'</li>\n",
       "\t<li>'c'</li>\n",
       "\t<li>'c'</li>\n",
       "\t<li>'c'</li>\n",
       "\t<li>'b'</li>\n",
       "\t<li>'a'</li>\n",
       "\t<li>'b'</li>\n",
       "\t<li>'a'</li>\n",
       "\t<li>'c'</li>\n",
       "\t<li>'c'</li>\n",
       "\t<li>'a'</li>\n",
       "\t<li>'c'</li>\n",
       "\t<li>'a'</li>\n",
       "\t<li>'c'</li>\n",
       "\t<li>'b'</li>\n",
       "\t<li>'a'</li>\n",
       "\t<li>'a'</li>\n",
       "\t<li>'a'</li>\n",
       "\t<li>'b'</li>\n",
       "\t<li>'c'</li>\n",
       "\t<li>'a'</li>\n",
       "\t<li>'a'</li>\n",
       "\t<li>'c'</li>\n",
       "\t<li>'a'</li>\n",
       "\t<li>'c'</li>\n",
       "\t<li>'a'</li>\n",
       "\t<li>'c'</li>\n",
       "\t<li>'c'</li>\n",
       "\t<li>'b'</li>\n",
       "\t<li>'c'</li>\n",
       "\t<li>'b'</li>\n",
       "\t<li>'a'</li>\n",
       "\t<li>'a'</li>\n",
       "\t<li>'c'</li>\n",
       "\t<li>'b'</li>\n",
       "\t<li>'c'</li>\n",
       "\t<li>'b'</li>\n",
       "\t<li>'b'</li>\n",
       "\t<li>'c'</li>\n",
       "\t<li>'a'</li>\n",
       "\t<li>'c'</li>\n",
       "\t<li>'b'</li>\n",
       "\t<li>'c'</li>\n",
       "\t<li>'c'</li>\n",
       "\t<li>'a'</li>\n",
       "\t<li>'b'</li>\n",
       "\t<li>'c'</li>\n",
       "\t<li>'c'</li>\n",
       "\t<li>'b'</li>\n",
       "\t<li>'a'</li>\n",
       "\t<li>'a'</li>\n",
       "\t<li>'c'</li>\n",
       "\t<li>'c'</li>\n",
       "\t<li>'a'</li>\n",
       "\t<li>'b'</li>\n",
       "\t<li>'c'</li>\n",
       "\t<li>'c'</li>\n",
       "\t<li>'c'</li>\n",
       "\t<li>'b'</li>\n",
       "\t<li>'a'</li>\n",
       "\t<li>'a'</li>\n",
       "\t<li>'c'</li>\n",
       "\t<li>'a'</li>\n",
       "\t<li>'c'</li>\n",
       "\t<li>'c'</li>\n",
       "\t<li>'c'</li>\n",
       "\t<li>'c'</li>\n",
       "\t<li>'b'</li>\n",
       "\t<li>'a'</li>\n",
       "\t<li>'a'</li>\n",
       "\t<li>'a'</li>\n",
       "\t<li>'c'</li>\n",
       "\t<li>'a'</li>\n",
       "\t<li>'a'</li>\n",
       "\t<li>'c'</li>\n",
       "\t<li>'c'</li>\n",
       "\t<li>'b'</li>\n",
       "\t<li>'a'</li>\n",
       "\t<li>'b'</li>\n",
       "\t<li>'b'</li>\n",
       "\t<li>'a'</li>\n",
       "\t<li>'c'</li>\n",
       "\t<li>'a'</li>\n",
       "\t<li>'b'</li>\n",
       "\t<li>'b'</li>\n",
       "\t<li>'a'</li>\n",
       "\t<li>'a'</li>\n",
       "\t<li>'c'</li>\n",
       "\t<li>'c'</li>\n",
       "\t<li>'a'</li>\n",
       "\t<li>'b'</li>\n",
       "\t<li>'c'</li>\n",
       "\t<li>'a'</li>\n",
       "\t<li>'a'</li>\n",
       "\t<li>'b'</li>\n",
       "</ol>\n"
      ],
      "text/latex": [
       "\\begin{enumerate*}\n",
       "\\item 'c'\n",
       "\\item 'b'\n",
       "\\item 'c'\n",
       "\\item 'b'\n",
       "\\item 'c'\n",
       "\\item 'b'\n",
       "\\item 'c'\n",
       "\\item 'c'\n",
       "\\item 'c'\n",
       "\\item 'b'\n",
       "\\item 'a'\n",
       "\\item 'b'\n",
       "\\item 'a'\n",
       "\\item 'c'\n",
       "\\item 'c'\n",
       "\\item 'a'\n",
       "\\item 'c'\n",
       "\\item 'a'\n",
       "\\item 'c'\n",
       "\\item 'b'\n",
       "\\item 'a'\n",
       "\\item 'a'\n",
       "\\item 'a'\n",
       "\\item 'b'\n",
       "\\item 'c'\n",
       "\\item 'a'\n",
       "\\item 'a'\n",
       "\\item 'c'\n",
       "\\item 'a'\n",
       "\\item 'c'\n",
       "\\item 'a'\n",
       "\\item 'c'\n",
       "\\item 'c'\n",
       "\\item 'b'\n",
       "\\item 'c'\n",
       "\\item 'b'\n",
       "\\item 'a'\n",
       "\\item 'a'\n",
       "\\item 'c'\n",
       "\\item 'b'\n",
       "\\item 'c'\n",
       "\\item 'b'\n",
       "\\item 'b'\n",
       "\\item 'c'\n",
       "\\item 'a'\n",
       "\\item 'c'\n",
       "\\item 'b'\n",
       "\\item 'c'\n",
       "\\item 'c'\n",
       "\\item 'a'\n",
       "\\item 'b'\n",
       "\\item 'c'\n",
       "\\item 'c'\n",
       "\\item 'b'\n",
       "\\item 'a'\n",
       "\\item 'a'\n",
       "\\item 'c'\n",
       "\\item 'c'\n",
       "\\item 'a'\n",
       "\\item 'b'\n",
       "\\item 'c'\n",
       "\\item 'c'\n",
       "\\item 'c'\n",
       "\\item 'b'\n",
       "\\item 'a'\n",
       "\\item 'a'\n",
       "\\item 'c'\n",
       "\\item 'a'\n",
       "\\item 'c'\n",
       "\\item 'c'\n",
       "\\item 'c'\n",
       "\\item 'c'\n",
       "\\item 'b'\n",
       "\\item 'a'\n",
       "\\item 'a'\n",
       "\\item 'a'\n",
       "\\item 'c'\n",
       "\\item 'a'\n",
       "\\item 'a'\n",
       "\\item 'c'\n",
       "\\item 'c'\n",
       "\\item 'b'\n",
       "\\item 'a'\n",
       "\\item 'b'\n",
       "\\item 'b'\n",
       "\\item 'a'\n",
       "\\item 'c'\n",
       "\\item 'a'\n",
       "\\item 'b'\n",
       "\\item 'b'\n",
       "\\item 'a'\n",
       "\\item 'a'\n",
       "\\item 'c'\n",
       "\\item 'c'\n",
       "\\item 'a'\n",
       "\\item 'b'\n",
       "\\item 'c'\n",
       "\\item 'a'\n",
       "\\item 'a'\n",
       "\\item 'b'\n",
       "\\end{enumerate*}\n"
      ],
      "text/markdown": [
       "1. 'c'\n",
       "2. 'b'\n",
       "3. 'c'\n",
       "4. 'b'\n",
       "5. 'c'\n",
       "6. 'b'\n",
       "7. 'c'\n",
       "8. 'c'\n",
       "9. 'c'\n",
       "10. 'b'\n",
       "11. 'a'\n",
       "12. 'b'\n",
       "13. 'a'\n",
       "14. 'c'\n",
       "15. 'c'\n",
       "16. 'a'\n",
       "17. 'c'\n",
       "18. 'a'\n",
       "19. 'c'\n",
       "20. 'b'\n",
       "21. 'a'\n",
       "22. 'a'\n",
       "23. 'a'\n",
       "24. 'b'\n",
       "25. 'c'\n",
       "26. 'a'\n",
       "27. 'a'\n",
       "28. 'c'\n",
       "29. 'a'\n",
       "30. 'c'\n",
       "31. 'a'\n",
       "32. 'c'\n",
       "33. 'c'\n",
       "34. 'b'\n",
       "35. 'c'\n",
       "36. 'b'\n",
       "37. 'a'\n",
       "38. 'a'\n",
       "39. 'c'\n",
       "40. 'b'\n",
       "41. 'c'\n",
       "42. 'b'\n",
       "43. 'b'\n",
       "44. 'c'\n",
       "45. 'a'\n",
       "46. 'c'\n",
       "47. 'b'\n",
       "48. 'c'\n",
       "49. 'c'\n",
       "50. 'a'\n",
       "51. 'b'\n",
       "52. 'c'\n",
       "53. 'c'\n",
       "54. 'b'\n",
       "55. 'a'\n",
       "56. 'a'\n",
       "57. 'c'\n",
       "58. 'c'\n",
       "59. 'a'\n",
       "60. 'b'\n",
       "61. 'c'\n",
       "62. 'c'\n",
       "63. 'c'\n",
       "64. 'b'\n",
       "65. 'a'\n",
       "66. 'a'\n",
       "67. 'c'\n",
       "68. 'a'\n",
       "69. 'c'\n",
       "70. 'c'\n",
       "71. 'c'\n",
       "72. 'c'\n",
       "73. 'b'\n",
       "74. 'a'\n",
       "75. 'a'\n",
       "76. 'a'\n",
       "77. 'c'\n",
       "78. 'a'\n",
       "79. 'a'\n",
       "80. 'c'\n",
       "81. 'c'\n",
       "82. 'b'\n",
       "83. 'a'\n",
       "84. 'b'\n",
       "85. 'b'\n",
       "86. 'a'\n",
       "87. 'c'\n",
       "88. 'a'\n",
       "89. 'b'\n",
       "90. 'b'\n",
       "91. 'a'\n",
       "92. 'a'\n",
       "93. 'c'\n",
       "94. 'c'\n",
       "95. 'a'\n",
       "96. 'b'\n",
       "97. 'c'\n",
       "98. 'a'\n",
       "99. 'a'\n",
       "100. 'b'\n",
       "\n",
       "\n"
      ],
      "text/plain": [
       "  [1] \"c\" \"b\" \"c\" \"b\" \"c\" \"b\" \"c\" \"c\" \"c\" \"b\" \"a\" \"b\" \"a\" \"c\" \"c\" \"a\" \"c\" \"a\"\n",
       " [19] \"c\" \"b\" \"a\" \"a\" \"a\" \"b\" \"c\" \"a\" \"a\" \"c\" \"a\" \"c\" \"a\" \"c\" \"c\" \"b\" \"c\" \"b\"\n",
       " [37] \"a\" \"a\" \"c\" \"b\" \"c\" \"b\" \"b\" \"c\" \"a\" \"c\" \"b\" \"c\" \"c\" \"a\" \"b\" \"c\" \"c\" \"b\"\n",
       " [55] \"a\" \"a\" \"c\" \"c\" \"a\" \"b\" \"c\" \"c\" \"c\" \"b\" \"a\" \"a\" \"c\" \"a\" \"c\" \"c\" \"c\" \"c\"\n",
       " [73] \"b\" \"a\" \"a\" \"a\" \"c\" \"a\" \"a\" \"c\" \"c\" \"b\" \"a\" \"b\" \"b\" \"a\" \"c\" \"a\" \"b\" \"b\"\n",
       " [91] \"a\" \"a\" \"c\" \"c\" \"a\" \"b\" \"c\" \"a\" \"a\" \"b\""
      ]
     },
     "metadata": {},
     "output_type": "display_data"
    }
   ],
   "source": [
    "sample(letters[1:3], size = 100, replace = T)"
   ]
  },
  {
   "cell_type": "code",
   "execution_count": 51,
   "metadata": {},
   "outputs": [
    {
     "data": {
      "text/plain": [
       ", ,  = a\n",
       "\n",
       "        \n",
       "         Heavy Never Occas Regul\n",
       "  Female     2    17     1     0\n",
       "  Male       0     9     1     2\n",
       "\n",
       ", ,  = b\n",
       "\n",
       "        \n",
       "         Heavy Never Occas Regul\n",
       "  Female     1    15     0     0\n",
       "  Male       2    17     0     3\n",
       "\n",
       ", ,  = c\n",
       "\n",
       "        \n",
       "         Heavy Never Occas Regul\n",
       "  Female     0     8     2     1\n",
       "  Male       1    13     1     4\n"
      ]
     },
     "metadata": {},
     "output_type": "display_data"
    }
   ],
   "source": [
    "tab3d <- table(data$Sex, data$Smoke,\n",
    "               sample(letters[1:3], size = 100, replace = T))\n",
    "tab3d"
   ]
  },
  {
   "cell_type": "code",
   "execution_count": 52,
   "metadata": {
    "scrolled": true
   },
   "outputs": [
    {
     "data": {
      "text/plain": [
       ", ,  = a\n",
       "\n",
       "        \n",
       "              Heavy      Never      Occas      Regul\n",
       "  Female 0.10000000 0.85000000 0.05000000 0.00000000\n",
       "  Male   0.00000000 0.75000000 0.08333333 0.16666667\n",
       "\n",
       ", ,  = b\n",
       "\n",
       "        \n",
       "              Heavy      Never      Occas      Regul\n",
       "  Female 0.06250000 0.93750000 0.00000000 0.00000000\n",
       "  Male   0.09090909 0.77272727 0.00000000 0.13636364\n",
       "\n",
       ", ,  = c\n",
       "\n",
       "        \n",
       "              Heavy      Never      Occas      Regul\n",
       "  Female 0.00000000 0.72727273 0.18181818 0.09090909\n",
       "  Male   0.05263158 0.68421053 0.05263158 0.21052632\n"
      ]
     },
     "metadata": {},
     "output_type": "display_data"
    }
   ],
   "source": [
    "prop.table(tab3d, margin = c(1,3))"
   ]
  },
  {
   "cell_type": "markdown",
   "metadata": {},
   "source": [
    "#### c1. Calculate the standard deviation of writing hand span of females\n",
    "        aggregate()\n",
    "        tapply()\n",
    "        by()"
   ]
  },
  {
   "cell_type": "code",
   "execution_count": 53,
   "metadata": {},
   "outputs": [
    {
     "data": {
      "text/html": [
       "<table>\n",
       "<caption>A data.frame: 6 × 8</caption>\n",
       "<thead>\n",
       "\t<tr><th></th><th scope=col>X</th><th scope=col>Sex</th><th scope=col>Wr.Hnd</th><th scope=col>NW.Hnd</th><th scope=col>Pulse</th><th scope=col>Smoke</th><th scope=col>Height</th><th scope=col>Age</th></tr>\n",
       "\t<tr><th></th><th scope=col>&lt;int&gt;</th><th scope=col>&lt;fct&gt;</th><th scope=col>&lt;dbl&gt;</th><th scope=col>&lt;dbl&gt;</th><th scope=col>&lt;int&gt;</th><th scope=col>&lt;fct&gt;</th><th scope=col>&lt;dbl&gt;</th><th scope=col>&lt;dbl&gt;</th></tr>\n",
       "</thead>\n",
       "<tbody>\n",
       "\t<tr><th scope=row>3</th><td> 3</td><td>Female</td><td>16.3</td><td>16.2</td><td>44</td><td>Regul</td><td>152.40</td><td>23.500</td></tr>\n",
       "\t<tr><th scope=row>4</th><td> 4</td><td>Female</td><td>15.9</td><td>16.5</td><td>99</td><td>Never</td><td>167.64</td><td>17.333</td></tr>\n",
       "\t<tr><th scope=row>7</th><td> 7</td><td>Female</td><td>17.5</td><td>17.0</td><td>85</td><td>Heavy</td><td>163.00</td><td>17.667</td></tr>\n",
       "\t<tr><th scope=row>9</th><td> 9</td><td>Female</td><td>13.0</td><td>12.5</td><td>77</td><td>Never</td><td>165.00</td><td>18.167</td></tr>\n",
       "\t<tr><th scope=row>10</th><td>10</td><td>Female</td><td>18.5</td><td>18.0</td><td>75</td><td>Never</td><td>173.00</td><td>18.250</td></tr>\n",
       "\t<tr><th scope=row>11</th><td>11</td><td>Female</td><td>17.5</td><td>17.1</td><td>73</td><td>Never</td><td>167.00</td><td>18.417</td></tr>\n",
       "</tbody>\n",
       "</table>\n"
      ],
      "text/latex": [
       "A data.frame: 6 × 8\n",
       "\\begin{tabular}{r|llllllll}\n",
       "  & X & Sex & Wr.Hnd & NW.Hnd & Pulse & Smoke & Height & Age\\\\\n",
       "  & <int> & <fct> & <dbl> & <dbl> & <int> & <fct> & <dbl> & <dbl>\\\\\n",
       "\\hline\n",
       "\t3 &  3 & Female & 16.3 & 16.2 & 44 & Regul & 152.40 & 23.500\\\\\n",
       "\t4 &  4 & Female & 15.9 & 16.5 & 99 & Never & 167.64 & 17.333\\\\\n",
       "\t7 &  7 & Female & 17.5 & 17.0 & 85 & Heavy & 163.00 & 17.667\\\\\n",
       "\t9 &  9 & Female & 13.0 & 12.5 & 77 & Never & 165.00 & 18.167\\\\\n",
       "\t10 & 10 & Female & 18.5 & 18.0 & 75 & Never & 173.00 & 18.250\\\\\n",
       "\t11 & 11 & Female & 17.5 & 17.1 & 73 & Never & 167.00 & 18.417\\\\\n",
       "\\end{tabular}\n"
      ],
      "text/markdown": [
       "\n",
       "A data.frame: 6 × 8\n",
       "\n",
       "| <!--/--> | X &lt;int&gt; | Sex &lt;fct&gt; | Wr.Hnd &lt;dbl&gt; | NW.Hnd &lt;dbl&gt; | Pulse &lt;int&gt; | Smoke &lt;fct&gt; | Height &lt;dbl&gt; | Age &lt;dbl&gt; |\n",
       "|---|---|---|---|---|---|---|---|---|\n",
       "| 3 |  3 | Female | 16.3 | 16.2 | 44 | Regul | 152.40 | 23.500 |\n",
       "| 4 |  4 | Female | 15.9 | 16.5 | 99 | Never | 167.64 | 17.333 |\n",
       "| 7 |  7 | Female | 17.5 | 17.0 | 85 | Heavy | 163.00 | 17.667 |\n",
       "| 9 |  9 | Female | 13.0 | 12.5 | 77 | Never | 165.00 | 18.167 |\n",
       "| 10 | 10 | Female | 18.5 | 18.0 | 75 | Never | 173.00 | 18.250 |\n",
       "| 11 | 11 | Female | 17.5 | 17.1 | 73 | Never | 167.00 | 18.417 |\n",
       "\n"
      ],
      "text/plain": [
       "   X  Sex    Wr.Hnd NW.Hnd Pulse Smoke Height Age   \n",
       "3   3 Female 16.3   16.2   44    Regul 152.40 23.500\n",
       "4   4 Female 15.9   16.5   99    Never 167.64 17.333\n",
       "7   7 Female 17.5   17.0   85    Heavy 163.00 17.667\n",
       "9   9 Female 13.0   12.5   77    Never 165.00 18.167\n",
       "10 10 Female 18.5   18.0   75    Never 173.00 18.250\n",
       "11 11 Female 17.5   17.1   73    Never 167.00 18.417"
      ]
     },
     "metadata": {},
     "output_type": "display_data"
    },
    {
     "data": {
      "text/html": [
       "1.51990797715501"
      ],
      "text/latex": [
       "1.51990797715501"
      ],
      "text/markdown": [
       "1.51990797715501"
      ],
      "text/plain": [
       "[1] 1.519908"
      ]
     },
     "metadata": {},
     "output_type": "display_data"
    }
   ],
   "source": [
    "# Subset if we don't know these functions yet..\n",
    "data.f <- data[data$Sex == \"Female\", ]\n",
    "head(data.f)\n",
    "sd(data.f$Wr.Hnd)"
   ]
  },
  {
   "cell_type": "code",
   "execution_count": 54,
   "metadata": {},
   "outputs": [
    {
     "data": {
      "text/html": [
       "<table>\n",
       "<caption>A data.frame: 2 × 2</caption>\n",
       "<thead>\n",
       "\t<tr><th scope=col>sex</th><th scope=col>x</th></tr>\n",
       "\t<tr><th scope=col>&lt;fct&gt;</th><th scope=col>&lt;dbl&gt;</th></tr>\n",
       "</thead>\n",
       "<tbody>\n",
       "\t<tr><td>Female</td><td>1.519908</td></tr>\n",
       "\t<tr><td>Male  </td><td>1.712066</td></tr>\n",
       "</tbody>\n",
       "</table>\n"
      ],
      "text/latex": [
       "A data.frame: 2 × 2\n",
       "\\begin{tabular}{r|ll}\n",
       " sex & x\\\\\n",
       " <fct> & <dbl>\\\\\n",
       "\\hline\n",
       "\t Female & 1.519908\\\\\n",
       "\t Male   & 1.712066\\\\\n",
       "\\end{tabular}\n"
      ],
      "text/markdown": [
       "\n",
       "A data.frame: 2 × 2\n",
       "\n",
       "| sex &lt;fct&gt; | x &lt;dbl&gt; |\n",
       "|---|---|\n",
       "| Female | 1.519908 |\n",
       "| Male   | 1.712066 |\n",
       "\n"
      ],
      "text/plain": [
       "  sex    x       \n",
       "1 Female 1.519908\n",
       "2 Male   1.712066"
      ]
     },
     "metadata": {},
     "output_type": "display_data"
    }
   ],
   "source": [
    "# aggregate() syntax 1\n",
    "aggregate(data$Wr.Hnd, by = list(sex = data$Sex), FUN = sd)"
   ]
  },
  {
   "cell_type": "code",
   "execution_count": 55,
   "metadata": {},
   "outputs": [
    {
     "data": {
      "text/html": [
       "<table>\n",
       "<caption>A data.frame: 2 × 2</caption>\n",
       "<thead>\n",
       "\t<tr><th scope=col>Sex</th><th scope=col>Wr.Hnd</th></tr>\n",
       "\t<tr><th scope=col>&lt;fct&gt;</th><th scope=col>&lt;dbl&gt;</th></tr>\n",
       "</thead>\n",
       "<tbody>\n",
       "\t<tr><td>Female</td><td>1.519908</td></tr>\n",
       "\t<tr><td>Male  </td><td>1.712066</td></tr>\n",
       "</tbody>\n",
       "</table>\n"
      ],
      "text/latex": [
       "A data.frame: 2 × 2\n",
       "\\begin{tabular}{r|ll}\n",
       " Sex & Wr.Hnd\\\\\n",
       " <fct> & <dbl>\\\\\n",
       "\\hline\n",
       "\t Female & 1.519908\\\\\n",
       "\t Male   & 1.712066\\\\\n",
       "\\end{tabular}\n"
      ],
      "text/markdown": [
       "\n",
       "A data.frame: 2 × 2\n",
       "\n",
       "| Sex &lt;fct&gt; | Wr.Hnd &lt;dbl&gt; |\n",
       "|---|---|\n",
       "| Female | 1.519908 |\n",
       "| Male   | 1.712066 |\n",
       "\n"
      ],
      "text/plain": [
       "  Sex    Wr.Hnd  \n",
       "1 Female 1.519908\n",
       "2 Male   1.712066"
      ]
     },
     "metadata": {},
     "output_type": "display_data"
    }
   ],
   "source": [
    "# aggregate() syntax 2\n",
    "aggregate(Wr.Hnd~Sex, data = data, FUN = sd)"
   ]
  },
  {
   "cell_type": "code",
   "execution_count": 56,
   "metadata": {},
   "outputs": [
    {
     "data": {
      "text/plain": [
       "sex: Female\n",
       "[1] 1.519908\n",
       "------------------------------------------------------------ \n",
       "sex: Male\n",
       "[1] 1.712066"
      ]
     },
     "metadata": {},
     "output_type": "display_data"
    }
   ],
   "source": [
    "# by()\n",
    "by(data = data$Wr.Hnd, INDICES = list(sex = data$Sex), FUN = sd)"
   ]
  },
  {
   "cell_type": "code",
   "execution_count": 57,
   "metadata": {},
   "outputs": [
    {
     "data": {
      "text/html": [
       "<dl class=dl-horizontal>\n",
       "\t<dt>Female</dt>\n",
       "\t\t<dd>1.51990797715501</dd>\n",
       "\t<dt>Male</dt>\n",
       "\t\t<dd>1.71206552443005</dd>\n",
       "</dl>\n"
      ],
      "text/latex": [
       "\\begin{description*}\n",
       "\\item[Female] 1.51990797715501\n",
       "\\item[Male] 1.71206552443005\n",
       "\\end{description*}\n"
      ],
      "text/markdown": [
       "Female\n",
       ":   1.51990797715501Male\n",
       ":   1.71206552443005\n",
       "\n"
      ],
      "text/plain": [
       "  Female     Male \n",
       "1.519908 1.712066 "
      ]
     },
     "metadata": {},
     "output_type": "display_data"
    }
   ],
   "source": [
    "# tapply()\n",
    "tapply(X = data$Wr.Hnd, INDEX = list(data$Sex), FUN = sd)"
   ]
  },
  {
   "cell_type": "code",
   "execution_count": 58,
   "metadata": {},
   "outputs": [
    {
     "data": {
      "text/html": [
       "<dl>\n",
       "\t<dt>$Female</dt>\n",
       "\t\t<dd>1.51990797715501</dd>\n",
       "\t<dt>$Male</dt>\n",
       "\t\t<dd>1.71206552443005</dd>\n",
       "</dl>\n"
      ],
      "text/latex": [
       "\\begin{description}\n",
       "\\item[\\$Female] 1.51990797715501\n",
       "\\item[\\$Male] 1.71206552443005\n",
       "\\end{description}\n"
      ],
      "text/markdown": [
       "$Female\n",
       ":   1.51990797715501\n",
       "$Male\n",
       ":   1.71206552443005\n",
       "\n",
       "\n"
      ],
      "text/plain": [
       "$Female\n",
       "[1] 1.519908\n",
       "\n",
       "$Male\n",
       "[1] 1.712066\n"
      ]
     },
     "metadata": {},
     "output_type": "display_data"
    }
   ],
   "source": [
    "# Return a list using tapply()\n",
    "tapply(X = data$Wr.Hnd, INDEX = list(data$Sex),\n",
    "       FUN = sd, simplify = FALSE)"
   ]
  },
  {
   "cell_type": "markdown",
   "metadata": {},
   "source": [
    "##### aggregate( ), by( ) and tapply( ) are all connected. They give different types of output."
   ]
  },
  {
   "cell_type": "markdown",
   "metadata": {},
   "source": [
    "#### c2. Calculate the standard deviation of writing hand span of all different Sex-Smoke groups"
   ]
  },
  {
   "cell_type": "code",
   "execution_count": 59,
   "metadata": {},
   "outputs": [
    {
     "data": {
      "text/html": [
       "<table>\n",
       "<caption>A data.frame: 8 × 3</caption>\n",
       "<thead>\n",
       "\t<tr><th scope=col>sex</th><th scope=col>smoke</th><th scope=col>x</th></tr>\n",
       "\t<tr><th scope=col>&lt;fct&gt;</th><th scope=col>&lt;fct&gt;</th><th scope=col>&lt;dbl&gt;</th></tr>\n",
       "</thead>\n",
       "<tbody>\n",
       "\t<tr><td>Female</td><td>Heavy</td><td>0.2309401</td></tr>\n",
       "\t<tr><td>Male  </td><td>Heavy</td><td>4.8569538</td></tr>\n",
       "\t<tr><td>Female</td><td>Never</td><td>1.5762663</td></tr>\n",
       "\t<tr><td>Male  </td><td>Never</td><td>1.3857770</td></tr>\n",
       "\t<tr><td>Female</td><td>Occas</td><td>1.9000000</td></tr>\n",
       "\t<tr><td>Male  </td><td>Occas</td><td>2.2627417</td></tr>\n",
       "\t<tr><td>Female</td><td>Regul</td><td>       NA</td></tr>\n",
       "\t<tr><td>Male  </td><td>Regul</td><td>1.6537835</td></tr>\n",
       "</tbody>\n",
       "</table>\n"
      ],
      "text/latex": [
       "A data.frame: 8 × 3\n",
       "\\begin{tabular}{r|lll}\n",
       " sex & smoke & x\\\\\n",
       " <fct> & <fct> & <dbl>\\\\\n",
       "\\hline\n",
       "\t Female & Heavy & 0.2309401\\\\\n",
       "\t Male   & Heavy & 4.8569538\\\\\n",
       "\t Female & Never & 1.5762663\\\\\n",
       "\t Male   & Never & 1.3857770\\\\\n",
       "\t Female & Occas & 1.9000000\\\\\n",
       "\t Male   & Occas & 2.2627417\\\\\n",
       "\t Female & Regul &        NA\\\\\n",
       "\t Male   & Regul & 1.6537835\\\\\n",
       "\\end{tabular}\n"
      ],
      "text/markdown": [
       "\n",
       "A data.frame: 8 × 3\n",
       "\n",
       "| sex &lt;fct&gt; | smoke &lt;fct&gt; | x &lt;dbl&gt; |\n",
       "|---|---|---|\n",
       "| Female | Heavy | 0.2309401 |\n",
       "| Male   | Heavy | 4.8569538 |\n",
       "| Female | Never | 1.5762663 |\n",
       "| Male   | Never | 1.3857770 |\n",
       "| Female | Occas | 1.9000000 |\n",
       "| Male   | Occas | 2.2627417 |\n",
       "| Female | Regul |        NA |\n",
       "| Male   | Regul | 1.6537835 |\n",
       "\n"
      ],
      "text/plain": [
       "  sex    smoke x        \n",
       "1 Female Heavy 0.2309401\n",
       "2 Male   Heavy 4.8569538\n",
       "3 Female Never 1.5762663\n",
       "4 Male   Never 1.3857770\n",
       "5 Female Occas 1.9000000\n",
       "6 Male   Occas 2.2627417\n",
       "7 Female Regul        NA\n",
       "8 Male   Regul 1.6537835"
      ]
     },
     "metadata": {},
     "output_type": "display_data"
    }
   ],
   "source": [
    "aggregate(data$Wr.Hnd,\n",
    "          by = list(sex = data$Sex, smoke = data$Smoke),\n",
    "          FUN = sd)"
   ]
  },
  {
   "cell_type": "code",
   "execution_count": 60,
   "metadata": {},
   "outputs": [
    {
     "data": {
      "text/html": [
       "<table>\n",
       "<caption>A data.frame: 8 × 3</caption>\n",
       "<thead>\n",
       "\t<tr><th scope=col>Sex</th><th scope=col>Smoke</th><th scope=col>Wr.Hnd</th></tr>\n",
       "\t<tr><th scope=col>&lt;fct&gt;</th><th scope=col>&lt;fct&gt;</th><th scope=col>&lt;dbl&gt;</th></tr>\n",
       "</thead>\n",
       "<tbody>\n",
       "\t<tr><td>Female</td><td>Heavy</td><td>0.2309401</td></tr>\n",
       "\t<tr><td>Male  </td><td>Heavy</td><td>4.8569538</td></tr>\n",
       "\t<tr><td>Female</td><td>Never</td><td>1.5762663</td></tr>\n",
       "\t<tr><td>Male  </td><td>Never</td><td>1.3857770</td></tr>\n",
       "\t<tr><td>Female</td><td>Occas</td><td>1.9000000</td></tr>\n",
       "\t<tr><td>Male  </td><td>Occas</td><td>2.2627417</td></tr>\n",
       "\t<tr><td>Female</td><td>Regul</td><td>       NA</td></tr>\n",
       "\t<tr><td>Male  </td><td>Regul</td><td>1.6537835</td></tr>\n",
       "</tbody>\n",
       "</table>\n"
      ],
      "text/latex": [
       "A data.frame: 8 × 3\n",
       "\\begin{tabular}{r|lll}\n",
       " Sex & Smoke & Wr.Hnd\\\\\n",
       " <fct> & <fct> & <dbl>\\\\\n",
       "\\hline\n",
       "\t Female & Heavy & 0.2309401\\\\\n",
       "\t Male   & Heavy & 4.8569538\\\\\n",
       "\t Female & Never & 1.5762663\\\\\n",
       "\t Male   & Never & 1.3857770\\\\\n",
       "\t Female & Occas & 1.9000000\\\\\n",
       "\t Male   & Occas & 2.2627417\\\\\n",
       "\t Female & Regul &        NA\\\\\n",
       "\t Male   & Regul & 1.6537835\\\\\n",
       "\\end{tabular}\n"
      ],
      "text/markdown": [
       "\n",
       "A data.frame: 8 × 3\n",
       "\n",
       "| Sex &lt;fct&gt; | Smoke &lt;fct&gt; | Wr.Hnd &lt;dbl&gt; |\n",
       "|---|---|---|\n",
       "| Female | Heavy | 0.2309401 |\n",
       "| Male   | Heavy | 4.8569538 |\n",
       "| Female | Never | 1.5762663 |\n",
       "| Male   | Never | 1.3857770 |\n",
       "| Female | Occas | 1.9000000 |\n",
       "| Male   | Occas | 2.2627417 |\n",
       "| Female | Regul |        NA |\n",
       "| Male   | Regul | 1.6537835 |\n",
       "\n"
      ],
      "text/plain": [
       "  Sex    Smoke Wr.Hnd   \n",
       "1 Female Heavy 0.2309401\n",
       "2 Male   Heavy 4.8569538\n",
       "3 Female Never 1.5762663\n",
       "4 Male   Never 1.3857770\n",
       "5 Female Occas 1.9000000\n",
       "6 Male   Occas 2.2627417\n",
       "7 Female Regul        NA\n",
       "8 Male   Regul 1.6537835"
      ]
     },
     "metadata": {},
     "output_type": "display_data"
    }
   ],
   "source": [
    "aggregate(Wr.Hnd~Sex+Smoke, data = data, FUN = sd)"
   ]
  },
  {
   "cell_type": "markdown",
   "metadata": {},
   "source": [
    "#### c3. Calculate the standard deviation of writing hand and non-writing hand span of all Sex-Smoke groups"
   ]
  },
  {
   "cell_type": "code",
   "execution_count": 61,
   "metadata": {},
   "outputs": [
    {
     "data": {
      "text/html": [
       "<table>\n",
       "<caption>A matrix: 5 × 2 of type int</caption>\n",
       "<tbody>\n",
       "\t<tr><td>1</td><td>5</td></tr>\n",
       "\t<tr><td>2</td><td>4</td></tr>\n",
       "\t<tr><td>3</td><td>3</td></tr>\n",
       "\t<tr><td>4</td><td>2</td></tr>\n",
       "\t<tr><td>5</td><td>1</td></tr>\n",
       "</tbody>\n",
       "</table>\n"
      ],
      "text/latex": [
       "A matrix: 5 × 2 of type int\n",
       "\\begin{tabular}{ll}\n",
       "\t 1 & 5\\\\\n",
       "\t 2 & 4\\\\\n",
       "\t 3 & 3\\\\\n",
       "\t 4 & 2\\\\\n",
       "\t 5 & 1\\\\\n",
       "\\end{tabular}\n"
      ],
      "text/markdown": [
       "\n",
       "A matrix: 5 × 2 of type int\n",
       "\n",
       "| 1 | 5 |\n",
       "| 2 | 4 |\n",
       "| 3 | 3 |\n",
       "| 4 | 2 |\n",
       "| 5 | 1 |\n",
       "\n"
      ],
      "text/plain": [
       "     [,1] [,2]\n",
       "[1,] 1    5   \n",
       "[2,] 2    4   \n",
       "[3,] 3    3   \n",
       "[4,] 4    2   \n",
       "[5,] 5    1   "
      ]
     },
     "metadata": {},
     "output_type": "display_data"
    },
    {
     "data": {
      "text/html": [
       "<table>\n",
       "<caption>A matrix: 2 × 5 of type int</caption>\n",
       "<tbody>\n",
       "\t<tr><td>1</td><td>2</td><td>3</td><td>4</td><td>5</td></tr>\n",
       "\t<tr><td>5</td><td>4</td><td>3</td><td>2</td><td>1</td></tr>\n",
       "</tbody>\n",
       "</table>\n"
      ],
      "text/latex": [
       "A matrix: 2 × 5 of type int\n",
       "\\begin{tabular}{lllll}\n",
       "\t 1 & 2 & 3 & 4 & 5\\\\\n",
       "\t 5 & 4 & 3 & 2 & 1\\\\\n",
       "\\end{tabular}\n"
      ],
      "text/markdown": [
       "\n",
       "A matrix: 2 × 5 of type int\n",
       "\n",
       "| 1 | 2 | 3 | 4 | 5 |\n",
       "| 5 | 4 | 3 | 2 | 1 |\n",
       "\n"
      ],
      "text/plain": [
       "     [,1] [,2] [,3] [,4] [,5]\n",
       "[1,] 1    2    3    4    5   \n",
       "[2,] 5    4    3    2    1   "
      ]
     },
     "metadata": {},
     "output_type": "display_data"
    }
   ],
   "source": [
    "cbind(1:5, 5:1); rbind(1:5, 5:1)"
   ]
  },
  {
   "cell_type": "code",
   "execution_count": 62,
   "metadata": {},
   "outputs": [
    {
     "data": {
      "text/html": [
       "<table>\n",
       "<caption>A data.frame: 8 × 4</caption>\n",
       "<thead>\n",
       "\t<tr><th scope=col>Group.1</th><th scope=col>Group.2</th><th scope=col>V1</th><th scope=col>V2</th></tr>\n",
       "\t<tr><th scope=col>&lt;fct&gt;</th><th scope=col>&lt;fct&gt;</th><th scope=col>&lt;dbl&gt;</th><th scope=col>&lt;dbl&gt;</th></tr>\n",
       "</thead>\n",
       "<tbody>\n",
       "\t<tr><td>Female</td><td>Heavy</td><td>0.2309401</td><td>0.2886751</td></tr>\n",
       "\t<tr><td>Male  </td><td>Heavy</td><td>4.8569538</td><td>3.9828800</td></tr>\n",
       "\t<tr><td>Female</td><td>Never</td><td>1.5762663</td><td>1.6625899</td></tr>\n",
       "\t<tr><td>Male  </td><td>Never</td><td>1.3857770</td><td>1.3760875</td></tr>\n",
       "\t<tr><td>Female</td><td>Occas</td><td>1.9000000</td><td>1.3796135</td></tr>\n",
       "\t<tr><td>Male  </td><td>Occas</td><td>2.2627417</td><td>1.0606602</td></tr>\n",
       "\t<tr><td>Female</td><td>Regul</td><td>       NA</td><td>       NA</td></tr>\n",
       "\t<tr><td>Male  </td><td>Regul</td><td>1.6537835</td><td>1.3991069</td></tr>\n",
       "</tbody>\n",
       "</table>\n"
      ],
      "text/latex": [
       "A data.frame: 8 × 4\n",
       "\\begin{tabular}{r|llll}\n",
       " Group.1 & Group.2 & V1 & V2\\\\\n",
       " <fct> & <fct> & <dbl> & <dbl>\\\\\n",
       "\\hline\n",
       "\t Female & Heavy & 0.2309401 & 0.2886751\\\\\n",
       "\t Male   & Heavy & 4.8569538 & 3.9828800\\\\\n",
       "\t Female & Never & 1.5762663 & 1.6625899\\\\\n",
       "\t Male   & Never & 1.3857770 & 1.3760875\\\\\n",
       "\t Female & Occas & 1.9000000 & 1.3796135\\\\\n",
       "\t Male   & Occas & 2.2627417 & 1.0606602\\\\\n",
       "\t Female & Regul &        NA &        NA\\\\\n",
       "\t Male   & Regul & 1.6537835 & 1.3991069\\\\\n",
       "\\end{tabular}\n"
      ],
      "text/markdown": [
       "\n",
       "A data.frame: 8 × 4\n",
       "\n",
       "| Group.1 &lt;fct&gt; | Group.2 &lt;fct&gt; | V1 &lt;dbl&gt; | V2 &lt;dbl&gt; |\n",
       "|---|---|---|---|\n",
       "| Female | Heavy | 0.2309401 | 0.2886751 |\n",
       "| Male   | Heavy | 4.8569538 | 3.9828800 |\n",
       "| Female | Never | 1.5762663 | 1.6625899 |\n",
       "| Male   | Never | 1.3857770 | 1.3760875 |\n",
       "| Female | Occas | 1.9000000 | 1.3796135 |\n",
       "| Male   | Occas | 2.2627417 | 1.0606602 |\n",
       "| Female | Regul |        NA |        NA |\n",
       "| Male   | Regul | 1.6537835 | 1.3991069 |\n",
       "\n"
      ],
      "text/plain": [
       "  Group.1 Group.2 V1        V2       \n",
       "1 Female  Heavy   0.2309401 0.2886751\n",
       "2 Male    Heavy   4.8569538 3.9828800\n",
       "3 Female  Never   1.5762663 1.6625899\n",
       "4 Male    Never   1.3857770 1.3760875\n",
       "5 Female  Occas   1.9000000 1.3796135\n",
       "6 Male    Occas   2.2627417 1.0606602\n",
       "7 Female  Regul          NA        NA\n",
       "8 Male    Regul   1.6537835 1.3991069"
      ]
     },
     "metadata": {},
     "output_type": "display_data"
    }
   ],
   "source": [
    "aggregate(cbind(data$Wr.Hnd, data$NW.Hnd),\n",
    "          by = list(data$Sex, data$Smoke),\n",
    "          FUN = sd)"
   ]
  },
  {
   "cell_type": "code",
   "execution_count": 63,
   "metadata": {},
   "outputs": [
    {
     "data": {
      "text/html": [
       "<table>\n",
       "<caption>A data.frame: 8 × 4</caption>\n",
       "<thead>\n",
       "\t<tr><th scope=col>Sex</th><th scope=col>Smoke</th><th scope=col>Wr.Hnd</th><th scope=col>NW.Hnd</th></tr>\n",
       "\t<tr><th scope=col>&lt;fct&gt;</th><th scope=col>&lt;fct&gt;</th><th scope=col>&lt;dbl&gt;</th><th scope=col>&lt;dbl&gt;</th></tr>\n",
       "</thead>\n",
       "<tbody>\n",
       "\t<tr><td>Female</td><td>Heavy</td><td>0.2309401</td><td>0.2886751</td></tr>\n",
       "\t<tr><td>Male  </td><td>Heavy</td><td>4.8569538</td><td>3.9828800</td></tr>\n",
       "\t<tr><td>Female</td><td>Never</td><td>1.5762663</td><td>1.6625899</td></tr>\n",
       "\t<tr><td>Male  </td><td>Never</td><td>1.3857770</td><td>1.3760875</td></tr>\n",
       "\t<tr><td>Female</td><td>Occas</td><td>1.9000000</td><td>1.3796135</td></tr>\n",
       "\t<tr><td>Male  </td><td>Occas</td><td>2.2627417</td><td>1.0606602</td></tr>\n",
       "\t<tr><td>Female</td><td>Regul</td><td>       NA</td><td>       NA</td></tr>\n",
       "\t<tr><td>Male  </td><td>Regul</td><td>1.6537835</td><td>1.3991069</td></tr>\n",
       "</tbody>\n",
       "</table>\n"
      ],
      "text/latex": [
       "A data.frame: 8 × 4\n",
       "\\begin{tabular}{r|llll}\n",
       " Sex & Smoke & Wr.Hnd & NW.Hnd\\\\\n",
       " <fct> & <fct> & <dbl> & <dbl>\\\\\n",
       "\\hline\n",
       "\t Female & Heavy & 0.2309401 & 0.2886751\\\\\n",
       "\t Male   & Heavy & 4.8569538 & 3.9828800\\\\\n",
       "\t Female & Never & 1.5762663 & 1.6625899\\\\\n",
       "\t Male   & Never & 1.3857770 & 1.3760875\\\\\n",
       "\t Female & Occas & 1.9000000 & 1.3796135\\\\\n",
       "\t Male   & Occas & 2.2627417 & 1.0606602\\\\\n",
       "\t Female & Regul &        NA &        NA\\\\\n",
       "\t Male   & Regul & 1.6537835 & 1.3991069\\\\\n",
       "\\end{tabular}\n"
      ],
      "text/markdown": [
       "\n",
       "A data.frame: 8 × 4\n",
       "\n",
       "| Sex &lt;fct&gt; | Smoke &lt;fct&gt; | Wr.Hnd &lt;dbl&gt; | NW.Hnd &lt;dbl&gt; |\n",
       "|---|---|---|---|\n",
       "| Female | Heavy | 0.2309401 | 0.2886751 |\n",
       "| Male   | Heavy | 4.8569538 | 3.9828800 |\n",
       "| Female | Never | 1.5762663 | 1.6625899 |\n",
       "| Male   | Never | 1.3857770 | 1.3760875 |\n",
       "| Female | Occas | 1.9000000 | 1.3796135 |\n",
       "| Male   | Occas | 2.2627417 | 1.0606602 |\n",
       "| Female | Regul |        NA |        NA |\n",
       "| Male   | Regul | 1.6537835 | 1.3991069 |\n",
       "\n"
      ],
      "text/plain": [
       "  Sex    Smoke Wr.Hnd    NW.Hnd   \n",
       "1 Female Heavy 0.2309401 0.2886751\n",
       "2 Male   Heavy 4.8569538 3.9828800\n",
       "3 Female Never 1.5762663 1.6625899\n",
       "4 Male   Never 1.3857770 1.3760875\n",
       "5 Female Occas 1.9000000 1.3796135\n",
       "6 Male   Occas 2.2627417 1.0606602\n",
       "7 Female Regul        NA        NA\n",
       "8 Male   Regul 1.6537835 1.3991069"
      ]
     },
     "metadata": {},
     "output_type": "display_data"
    }
   ],
   "source": [
    "aggregate(cbind(Wr.Hnd, NW.Hnd)~Sex+Smoke, data = data, FUN = sd)"
   ]
  },
  {
   "cell_type": "markdown",
   "metadata": {},
   "source": [
    "##### Let's try to figure out what aggregate( ) is doing\n",
    "        print()"
   ]
  },
  {
   "cell_type": "code",
   "execution_count": 64,
   "metadata": {},
   "outputs": [
    {
     "name": "stdout",
     "output_type": "stream",
     "text": [
      "[1] 17.5 14.0 23.2 17.5 17.1 21.3\n",
      " [1] 21.4 19.5 15.9 19.3 18.5 19.8 13.0 18.5 17.5 22.0 20.0 18.6 16.0 13.0 18.0\n",
      "[16] 19.6 21.0 17.5 19.5 18.9 18.1 16.0 18.8 19.5 16.4 18.5 17.2 19.4 17.0 17.8\n",
      "[31] 18.0 16.9 21.0 16.5 17.0 18.5 17.6 16.5 19.1 18.8 17.7 15.5 21.0 18.0 19.0\n",
      "[46] 17.6 19.5 21.5 20.8 19.0 18.9 17.5 19.0 18.5 18.5 19.2 15.0 17.7 17.5 16.0\n",
      "[61] 18.5 17.5 18.0 18.0 19.0 18.5 19.2 21.5 17.5 17.5 19.5 17.6 18.7 17.0 18.2\n",
      "[76] 18.0 19.5 19.5 20.5\n",
      "[1] 19.1 22.2 15.4 16.5 19.0\n",
      " [1] 16.3 18.5 19.5 19.7 18.0 17.0 22.5 20.5 20.0 21.0\n"
     ]
    },
    {
     "data": {
      "text/html": [
       "<table>\n",
       "<caption>A data.frame: 4 × 2</caption>\n",
       "<thead>\n",
       "\t<tr><th scope=col>Smoke</th><th scope=col>Wr.Hnd</th></tr>\n",
       "\t<tr><th scope=col>&lt;fct&gt;</th><th scope=col>&lt;list&gt;</th></tr>\n",
       "</thead>\n",
       "<tbody>\n",
       "\t<tr><td>Heavy</td><td>17.5, 14.0, 23.2, 17.5, 17.1, 21.3</td></tr>\n",
       "\t<tr><td>Never</td><td>21.4, 19.5, 15.9, 19.3, 18.5, 19.8, 13.0, 18.5, 17.5, 22.0, 20.0, 18.6, 16.0, 13.0, 18.0, 19.6, 21.0, 17.5, 19.5, 18.9, 18.1, 16.0, 18.8, 19.5, 16.4, 18.5, 17.2, 19.4, 17.0, 17.8, 18.0, 16.9, 21.0, 16.5, 17.0, 18.5, 17.6, 16.5, 19.1, 18.8, 17.7, 15.5, 21.0, 18.0, 19.0, 17.6, 19.5, 21.5, 20.8, 19.0, 18.9, 17.5, 19.0, 18.5, 18.5, 19.2, 15.0, 17.7, 17.5, 16.0, 18.5, 17.5, 18.0, 18.0, 19.0, 18.5, 19.2, 21.5, 17.5, 17.5, 19.5, 17.6, 18.7, 17.0, 18.2, 18.0, 19.5, 19.5, 20.5</td></tr>\n",
       "\t<tr><td>Occas</td><td>19.1, 22.2, 15.4, 16.5, 19.0</td></tr>\n",
       "\t<tr><td>Regul</td><td>16.3, 18.5, 19.5, 19.7, 18.0, 17.0, 22.5, 20.5, 20.0, 21.0</td></tr>\n",
       "</tbody>\n",
       "</table>\n"
      ],
      "text/latex": [
       "A data.frame: 4 × 2\n",
       "\\begin{tabular}{r|ll}\n",
       " Smoke & Wr.Hnd\\\\\n",
       " <fct> & <list>\\\\\n",
       "\\hline\n",
       "\t Heavy & 17.5, 14.0, 23.2, 17.5, 17.1, 21.3\\\\\n",
       "\t Never & 21.4, 19.5, 15.9, 19.3, 18.5, 19.8, 13.0, 18.5, 17.5, 22.0, 20.0, 18.6, 16.0, 13.0, 18.0, 19.6, 21.0, 17.5, 19.5, 18.9, 18.1, 16.0, 18.8, 19.5, 16.4, 18.5, 17.2, 19.4, 17.0, 17.8, 18.0, 16.9, 21.0, 16.5, 17.0, 18.5, 17.6, 16.5, 19.1, 18.8, 17.7, 15.5, 21.0, 18.0, 19.0, 17.6, 19.5, 21.5, 20.8, 19.0, 18.9, 17.5, 19.0, 18.5, 18.5, 19.2, 15.0, 17.7, 17.5, 16.0, 18.5, 17.5, 18.0, 18.0, 19.0, 18.5, 19.2, 21.5, 17.5, 17.5, 19.5, 17.6, 18.7, 17.0, 18.2, 18.0, 19.5, 19.5, 20.5\\\\\n",
       "\t Occas & 19.1, 22.2, 15.4, 16.5, 19.0\\\\\n",
       "\t Regul & 16.3, 18.5, 19.5, 19.7, 18.0, 17.0, 22.5, 20.5, 20.0, 21.0\\\\\n",
       "\\end{tabular}\n"
      ],
      "text/markdown": [
       "\n",
       "A data.frame: 4 × 2\n",
       "\n",
       "| Smoke &lt;fct&gt; | Wr.Hnd &lt;list&gt; |\n",
       "|---|---|\n",
       "| Heavy | 17.5, 14.0, 23.2, 17.5, 17.1, 21.3 |\n",
       "| Never | 21.4, 19.5, 15.9, 19.3, 18.5, 19.8, 13.0, 18.5, 17.5, 22.0, 20.0, 18.6, 16.0, 13.0, 18.0, 19.6, 21.0, 17.5, 19.5, 18.9, 18.1, 16.0, 18.8, 19.5, 16.4, 18.5, 17.2, 19.4, 17.0, 17.8, 18.0, 16.9, 21.0, 16.5, 17.0, 18.5, 17.6, 16.5, 19.1, 18.8, 17.7, 15.5, 21.0, 18.0, 19.0, 17.6, 19.5, 21.5, 20.8, 19.0, 18.9, 17.5, 19.0, 18.5, 18.5, 19.2, 15.0, 17.7, 17.5, 16.0, 18.5, 17.5, 18.0, 18.0, 19.0, 18.5, 19.2, 21.5, 17.5, 17.5, 19.5, 17.6, 18.7, 17.0, 18.2, 18.0, 19.5, 19.5, 20.5 |\n",
       "| Occas | 19.1, 22.2, 15.4, 16.5, 19.0 |\n",
       "| Regul | 16.3, 18.5, 19.5, 19.7, 18.0, 17.0, 22.5, 20.5, 20.0, 21.0 |\n",
       "\n"
      ],
      "text/plain": [
       "  Smoke\n",
       "1 Heavy\n",
       "2 Never\n",
       "3 Occas\n",
       "4 Regul\n",
       "  Wr.Hnd                                                                                                                                                                                                                                                                                                                                                                                                                                                                                  \n",
       "1 17.5, 14.0, 23.2, 17.5, 17.1, 21.3                                                                                                                                                                                                                                                                                                                                                                                                                                                      \n",
       "2 21.4, 19.5, 15.9, 19.3, 18.5, 19.8, 13.0, 18.5, 17.5, 22.0, 20.0, 18.6, 16.0, 13.0, 18.0, 19.6, 21.0, 17.5, 19.5, 18.9, 18.1, 16.0, 18.8, 19.5, 16.4, 18.5, 17.2, 19.4, 17.0, 17.8, 18.0, 16.9, 21.0, 16.5, 17.0, 18.5, 17.6, 16.5, 19.1, 18.8, 17.7, 15.5, 21.0, 18.0, 19.0, 17.6, 19.5, 21.5, 20.8, 19.0, 18.9, 17.5, 19.0, 18.5, 18.5, 19.2, 15.0, 17.7, 17.5, 16.0, 18.5, 17.5, 18.0, 18.0, 19.0, 18.5, 19.2, 21.5, 17.5, 17.5, 19.5, 17.6, 18.7, 17.0, 18.2, 18.0, 19.5, 19.5, 20.5\n",
       "3 19.1, 22.2, 15.4, 16.5, 19.0                                                                                                                                                                                                                                                                                                                                                                                                                                                            \n",
       "4 16.3, 18.5, 19.5, 19.7, 18.0, 17.0, 22.5, 20.5, 20.0, 21.0                                                                                                                                                                                                                                                                                                                                                                                                                              "
      ]
     },
     "metadata": {},
     "output_type": "display_data"
    }
   ],
   "source": [
    "aggregate(Wr.Hnd~Smoke, data = data, FUN = print)"
   ]
  },
  {
   "cell_type": "markdown",
   "metadata": {},
   "source": [
    "##### Exercise.\n",
    "- Repeat b1-b3 using aggregate( )"
   ]
  },
  {
   "cell_type": "code",
   "execution_count": 65,
   "metadata": {},
   "outputs": [
    {
     "data": {
      "text/html": [
       "<table>\n",
       "<caption>A data.frame: 4 × 2</caption>\n",
       "<thead>\n",
       "\t<tr><th scope=col>Smoke</th><th scope=col>Wr.Hnd</th></tr>\n",
       "\t<tr><th scope=col>&lt;fct&gt;</th><th scope=col>&lt;int&gt;</th></tr>\n",
       "</thead>\n",
       "<tbody>\n",
       "\t<tr><td>Heavy</td><td> 6</td></tr>\n",
       "\t<tr><td>Never</td><td>79</td></tr>\n",
       "\t<tr><td>Occas</td><td> 5</td></tr>\n",
       "\t<tr><td>Regul</td><td>10</td></tr>\n",
       "</tbody>\n",
       "</table>\n"
      ],
      "text/latex": [
       "A data.frame: 4 × 2\n",
       "\\begin{tabular}{r|ll}\n",
       " Smoke & Wr.Hnd\\\\\n",
       " <fct> & <int>\\\\\n",
       "\\hline\n",
       "\t Heavy &  6\\\\\n",
       "\t Never & 79\\\\\n",
       "\t Occas &  5\\\\\n",
       "\t Regul & 10\\\\\n",
       "\\end{tabular}\n"
      ],
      "text/markdown": [
       "\n",
       "A data.frame: 4 × 2\n",
       "\n",
       "| Smoke &lt;fct&gt; | Wr.Hnd &lt;int&gt; |\n",
       "|---|---|\n",
       "| Heavy |  6 |\n",
       "| Never | 79 |\n",
       "| Occas |  5 |\n",
       "| Regul | 10 |\n",
       "\n"
      ],
      "text/plain": [
       "  Smoke Wr.Hnd\n",
       "1 Heavy  6    \n",
       "2 Never 79    \n",
       "3 Occas  5    \n",
       "4 Regul 10    "
      ]
     },
     "metadata": {},
     "output_type": "display_data"
    }
   ],
   "source": [
    "aggregate(Wr.Hnd~Smoke, data = data, FUN = length)"
   ]
  },
  {
   "cell_type": "markdown",
   "metadata": {},
   "source": [
    "- Make histograms of writing hand span for all four Smoke groups using aggregate( )\n",
    "        hist()"
   ]
  },
  {
   "cell_type": "code",
   "execution_count": 66,
   "metadata": {
    "scrolled": false
   },
   "outputs": [
    {
     "data": {
      "text/html": [
       "<table>\n",
       "<caption>A data.frame: 4 × 2</caption>\n",
       "<thead>\n",
       "\t<tr><th scope=col>Smoke</th><th scope=col>Wr.Hnd</th></tr>\n",
       "\t<tr><th scope=col>&lt;fct&gt;</th><th scope=col>&lt;list[,6]&gt;</th></tr>\n",
       "</thead>\n",
       "<tbody>\n",
       "\t<tr><td>Heavy</td><td>10, 15, 20, 25, 1, 3, 2, 0.03333333, 0.10000000, 0.06666667, 12.5, 17.5, 22.5, X[[i]], TRUE</td></tr>\n",
       "\t<tr><td>Never</td><td>10, 15, 20, 25, 3, 67, 9, 0.007594937, 0.169620253, 0.022784810, 12.5, 17.5, 22.5, X[[i]], TRUE</td></tr>\n",
       "\t<tr><td>Occas</td><td>14, 16, 18, 20, 22, 24, 1, 1, 2, 0, 1, 0.1, 0.1, 0.2, 0.0, 0.1, 15, 17, 19, 21, 23, X[[i]], TRUE</td></tr>\n",
       "\t<tr><td>Regul</td><td>16, 18, 20, 22, 24, 3, 4, 2, 1, 0.15, 0.20, 0.10, 0.05, 17, 19, 21, 23, X[[i]], TRUE</td></tr>\n",
       "</tbody>\n",
       "</table>\n"
      ],
      "text/latex": [
       "A data.frame: 4 × 2\n",
       "\\begin{tabular}{r|ll}\n",
       " Smoke & Wr.Hnd\\\\\n",
       " <fct> & <list{[},6{]}>\\\\\n",
       "\\hline\n",
       "\t Heavy & 10, 15, 20, 25, 1, 3, 2, 0.03333333, 0.10000000, 0.06666667, 12.5, 17.5, 22.5, X{[}{[}i{]}{]}, TRUE\\\\\n",
       "\t Never & 10, 15, 20, 25, 3, 67, 9, 0.007594937, 0.169620253, 0.022784810, 12.5, 17.5, 22.5, X{[}{[}i{]}{]}, TRUE\\\\\n",
       "\t Occas & 14, 16, 18, 20, 22, 24, 1, 1, 2, 0, 1, 0.1, 0.1, 0.2, 0.0, 0.1, 15, 17, 19, 21, 23, X{[}{[}i{]}{]}, TRUE\\\\\n",
       "\t Regul & 16, 18, 20, 22, 24, 3, 4, 2, 1, 0.15, 0.20, 0.10, 0.05, 17, 19, 21, 23, X{[}{[}i{]}{]}, TRUE\\\\\n",
       "\\end{tabular}\n"
      ],
      "text/markdown": [
       "\n",
       "A data.frame: 4 × 2\n",
       "\n",
       "| Smoke &lt;fct&gt; | Wr.Hnd &lt;list[,6]&gt; |\n",
       "|---|---|\n",
       "| Heavy | 10, 15, 20, 25, 1, 3, 2, 0.03333333, 0.10000000, 0.06666667, 12.5, 17.5, 22.5, X[[i]], TRUE |\n",
       "| Never | 10, 15, 20, 25, 3, 67, 9, 0.007594937, 0.169620253, 0.022784810, 12.5, 17.5, 22.5, X[[i]], TRUE |\n",
       "| Occas | 14, 16, 18, 20, 22, 24, 1, 1, 2, 0, 1, 0.1, 0.1, 0.2, 0.0, 0.1, 15, 17, 19, 21, 23, X[[i]], TRUE |\n",
       "| Regul | 16, 18, 20, 22, 24, 3, 4, 2, 1, 0.15, 0.20, 0.10, 0.05, 17, 19, 21, 23, X[[i]], TRUE |\n",
       "\n"
      ],
      "text/plain": [
       "  Smoke\n",
       "1 Heavy\n",
       "2 Never\n",
       "3 Occas\n",
       "4 Regul\n",
       "  Wr.Hnd                                                                                          \n",
       "1 10, 15, 20, 25, 1, 3, 2, 0.03333333, 0.10000000, 0.06666667, 12.5, 17.5, 22.5, X[[i]], TRUE     \n",
       "2 10, 15, 20, 25, 3, 67, 9, 0.007594937, 0.169620253, 0.022784810, 12.5, 17.5, 22.5, X[[i]], TRUE \n",
       "3 14, 16, 18, 20, 22, 24, 1, 1, 2, 0, 1, 0.1, 0.1, 0.2, 0.0, 0.1, 15, 17, 19, 21, 23, X[[i]], TRUE\n",
       "4 16, 18, 20, 22, 24, 3, 4, 2, 1, 0.15, 0.20, 0.10, 0.05, 17, 19, 21, 23, X[[i]], TRUE            "
      ]
     },
     "metadata": {},
     "output_type": "display_data"
    },
    {
     "data": {
      "image/png": "[encoded data removed]",
      "text/plain": [
       "Plot with title “hist”"
      ]
     },
     "metadata": {},
     "output_type": "display_data"
    }
   ],
   "source": [
    "par(mfrow = c(2,2))\n",
    "aggregate(Wr.Hnd~Smoke, data = data, FUN = hist,\n",
    "          main = \"hist\", breaks = 3)"
   ]
  },
  {
   "cell_type": "markdown",
   "metadata": {},
   "source": [
    "#### d1. Categorize 'Age' - make a new binary variable 'Adult'\n",
    "    ifelse(test, yes, no)"
   ]
  },
  {
   "cell_type": "code",
   "execution_count": 67,
   "metadata": {},
   "outputs": [
    {
     "data": {
      "text/html": [
       "<ol class=list-inline>\n",
       "\t<li>1</li>\n",
       "\t<li>2</li>\n",
       "\t<li>3</li>\n",
       "\t<li>4</li>\n",
       "\t<li>5</li>\n",
       "</ol>\n"
      ],
      "text/latex": [
       "\\begin{enumerate*}\n",
       "\\item 1\n",
       "\\item 2\n",
       "\\item 3\n",
       "\\item 4\n",
       "\\item 5\n",
       "\\end{enumerate*}\n"
      ],
      "text/markdown": [
       "1. 1\n",
       "2. 2\n",
       "3. 3\n",
       "4. 4\n",
       "5. 5\n",
       "\n",
       "\n"
      ],
      "text/plain": [
       "[1] 1 2 3 4 5"
      ]
     },
     "metadata": {},
     "output_type": "display_data"
    },
    {
     "data": {
      "text/html": [
       "<ol class=list-inline>\n",
       "\t<li>'small'</li>\n",
       "\t<li>'small'</li>\n",
       "\t<li>'small'</li>\n",
       "\t<li>'big'</li>\n",
       "\t<li>'big'</li>\n",
       "</ol>\n"
      ],
      "text/latex": [
       "\\begin{enumerate*}\n",
       "\\item 'small'\n",
       "\\item 'small'\n",
       "\\item 'small'\n",
       "\\item 'big'\n",
       "\\item 'big'\n",
       "\\end{enumerate*}\n"
      ],
      "text/markdown": [
       "1. 'small'\n",
       "2. 'small'\n",
       "3. 'small'\n",
       "4. 'big'\n",
       "5. 'big'\n",
       "\n",
       "\n"
      ],
      "text/plain": [
       "[1] \"small\" \"small\" \"small\" \"big\"   \"big\"  "
      ]
     },
     "metadata": {},
     "output_type": "display_data"
    }
   ],
   "source": [
    "vec <- 1:5\n",
    "vec\n",
    "\n",
    "ifelse(vec>3, yes = \"big\", no = \"small\")"
   ]
  },
  {
   "cell_type": "code",
   "execution_count": 68,
   "metadata": {},
   "outputs": [],
   "source": [
    "data$Adult <- ifelse(data$Age >= 18, yes = \"Yes\", no = \"No\")"
   ]
  },
  {
   "cell_type": "markdown",
   "metadata": {},
   "source": [
    "##### R has if (test) {opt1} else {opt2}, what is the advantage of ifelse( )?"
   ]
  },
  {
   "cell_type": "code",
   "execution_count": 69,
   "metadata": {},
   "outputs": [
    {
     "name": "stderr",
     "output_type": "stream",
     "text": [
      "Warning message in if (data$Age >= 18) {:\n",
      "“the condition has length > 1 and only the first element will be used”"
     ]
    },
    {
     "data": {
      "text/html": [
       "<table>\n",
       "<caption>A data.frame: 6 × 10</caption>\n",
       "<thead>\n",
       "\t<tr><th scope=col>X</th><th scope=col>Sex</th><th scope=col>Wr.Hnd</th><th scope=col>NW.Hnd</th><th scope=col>Pulse</th><th scope=col>Smoke</th><th scope=col>Height</th><th scope=col>Age</th><th scope=col>Adult</th><th scope=col>Adult2</th></tr>\n",
       "\t<tr><th scope=col>&lt;int&gt;</th><th scope=col>&lt;fct&gt;</th><th scope=col>&lt;dbl&gt;</th><th scope=col>&lt;dbl&gt;</th><th scope=col>&lt;int&gt;</th><th scope=col>&lt;fct&gt;</th><th scope=col>&lt;dbl&gt;</th><th scope=col>&lt;dbl&gt;</th><th scope=col>&lt;chr&gt;</th><th scope=col>&lt;chr&gt;</th></tr>\n",
       "</thead>\n",
       "<tbody>\n",
       "\t<tr><td>1</td><td>Male  </td><td>21.4</td><td>21.0</td><td>63</td><td>Never</td><td>180.00</td><td>19.000</td><td>Yes</td><td>Yes</td></tr>\n",
       "\t<tr><td>2</td><td>Male  </td><td>19.5</td><td>19.4</td><td>79</td><td>Never</td><td>165.00</td><td>18.083</td><td>Yes</td><td>Yes</td></tr>\n",
       "\t<tr><td>3</td><td>Female</td><td>16.3</td><td>16.2</td><td>44</td><td>Regul</td><td>152.40</td><td>23.500</td><td>Yes</td><td>Yes</td></tr>\n",
       "\t<tr><td>4</td><td>Female</td><td>15.9</td><td>16.5</td><td>99</td><td>Never</td><td>167.64</td><td>17.333</td><td>No </td><td>Yes</td></tr>\n",
       "\t<tr><td>5</td><td>Male  </td><td>19.3</td><td>19.4</td><td>55</td><td>Never</td><td>180.34</td><td>19.833</td><td>Yes</td><td>Yes</td></tr>\n",
       "\t<tr><td>6</td><td>Male  </td><td>18.5</td><td>18.5</td><td>48</td><td>Never</td><td>167.00</td><td>22.333</td><td>Yes</td><td>Yes</td></tr>\n",
       "</tbody>\n",
       "</table>\n"
      ],
      "text/latex": [
       "A data.frame: 6 × 10\n",
       "\\begin{tabular}{r|llllllllll}\n",
       " X & Sex & Wr.Hnd & NW.Hnd & Pulse & Smoke & Height & Age & Adult & Adult2\\\\\n",
       " <int> & <fct> & <dbl> & <dbl> & <int> & <fct> & <dbl> & <dbl> & <chr> & <chr>\\\\\n",
       "\\hline\n",
       "\t 1 & Male   & 21.4 & 21.0 & 63 & Never & 180.00 & 19.000 & Yes & Yes\\\\\n",
       "\t 2 & Male   & 19.5 & 19.4 & 79 & Never & 165.00 & 18.083 & Yes & Yes\\\\\n",
       "\t 3 & Female & 16.3 & 16.2 & 44 & Regul & 152.40 & 23.500 & Yes & Yes\\\\\n",
       "\t 4 & Female & 15.9 & 16.5 & 99 & Never & 167.64 & 17.333 & No  & Yes\\\\\n",
       "\t 5 & Male   & 19.3 & 19.4 & 55 & Never & 180.34 & 19.833 & Yes & Yes\\\\\n",
       "\t 6 & Male   & 18.5 & 18.5 & 48 & Never & 167.00 & 22.333 & Yes & Yes\\\\\n",
       "\\end{tabular}\n"
      ],
      "text/markdown": [
       "\n",
       "A data.frame: 6 × 10\n",
       "\n",
       "| X &lt;int&gt; | Sex &lt;fct&gt; | Wr.Hnd &lt;dbl&gt; | NW.Hnd &lt;dbl&gt; | Pulse &lt;int&gt; | Smoke &lt;fct&gt; | Height &lt;dbl&gt; | Age &lt;dbl&gt; | Adult &lt;chr&gt; | Adult2 &lt;chr&gt; |\n",
       "|---|---|---|---|---|---|---|---|---|---|\n",
       "| 1 | Male   | 21.4 | 21.0 | 63 | Never | 180.00 | 19.000 | Yes | Yes |\n",
       "| 2 | Male   | 19.5 | 19.4 | 79 | Never | 165.00 | 18.083 | Yes | Yes |\n",
       "| 3 | Female | 16.3 | 16.2 | 44 | Regul | 152.40 | 23.500 | Yes | Yes |\n",
       "| 4 | Female | 15.9 | 16.5 | 99 | Never | 167.64 | 17.333 | No  | Yes |\n",
       "| 5 | Male   | 19.3 | 19.4 | 55 | Never | 180.34 | 19.833 | Yes | Yes |\n",
       "| 6 | Male   | 18.5 | 18.5 | 48 | Never | 167.00 | 22.333 | Yes | Yes |\n",
       "\n"
      ],
      "text/plain": [
       "  X Sex    Wr.Hnd NW.Hnd Pulse Smoke Height Age    Adult Adult2\n",
       "1 1 Male   21.4   21.0   63    Never 180.00 19.000 Yes   Yes   \n",
       "2 2 Male   19.5   19.4   79    Never 165.00 18.083 Yes   Yes   \n",
       "3 3 Female 16.3   16.2   44    Regul 152.40 23.500 Yes   Yes   \n",
       "4 4 Female 15.9   16.5   99    Never 167.64 17.333 No    Yes   \n",
       "5 5 Male   19.3   19.4   55    Never 180.34 19.833 Yes   Yes   \n",
       "6 6 Male   18.5   18.5   48    Never 167.00 22.333 Yes   Yes   "
      ]
     },
     "metadata": {},
     "output_type": "display_data"
    }
   ],
   "source": [
    "if (data$Age >= 18) {\n",
    "    data$Adult2 = \"Yes\"\n",
    "} else {\n",
    "    data$Adult2 = \"No\"\n",
    "}\n",
    "head(data)"
   ]
  },
  {
   "cell_type": "code",
   "execution_count": 70,
   "metadata": {},
   "outputs": [],
   "source": [
    "# Delete Adult2\n",
    "data <- subset(data, select=-c(Adult2))"
   ]
  },
  {
   "cell_type": "markdown",
   "metadata": {},
   "source": [
    "##### ifelse( ) is vectorized!!!\n",
    "#### d2. Categorize 'Wr.Hnd' into 5 groups - make a new categorical variable with 5 levels\n",
    "    1. =< 16: TP/XS\n",
    "    2. 16~18 (16,18]: P/S\n",
    "    3. 18~20 (18,20]: M/M\n",
    "    4. 20~22: G/L\n",
    "    5. >  22: TG/XL\n",
    "Can we still use ifelse( )?\n",
    "    \n",
    "    cut(x, breaks, labels = NULL, right = TRUE, ...)"
   ]
  },
  {
   "cell_type": "code",
   "execution_count": 71,
   "metadata": {},
   "outputs": [
    {
     "data": {
      "text/html": [
       "<table>\n",
       "<caption>A data.frame: 12 × 10</caption>\n",
       "<thead>\n",
       "\t<tr><th scope=col>X</th><th scope=col>Sex</th><th scope=col>Wr.Hnd</th><th scope=col>NW.Hnd</th><th scope=col>Pulse</th><th scope=col>Smoke</th><th scope=col>Height</th><th scope=col>Age</th><th scope=col>Adult</th><th scope=col>Hn.Grp</th></tr>\n",
       "\t<tr><th scope=col>&lt;int&gt;</th><th scope=col>&lt;fct&gt;</th><th scope=col>&lt;dbl&gt;</th><th scope=col>&lt;dbl&gt;</th><th scope=col>&lt;int&gt;</th><th scope=col>&lt;fct&gt;</th><th scope=col>&lt;dbl&gt;</th><th scope=col>&lt;dbl&gt;</th><th scope=col>&lt;chr&gt;</th><th scope=col>&lt;fct&gt;</th></tr>\n",
       "</thead>\n",
       "<tbody>\n",
       "\t<tr><td> 1</td><td>Male  </td><td>21.4</td><td>21.0</td><td>63</td><td>Never</td><td>180.00</td><td>19.000</td><td>Yes</td><td>(20,22]  </td></tr>\n",
       "\t<tr><td> 2</td><td>Male  </td><td>19.5</td><td>19.4</td><td>79</td><td>Never</td><td>165.00</td><td>18.083</td><td>Yes</td><td>(18,20]  </td></tr>\n",
       "\t<tr><td> 3</td><td>Female</td><td>16.3</td><td>16.2</td><td>44</td><td>Regul</td><td>152.40</td><td>23.500</td><td>Yes</td><td>(16,18]  </td></tr>\n",
       "\t<tr><td> 4</td><td>Female</td><td>15.9</td><td>16.5</td><td>99</td><td>Never</td><td>167.64</td><td>17.333</td><td>No </td><td>(-Inf,16]</td></tr>\n",
       "\t<tr><td> 5</td><td>Male  </td><td>19.3</td><td>19.4</td><td>55</td><td>Never</td><td>180.34</td><td>19.833</td><td>Yes</td><td>(18,20]  </td></tr>\n",
       "\t<tr><td> 6</td><td>Male  </td><td>18.5</td><td>18.5</td><td>48</td><td>Never</td><td>167.00</td><td>22.333</td><td>Yes</td><td>(18,20]  </td></tr>\n",
       "\t<tr><td> 7</td><td>Female</td><td>17.5</td><td>17.0</td><td>85</td><td>Heavy</td><td>163.00</td><td>17.667</td><td>No </td><td>(16,18]  </td></tr>\n",
       "\t<tr><td> 8</td><td>Male  </td><td>19.8</td><td>20.0</td><td>NA</td><td>Never</td><td>180.00</td><td>17.417</td><td>No </td><td>(18,20]  </td></tr>\n",
       "\t<tr><td> 9</td><td>Female</td><td>13.0</td><td>12.5</td><td>77</td><td>Never</td><td>165.00</td><td>18.167</td><td>Yes</td><td>(-Inf,16]</td></tr>\n",
       "\t<tr><td>10</td><td>Female</td><td>18.5</td><td>18.0</td><td>75</td><td>Never</td><td>173.00</td><td>18.250</td><td>Yes</td><td>(18,20]  </td></tr>\n",
       "\t<tr><td>11</td><td>Female</td><td>17.5</td><td>17.1</td><td>73</td><td>Never</td><td>167.00</td><td>18.417</td><td>Yes</td><td>(16,18]  </td></tr>\n",
       "\t<tr><td>12</td><td>Male  </td><td>22.0</td><td>21.5</td><td>73</td><td>Never</td><td>200.00</td><td>18.500</td><td>Yes</td><td>(20,22]  </td></tr>\n",
       "</tbody>\n",
       "</table>\n"
      ],
      "text/latex": [
       "A data.frame: 12 × 10\n",
       "\\begin{tabular}{r|llllllllll}\n",
       " X & Sex & Wr.Hnd & NW.Hnd & Pulse & Smoke & Height & Age & Adult & Hn.Grp\\\\\n",
       " <int> & <fct> & <dbl> & <dbl> & <int> & <fct> & <dbl> & <dbl> & <chr> & <fct>\\\\\n",
       "\\hline\n",
       "\t  1 & Male   & 21.4 & 21.0 & 63 & Never & 180.00 & 19.000 & Yes & (20,22{]}  \\\\\n",
       "\t  2 & Male   & 19.5 & 19.4 & 79 & Never & 165.00 & 18.083 & Yes & (18,20{]}  \\\\\n",
       "\t  3 & Female & 16.3 & 16.2 & 44 & Regul & 152.40 & 23.500 & Yes & (16,18{]}  \\\\\n",
       "\t  4 & Female & 15.9 & 16.5 & 99 & Never & 167.64 & 17.333 & No  & (-Inf,16{]}\\\\\n",
       "\t  5 & Male   & 19.3 & 19.4 & 55 & Never & 180.34 & 19.833 & Yes & (18,20{]}  \\\\\n",
       "\t  6 & Male   & 18.5 & 18.5 & 48 & Never & 167.00 & 22.333 & Yes & (18,20{]}  \\\\\n",
       "\t  7 & Female & 17.5 & 17.0 & 85 & Heavy & 163.00 & 17.667 & No  & (16,18{]}  \\\\\n",
       "\t  8 & Male   & 19.8 & 20.0 & NA & Never & 180.00 & 17.417 & No  & (18,20{]}  \\\\\n",
       "\t  9 & Female & 13.0 & 12.5 & 77 & Never & 165.00 & 18.167 & Yes & (-Inf,16{]}\\\\\n",
       "\t 10 & Female & 18.5 & 18.0 & 75 & Never & 173.00 & 18.250 & Yes & (18,20{]}  \\\\\n",
       "\t 11 & Female & 17.5 & 17.1 & 73 & Never & 167.00 & 18.417 & Yes & (16,18{]}  \\\\\n",
       "\t 12 & Male   & 22.0 & 21.5 & 73 & Never & 200.00 & 18.500 & Yes & (20,22{]}  \\\\\n",
       "\\end{tabular}\n"
      ],
      "text/markdown": [
       "\n",
       "A data.frame: 12 × 10\n",
       "\n",
       "| X &lt;int&gt; | Sex &lt;fct&gt; | Wr.Hnd &lt;dbl&gt; | NW.Hnd &lt;dbl&gt; | Pulse &lt;int&gt; | Smoke &lt;fct&gt; | Height &lt;dbl&gt; | Age &lt;dbl&gt; | Adult &lt;chr&gt; | Hn.Grp &lt;fct&gt; |\n",
       "|---|---|---|---|---|---|---|---|---|---|\n",
       "|  1 | Male   | 21.4 | 21.0 | 63 | Never | 180.00 | 19.000 | Yes | (20,22]   |\n",
       "|  2 | Male   | 19.5 | 19.4 | 79 | Never | 165.00 | 18.083 | Yes | (18,20]   |\n",
       "|  3 | Female | 16.3 | 16.2 | 44 | Regul | 152.40 | 23.500 | Yes | (16,18]   |\n",
       "|  4 | Female | 15.9 | 16.5 | 99 | Never | 167.64 | 17.333 | No  | (-Inf,16] |\n",
       "|  5 | Male   | 19.3 | 19.4 | 55 | Never | 180.34 | 19.833 | Yes | (18,20]   |\n",
       "|  6 | Male   | 18.5 | 18.5 | 48 | Never | 167.00 | 22.333 | Yes | (18,20]   |\n",
       "|  7 | Female | 17.5 | 17.0 | 85 | Heavy | 163.00 | 17.667 | No  | (16,18]   |\n",
       "|  8 | Male   | 19.8 | 20.0 | NA | Never | 180.00 | 17.417 | No  | (18,20]   |\n",
       "|  9 | Female | 13.0 | 12.5 | 77 | Never | 165.00 | 18.167 | Yes | (-Inf,16] |\n",
       "| 10 | Female | 18.5 | 18.0 | 75 | Never | 173.00 | 18.250 | Yes | (18,20]   |\n",
       "| 11 | Female | 17.5 | 17.1 | 73 | Never | 167.00 | 18.417 | Yes | (16,18]   |\n",
       "| 12 | Male   | 22.0 | 21.5 | 73 | Never | 200.00 | 18.500 | Yes | (20,22]   |\n",
       "\n"
      ],
      "text/plain": [
       "   X  Sex    Wr.Hnd NW.Hnd Pulse Smoke Height Age    Adult Hn.Grp   \n",
       "1   1 Male   21.4   21.0   63    Never 180.00 19.000 Yes   (20,22]  \n",
       "2   2 Male   19.5   19.4   79    Never 165.00 18.083 Yes   (18,20]  \n",
       "3   3 Female 16.3   16.2   44    Regul 152.40 23.500 Yes   (16,18]  \n",
       "4   4 Female 15.9   16.5   99    Never 167.64 17.333 No    (-Inf,16]\n",
       "5   5 Male   19.3   19.4   55    Never 180.34 19.833 Yes   (18,20]  \n",
       "6   6 Male   18.5   18.5   48    Never 167.00 22.333 Yes   (18,20]  \n",
       "7   7 Female 17.5   17.0   85    Heavy 163.00 17.667 No    (16,18]  \n",
       "8   8 Male   19.8   20.0   NA    Never 180.00 17.417 No    (18,20]  \n",
       "9   9 Female 13.0   12.5   77    Never 165.00 18.167 Yes   (-Inf,16]\n",
       "10 10 Female 18.5   18.0   75    Never 173.00 18.250 Yes   (18,20]  \n",
       "11 11 Female 17.5   17.1   73    Never 167.00 18.417 Yes   (16,18]  \n",
       "12 12 Male   22.0   21.5   73    Never 200.00 18.500 Yes   (20,22]  "
      ]
     },
     "metadata": {},
     "output_type": "display_data"
    }
   ],
   "source": [
    "cut.points <- c(-Inf, 16, 18, 20, 22, Inf)\n",
    "\n",
    "data$Hn.Grp <- cut(data$Wr.Hnd, breaks = cut.points, right = T)\n",
    "\n",
    "head(data, 12)\n",
    "# labels as default"
   ]
  },
  {
   "cell_type": "code",
   "execution_count": 72,
   "metadata": {},
   "outputs": [
    {
     "data": {
      "text/html": [
       "<table>\n",
       "<caption>A data.frame: 6 × 10</caption>\n",
       "<thead>\n",
       "\t<tr><th scope=col>X</th><th scope=col>Sex</th><th scope=col>Wr.Hnd</th><th scope=col>NW.Hnd</th><th scope=col>Pulse</th><th scope=col>Smoke</th><th scope=col>Height</th><th scope=col>Age</th><th scope=col>Adult</th><th scope=col>Hn.Grp</th></tr>\n",
       "\t<tr><th scope=col>&lt;int&gt;</th><th scope=col>&lt;fct&gt;</th><th scope=col>&lt;dbl&gt;</th><th scope=col>&lt;dbl&gt;</th><th scope=col>&lt;int&gt;</th><th scope=col>&lt;fct&gt;</th><th scope=col>&lt;dbl&gt;</th><th scope=col>&lt;dbl&gt;</th><th scope=col>&lt;chr&gt;</th><th scope=col>&lt;int&gt;</th></tr>\n",
       "</thead>\n",
       "<tbody>\n",
       "\t<tr><td>1</td><td>Male  </td><td>21.4</td><td>21.0</td><td>63</td><td>Never</td><td>180.00</td><td>19.000</td><td>Yes</td><td>4</td></tr>\n",
       "\t<tr><td>2</td><td>Male  </td><td>19.5</td><td>19.4</td><td>79</td><td>Never</td><td>165.00</td><td>18.083</td><td>Yes</td><td>3</td></tr>\n",
       "\t<tr><td>3</td><td>Female</td><td>16.3</td><td>16.2</td><td>44</td><td>Regul</td><td>152.40</td><td>23.500</td><td>Yes</td><td>2</td></tr>\n",
       "\t<tr><td>4</td><td>Female</td><td>15.9</td><td>16.5</td><td>99</td><td>Never</td><td>167.64</td><td>17.333</td><td>No </td><td>1</td></tr>\n",
       "\t<tr><td>5</td><td>Male  </td><td>19.3</td><td>19.4</td><td>55</td><td>Never</td><td>180.34</td><td>19.833</td><td>Yes</td><td>3</td></tr>\n",
       "\t<tr><td>6</td><td>Male  </td><td>18.5</td><td>18.5</td><td>48</td><td>Never</td><td>167.00</td><td>22.333</td><td>Yes</td><td>3</td></tr>\n",
       "</tbody>\n",
       "</table>\n"
      ],
      "text/latex": [
       "A data.frame: 6 × 10\n",
       "\\begin{tabular}{r|llllllllll}\n",
       " X & Sex & Wr.Hnd & NW.Hnd & Pulse & Smoke & Height & Age & Adult & Hn.Grp\\\\\n",
       " <int> & <fct> & <dbl> & <dbl> & <int> & <fct> & <dbl> & <dbl> & <chr> & <int>\\\\\n",
       "\\hline\n",
       "\t 1 & Male   & 21.4 & 21.0 & 63 & Never & 180.00 & 19.000 & Yes & 4\\\\\n",
       "\t 2 & Male   & 19.5 & 19.4 & 79 & Never & 165.00 & 18.083 & Yes & 3\\\\\n",
       "\t 3 & Female & 16.3 & 16.2 & 44 & Regul & 152.40 & 23.500 & Yes & 2\\\\\n",
       "\t 4 & Female & 15.9 & 16.5 & 99 & Never & 167.64 & 17.333 & No  & 1\\\\\n",
       "\t 5 & Male   & 19.3 & 19.4 & 55 & Never & 180.34 & 19.833 & Yes & 3\\\\\n",
       "\t 6 & Male   & 18.5 & 18.5 & 48 & Never & 167.00 & 22.333 & Yes & 3\\\\\n",
       "\\end{tabular}\n"
      ],
      "text/markdown": [
       "\n",
       "A data.frame: 6 × 10\n",
       "\n",
       "| X &lt;int&gt; | Sex &lt;fct&gt; | Wr.Hnd &lt;dbl&gt; | NW.Hnd &lt;dbl&gt; | Pulse &lt;int&gt; | Smoke &lt;fct&gt; | Height &lt;dbl&gt; | Age &lt;dbl&gt; | Adult &lt;chr&gt; | Hn.Grp &lt;int&gt; |\n",
       "|---|---|---|---|---|---|---|---|---|---|\n",
       "| 1 | Male   | 21.4 | 21.0 | 63 | Never | 180.00 | 19.000 | Yes | 4 |\n",
       "| 2 | Male   | 19.5 | 19.4 | 79 | Never | 165.00 | 18.083 | Yes | 3 |\n",
       "| 3 | Female | 16.3 | 16.2 | 44 | Regul | 152.40 | 23.500 | Yes | 2 |\n",
       "| 4 | Female | 15.9 | 16.5 | 99 | Never | 167.64 | 17.333 | No  | 1 |\n",
       "| 5 | Male   | 19.3 | 19.4 | 55 | Never | 180.34 | 19.833 | Yes | 3 |\n",
       "| 6 | Male   | 18.5 | 18.5 | 48 | Never | 167.00 | 22.333 | Yes | 3 |\n",
       "\n"
      ],
      "text/plain": [
       "  X Sex    Wr.Hnd NW.Hnd Pulse Smoke Height Age    Adult Hn.Grp\n",
       "1 1 Male   21.4   21.0   63    Never 180.00 19.000 Yes   4     \n",
       "2 2 Male   19.5   19.4   79    Never 165.00 18.083 Yes   3     \n",
       "3 3 Female 16.3   16.2   44    Regul 152.40 23.500 Yes   2     \n",
       "4 4 Female 15.9   16.5   99    Never 167.64 17.333 No    1     \n",
       "5 5 Male   19.3   19.4   55    Never 180.34 19.833 Yes   3     \n",
       "6 6 Male   18.5   18.5   48    Never 167.00 22.333 Yes   3     "
      ]
     },
     "metadata": {},
     "output_type": "display_data"
    }
   ],
   "source": [
    "# Set labels to false\n",
    "data$Hn.Grp <- cut(data$Wr.Hnd, breaks = cut.points, labels = F)\n",
    "head(data)"
   ]
  },
  {
   "cell_type": "code",
   "execution_count": 73,
   "metadata": {
    "scrolled": true
   },
   "outputs": [
    {
     "data": {
      "text/html": [
       "<table>\n",
       "<caption>A data.frame: 6 × 10</caption>\n",
       "<thead>\n",
       "\t<tr><th scope=col>X</th><th scope=col>Sex</th><th scope=col>Wr.Hnd</th><th scope=col>NW.Hnd</th><th scope=col>Pulse</th><th scope=col>Smoke</th><th scope=col>Height</th><th scope=col>Age</th><th scope=col>Adult</th><th scope=col>Hn.Grp</th></tr>\n",
       "\t<tr><th scope=col>&lt;int&gt;</th><th scope=col>&lt;fct&gt;</th><th scope=col>&lt;dbl&gt;</th><th scope=col>&lt;dbl&gt;</th><th scope=col>&lt;int&gt;</th><th scope=col>&lt;fct&gt;</th><th scope=col>&lt;dbl&gt;</th><th scope=col>&lt;dbl&gt;</th><th scope=col>&lt;chr&gt;</th><th scope=col>&lt;fct&gt;</th></tr>\n",
       "</thead>\n",
       "<tbody>\n",
       "\t<tr><td>1</td><td>Male  </td><td>21.4</td><td>21.0</td><td>63</td><td>Never</td><td>180.00</td><td>19.000</td><td>Yes</td><td>G/L  </td></tr>\n",
       "\t<tr><td>2</td><td>Male  </td><td>19.5</td><td>19.4</td><td>79</td><td>Never</td><td>165.00</td><td>18.083</td><td>Yes</td><td>M/M  </td></tr>\n",
       "\t<tr><td>3</td><td>Female</td><td>16.3</td><td>16.2</td><td>44</td><td>Regul</td><td>152.40</td><td>23.500</td><td>Yes</td><td>P/S  </td></tr>\n",
       "\t<tr><td>4</td><td>Female</td><td>15.9</td><td>16.5</td><td>99</td><td>Never</td><td>167.64</td><td>17.333</td><td>No </td><td>TP/XS</td></tr>\n",
       "\t<tr><td>5</td><td>Male  </td><td>19.3</td><td>19.4</td><td>55</td><td>Never</td><td>180.34</td><td>19.833</td><td>Yes</td><td>M/M  </td></tr>\n",
       "\t<tr><td>6</td><td>Male  </td><td>18.5</td><td>18.5</td><td>48</td><td>Never</td><td>167.00</td><td>22.333</td><td>Yes</td><td>M/M  </td></tr>\n",
       "</tbody>\n",
       "</table>\n"
      ],
      "text/latex": [
       "A data.frame: 6 × 10\n",
       "\\begin{tabular}{r|llllllllll}\n",
       " X & Sex & Wr.Hnd & NW.Hnd & Pulse & Smoke & Height & Age & Adult & Hn.Grp\\\\\n",
       " <int> & <fct> & <dbl> & <dbl> & <int> & <fct> & <dbl> & <dbl> & <chr> & <fct>\\\\\n",
       "\\hline\n",
       "\t 1 & Male   & 21.4 & 21.0 & 63 & Never & 180.00 & 19.000 & Yes & G/L  \\\\\n",
       "\t 2 & Male   & 19.5 & 19.4 & 79 & Never & 165.00 & 18.083 & Yes & M/M  \\\\\n",
       "\t 3 & Female & 16.3 & 16.2 & 44 & Regul & 152.40 & 23.500 & Yes & P/S  \\\\\n",
       "\t 4 & Female & 15.9 & 16.5 & 99 & Never & 167.64 & 17.333 & No  & TP/XS\\\\\n",
       "\t 5 & Male   & 19.3 & 19.4 & 55 & Never & 180.34 & 19.833 & Yes & M/M  \\\\\n",
       "\t 6 & Male   & 18.5 & 18.5 & 48 & Never & 167.00 & 22.333 & Yes & M/M  \\\\\n",
       "\\end{tabular}\n"
      ],
      "text/markdown": [
       "\n",
       "A data.frame: 6 × 10\n",
       "\n",
       "| X &lt;int&gt; | Sex &lt;fct&gt; | Wr.Hnd &lt;dbl&gt; | NW.Hnd &lt;dbl&gt; | Pulse &lt;int&gt; | Smoke &lt;fct&gt; | Height &lt;dbl&gt; | Age &lt;dbl&gt; | Adult &lt;chr&gt; | Hn.Grp &lt;fct&gt; |\n",
       "|---|---|---|---|---|---|---|---|---|---|\n",
       "| 1 | Male   | 21.4 | 21.0 | 63 | Never | 180.00 | 19.000 | Yes | G/L   |\n",
       "| 2 | Male   | 19.5 | 19.4 | 79 | Never | 165.00 | 18.083 | Yes | M/M   |\n",
       "| 3 | Female | 16.3 | 16.2 | 44 | Regul | 152.40 | 23.500 | Yes | P/S   |\n",
       "| 4 | Female | 15.9 | 16.5 | 99 | Never | 167.64 | 17.333 | No  | TP/XS |\n",
       "| 5 | Male   | 19.3 | 19.4 | 55 | Never | 180.34 | 19.833 | Yes | M/M   |\n",
       "| 6 | Male   | 18.5 | 18.5 | 48 | Never | 167.00 | 22.333 | Yes | M/M   |\n",
       "\n"
      ],
      "text/plain": [
       "  X Sex    Wr.Hnd NW.Hnd Pulse Smoke Height Age    Adult Hn.Grp\n",
       "1 1 Male   21.4   21.0   63    Never 180.00 19.000 Yes   G/L   \n",
       "2 2 Male   19.5   19.4   79    Never 165.00 18.083 Yes   M/M   \n",
       "3 3 Female 16.3   16.2   44    Regul 152.40 23.500 Yes   P/S   \n",
       "4 4 Female 15.9   16.5   99    Never 167.64 17.333 No    TP/XS \n",
       "5 5 Male   19.3   19.4   55    Never 180.34 19.833 Yes   M/M   \n",
       "6 6 Male   18.5   18.5   48    Never 167.00 22.333 Yes   M/M   "
      ]
     },
     "metadata": {},
     "output_type": "display_data"
    }
   ],
   "source": [
    "# Customized labels\n",
    "custom.label <- c(\"TP/XS\", \"P/S\", \"M/M\", \"G/L\", \"TG/XL\")\n",
    "data$Hn.Grp <- cut(data$Wr.Hnd, breaks = cut.points,\n",
    "                   right = T, labels = custom.label)\n",
    "head(data)"
   ]
  },
  {
   "cell_type": "markdown",
   "metadata": {},
   "source": [
    "#### e1. Calculate the mean Wr.Hnd span of each Hnd.group"
   ]
  },
  {
   "cell_type": "code",
   "execution_count": 74,
   "metadata": {},
   "outputs": [
    {
     "data": {
      "text/html": [
       "<table>\n",
       "<caption>A data.frame: 5 × 2</caption>\n",
       "<thead>\n",
       "\t<tr><th scope=col>Hn.Grp</th><th scope=col>Wr.Hnd</th></tr>\n",
       "\t<tr><th scope=col>&lt;fct&gt;</th><th scope=col>&lt;dbl&gt;</th></tr>\n",
       "</thead>\n",
       "<tbody>\n",
       "\t<tr><td>TP/XS</td><td>14.98000</td></tr>\n",
       "\t<tr><td>P/S  </td><td>17.37941</td></tr>\n",
       "\t<tr><td>M/M  </td><td>19.04634</td></tr>\n",
       "\t<tr><td>G/L  </td><td>21.12500</td></tr>\n",
       "\t<tr><td>TG/XL</td><td>22.63333</td></tr>\n",
       "</tbody>\n",
       "</table>\n"
      ],
      "text/latex": [
       "A data.frame: 5 × 2\n",
       "\\begin{tabular}{r|ll}\n",
       " Hn.Grp & Wr.Hnd\\\\\n",
       " <fct> & <dbl>\\\\\n",
       "\\hline\n",
       "\t TP/XS & 14.98000\\\\\n",
       "\t P/S   & 17.37941\\\\\n",
       "\t M/M   & 19.04634\\\\\n",
       "\t G/L   & 21.12500\\\\\n",
       "\t TG/XL & 22.63333\\\\\n",
       "\\end{tabular}\n"
      ],
      "text/markdown": [
       "\n",
       "A data.frame: 5 × 2\n",
       "\n",
       "| Hn.Grp &lt;fct&gt; | Wr.Hnd &lt;dbl&gt; |\n",
       "|---|---|\n",
       "| TP/XS | 14.98000 |\n",
       "| P/S   | 17.37941 |\n",
       "| M/M   | 19.04634 |\n",
       "| G/L   | 21.12500 |\n",
       "| TG/XL | 22.63333 |\n",
       "\n"
      ],
      "text/plain": [
       "  Hn.Grp Wr.Hnd  \n",
       "1 TP/XS  14.98000\n",
       "2 P/S    17.37941\n",
       "3 M/M    19.04634\n",
       "4 G/L    21.12500\n",
       "5 TG/XL  22.63333"
      ]
     },
     "metadata": {},
     "output_type": "display_data"
    }
   ],
   "source": [
    "aggregate(Wr.Hnd~Hn.Grp, data = data, FUN = mean)"
   ]
  },
  {
   "cell_type": "markdown",
   "metadata": {},
   "source": [
    "#### e2. Calcuate the mean Wr.Hnd span of each Hnd.group without using aggregate, by, tapply\n",
    "        split(x, f, ...)\n",
    "        lapply(X, FUN, ...)\n",
    "        sapply(X, FUN, ..., simplify = TRUE)"
   ]
  },
  {
   "cell_type": "code",
   "execution_count": 75,
   "metadata": {},
   "outputs": [
    {
     "data": {
      "text/html": [
       "<table>\n",
       "<caption>A matrix: 2 × 10 of type chr</caption>\n",
       "<tbody>\n",
       "\t<tr><th scope=row>numbers</th><td>1</td><td>2</td><td>3</td><td>4</td><td>5</td><td>6</td><td>7</td><td>8</td><td>9</td><td>10</td></tr>\n",
       "\t<tr><th scope=row>groups</th><td>c</td><td>b</td><td>c</td><td>a</td><td>a</td><td>c</td><td>b</td><td>b</td><td>b</td><td>c </td></tr>\n",
       "</tbody>\n",
       "</table>\n"
      ],
      "text/latex": [
       "A matrix: 2 × 10 of type chr\n",
       "\\begin{tabular}{r|llllllllll}\n",
       "\tnumbers & 1 & 2 & 3 & 4 & 5 & 6 & 7 & 8 & 9 & 10\\\\\n",
       "\tgroups & c & b & c & a & a & c & b & b & b & c \\\\\n",
       "\\end{tabular}\n"
      ],
      "text/markdown": [
       "\n",
       "A matrix: 2 × 10 of type chr\n",
       "\n",
       "| numbers | 1 | 2 | 3 | 4 | 5 | 6 | 7 | 8 | 9 | 10 |\n",
       "| groups | c | b | c | a | a | c | b | b | b | c  |\n",
       "\n"
      ],
      "text/plain": [
       "        [,1] [,2] [,3] [,4] [,5] [,6] [,7] [,8] [,9] [,10]\n",
       "numbers 1    2    3    4    5    6    7    8    9    10   \n",
       "groups  c    b    c    a    a    c    b    b    b    c    "
      ]
     },
     "metadata": {},
     "output_type": "display_data"
    }
   ],
   "source": [
    "numbers <- 1:10\n",
    "groups <- sample(letters[1:3], size = 10, replace = T)\n",
    "rbind(numbers, groups)"
   ]
  },
  {
   "cell_type": "code",
   "execution_count": 76,
   "metadata": {},
   "outputs": [
    {
     "data": {
      "text/html": [
       "<dl>\n",
       "\t<dt>$a</dt>\n",
       "\t\t<dd><ol class=list-inline>\n",
       "\t<li>4</li>\n",
       "\t<li>5</li>\n",
       "</ol>\n",
       "</dd>\n",
       "\t<dt>$b</dt>\n",
       "\t\t<dd><ol class=list-inline>\n",
       "\t<li>2</li>\n",
       "\t<li>7</li>\n",
       "\t<li>8</li>\n",
       "\t<li>9</li>\n",
       "</ol>\n",
       "</dd>\n",
       "\t<dt>$c</dt>\n",
       "\t\t<dd><ol class=list-inline>\n",
       "\t<li>1</li>\n",
       "\t<li>3</li>\n",
       "\t<li>6</li>\n",
       "\t<li>10</li>\n",
       "</ol>\n",
       "</dd>\n",
       "</dl>\n"
      ],
      "text/latex": [
       "\\begin{description}\n",
       "\\item[\\$a] \\begin{enumerate*}\n",
       "\\item 4\n",
       "\\item 5\n",
       "\\end{enumerate*}\n",
       "\n",
       "\\item[\\$b] \\begin{enumerate*}\n",
       "\\item 2\n",
       "\\item 7\n",
       "\\item 8\n",
       "\\item 9\n",
       "\\end{enumerate*}\n",
       "\n",
       "\\item[\\$c] \\begin{enumerate*}\n",
       "\\item 1\n",
       "\\item 3\n",
       "\\item 6\n",
       "\\item 10\n",
       "\\end{enumerate*}\n",
       "\n",
       "\\end{description}\n"
      ],
      "text/markdown": [
       "$a\n",
       ":   1. 4\n",
       "2. 5\n",
       "\n",
       "\n",
       "\n",
       "$b\n",
       ":   1. 2\n",
       "2. 7\n",
       "3. 8\n",
       "4. 9\n",
       "\n",
       "\n",
       "\n",
       "$c\n",
       ":   1. 1\n",
       "2. 3\n",
       "3. 6\n",
       "4. 10\n",
       "\n",
       "\n",
       "\n",
       "\n",
       "\n"
      ],
      "text/plain": [
       "$a\n",
       "[1] 4 5\n",
       "\n",
       "$b\n",
       "[1] 2 7 8 9\n",
       "\n",
       "$c\n",
       "[1]  1  3  6 10\n"
      ]
     },
     "metadata": {},
     "output_type": "display_data"
    }
   ],
   "source": [
    "split(x = numbers, f = groups)"
   ]
  },
  {
   "cell_type": "code",
   "execution_count": 77,
   "metadata": {},
   "outputs": [
    {
     "data": {
      "text/html": [
       "<dl>\n",
       "\t<dt>$`TP/XS`</dt>\n",
       "\t\t<dd><ol class=list-inline>\n",
       "\t<li>15.9</li>\n",
       "\t<li>13</li>\n",
       "\t<li>16</li>\n",
       "\t<li>13</li>\n",
       "\t<li>14</li>\n",
       "\t<li>16</li>\n",
       "\t<li>15.5</li>\n",
       "\t<li>15.4</li>\n",
       "\t<li>15</li>\n",
       "\t<li>16</li>\n",
       "</ol>\n",
       "</dd>\n",
       "\t<dt>$`P/S`</dt>\n",
       "\t\t<dd><ol class=list-inline>\n",
       "\t<li>16.3</li>\n",
       "\t<li>17.5</li>\n",
       "\t<li>17.5</li>\n",
       "\t<li>18</li>\n",
       "\t<li>17.5</li>\n",
       "\t<li>16.4</li>\n",
       "\t<li>17.2</li>\n",
       "\t<li>17</li>\n",
       "\t<li>17.8</li>\n",
       "\t<li>18</li>\n",
       "\t<li>18</li>\n",
       "\t<li>17</li>\n",
       "\t<li>16.9</li>\n",
       "\t<li>16.5</li>\n",
       "\t<li>17</li>\n",
       "\t<li>17.6</li>\n",
       "\t<li>16.5</li>\n",
       "\t<li>17.5</li>\n",
       "\t<li>17.7</li>\n",
       "\t<li>17.1</li>\n",
       "\t<li>18</li>\n",
       "\t<li>17.6</li>\n",
       "\t<li>17.5</li>\n",
       "\t<li>17.7</li>\n",
       "\t<li>17.5</li>\n",
       "\t<li>17.5</li>\n",
       "\t<li>18</li>\n",
       "\t<li>18</li>\n",
       "\t<li>16.5</li>\n",
       "\t<li>17.5</li>\n",
       "\t<li>17.5</li>\n",
       "\t<li>17.6</li>\n",
       "\t<li>17</li>\n",
       "\t<li>18</li>\n",
       "</ol>\n",
       "</dd>\n",
       "\t<dt>$`M/M`</dt>\n",
       "\t\t<dd><ol class=list-inline>\n",
       "\t<li>19.5</li>\n",
       "\t<li>19.3</li>\n",
       "\t<li>18.5</li>\n",
       "\t<li>19.8</li>\n",
       "\t<li>18.5</li>\n",
       "\t<li>20</li>\n",
       "\t<li>18.6</li>\n",
       "\t<li>18.5</li>\n",
       "\t<li>19.1</li>\n",
       "\t<li>19.6</li>\n",
       "\t<li>19.5</li>\n",
       "\t<li>19.5</li>\n",
       "\t<li>18.9</li>\n",
       "\t<li>18.1</li>\n",
       "\t<li>19.7</li>\n",
       "\t<li>18.8</li>\n",
       "\t<li>19.5</li>\n",
       "\t<li>18.5</li>\n",
       "\t<li>19.4</li>\n",
       "\t<li>18.5</li>\n",
       "\t<li>19.1</li>\n",
       "\t<li>18.8</li>\n",
       "\t<li>20</li>\n",
       "\t<li>19</li>\n",
       "\t<li>19.5</li>\n",
       "\t<li>19</li>\n",
       "\t<li>18.9</li>\n",
       "\t<li>19</li>\n",
       "\t<li>18.5</li>\n",
       "\t<li>18.5</li>\n",
       "\t<li>19.2</li>\n",
       "\t<li>18.5</li>\n",
       "\t<li>19</li>\n",
       "\t<li>18.5</li>\n",
       "\t<li>19.2</li>\n",
       "\t<li>19.5</li>\n",
       "\t<li>18.7</li>\n",
       "\t<li>18.2</li>\n",
       "\t<li>19.5</li>\n",
       "\t<li>19</li>\n",
       "\t<li>19.5</li>\n",
       "</ol>\n",
       "</dd>\n",
       "\t<dt>$`G/L`</dt>\n",
       "\t\t<dd><ol class=list-inline>\n",
       "\t<li>21.4</li>\n",
       "\t<li>22</li>\n",
       "\t<li>21</li>\n",
       "\t<li>21</li>\n",
       "\t<li>20.5</li>\n",
       "\t<li>21</li>\n",
       "\t<li>21.5</li>\n",
       "\t<li>20.8</li>\n",
       "\t<li>21.3</li>\n",
       "\t<li>21.5</li>\n",
       "\t<li>21</li>\n",
       "\t<li>20.5</li>\n",
       "</ol>\n",
       "</dd>\n",
       "\t<dt>$`TG/XL`</dt>\n",
       "\t\t<dd><ol class=list-inline>\n",
       "\t<li>22.2</li>\n",
       "\t<li>23.2</li>\n",
       "\t<li>22.5</li>\n",
       "</ol>\n",
       "</dd>\n",
       "</dl>\n"
      ],
      "text/latex": [
       "\\begin{description}\n",
       "\\item[\\$`TP/XS`] \\begin{enumerate*}\n",
       "\\item 15.9\n",
       "\\item 13\n",
       "\\item 16\n",
       "\\item 13\n",
       "\\item 14\n",
       "\\item 16\n",
       "\\item 15.5\n",
       "\\item 15.4\n",
       "\\item 15\n",
       "\\item 16\n",
       "\\end{enumerate*}\n",
       "\n",
       "\\item[\\$`P/S`] \\begin{enumerate*}\n",
       "\\item 16.3\n",
       "\\item 17.5\n",
       "\\item 17.5\n",
       "\\item 18\n",
       "\\item 17.5\n",
       "\\item 16.4\n",
       "\\item 17.2\n",
       "\\item 17\n",
       "\\item 17.8\n",
       "\\item 18\n",
       "\\item 18\n",
       "\\item 17\n",
       "\\item 16.9\n",
       "\\item 16.5\n",
       "\\item 17\n",
       "\\item 17.6\n",
       "\\item 16.5\n",
       "\\item 17.5\n",
       "\\item 17.7\n",
       "\\item 17.1\n",
       "\\item 18\n",
       "\\item 17.6\n",
       "\\item 17.5\n",
       "\\item 17.7\n",
       "\\item 17.5\n",
       "\\item 17.5\n",
       "\\item 18\n",
       "\\item 18\n",
       "\\item 16.5\n",
       "\\item 17.5\n",
       "\\item 17.5\n",
       "\\item 17.6\n",
       "\\item 17\n",
       "\\item 18\n",
       "\\end{enumerate*}\n",
       "\n",
       "\\item[\\$`M/M`] \\begin{enumerate*}\n",
       "\\item 19.5\n",
       "\\item 19.3\n",
       "\\item 18.5\n",
       "\\item 19.8\n",
       "\\item 18.5\n",
       "\\item 20\n",
       "\\item 18.6\n",
       "\\item 18.5\n",
       "\\item 19.1\n",
       "\\item 19.6\n",
       "\\item 19.5\n",
       "\\item 19.5\n",
       "\\item 18.9\n",
       "\\item 18.1\n",
       "\\item 19.7\n",
       "\\item 18.8\n",
       "\\item 19.5\n",
       "\\item 18.5\n",
       "\\item 19.4\n",
       "\\item 18.5\n",
       "\\item 19.1\n",
       "\\item 18.8\n",
       "\\item 20\n",
       "\\item 19\n",
       "\\item 19.5\n",
       "\\item 19\n",
       "\\item 18.9\n",
       "\\item 19\n",
       "\\item 18.5\n",
       "\\item 18.5\n",
       "\\item 19.2\n",
       "\\item 18.5\n",
       "\\item 19\n",
       "\\item 18.5\n",
       "\\item 19.2\n",
       "\\item 19.5\n",
       "\\item 18.7\n",
       "\\item 18.2\n",
       "\\item 19.5\n",
       "\\item 19\n",
       "\\item 19.5\n",
       "\\end{enumerate*}\n",
       "\n",
       "\\item[\\$`G/L`] \\begin{enumerate*}\n",
       "\\item 21.4\n",
       "\\item 22\n",
       "\\item 21\n",
       "\\item 21\n",
       "\\item 20.5\n",
       "\\item 21\n",
       "\\item 21.5\n",
       "\\item 20.8\n",
       "\\item 21.3\n",
       "\\item 21.5\n",
       "\\item 21\n",
       "\\item 20.5\n",
       "\\end{enumerate*}\n",
       "\n",
       "\\item[\\$`TG/XL`] \\begin{enumerate*}\n",
       "\\item 22.2\n",
       "\\item 23.2\n",
       "\\item 22.5\n",
       "\\end{enumerate*}\n",
       "\n",
       "\\end{description}\n"
      ],
      "text/markdown": [
       "$`TP/XS`\n",
       ":   1. 15.9\n",
       "2. 13\n",
       "3. 16\n",
       "4. 13\n",
       "5. 14\n",
       "6. 16\n",
       "7. 15.5\n",
       "8. 15.4\n",
       "9. 15\n",
       "10. 16\n",
       "\n",
       "\n",
       "\n",
       "$`P/S`\n",
       ":   1. 16.3\n",
       "2. 17.5\n",
       "3. 17.5\n",
       "4. 18\n",
       "5. 17.5\n",
       "6. 16.4\n",
       "7. 17.2\n",
       "8. 17\n",
       "9. 17.8\n",
       "10. 18\n",
       "11. 18\n",
       "12. 17\n",
       "13. 16.9\n",
       "14. 16.5\n",
       "15. 17\n",
       "16. 17.6\n",
       "17. 16.5\n",
       "18. 17.5\n",
       "19. 17.7\n",
       "20. 17.1\n",
       "21. 18\n",
       "22. 17.6\n",
       "23. 17.5\n",
       "24. 17.7\n",
       "25. 17.5\n",
       "26. 17.5\n",
       "27. 18\n",
       "28. 18\n",
       "29. 16.5\n",
       "30. 17.5\n",
       "31. 17.5\n",
       "32. 17.6\n",
       "33. 17\n",
       "34. 18\n",
       "\n",
       "\n",
       "\n",
       "$`M/M`\n",
       ":   1. 19.5\n",
       "2. 19.3\n",
       "3. 18.5\n",
       "4. 19.8\n",
       "5. 18.5\n",
       "6. 20\n",
       "7. 18.6\n",
       "8. 18.5\n",
       "9. 19.1\n",
       "10. 19.6\n",
       "11. 19.5\n",
       "12. 19.5\n",
       "13. 18.9\n",
       "14. 18.1\n",
       "15. 19.7\n",
       "16. 18.8\n",
       "17. 19.5\n",
       "18. 18.5\n",
       "19. 19.4\n",
       "20. 18.5\n",
       "21. 19.1\n",
       "22. 18.8\n",
       "23. 20\n",
       "24. 19\n",
       "25. 19.5\n",
       "26. 19\n",
       "27. 18.9\n",
       "28. 19\n",
       "29. 18.5\n",
       "30. 18.5\n",
       "31. 19.2\n",
       "32. 18.5\n",
       "33. 19\n",
       "34. 18.5\n",
       "35. 19.2\n",
       "36. 19.5\n",
       "37. 18.7\n",
       "38. 18.2\n",
       "39. 19.5\n",
       "40. 19\n",
       "41. 19.5\n",
       "\n",
       "\n",
       "\n",
       "$`G/L`\n",
       ":   1. 21.4\n",
       "2. 22\n",
       "3. 21\n",
       "4. 21\n",
       "5. 20.5\n",
       "6. 21\n",
       "7. 21.5\n",
       "8. 20.8\n",
       "9. 21.3\n",
       "10. 21.5\n",
       "11. 21\n",
       "12. 20.5\n",
       "\n",
       "\n",
       "\n",
       "$`TG/XL`\n",
       ":   1. 22.2\n",
       "2. 23.2\n",
       "3. 22.5\n",
       "\n",
       "\n",
       "\n",
       "\n",
       "\n"
      ],
      "text/plain": [
       "$`TP/XS`\n",
       " [1] 15.9 13.0 16.0 13.0 14.0 16.0 15.5 15.4 15.0 16.0\n",
       "\n",
       "$`P/S`\n",
       " [1] 16.3 17.5 17.5 18.0 17.5 16.4 17.2 17.0 17.8 18.0 18.0 17.0 16.9 16.5 17.0\n",
       "[16] 17.6 16.5 17.5 17.7 17.1 18.0 17.6 17.5 17.7 17.5 17.5 18.0 18.0 16.5 17.5\n",
       "[31] 17.5 17.6 17.0 18.0\n",
       "\n",
       "$`M/M`\n",
       " [1] 19.5 19.3 18.5 19.8 18.5 20.0 18.6 18.5 19.1 19.6 19.5 19.5 18.9 18.1 19.7\n",
       "[16] 18.8 19.5 18.5 19.4 18.5 19.1 18.8 20.0 19.0 19.5 19.0 18.9 19.0 18.5 18.5\n",
       "[31] 19.2 18.5 19.0 18.5 19.2 19.5 18.7 18.2 19.5 19.0 19.5\n",
       "\n",
       "$`G/L`\n",
       " [1] 21.4 22.0 21.0 21.0 20.5 21.0 21.5 20.8 21.3 21.5 21.0 20.5\n",
       "\n",
       "$`TG/XL`\n",
       "[1] 22.2 23.2 22.5\n"
      ]
     },
     "metadata": {},
     "output_type": "display_data"
    }
   ],
   "source": [
    "wr.hnd.grp <- split(data$Wr.Hnd, f = data$Hn.Grp)\n",
    "wr.hnd.grp"
   ]
  },
  {
   "cell_type": "code",
   "execution_count": 78,
   "metadata": {
    "scrolled": false
   },
   "outputs": [
    {
     "data": {
      "text/html": [
       "<dl>\n",
       "\t<dt>$`TP/XS`</dt>\n",
       "\t\t<dd>14.98</dd>\n",
       "\t<dt>$`P/S`</dt>\n",
       "\t\t<dd>17.3794117647059</dd>\n",
       "\t<dt>$`M/M`</dt>\n",
       "\t\t<dd>19.0463414634146</dd>\n",
       "\t<dt>$`G/L`</dt>\n",
       "\t\t<dd>21.125</dd>\n",
       "\t<dt>$`TG/XL`</dt>\n",
       "\t\t<dd>22.6333333333333</dd>\n",
       "</dl>\n"
      ],
      "text/latex": [
       "\\begin{description}\n",
       "\\item[\\$`TP/XS`] 14.98\n",
       "\\item[\\$`P/S`] 17.3794117647059\n",
       "\\item[\\$`M/M`] 19.0463414634146\n",
       "\\item[\\$`G/L`] 21.125\n",
       "\\item[\\$`TG/XL`] 22.6333333333333\n",
       "\\end{description}\n"
      ],
      "text/markdown": [
       "$`TP/XS`\n",
       ":   14.98\n",
       "$`P/S`\n",
       ":   17.3794117647059\n",
       "$`M/M`\n",
       ":   19.0463414634146\n",
       "$`G/L`\n",
       ":   21.125\n",
       "$`TG/XL`\n",
       ":   22.6333333333333\n",
       "\n",
       "\n"
      ],
      "text/plain": [
       "$`TP/XS`\n",
       "[1] 14.98\n",
       "\n",
       "$`P/S`\n",
       "[1] 17.37941\n",
       "\n",
       "$`M/M`\n",
       "[1] 19.04634\n",
       "\n",
       "$`G/L`\n",
       "[1] 21.125\n",
       "\n",
       "$`TG/XL`\n",
       "[1] 22.63333\n"
      ]
     },
     "metadata": {},
     "output_type": "display_data"
    }
   ],
   "source": [
    "# lapply\n",
    "la <- lapply(X = wr.hnd.grp, FUN = mean);\n",
    "la"
   ]
  },
  {
   "cell_type": "code",
   "execution_count": 79,
   "metadata": {},
   "outputs": [
    {
     "data": {
      "text/html": [
       "<dl class=dl-horizontal>\n",
       "\t<dt>TP/XS</dt>\n",
       "\t\t<dd>14.98</dd>\n",
       "\t<dt>P/S</dt>\n",
       "\t\t<dd>17.3794117647059</dd>\n",
       "\t<dt>M/M</dt>\n",
       "\t\t<dd>19.0463414634146</dd>\n",
       "\t<dt>G/L</dt>\n",
       "\t\t<dd>21.125</dd>\n",
       "\t<dt>TG/XL</dt>\n",
       "\t\t<dd>22.6333333333333</dd>\n",
       "</dl>\n"
      ],
      "text/latex": [
       "\\begin{description*}\n",
       "\\item[TP/XS] 14.98\n",
       "\\item[P/S] 17.3794117647059\n",
       "\\item[M/M] 19.0463414634146\n",
       "\\item[G/L] 21.125\n",
       "\\item[TG/XL] 22.6333333333333\n",
       "\\end{description*}\n"
      ],
      "text/markdown": [
       "TP/XS\n",
       ":   14.98P/S\n",
       ":   17.3794117647059M/M\n",
       ":   19.0463414634146G/L\n",
       ":   21.125TG/XL\n",
       ":   22.6333333333333\n",
       "\n"
      ],
      "text/plain": [
       "   TP/XS      P/S      M/M      G/L    TG/XL \n",
       "14.98000 17.37941 19.04634 21.12500 22.63333 "
      ]
     },
     "metadata": {},
     "output_type": "display_data"
    }
   ],
   "source": [
    "# sapply\n",
    "sapply(X = wr.hnd.grp, FUN = mean, simplify = T)"
   ]
  },
  {
   "cell_type": "code",
   "execution_count": 80,
   "metadata": {},
   "outputs": [
    {
     "data": {
      "text/html": [
       "<dl>\n",
       "\t<dt>$`TP/XS`</dt>\n",
       "\t\t<dd>14.98</dd>\n",
       "\t<dt>$`P/S`</dt>\n",
       "\t\t<dd>17.3794117647059</dd>\n",
       "\t<dt>$`M/M`</dt>\n",
       "\t\t<dd>19.0463414634146</dd>\n",
       "\t<dt>$`G/L`</dt>\n",
       "\t\t<dd>21.125</dd>\n",
       "\t<dt>$`TG/XL`</dt>\n",
       "\t\t<dd>22.6333333333333</dd>\n",
       "</dl>\n"
      ],
      "text/latex": [
       "\\begin{description}\n",
       "\\item[\\$`TP/XS`] 14.98\n",
       "\\item[\\$`P/S`] 17.3794117647059\n",
       "\\item[\\$`M/M`] 19.0463414634146\n",
       "\\item[\\$`G/L`] 21.125\n",
       "\\item[\\$`TG/XL`] 22.6333333333333\n",
       "\\end{description}\n"
      ],
      "text/markdown": [
       "$`TP/XS`\n",
       ":   14.98\n",
       "$`P/S`\n",
       ":   17.3794117647059\n",
       "$`M/M`\n",
       ":   19.0463414634146\n",
       "$`G/L`\n",
       ":   21.125\n",
       "$`TG/XL`\n",
       ":   22.6333333333333\n",
       "\n",
       "\n"
      ],
      "text/plain": [
       "$`TP/XS`\n",
       "[1] 14.98\n",
       "\n",
       "$`P/S`\n",
       "[1] 17.37941\n",
       "\n",
       "$`M/M`\n",
       "[1] 19.04634\n",
       "\n",
       "$`G/L`\n",
       "[1] 21.125\n",
       "\n",
       "$`TG/XL`\n",
       "[1] 22.63333\n"
      ]
     },
     "metadata": {},
     "output_type": "display_data"
    }
   ],
   "source": [
    "sapply(X = wr.hnd.grp, FUN = mean, simplify = F)"
   ]
  },
  {
   "cell_type": "code",
   "execution_count": 81,
   "metadata": {},
   "outputs": [
    {
     "data": {
      "text/plain": [
       "   Min. 1st Qu.  Median    Mean 3rd Qu.    Max. \n",
       "   1.00    3.25    5.50    5.50    7.75   10.00 "
      ]
     },
     "metadata": {},
     "output_type": "display_data"
    }
   ],
   "source": [
    "summary(1:10)"
   ]
  },
  {
   "cell_type": "code",
   "execution_count": 82,
   "metadata": {},
   "outputs": [
    {
     "data": {
      "text/html": [
       "<table>\n",
       "<caption>A matrix: 6 × 5 of type dbl</caption>\n",
       "<thead>\n",
       "\t<tr><th></th><th scope=col>TP/XS</th><th scope=col>P/S</th><th scope=col>M/M</th><th scope=col>G/L</th><th scope=col>TG/XL</th></tr>\n",
       "</thead>\n",
       "<tbody>\n",
       "\t<tr><th scope=row>Min.</th><td>13.000</td><td>16.30000</td><td>18.10000</td><td>20.500</td><td>22.20000</td></tr>\n",
       "\t<tr><th scope=row>1st Qu.</th><td>14.250</td><td>17.00000</td><td>18.50000</td><td>20.950</td><td>22.35000</td></tr>\n",
       "\t<tr><th scope=row>Median</th><td>15.450</td><td>17.50000</td><td>19.00000</td><td>21.000</td><td>22.50000</td></tr>\n",
       "\t<tr><th scope=row>Mean</th><td>14.980</td><td>17.37941</td><td>19.04634</td><td>21.125</td><td>22.63333</td></tr>\n",
       "\t<tr><th scope=row>3rd Qu.</th><td>15.975</td><td>17.70000</td><td>19.50000</td><td>21.425</td><td>22.85000</td></tr>\n",
       "\t<tr><th scope=row>Max.</th><td>16.000</td><td>18.00000</td><td>20.00000</td><td>22.000</td><td>23.20000</td></tr>\n",
       "</tbody>\n",
       "</table>\n"
      ],
      "text/latex": [
       "A matrix: 6 × 5 of type dbl\n",
       "\\begin{tabular}{r|lllll}\n",
       "  & TP/XS & P/S & M/M & G/L & TG/XL\\\\\n",
       "\\hline\n",
       "\tMin. & 13.000 & 16.30000 & 18.10000 & 20.500 & 22.20000\\\\\n",
       "\t1st Qu. & 14.250 & 17.00000 & 18.50000 & 20.950 & 22.35000\\\\\n",
       "\tMedian & 15.450 & 17.50000 & 19.00000 & 21.000 & 22.50000\\\\\n",
       "\tMean & 14.980 & 17.37941 & 19.04634 & 21.125 & 22.63333\\\\\n",
       "\t3rd Qu. & 15.975 & 17.70000 & 19.50000 & 21.425 & 22.85000\\\\\n",
       "\tMax. & 16.000 & 18.00000 & 20.00000 & 22.000 & 23.20000\\\\\n",
       "\\end{tabular}\n"
      ],
      "text/markdown": [
       "\n",
       "A matrix: 6 × 5 of type dbl\n",
       "\n",
       "| <!--/--> | TP/XS | P/S | M/M | G/L | TG/XL |\n",
       "|---|---|---|---|---|---|\n",
       "| Min. | 13.000 | 16.30000 | 18.10000 | 20.500 | 22.20000 |\n",
       "| 1st Qu. | 14.250 | 17.00000 | 18.50000 | 20.950 | 22.35000 |\n",
       "| Median | 15.450 | 17.50000 | 19.00000 | 21.000 | 22.50000 |\n",
       "| Mean | 14.980 | 17.37941 | 19.04634 | 21.125 | 22.63333 |\n",
       "| 3rd Qu. | 15.975 | 17.70000 | 19.50000 | 21.425 | 22.85000 |\n",
       "| Max. | 16.000 | 18.00000 | 20.00000 | 22.000 | 23.20000 |\n",
       "\n"
      ],
      "text/plain": [
       "        TP/XS  P/S      M/M      G/L    TG/XL   \n",
       "Min.    13.000 16.30000 18.10000 20.500 22.20000\n",
       "1st Qu. 14.250 17.00000 18.50000 20.950 22.35000\n",
       "Median  15.450 17.50000 19.00000 21.000 22.50000\n",
       "Mean    14.980 17.37941 19.04634 21.125 22.63333\n",
       "3rd Qu. 15.975 17.70000 19.50000 21.425 22.85000\n",
       "Max.    16.000 18.00000 20.00000 22.000 23.20000"
      ]
     },
     "metadata": {},
     "output_type": "display_data"
    }
   ],
   "source": [
    "# vapply *\n",
    "# Safer than sapply(), and a little bit faster\n",
    "# because FUN.VALUE has to be specified that length and type should match\n",
    "\n",
    "va <- vapply(wr.hnd.grp, summary, FUN.VALUE = c(\"Min.\" = numeric(1),\n",
    "                                                \"1st Qu.\" = numeric(1),\n",
    "                                                \"Median\" = numeric(1),\n",
    "                                                \"Mean\" = numeric(1),\n",
    "                                                \"3rd Qu.\" = numeric(1),\n",
    "                                                \"Max.\" = numeric(1)))\n",
    "va"
   ]
  },
  {
   "cell_type": "markdown",
   "metadata": {},
   "source": [
    "#### f. Calculate the 95% sample confidence intervals of Wr.Hnd in each Smoke group.\n",
    "One variable for lower bound and one variable for upper bound.\n",
    "\n",
    "$$ CI = \\bar{x} \\pm t_{n-1, 0.025} \\times \\sqrt{\\frac{s^2}{n}} $$\n",
    "\n",
    "where $\\bar{x}$ is the sample mean and $s^2$ is the sample variance."
   ]
  },
  {
   "cell_type": "code",
   "execution_count": 83,
   "metadata": {},
   "outputs": [],
   "source": [
    "# aggregate(Wr.Hnd~Smoke, data = data, FUN = ...)\n",
    "# tapply(X = data$Wr.Hnd, INDEX = list(data$Smoke), FUN = ...)"
   ]
  },
  {
   "cell_type": "markdown",
   "metadata": {},
   "source": [
    "##### Unfortunately, I do not know any function in R that does this calculation.\n",
    "But we know how to do it step by step."
   ]
  },
  {
   "cell_type": "code",
   "execution_count": 84,
   "metadata": {
    "scrolled": true
   },
   "outputs": [
    {
     "data": {
      "text/html": [
       "<ol class=list-inline>\n",
       "\t<li>14.9809186861126</li>\n",
       "\t<li>17.9392216758363</li>\n",
       "\t<li>15.1612075858683</li>\n",
       "\t<li>17.9536416263331</li>\n",
       "</ol>\n"
      ],
      "text/latex": [
       "\\begin{enumerate*}\n",
       "\\item 14.9809186861126\n",
       "\\item 17.9392216758363\n",
       "\\item 15.1612075858683\n",
       "\\item 17.9536416263331\n",
       "\\end{enumerate*}\n"
      ],
      "text/markdown": [
       "1. 14.9809186861126\n",
       "2. 17.9392216758363\n",
       "3. 15.1612075858683\n",
       "4. 17.9536416263331\n",
       "\n",
       "\n"
      ],
      "text/plain": [
       "[1] 14.98092 17.93922 15.16121 17.95364"
      ]
     },
     "metadata": {},
     "output_type": "display_data"
    },
    {
     "data": {
      "text/html": [
       "<ol class=list-inline>\n",
       "\t<li>21.8857479805541</li>\n",
       "\t<li>18.698753007708</li>\n",
       "\t<li>21.7187924141317</li>\n",
       "\t<li>20.6463583736669</li>\n",
       "</ol>\n"
      ],
      "text/latex": [
       "\\begin{enumerate*}\n",
       "\\item 21.8857479805541\n",
       "\\item 18.698753007708\n",
       "\\item 21.7187924141317\n",
       "\\item 20.6463583736669\n",
       "\\end{enumerate*}\n"
      ],
      "text/markdown": [
       "1. 21.8857479805541\n",
       "2. 18.698753007708\n",
       "3. 21.7187924141317\n",
       "4. 20.6463583736669\n",
       "\n",
       "\n"
      ],
      "text/plain": [
       "[1] 21.88575 18.69875 21.71879 20.64636"
      ]
     },
     "metadata": {},
     "output_type": "display_data"
    }
   ],
   "source": [
    "sample.mean <- aggregate(Wr.Hnd~Smoke, data = data, FUN = mean)[,2]\n",
    "sample.var <- aggregate(Wr.Hnd~Smoke, data = data, FUN = var)[,2]\n",
    "sample.size <- aggregate(Wr.Hnd~Smoke, data = data, FUN = length)[,2]\n",
    "\n",
    "# sample.mean; sample.var; sample.size\n",
    "\n",
    "t <- qt(p = 0.025, df = sample.size - 1, lower.tail = FALSE)\n",
    "\n",
    "lb <- sample.mean - t * sqrt(sample.var/sample.size); lb\n",
    "ub <- sample.mean + t * sqrt(sample.var/sample.size); ub\n",
    "\n",
    "\n",
    "# How many times did we aggregate according to the group?\n",
    "# Can we aggregate only once?"
   ]
  },
  {
   "cell_type": "markdown",
   "metadata": {},
   "source": [
    "##### Or, we can make our own function and integrate it into aggregate( ), by( ), or tapply( ) !!!\n",
    "### 2.2 Write our own functions in R\n",
    "A function takes in some arguments and gives some outputs\n",
    "\n",
    "Arguments include\n",
    "    - inputs\n",
    "    - options"
   ]
  },
  {
   "cell_type": "code",
   "execution_count": 85,
   "metadata": {},
   "outputs": [],
   "source": [
    "# The structure\n",
    "func_name <- function(argument){\n",
    "    statement\n",
    "}"
   ]
  },
  {
   "cell_type": "markdown",
   "metadata": {},
   "source": [
    "#### Example 1. Make a function for $f(x) = 2x$"
   ]
  },
  {
   "cell_type": "code",
   "execution_count": 86,
   "metadata": {},
   "outputs": [
    {
     "data": {
      "text/html": [
       "10"
      ],
      "text/latex": [
       "10"
      ],
      "text/markdown": [
       "10"
      ],
      "text/plain": [
       "[1] 10"
      ]
     },
     "metadata": {},
     "output_type": "display_data"
    },
    {
     "data": {
      "text/html": [
       "6"
      ],
      "text/latex": [
       "6"
      ],
      "text/markdown": [
       "6"
      ],
      "text/plain": [
       "[1] 6"
      ]
     },
     "metadata": {},
     "output_type": "display_data"
    }
   ],
   "source": [
    "# Build the function\n",
    "times2 <- function(x) {\n",
    "    fx <- 2 * x\n",
    "    return(fx)\n",
    "}\n",
    "# Use the function\n",
    "times2(x = 5)\n",
    "# or\n",
    "times2(3)"
   ]
  },
  {
   "cell_type": "markdown",
   "metadata": {},
   "source": [
    "#### Example 2. Make a function to calculate the integer division of $a$ by $b$, return the integer part and the modulus."
   ]
  },
  {
   "cell_type": "code",
   "execution_count": 87,
   "metadata": {},
   "outputs": [
    {
     "data": {
      "text/html": [
       "4"
      ],
      "text/latex": [
       "4"
      ],
      "text/markdown": [
       "4"
      ],
      "text/plain": [
       "[1] 4"
      ]
     },
     "metadata": {},
     "output_type": "display_data"
    },
    {
     "data": {
      "text/html": [
       "1"
      ],
      "text/latex": [
       "1"
      ],
      "text/markdown": [
       "1"
      ],
      "text/plain": [
       "[1] 1"
      ]
     },
     "metadata": {},
     "output_type": "display_data"
    }
   ],
   "source": [
    "# R has operators that do this\n",
    "9 %/% 2\n",
    "9 %% 2"
   ]
  },
  {
   "cell_type": "markdown",
   "metadata": {},
   "source": [
    "     floor( ) takes a single numeric argument x and returns a numeric vector containing the largest integers not greater than the corresponding elements of x.\n",
    "\n"
   ]
  },
  {
   "cell_type": "code",
   "execution_count": 88,
   "metadata": {},
   "outputs": [],
   "source": [
    "int.div <- function(a, b){\n",
    "    int <- floor(a/b)\n",
    "    mod <- a - int*b\n",
    "    return(list(integer = int, modulus = mod))\n",
    "}"
   ]
  },
  {
   "cell_type": "code",
   "execution_count": 89,
   "metadata": {},
   "outputs": [
    {
     "data": {
      "text/html": [
       "<dl>\n",
       "\t<dt>$integer</dt>\n",
       "\t\t<dd>5</dd>\n",
       "\t<dt>$modulus</dt>\n",
       "\t\t<dd>1</dd>\n",
       "</dl>\n"
      ],
      "text/latex": [
       "\\begin{description}\n",
       "\\item[\\$integer] 5\n",
       "\\item[\\$modulus] 1\n",
       "\\end{description}\n"
      ],
      "text/markdown": [
       "$integer\n",
       ":   5\n",
       "$modulus\n",
       ":   1\n",
       "\n",
       "\n"
      ],
      "text/plain": [
       "$integer\n",
       "[1] 5\n",
       "\n",
       "$modulus\n",
       "[1] 1\n"
      ]
     },
     "metadata": {},
     "output_type": "display_data"
    }
   ],
   "source": [
    "# class(result)\n",
    "# Recall: how do we access the modulus?\n",
    "result <- int.div(21, 4)\n",
    "result"
   ]
  },
  {
   "cell_type": "code",
   "execution_count": 90,
   "metadata": {},
   "outputs": [
    {
     "name": "stdout",
     "output_type": "stream",
     "text": [
      "33 %% 5 : \n",
      " integer = 6 \n",
      " ------------------  \n",
      " modulus = 3 \n"
     ]
    }
   ],
   "source": [
    "int.div <- function(a, b){\n",
    "    int <- a%/%b\n",
    "    mod <- a%%b\n",
    "    return(cat(a, \"%%\", b, \": \\n integer =\", int,\"\\n ------------------\", \" \\n modulus =\", mod, \"\\n\"))\n",
    "}\n",
    "int.div(33,5)"
   ]
  },
  {
   "cell_type": "code",
   "execution_count": 91,
   "metadata": {},
   "outputs": [
    {
     "data": {
      "text/html": [
       "<table>\n",
       "<caption>A matrix: 4 × 5 of type int</caption>\n",
       "<tbody>\n",
       "\t<tr><th scope=row>a</th><td>21</td><td>22</td><td>23</td><td>24</td><td>25</td></tr>\n",
       "\t<tr><th scope=row>b</th><td> 1</td><td> 2</td><td> 3</td><td> 4</td><td> 5</td></tr>\n",
       "\t<tr><th scope=row>int</th><td>21</td><td>11</td><td> 7</td><td> 6</td><td> 5</td></tr>\n",
       "\t<tr><th scope=row>mod</th><td> 0</td><td> 0</td><td> 2</td><td> 0</td><td> 0</td></tr>\n",
       "</tbody>\n",
       "</table>\n"
      ],
      "text/latex": [
       "A matrix: 4 × 5 of type int\n",
       "\\begin{tabular}{r|lllll}\n",
       "\ta & 21 & 22 & 23 & 24 & 25\\\\\n",
       "\tb &  1 &  2 &  3 &  4 &  5\\\\\n",
       "\tint & 21 & 11 &  7 &  6 &  5\\\\\n",
       "\tmod &  0 &  0 &  2 &  0 &  0\\\\\n",
       "\\end{tabular}\n"
      ],
      "text/markdown": [
       "\n",
       "A matrix: 4 × 5 of type int\n",
       "\n",
       "| a | 21 | 22 | 23 | 24 | 25 |\n",
       "| b |  1 |  2 |  3 |  4 |  5 |\n",
       "| int | 21 | 11 |  7 |  6 |  5 |\n",
       "| mod |  0 |  0 |  2 |  0 |  0 |\n",
       "\n"
      ],
      "text/plain": [
       "    [,1] [,2] [,3] [,4] [,5]\n",
       "a   21   22   23   24   25  \n",
       "b    1    2    3    4    5  \n",
       "int 21   11    7    6    5  \n",
       "mod  0    0    2    0    0  "
      ]
     },
     "metadata": {},
     "output_type": "display_data"
    }
   ],
   "source": [
    "int.div <- function(a, b){\n",
    "    int <- a%/%b\n",
    "    mod <- a%%b\n",
    "    out <- rbind(a, b, int, mod)\n",
    "    out\n",
    "}\n",
    "int.div(21:25, 1:5)"
   ]
  },
  {
   "cell_type": "markdown",
   "metadata": {},
   "source": [
    "#### Example 3. Make the simplest canadian AI chatbot\n",
    "A function can return something other than an R object, say some voice."
   ]
  },
  {
   "cell_type": "code",
   "execution_count": 92,
   "metadata": {},
   "outputs": [],
   "source": [
    "# No need to worry about the details here.\n",
    "# Just want to show that functions do not always have to return() something.\n",
    "AIcanadian <- function(who, reply_to) {\n",
    "    system(paste(\"say -v\", who, \"Sorry!\"))\n",
    "}\n",
    "# AIcanadian(\"Alex\", \"Sorry I stepped on your foot.\")"
   ]
  },
  {
   "cell_type": "code",
   "execution_count": 93,
   "metadata": {},
   "outputs": [],
   "source": [
    "# Train my chatbot - AlphaGo style.\n",
    "# I'll let Alex and Victoria talk to each other.\n",
    "# MacOS has their voices recorded.\n",
    "# chat_log <- rep(NA, 8)\n",
    "# for (i in 1:8) {\n",
    "#     if (i == 1) {\n",
    "#         chat_log[1] <- \"Sorry I stepped on your foot.\"\n",
    "#         system(\"say -v Victoria Sorry, I stepped on your foot.\")\n",
    "#     } else {\n",
    "#         if (i %% 2 == 0)\n",
    "#             chat_log[i] <- AIcanadian(\"Alex\", chat_log[i - 1])\n",
    "#         else\n",
    "#             chat_log[i] <- AIcanadian(\"Victoria\", chat_log[i - 1])\n",
    "#     }\n",
    "# }\n",
    "# chat_log"
   ]
  },
  {
   "cell_type": "markdown",
   "metadata": {},
   "source": [
    "#### Example 4. Check one summary statistic by Smoke group of our 'data' data.\n",
    "Function arguments can be basically anything, say another function."
   ]
  },
  {
   "cell_type": "code",
   "execution_count": 94,
   "metadata": {
    "scrolled": false
   },
   "outputs": [
    {
     "data": {
      "text/plain": [
       ": Heavy\n",
       "[1] 18.43333\n",
       "------------------------------------------------------------ \n",
       ": Never\n",
       "[1] 18.31899\n",
       "------------------------------------------------------------ \n",
       ": Occas\n",
       "[1] 18.44\n",
       "------------------------------------------------------------ \n",
       ": Regul\n",
       "[1] 19.3"
      ]
     },
     "metadata": {},
     "output_type": "display_data"
    }
   ],
   "source": [
    "data_summary <- function(func) {\n",
    "    data <- read.csv(\"https://raw.githubusercontent.com/ly129/MiCM2020/master/sample.csv\", header = TRUE)\n",
    "    by(data = data$Wr.Hnd, INDICES = list(data$Smoke), FUN = func)\n",
    "}\n",
    "data_summary(mean)"
   ]
  },
  {
   "cell_type": "markdown",
   "metadata": {},
   "source": [
    "#### Example 5. Default argument value & stop execution & warning message"
   ]
  },
  {
   "cell_type": "code",
   "execution_count": 95,
   "metadata": {},
   "outputs": [],
   "source": [
    "a_times_2_unless_you_want.something.else.but.I.refuse.3 <- function(a, b=2){\n",
    "    if (b == 3) {\n",
    "        stop(\"I refuse 3!\")\n",
    "    }\n",
    "    \n",
    "    if (b == 4) {\n",
    "        warning(\"4 sucks too.\")\n",
    "    }\n",
    "    \n",
    "    a*b\n",
    "}"
   ]
  },
  {
   "cell_type": "code",
   "execution_count": 96,
   "metadata": {},
   "outputs": [
    {
     "data": {
      "text/html": [
       "10"
      ],
      "text/latex": [
       "10"
      ],
      "text/markdown": [
       "10"
      ],
      "text/plain": [
       "[1] 10"
      ]
     },
     "metadata": {},
     "output_type": "display_data"
    }
   ],
   "source": [
    "a_times_2_unless_you_want.something.else.but.I.refuse.3(a = 5)"
   ]
  },
  {
   "cell_type": "code",
   "execution_count": 97,
   "metadata": {},
   "outputs": [
    {
     "name": "stderr",
     "output_type": "stream",
     "text": [
      "Warning message in a_times_2_unless_you_want.something.else.but.I.refuse.3(a = 5, :\n",
      "“4 sucks too.”"
     ]
    },
    {
     "data": {
      "text/html": [
       "20"
      ],
      "text/latex": [
       "20"
      ],
      "text/markdown": [
       "20"
      ],
      "text/plain": [
       "[1] 20"
      ]
     },
     "metadata": {},
     "output_type": "display_data"
    }
   ],
   "source": [
    "a_times_2_unless_you_want.something.else.but.I.refuse.3(a = 5, b = 4)"
   ]
  },
  {
   "cell_type": "code",
   "execution_count": 118,
   "metadata": {
    "scrolled": false
   },
   "outputs": [
    {
     "ename": "ERROR",
     "evalue": "Error in a_times_2_unless_you_want.something.else.but.I.refuse.3(a = 5, : I refuse 3!\n",
     "output_type": "error",
     "traceback": [
      "Error in a_times_2_unless_you_want.something.else.but.I.refuse.3(a = 5, : I refuse 3!\nTraceback:\n",
      "1. a_times_2_unless_you_want.something.else.but.I.refuse.3(a = 5, \n .     b = 3)",
      "2. stop(\"I refuse 3!\")   # at line 3 of file <text>"
     ]
    }
   ],
   "source": [
    "a_times_2_unless_you_want.something.else.but.I.refuse.3(a = 5, b = 3)"
   ]
  },
  {
   "cell_type": "code",
   "execution_count": 99,
   "metadata": {},
   "outputs": [],
   "source": [
    "# Multiple optional arguments fed to different functions called in our own function\n",
    "# Still needs a lot of refinement\n",
    "\n",
    "fancy.mean <- function(vec, ...) {\n",
    "    args <- list(...)\n",
    "    print(args)\n",
    "#     print(as.list(match.call(expand.dots = FALSE)))\n",
    "    mean.args <- c(\"trim\", \"na.rm\")\n",
    "    sample.args <- c(\"size\", \"replace\", \"prob\")\n",
    "    \n",
    "# Could use a for loop to go over all args.\n",
    "    \n",
    "#     cat(\"arguments in mean()\", mean.args, \"\\n\")\n",
    "    \n",
    "    args.names <- names(args)\n",
    "    \n",
    "#     cat(\"argument names in ...\", args.names, \"\\n\")\n",
    "    \n",
    "    m.args <- args.names[args.names %in% mean.args]\n",
    "    s.args <- args.names[args.names %in% sample.args]\n",
    "    \n",
    "#     cat(\"args names that will be used in mean\", m.args, \"\\n\")\n",
    "    \n",
    "    print(args[[\"m.args\"]])\n",
    "    m <- list(trim = 0, na.rm = args[[m.args]])\n",
    "    s <- list(args[[s.args]], replace = FALSE, prob = NULL)\n",
    "    \n",
    "#     print(m)\n",
    "#     print(\"args that will be used in mean\", m, \"\\n\")\n",
    "    \n",
    "    fancy.mean <- mean(vec, trim = 0, na.rm = args[[m.args]])\n",
    "    fancy.sample <- sample(vec, size = args[[s.args]])\n",
    "    return(list(fancy.mean,fancy.sample))\n",
    "}"
   ]
  },
  {
   "cell_type": "code",
   "execution_count": 100,
   "metadata": {},
   "outputs": [
    {
     "name": "stdout",
     "output_type": "stream",
     "text": [
      "$na.rm\n",
      "[1] TRUE\n",
      "\n",
      "$size\n",
      "[1] 1\n",
      "\n",
      "NULL\n"
     ]
    },
    {
     "data": {
      "text/html": [
       "<ol>\n",
       "\t<li>70.3636363636364</li>\n",
       "\t<li>234</li>\n",
       "</ol>\n"
      ],
      "text/latex": [
       "\\begin{enumerate}\n",
       "\\item 70.3636363636364\n",
       "\\item 234\n",
       "\\end{enumerate}\n"
      ],
      "text/markdown": [
       "1. 70.3636363636364\n",
       "2. 234\n",
       "\n",
       "\n"
      ],
      "text/plain": [
       "[[1]]\n",
       "[1] 70.36364\n",
       "\n",
       "[[2]]\n",
       "[1] 234\n"
      ]
     },
     "metadata": {},
     "output_type": "display_data"
    }
   ],
   "source": [
    "fancy.mean(c(1:5, NA, NA, 234,123,4,123,41,234),\n",
    "           na.rm = T, size = 1)"
   ]
  },
  {
   "cell_type": "markdown",
   "metadata": {},
   "source": [
    "##### Exercise: \n",
    "- Make a function to calculate sample confidence intervals (2.1 f)"
   ]
  },
  {
   "cell_type": "code",
   "execution_count": 101,
   "metadata": {},
   "outputs": [],
   "source": [
    "sample.ci <- function(x, digits = 2) {\n",
    "    mu <- mean(x)\n",
    "    variance <- var(x)\n",
    "    size <- length(x)\n",
    "    t.stat <- qt(p = 0.025, df = size - 1, lower.tail = FALSE)\n",
    "    \n",
    "    lb <- mu - t.stat * sqrt(variance/size)\n",
    "    ub <- mu + t.stat * sqrt(variance/size)\n",
    "    \n",
    "    return(round(c(lower = lb, upper = ub), digits))\n",
    "    \n",
    "    # Think carefully whether this output can be put\n",
    "    # inside of a data.frame\n",
    "}"
   ]
  },
  {
   "cell_type": "markdown",
   "metadata": {},
   "source": [
    "- Use the function in 1 with aggregate( ), by( ) or apply( ) to calculate the sample confidence intervals (2.1 f)"
   ]
  },
  {
   "cell_type": "code",
   "execution_count": 102,
   "metadata": {},
   "outputs": [
    {
     "data": {
      "text/html": [
       "<table>\n",
       "<caption>A data.frame: 4 × 2</caption>\n",
       "<thead>\n",
       "\t<tr><th scope=col>Smoke</th><th scope=col>Wr.Hnd</th></tr>\n",
       "\t<tr><th scope=col>&lt;fct&gt;</th><th scope=col>&lt;dbl[,2]&gt;</th></tr>\n",
       "</thead>\n",
       "<tbody>\n",
       "\t<tr><td>Heavy</td><td>14.98, 21.89</td></tr>\n",
       "\t<tr><td>Never</td><td>17.94, 18.70</td></tr>\n",
       "\t<tr><td>Occas</td><td>15.16, 21.72</td></tr>\n",
       "\t<tr><td>Regul</td><td>17.95, 20.65</td></tr>\n",
       "</tbody>\n",
       "</table>\n"
      ],
      "text/latex": [
       "A data.frame: 4 × 2\n",
       "\\begin{tabular}{r|ll}\n",
       " Smoke & Wr.Hnd\\\\\n",
       " <fct> & <dbl{[},2{]}>\\\\\n",
       "\\hline\n",
       "\t Heavy & 14.98, 21.89\\\\\n",
       "\t Never & 17.94, 18.70\\\\\n",
       "\t Occas & 15.16, 21.72\\\\\n",
       "\t Regul & 17.95, 20.65\\\\\n",
       "\\end{tabular}\n"
      ],
      "text/markdown": [
       "\n",
       "A data.frame: 4 × 2\n",
       "\n",
       "| Smoke &lt;fct&gt; | Wr.Hnd &lt;dbl[,2]&gt; |\n",
       "|---|---|\n",
       "| Heavy | 14.98, 21.89 |\n",
       "| Never | 17.94, 18.70 |\n",
       "| Occas | 15.16, 21.72 |\n",
       "| Regul | 17.95, 20.65 |\n",
       "\n"
      ],
      "text/plain": [
       "  Smoke Wr.Hnd      \n",
       "1 Heavy 14.98, 21.89\n",
       "2 Never 17.94, 18.70\n",
       "3 Occas 15.16, 21.72\n",
       "4 Regul 17.95, 20.65"
      ]
     },
     "metadata": {},
     "output_type": "display_data"
    }
   ],
   "source": [
    "aggregate(Wr.Hnd~Smoke, data = data, FUN = sample.ci)"
   ]
  },
  {
   "cell_type": "markdown",
   "metadata": {},
   "source": [
    "<a id='3'></a>\n",
    "## 3. [Exercises](#0)\n",
    "\n",
    "A fake dataset is generated. Results should make no biological sense."
   ]
  },
  {
   "cell_type": "code",
   "execution_count": 103,
   "metadata": {},
   "outputs": [
    {
     "data": {
      "text/html": [
       "<table>\n",
       "<caption>A data.frame: 6 × 5</caption>\n",
       "<thead>\n",
       "\t<tr><th scope=col>height</th><th scope=col>weight</th><th scope=col>age</th><th scope=col>treatment</th><th scope=col>HF</th></tr>\n",
       "\t<tr><th scope=col>&lt;dbl&gt;</th><th scope=col>&lt;dbl&gt;</th><th scope=col>&lt;dbl&gt;</th><th scope=col>&lt;lgl&gt;</th><th scope=col>&lt;lgl&gt;</th></tr>\n",
       "</thead>\n",
       "<tbody>\n",
       "\t<tr><td>186</td><td> 92</td><td>60</td><td>FALSE</td><td>FALSE</td></tr>\n",
       "\t<tr><td>155</td><td> 74</td><td>58</td><td>FALSE</td><td> TRUE</td></tr>\n",
       "\t<tr><td>182</td><td> 79</td><td>62</td><td>FALSE</td><td>FALSE</td></tr>\n",
       "\t<tr><td>178</td><td>101</td><td>54</td><td>FALSE</td><td>FALSE</td></tr>\n",
       "\t<tr><td>182</td><td> 72</td><td>54</td><td>FALSE</td><td>FALSE</td></tr>\n",
       "\t<tr><td>159</td><td> 66</td><td>41</td><td>FALSE</td><td> TRUE</td></tr>\n",
       "</tbody>\n",
       "</table>\n"
      ],
      "text/latex": [
       "A data.frame: 6 × 5\n",
       "\\begin{tabular}{r|lllll}\n",
       " height & weight & age & treatment & HF\\\\\n",
       " <dbl> & <dbl> & <dbl> & <lgl> & <lgl>\\\\\n",
       "\\hline\n",
       "\t 186 &  92 & 60 & FALSE & FALSE\\\\\n",
       "\t 155 &  74 & 58 & FALSE &  TRUE\\\\\n",
       "\t 182 &  79 & 62 & FALSE & FALSE\\\\\n",
       "\t 178 & 101 & 54 & FALSE & FALSE\\\\\n",
       "\t 182 &  72 & 54 & FALSE & FALSE\\\\\n",
       "\t 159 &  66 & 41 & FALSE &  TRUE\\\\\n",
       "\\end{tabular}\n"
      ],
      "text/markdown": [
       "\n",
       "A data.frame: 6 × 5\n",
       "\n",
       "| height &lt;dbl&gt; | weight &lt;dbl&gt; | age &lt;dbl&gt; | treatment &lt;lgl&gt; | HF &lt;lgl&gt; |\n",
       "|---|---|---|---|---|\n",
       "| 186 |  92 | 60 | FALSE | FALSE |\n",
       "| 155 |  74 | 58 | FALSE |  TRUE |\n",
       "| 182 |  79 | 62 | FALSE | FALSE |\n",
       "| 178 | 101 | 54 | FALSE | FALSE |\n",
       "| 182 |  72 | 54 | FALSE | FALSE |\n",
       "| 159 |  66 | 41 | FALSE |  TRUE |\n",
       "\n"
      ],
      "text/plain": [
       "  height weight age treatment HF   \n",
       "1 186     92    60  FALSE     FALSE\n",
       "2 155     74    58  FALSE      TRUE\n",
       "3 182     79    62  FALSE     FALSE\n",
       "4 178    101    54  FALSE     FALSE\n",
       "5 182     72    54  FALSE     FALSE\n",
       "6 159     66    41  FALSE      TRUE"
      ]
     },
     "metadata": {},
     "output_type": "display_data"
    }
   ],
   "source": [
    "set.seed(20200306)\n",
    "N <- 200\n",
    "height <- round(rnorm(n = N, mean = 180, sd = 10)) # in centimeter\n",
    "weight <- round(rnorm(n = N, mean = 80, sd = 10)) # in kilograms\n",
    "age <- round(rnorm(n = N, mean = 50, sd = 10))\n",
    "treatment <- sample(c(TRUE, FALSE), size = N,\n",
    "                    replace = T, prob = c(0.3,0.7))\n",
    "HF <- sample(c(TRUE, FALSE), size = N, replace = T,\n",
    "             prob = c(0.1,0.9))\n",
    "\n",
    "fake <- data.frame(height, weight, age, treatment, HF)\n",
    "head(fake)"
   ]
  },
  {
   "cell_type": "markdown",
   "metadata": {},
   "source": [
    "#### 1. (Vectorized operation) Calculate BMI for every individual \n",
    "$\\mathrm{BMI} = \\mathrm{weight}(kg)/\\mathrm{height}(m)^2$"
   ]
  },
  {
   "cell_type": "code",
   "execution_count": 104,
   "metadata": {},
   "outputs": [
    {
     "data": {
      "text/html": [
       "<ol class=list-inline>\n",
       "\t<li>'height'</li>\n",
       "\t<li>'weight'</li>\n",
       "\t<li>'age'</li>\n",
       "\t<li>'treatment'</li>\n",
       "\t<li>'HF'</li>\n",
       "</ol>\n"
      ],
      "text/latex": [
       "\\begin{enumerate*}\n",
       "\\item 'height'\n",
       "\\item 'weight'\n",
       "\\item 'age'\n",
       "\\item 'treatment'\n",
       "\\item 'HF'\n",
       "\\end{enumerate*}\n"
      ],
      "text/markdown": [
       "1. 'height'\n",
       "2. 'weight'\n",
       "3. 'age'\n",
       "4. 'treatment'\n",
       "5. 'HF'\n",
       "\n",
       "\n"
      ],
      "text/plain": [
       "[1] \"height\"    \"weight\"    \"age\"       \"treatment\" \"HF\"       "
      ]
     },
     "metadata": {},
     "output_type": "display_data"
    },
    {
     "data": {
      "text/html": [
       "<table>\n",
       "<caption>A data.frame: 6 × 6</caption>\n",
       "<thead>\n",
       "\t<tr><th scope=col>height</th><th scope=col>weight</th><th scope=col>age</th><th scope=col>treatment</th><th scope=col>HF</th><th scope=col>BMI</th></tr>\n",
       "\t<tr><th scope=col>&lt;dbl&gt;</th><th scope=col>&lt;dbl&gt;</th><th scope=col>&lt;dbl&gt;</th><th scope=col>&lt;lgl&gt;</th><th scope=col>&lt;lgl&gt;</th><th scope=col>&lt;dbl&gt;</th></tr>\n",
       "</thead>\n",
       "<tbody>\n",
       "\t<tr><td>186</td><td> 92</td><td>60</td><td>FALSE</td><td>FALSE</td><td>26.59267</td></tr>\n",
       "\t<tr><td>155</td><td> 74</td><td>58</td><td>FALSE</td><td> TRUE</td><td>30.80125</td></tr>\n",
       "\t<tr><td>182</td><td> 79</td><td>62</td><td>FALSE</td><td>FALSE</td><td>23.84978</td></tr>\n",
       "\t<tr><td>178</td><td>101</td><td>54</td><td>FALSE</td><td>FALSE</td><td>31.87729</td></tr>\n",
       "\t<tr><td>182</td><td> 72</td><td>54</td><td>FALSE</td><td>FALSE</td><td>21.73651</td></tr>\n",
       "\t<tr><td>159</td><td> 66</td><td>41</td><td>FALSE</td><td> TRUE</td><td>26.10656</td></tr>\n",
       "</tbody>\n",
       "</table>\n"
      ],
      "text/latex": [
       "A data.frame: 6 × 6\n",
       "\\begin{tabular}{r|llllll}\n",
       " height & weight & age & treatment & HF & BMI\\\\\n",
       " <dbl> & <dbl> & <dbl> & <lgl> & <lgl> & <dbl>\\\\\n",
       "\\hline\n",
       "\t 186 &  92 & 60 & FALSE & FALSE & 26.59267\\\\\n",
       "\t 155 &  74 & 58 & FALSE &  TRUE & 30.80125\\\\\n",
       "\t 182 &  79 & 62 & FALSE & FALSE & 23.84978\\\\\n",
       "\t 178 & 101 & 54 & FALSE & FALSE & 31.87729\\\\\n",
       "\t 182 &  72 & 54 & FALSE & FALSE & 21.73651\\\\\n",
       "\t 159 &  66 & 41 & FALSE &  TRUE & 26.10656\\\\\n",
       "\\end{tabular}\n"
      ],
      "text/markdown": [
       "\n",
       "A data.frame: 6 × 6\n",
       "\n",
       "| height &lt;dbl&gt; | weight &lt;dbl&gt; | age &lt;dbl&gt; | treatment &lt;lgl&gt; | HF &lt;lgl&gt; | BMI &lt;dbl&gt; |\n",
       "|---|---|---|---|---|---|\n",
       "| 186 |  92 | 60 | FALSE | FALSE | 26.59267 |\n",
       "| 155 |  74 | 58 | FALSE |  TRUE | 30.80125 |\n",
       "| 182 |  79 | 62 | FALSE | FALSE | 23.84978 |\n",
       "| 178 | 101 | 54 | FALSE | FALSE | 31.87729 |\n",
       "| 182 |  72 | 54 | FALSE | FALSE | 21.73651 |\n",
       "| 159 |  66 | 41 | FALSE |  TRUE | 26.10656 |\n",
       "\n"
      ],
      "text/plain": [
       "  height weight age treatment HF    BMI     \n",
       "1 186     92    60  FALSE     FALSE 26.59267\n",
       "2 155     74    58  FALSE      TRUE 30.80125\n",
       "3 182     79    62  FALSE     FALSE 23.84978\n",
       "4 178    101    54  FALSE     FALSE 31.87729\n",
       "5 182     72    54  FALSE     FALSE 21.73651\n",
       "6 159     66    41  FALSE      TRUE 26.10656"
      ]
     },
     "metadata": {},
     "output_type": "display_data"
    }
   ],
   "source": [
    "names(fake)\n",
    "fake$BMI <- fake$weight/(fake$height/100)^2\n",
    "head(fake)"
   ]
  },
  {
   "cell_type": "markdown",
   "metadata": {},
   "source": [
    "#### 2. (Categorization) BMI Categories: \n",
    "    - Underweight = <18.5\n",
    "    - Normal weight = 18.5–24.9 \n",
    "    - Overweight = 25–29.9 \n",
    "    - Obesity = BMI of 30 or greater"
   ]
  },
  {
   "cell_type": "code",
   "execution_count": 105,
   "metadata": {},
   "outputs": [
    {
     "data": {
      "text/html": [
       "<table>\n",
       "<caption>A data.frame: 6 × 7</caption>\n",
       "<thead>\n",
       "\t<tr><th scope=col>height</th><th scope=col>weight</th><th scope=col>age</th><th scope=col>treatment</th><th scope=col>HF</th><th scope=col>BMI</th><th scope=col>BMI.cat</th></tr>\n",
       "\t<tr><th scope=col>&lt;dbl&gt;</th><th scope=col>&lt;dbl&gt;</th><th scope=col>&lt;dbl&gt;</th><th scope=col>&lt;lgl&gt;</th><th scope=col>&lt;lgl&gt;</th><th scope=col>&lt;dbl&gt;</th><th scope=col>&lt;fct&gt;</th></tr>\n",
       "</thead>\n",
       "<tbody>\n",
       "\t<tr><td>186</td><td> 92</td><td>60</td><td>FALSE</td><td>FALSE</td><td>26.59267</td><td>Overweight   </td></tr>\n",
       "\t<tr><td>155</td><td> 74</td><td>58</td><td>FALSE</td><td> TRUE</td><td>30.80125</td><td>Obesity      </td></tr>\n",
       "\t<tr><td>182</td><td> 79</td><td>62</td><td>FALSE</td><td>FALSE</td><td>23.84978</td><td>Normal weight</td></tr>\n",
       "\t<tr><td>178</td><td>101</td><td>54</td><td>FALSE</td><td>FALSE</td><td>31.87729</td><td>Obesity      </td></tr>\n",
       "\t<tr><td>182</td><td> 72</td><td>54</td><td>FALSE</td><td>FALSE</td><td>21.73651</td><td>Normal weight</td></tr>\n",
       "\t<tr><td>159</td><td> 66</td><td>41</td><td>FALSE</td><td> TRUE</td><td>26.10656</td><td>Overweight   </td></tr>\n",
       "</tbody>\n",
       "</table>\n"
      ],
      "text/latex": [
       "A data.frame: 6 × 7\n",
       "\\begin{tabular}{r|lllllll}\n",
       " height & weight & age & treatment & HF & BMI & BMI.cat\\\\\n",
       " <dbl> & <dbl> & <dbl> & <lgl> & <lgl> & <dbl> & <fct>\\\\\n",
       "\\hline\n",
       "\t 186 &  92 & 60 & FALSE & FALSE & 26.59267 & Overweight   \\\\\n",
       "\t 155 &  74 & 58 & FALSE &  TRUE & 30.80125 & Obesity      \\\\\n",
       "\t 182 &  79 & 62 & FALSE & FALSE & 23.84978 & Normal weight\\\\\n",
       "\t 178 & 101 & 54 & FALSE & FALSE & 31.87729 & Obesity      \\\\\n",
       "\t 182 &  72 & 54 & FALSE & FALSE & 21.73651 & Normal weight\\\\\n",
       "\t 159 &  66 & 41 & FALSE &  TRUE & 26.10656 & Overweight   \\\\\n",
       "\\end{tabular}\n"
      ],
      "text/markdown": [
       "\n",
       "A data.frame: 6 × 7\n",
       "\n",
       "| height &lt;dbl&gt; | weight &lt;dbl&gt; | age &lt;dbl&gt; | treatment &lt;lgl&gt; | HF &lt;lgl&gt; | BMI &lt;dbl&gt; | BMI.cat &lt;fct&gt; |\n",
       "|---|---|---|---|---|---|---|\n",
       "| 186 |  92 | 60 | FALSE | FALSE | 26.59267 | Overweight    |\n",
       "| 155 |  74 | 58 | FALSE |  TRUE | 30.80125 | Obesity       |\n",
       "| 182 |  79 | 62 | FALSE | FALSE | 23.84978 | Normal weight |\n",
       "| 178 | 101 | 54 | FALSE | FALSE | 31.87729 | Obesity       |\n",
       "| 182 |  72 | 54 | FALSE | FALSE | 21.73651 | Normal weight |\n",
       "| 159 |  66 | 41 | FALSE |  TRUE | 26.10656 | Overweight    |\n",
       "\n"
      ],
      "text/plain": [
       "  height weight age treatment HF    BMI      BMI.cat      \n",
       "1 186     92    60  FALSE     FALSE 26.59267 Overweight   \n",
       "2 155     74    58  FALSE      TRUE 30.80125 Obesity      \n",
       "3 182     79    62  FALSE     FALSE 23.84978 Normal weight\n",
       "4 178    101    54  FALSE     FALSE 31.87729 Obesity      \n",
       "5 182     72    54  FALSE     FALSE 21.73651 Normal weight\n",
       "6 159     66    41  FALSE      TRUE 26.10656 Overweight   "
      ]
     },
     "metadata": {},
     "output_type": "display_data"
    }
   ],
   "source": [
    "cut.pts <- c(-Inf, 18.5, 25, 30, Inf)\n",
    "labs <- c(\"Underweight\", \"Normal weight\", \"Overweight\", \"Obesity\")\n",
    "fake$BMI.cat <- cut(fake$BMI, breaks = cut.pts, labels = labs, right = F)\n",
    "head(fake)"
   ]
  },
  {
   "cell_type": "markdown",
   "metadata": {},
   "source": [
    "#### 3. (*apply) Mean BMI of each BMI group"
   ]
  },
  {
   "cell_type": "code",
   "execution_count": 106,
   "metadata": {},
   "outputs": [
    {
     "data": {
      "text/html": [
       "<table>\n",
       "<caption>A data.frame: 4 × 2</caption>\n",
       "<thead>\n",
       "\t<tr><th scope=col>BMI.cat</th><th scope=col>BMI</th></tr>\n",
       "\t<tr><th scope=col>&lt;fct&gt;</th><th scope=col>&lt;dbl&gt;</th></tr>\n",
       "</thead>\n",
       "<tbody>\n",
       "\t<tr><td>Underweight  </td><td>16.17253</td></tr>\n",
       "\t<tr><td>Normal weight</td><td>22.09822</td></tr>\n",
       "\t<tr><td>Overweight   </td><td>26.94884</td></tr>\n",
       "\t<tr><td>Obesity      </td><td>32.79935</td></tr>\n",
       "</tbody>\n",
       "</table>\n"
      ],
      "text/latex": [
       "A data.frame: 4 × 2\n",
       "\\begin{tabular}{r|ll}\n",
       " BMI.cat & BMI\\\\\n",
       " <fct> & <dbl>\\\\\n",
       "\\hline\n",
       "\t Underweight   & 16.17253\\\\\n",
       "\t Normal weight & 22.09822\\\\\n",
       "\t Overweight    & 26.94884\\\\\n",
       "\t Obesity       & 32.79935\\\\\n",
       "\\end{tabular}\n"
      ],
      "text/markdown": [
       "\n",
       "A data.frame: 4 × 2\n",
       "\n",
       "| BMI.cat &lt;fct&gt; | BMI &lt;dbl&gt; |\n",
       "|---|---|\n",
       "| Underweight   | 16.17253 |\n",
       "| Normal weight | 22.09822 |\n",
       "| Overweight    | 26.94884 |\n",
       "| Obesity       | 32.79935 |\n",
       "\n"
      ],
      "text/plain": [
       "  BMI.cat       BMI     \n",
       "1 Underweight   16.17253\n",
       "2 Normal weight 22.09822\n",
       "3 Overweight    26.94884\n",
       "4 Obesity       32.79935"
      ]
     },
     "metadata": {},
     "output_type": "display_data"
    }
   ],
   "source": [
    "# aggregate()\n",
    "aggregate(BMI~BMI.cat, data = fake, FUN = mean)"
   ]
  },
  {
   "cell_type": "code",
   "execution_count": 107,
   "metadata": {},
   "outputs": [
    {
     "data": {
      "text/html": [
       "<dl>\n",
       "\t<dt>$Underweight</dt>\n",
       "\t\t<dd>16.1725259238271</dd>\n",
       "\t<dt>$`Normal weight`</dt>\n",
       "\t\t<dd>22.0982178055369</dd>\n",
       "\t<dt>$Overweight</dt>\n",
       "\t\t<dd>26.9488351034313</dd>\n",
       "\t<dt>$Obesity</dt>\n",
       "\t\t<dd>32.7993482108602</dd>\n",
       "</dl>\n"
      ],
      "text/latex": [
       "\\begin{description}\n",
       "\\item[\\$Underweight] 16.1725259238271\n",
       "\\item[\\$`Normal weight`] 22.0982178055369\n",
       "\\item[\\$Overweight] 26.9488351034313\n",
       "\\item[\\$Obesity] 32.7993482108602\n",
       "\\end{description}\n"
      ],
      "text/markdown": [
       "$Underweight\n",
       ":   16.1725259238271\n",
       "$`Normal weight`\n",
       ":   22.0982178055369\n",
       "$Overweight\n",
       ":   26.9488351034313\n",
       "$Obesity\n",
       ":   32.7993482108602\n",
       "\n",
       "\n"
      ],
      "text/plain": [
       "$Underweight\n",
       "[1] 16.17253\n",
       "\n",
       "$`Normal weight`\n",
       "[1] 22.09822\n",
       "\n",
       "$Overweight\n",
       "[1] 26.94884\n",
       "\n",
       "$Obesity\n",
       "[1] 32.79935\n"
      ]
     },
     "metadata": {},
     "output_type": "display_data"
    }
   ],
   "source": [
    "# split() and lapply()\n",
    "BMI.grp <- split(fake$BMI, f = fake$BMI.cat)\n",
    "lapply(BMI.grp, FUN = mean)"
   ]
  },
  {
   "cell_type": "markdown",
   "metadata": {},
   "source": [
    "#### 4. (Aggregation) Proportion with heart failure in each BMI-treatment group"
   ]
  },
  {
   "cell_type": "code",
   "execution_count": 108,
   "metadata": {},
   "outputs": [
    {
     "data": {
      "text/html": [
       "2"
      ],
      "text/latex": [
       "2"
      ],
      "text/markdown": [
       "2"
      ],
      "text/plain": [
       "[1] 2"
      ]
     },
     "metadata": {},
     "output_type": "display_data"
    }
   ],
   "source": [
    "# Trick:\n",
    "FALSE+TRUE+TRUE"
   ]
  },
  {
   "cell_type": "code",
   "execution_count": 109,
   "metadata": {},
   "outputs": [
    {
     "data": {
      "text/html": [
       "<table>\n",
       "<caption>A data.frame: 8 × 3</caption>\n",
       "<thead>\n",
       "\t<tr><th scope=col>BMI.cat</th><th scope=col>treatment</th><th scope=col>HF</th></tr>\n",
       "\t<tr><th scope=col>&lt;fct&gt;</th><th scope=col>&lt;lgl&gt;</th><th scope=col>&lt;int&gt;</th></tr>\n",
       "</thead>\n",
       "<tbody>\n",
       "\t<tr><td>Underweight  </td><td>FALSE</td><td>0</td></tr>\n",
       "\t<tr><td>Normal weight</td><td>FALSE</td><td>9</td></tr>\n",
       "\t<tr><td>Overweight   </td><td>FALSE</td><td>3</td></tr>\n",
       "\t<tr><td>Obesity      </td><td>FALSE</td><td>4</td></tr>\n",
       "\t<tr><td>Underweight  </td><td> TRUE</td><td>1</td></tr>\n",
       "\t<tr><td>Normal weight</td><td> TRUE</td><td>5</td></tr>\n",
       "\t<tr><td>Overweight   </td><td> TRUE</td><td>2</td></tr>\n",
       "\t<tr><td>Obesity      </td><td> TRUE</td><td>0</td></tr>\n",
       "</tbody>\n",
       "</table>\n"
      ],
      "text/latex": [
       "A data.frame: 8 × 3\n",
       "\\begin{tabular}{r|lll}\n",
       " BMI.cat & treatment & HF\\\\\n",
       " <fct> & <lgl> & <int>\\\\\n",
       "\\hline\n",
       "\t Underweight   & FALSE & 0\\\\\n",
       "\t Normal weight & FALSE & 9\\\\\n",
       "\t Overweight    & FALSE & 3\\\\\n",
       "\t Obesity       & FALSE & 4\\\\\n",
       "\t Underweight   &  TRUE & 1\\\\\n",
       "\t Normal weight &  TRUE & 5\\\\\n",
       "\t Overweight    &  TRUE & 2\\\\\n",
       "\t Obesity       &  TRUE & 0\\\\\n",
       "\\end{tabular}\n"
      ],
      "text/markdown": [
       "\n",
       "A data.frame: 8 × 3\n",
       "\n",
       "| BMI.cat &lt;fct&gt; | treatment &lt;lgl&gt; | HF &lt;int&gt; |\n",
       "|---|---|---|\n",
       "| Underweight   | FALSE | 0 |\n",
       "| Normal weight | FALSE | 9 |\n",
       "| Overweight    | FALSE | 3 |\n",
       "| Obesity       | FALSE | 4 |\n",
       "| Underweight   |  TRUE | 1 |\n",
       "| Normal weight |  TRUE | 5 |\n",
       "| Overweight    |  TRUE | 2 |\n",
       "| Obesity       |  TRUE | 0 |\n",
       "\n"
      ],
      "text/plain": [
       "  BMI.cat       treatment HF\n",
       "1 Underweight   FALSE     0 \n",
       "2 Normal weight FALSE     9 \n",
       "3 Overweight    FALSE     3 \n",
       "4 Obesity       FALSE     4 \n",
       "5 Underweight    TRUE     1 \n",
       "6 Normal weight  TRUE     5 \n",
       "7 Overweight     TRUE     2 \n",
       "8 Obesity        TRUE     0 "
      ]
     },
     "metadata": {},
     "output_type": "display_data"
    }
   ],
   "source": [
    "aggregate(HF~BMI.cat+treatment, data = fake, FUN = sum)"
   ]
  },
  {
   "cell_type": "markdown",
   "metadata": {},
   "source": [
    "#### 5. Write a function that allow user to specify\n",
    "    - a dataset\n",
    "    - the (binary) treatment variable\n",
    "    - the (binary) outcome variable\n",
    "    \n",
    "#### and return a cross-tabulation (a 2x2 table)."
   ]
  },
  {
   "cell_type": "code",
   "execution_count": 110,
   "metadata": {},
   "outputs": [],
   "source": [
    "tab2by2 <- function(data, treatment, outcome){\n",
    "    sub <- data[, c(treatment, outcome)]\n",
    "    return(table(sub))\n",
    "}"
   ]
  },
  {
   "cell_type": "code",
   "execution_count": 111,
   "metadata": {},
   "outputs": [
    {
     "data": {
      "text/plain": [
       "         HF\n",
       "treatment FALSE TRUE\n",
       "    FALSE   130   16\n",
       "    TRUE     46    8"
      ]
     },
     "metadata": {},
     "output_type": "display_data"
    }
   ],
   "source": [
    "tab2by2(fake, treatment = \"treatment\", outcome = \"HF\")"
   ]
  },
  {
   "cell_type": "markdown",
   "metadata": {},
   "source": [
    "#### 5 Pro. The function should be able to check whether the treatment/outcome variables are binary or not. Continuous variables will be dichotomized based on a user-defined threshold."
   ]
  },
  {
   "cell_type": "code",
   "execution_count": 112,
   "metadata": {},
   "outputs": [],
   "source": [
    "tab2by2.pro <- function(data, treatment, outcome, treatment.threshold, outcome.threshold){\n",
    "    tx <- data[, treatment]\n",
    "    rx <- data[, outcome]\n",
    "    \n",
    "    if (length(table(tx))>2) {\n",
    "        if (missing(treatment.threshold)) {\n",
    "            stop(\"Non-binary treatment. Please provide a threshold.\")\n",
    "        } else {\n",
    "            binary.treatment <- ifelse(tx<=treatment.threshold,\n",
    "                                       yes = paste(\"<=\", treatment.threshold),\n",
    "                                       no = paste(\">\", treatment.threshold))\n",
    "        }\n",
    "    } else {\n",
    "        binary.treatment <- tx\n",
    "    }\n",
    "    \n",
    "    if (length(table(rx))>2) {\n",
    "        if (missing(outcome.threshold)) {\n",
    "            stop(\"Non-binary outcome. Please provide a threshold.\")\n",
    "        } else {\n",
    "            binary.outcome <- ifelse(rx<=outcome.threshold,\n",
    "                                     yes = paste(\"<=\", outcome.threshold),\n",
    "                                     no = paste(\">\", outcome.threshold))\n",
    "        }\n",
    "    } else {\n",
    "        binary.outcome <- rx\n",
    "    }\n",
    "    \n",
    "    \n",
    "    return(table(treatment = binary.treatment, outcome = binary.outcome))\n",
    "}"
   ]
  },
  {
   "cell_type": "code",
   "execution_count": 113,
   "metadata": {},
   "outputs": [
    {
     "ename": "ERROR",
     "evalue": "Error in tab2by2.pro(fake, treatment = \"age\", outcome = \"BMI\"): Non-binary treatment. Please provide a threshold.\n",
     "output_type": "error",
     "traceback": [
      "Error in tab2by2.pro(fake, treatment = \"age\", outcome = \"BMI\"): Non-binary treatment. Please provide a threshold.\nTraceback:\n",
      "1. tab2by2.pro(fake, treatment = \"age\", outcome = \"BMI\")",
      "2. stop(\"Non-binary treatment. Please provide a threshold.\")   # at line 7 of file <text>"
     ]
    }
   ],
   "source": [
    "tab2by2.pro(fake, treatment = \"age\", outcome = \"BMI\")"
   ]
  },
  {
   "cell_type": "code",
   "execution_count": 114,
   "metadata": {},
   "outputs": [
    {
     "ename": "ERROR",
     "evalue": "Error in tab2by2.pro(fake, treatment = \"age\", outcome = \"BMI\", treatment.threshold = 50): Non-binary outcome. Please provide a threshold.\n",
     "output_type": "error",
     "traceback": [
      "Error in tab2by2.pro(fake, treatment = \"age\", outcome = \"BMI\", treatment.threshold = 50): Non-binary outcome. Please provide a threshold.\nTraceback:\n",
      "1. tab2by2.pro(fake, treatment = \"age\", outcome = \"BMI\", treatment.threshold = 50)",
      "2. stop(\"Non-binary outcome. Please provide a threshold.\")   # at line 19 of file <text>"
     ]
    }
   ],
   "source": [
    "tab2by2.pro(fake, treatment = \"age\", outcome = \"BMI\", treatment.threshold = 50)"
   ]
  },
  {
   "cell_type": "code",
   "execution_count": 115,
   "metadata": {},
   "outputs": [
    {
     "data": {
      "text/plain": [
       "         outcome\n",
       "treatment <= 20 > 20\n",
       "    <= 50     6   93\n",
       "    > 50     11   90"
      ]
     },
     "metadata": {},
     "output_type": "display_data"
    }
   ],
   "source": [
    "tab2by2.pro(fake, treatment = \"age\", outcome = \"BMI\", treatment.threshold = 50, outcome.threshold = 20)"
   ]
  },
  {
   "cell_type": "code",
   "execution_count": 116,
   "metadata": {},
   "outputs": [
    {
     "ename": "ERROR",
     "evalue": "Error in tab2by2.pro(fake, treatment = \"age\", outcome = \"HF\"): Non-binary treatment. Please provide a threshold.\n",
     "output_type": "error",
     "traceback": [
      "Error in tab2by2.pro(fake, treatment = \"age\", outcome = \"HF\"): Non-binary treatment. Please provide a threshold.\nTraceback:\n",
      "1. tab2by2.pro(fake, treatment = \"age\", outcome = \"HF\")",
      "2. stop(\"Non-binary treatment. Please provide a threshold.\")   # at line 7 of file <text>"
     ]
    }
   ],
   "source": [
    "tab2by2.pro(fake, treatment = \"age\", outcome = \"HF\")"
   ]
  },
  {
   "cell_type": "code",
   "execution_count": 117,
   "metadata": {},
   "outputs": [
    {
     "data": {
      "text/plain": [
       "         outcome\n",
       "treatment FALSE TRUE\n",
       "    <= 50    93    6\n",
       "    > 50     83   18"
      ]
     },
     "metadata": {},
     "output_type": "display_data"
    }
   ],
   "source": [
    "# HF is binary, so it is OK if \"outcome.threshold\" is missing.\n",
    "tab2by2.pro(fake, treatment = \"age\", outcome = \"HF\", treatment.threshold = 50)"
   ]
  },
  {
   "cell_type": "markdown",
   "metadata": {},
   "source": [
    "#### 6. Specific task in your own research"
   ]
  },
  {
   "cell_type": "code",
   "execution_count": null,
   "metadata": {},
   "outputs": [],
   "source": []
  }
 ],
 "metadata": {
  "kernelspec": {
   "display_name": "R",
   "language": "R",
   "name": "ir"
  },
  "language_info": {
   "codemirror_mode": "r",
   "file_extension": ".r",
   "mimetype": "text/x-r-source",
   "name": "R",
   "pygments_lexer": "r",
   "version": "3.6.1"
  }
 },
 "nbformat": 4,
 "nbformat_minor": 2
}
